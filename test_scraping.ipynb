{
 "cells": [
  {
   "cell_type": "code",
   "execution_count": 1,
   "id": "7b6168ce",
   "metadata": {},
   "outputs": [],
   "source": [
    "import pandas as pd"
   ]
  },
  {
   "cell_type": "code",
   "execution_count": 2,
   "id": "d333e37b",
   "metadata": {},
   "outputs": [],
   "source": [
    "from bs4 import BeautifulSoup\n",
    "import requests"
   ]
  },
  {
   "cell_type": "code",
   "execution_count": 37,
   "id": "399a9a9c",
   "metadata": {},
   "outputs": [],
   "source": [
    "games = pd.read_pickle('backend/data/pkl/raw_games_5yrs.pkl')\n",
    "\n",
    "games['GAME_DATE'] = games['GAME_DATE'].dt.strftime('%Y-%m-%d')\n",
    "\n",
    "dates = games[games['GAME_DATE'] > '2019-10-01'].sort_values('GAME_DATE', ascending=False)['GAME_DATE'].unique().tolist()"
   ]
  },
  {
   "cell_type": "code",
   "execution_count": 17,
   "id": "bebda770",
   "metadata": {},
   "outputs": [],
   "source": [
    "date = '2020-07-08'"
   ]
  },
  {
   "cell_type": "code",
   "execution_count": 18,
   "id": "16ef4784",
   "metadata": {},
   "outputs": [],
   "source": [
    "URL = f\"https://www.sportsbookreview.com/betting-odds/nba-basketball/?date={date}\"\n",
    "headers = {\"User-Agent\" : \"Mozilla/5.0 (Windows NT 10.0; Win64; x64; rv:99.0) Gecko/20100101 Firefox/99.0\"}"
   ]
  },
  {
   "cell_type": "code",
   "execution_count": 19,
   "id": "50285d1b",
   "metadata": {},
   "outputs": [],
   "source": [
    "page = requests.get(url=URL, headers=headers)\n",
    "soup = BeautifulSoup(page.content, 'html.parser')"
   ]
  },
  {
   "cell_type": "code",
   "execution_count": 20,
   "id": "b6b995e9",
   "metadata": {},
   "outputs": [],
   "source": [
    "teams = soup.find_all(class_='GameRows_participantBox__0WCRz')\n",
    "spread = soup.find_all(class_=\"OddsCells_compact__cawia border-left\")\n",
    "wager_percentage = soup.find_all(\"span\", class_=\"opener\")\n",
    "scores = soup.find_all(class_ = 'GameRows_scores__YkN24') \n",
    "opening_spread = soup.find_all(class_='GameRows_adjust__NZn2m GameRows_opener__NivKJ')"
   ]
  },
  {
   "cell_type": "code",
   "execution_count": null,
   "id": "0b72f141",
   "metadata": {},
   "outputs": [],
   "source": []
  },
  {
   "cell_type": "code",
   "execution_count": 21,
   "id": "bbb29cbe",
   "metadata": {},
   "outputs": [],
   "source": [
    "temp = []\n",
    "for j in range(int(7*len(teams)/2)):\n",
    "    for w in [1, 2, 4, 5]:\n",
    "        temp.append(spread[j].find_all(\"span\")[w].text)"
   ]
  },
  {
   "cell_type": "code",
   "execution_count": 22,
   "id": "a9961009",
   "metadata": {},
   "outputs": [],
   "source": [
    "spreads = []\n",
    "odds = []\n",
    "for i in range(len(temp)):\n",
    "    if i % 2 == 0:\n",
    "        spreads.append(temp[i])\n",
    "    else:\n",
    "        odds.append(temp[i])"
   ]
  },
  {
   "cell_type": "code",
   "execution_count": 23,
   "id": "4a39c009",
   "metadata": {},
   "outputs": [],
   "source": [
    "away = []\n",
    "home = []\n",
    "for i in range(len(spreads)):\n",
    "    if i % 2 == 0:\n",
    "        away.append(spreads[i])\n",
    "        away.append(odds[i])\n",
    "    else:\n",
    "        home.append(spreads[i])\n",
    "        home.append(odds[i])"
   ]
  },
  {
   "cell_type": "code",
   "execution_count": 24,
   "id": "3eb88f79",
   "metadata": {},
   "outputs": [],
   "source": [
    "rows_to_add= []\n",
    "temp_away = []\n",
    "temp_home = []\n",
    "splits = [i for i in range(13, (14*20), 14)]\n",
    "for i in range(len(away)):\n",
    "    temp_away.append(away[i])\n",
    "    temp_home.append(home[i])\n",
    "    if i in splits:\n",
    "        rows_to_add.append(temp_away)\n",
    "        rows_to_add.append(temp_home)\n",
    "        temp_away = []\n",
    "        temp_home = []"
   ]
  },
  {
   "cell_type": "code",
   "execution_count": 25,
   "id": "3641f96b",
   "metadata": {},
   "outputs": [],
   "source": [
    "row = []\n",
    "for i in range(len(teams)):\n",
    "    if i % 2 == 0:\n",
    "        opponent = teams[i+1].text\n",
    "        home = 0\n",
    "    else:\n",
    "        opponent = teams[i-1].text\n",
    "        home = 1\n",
    "    row.append([date, teams[i].text, home, opponent, scores[i].text, wager_percentage[i].text, opening_spread[i].text, '-110'])"
   ]
  },
  {
   "cell_type": "code",
   "execution_count": 26,
   "id": "5756b2c3",
   "metadata": {},
   "outputs": [],
   "source": [
    "df_1 = pd.DataFrame(row, columns=['Game_Date', 'Team_Name', 'Home', 'Opponent', 'Points', 'Pct_of_Bets', 'Opening_Spread', 'Opening_Odds'])"
   ]
  },
  {
   "cell_type": "code",
   "execution_count": 27,
   "id": "147a40e2",
   "metadata": {},
   "outputs": [],
   "source": [
    "columns = ['Betmgm', 'Betmgm_Odds', 'Draft_Kings_Odds', 'Draft_Kings_Odds', \n",
    "           'Fanduel_Odds', 'Fanduel_Odds', 'Caesars_Odds', 'Caesars_Odds', \n",
    "           'Pointsbet_Odds', 'Pointsbet_Odds', 'Wynn_Odds', 'Wynn_Odds', \n",
    "           'Betrivers_Odds', 'Betrivers_Odds']"
   ]
  },
  {
   "cell_type": "code",
   "execution_count": 28,
   "id": "326d9dce",
   "metadata": {},
   "outputs": [],
   "source": [
    "df_2 = pd.DataFrame(rows_to_add, columns=columns)"
   ]
  },
  {
   "cell_type": "code",
   "execution_count": 29,
   "id": "3abed2dc",
   "metadata": {},
   "outputs": [
    {
     "data": {
      "text/html": [
       "<div>\n",
       "<style scoped>\n",
       "    .dataframe tbody tr th:only-of-type {\n",
       "        vertical-align: middle;\n",
       "    }\n",
       "\n",
       "    .dataframe tbody tr th {\n",
       "        vertical-align: top;\n",
       "    }\n",
       "\n",
       "    .dataframe thead th {\n",
       "        text-align: right;\n",
       "    }\n",
       "</style>\n",
       "<table border=\"1\" class=\"dataframe\">\n",
       "  <thead>\n",
       "    <tr style=\"text-align: right;\">\n",
       "      <th></th>\n",
       "      <th>Game_Date</th>\n",
       "      <th>Team_Name</th>\n",
       "      <th>Home</th>\n",
       "      <th>Opponent</th>\n",
       "      <th>Points</th>\n",
       "      <th>Pct_of_Bets</th>\n",
       "      <th>Opening_Spread</th>\n",
       "      <th>Opening_Odds</th>\n",
       "      <th>Betmgm</th>\n",
       "      <th>Betmgm_Odds</th>\n",
       "      <th>...</th>\n",
       "      <th>Fanduel_Odds</th>\n",
       "      <th>Fanduel_Odds</th>\n",
       "      <th>Caesars_Odds</th>\n",
       "      <th>Caesars_Odds</th>\n",
       "      <th>Pointsbet_Odds</th>\n",
       "      <th>Pointsbet_Odds</th>\n",
       "      <th>Wynn_Odds</th>\n",
       "      <th>Wynn_Odds</th>\n",
       "      <th>Betrivers_Odds</th>\n",
       "      <th>Betrivers_Odds</th>\n",
       "    </tr>\n",
       "  </thead>\n",
       "  <tbody>\n",
       "  </tbody>\n",
       "</table>\n",
       "<p>0 rows × 22 columns</p>\n",
       "</div>"
      ],
      "text/plain": [
       "Empty DataFrame\n",
       "Columns: [Game_Date, Team_Name, Home, Opponent, Points, Pct_of_Bets, Opening_Spread, Opening_Odds, Betmgm, Betmgm_Odds, Draft_Kings_Odds, Draft_Kings_Odds, Fanduel_Odds, Fanduel_Odds, Caesars_Odds, Caesars_Odds, Pointsbet_Odds, Pointsbet_Odds, Wynn_Odds, Wynn_Odds, Betrivers_Odds, Betrivers_Odds]\n",
       "Index: []\n",
       "\n",
       "[0 rows x 22 columns]"
      ]
     },
     "execution_count": 29,
     "metadata": {},
     "output_type": "execute_result"
    }
   ],
   "source": [
    "betting_df = df_1.merge(df_2, left_index=True, right_index=True)\n",
    "betting_df"
   ]
  },
  {
   "cell_type": "code",
   "execution_count": 35,
   "id": "9ea493b6",
   "metadata": {},
   "outputs": [
    {
     "name": "stdout",
     "output_type": "stream",
     "text": [
      "none\n"
     ]
    }
   ],
   "source": [
    "if betting_df.shape[0] == 0:\n",
    "    print('none')\n",
    "else:\n",
    "    print('not none')"
   ]
  },
  {
   "cell_type": "code",
   "execution_count": 34,
   "id": "cd68b75e",
   "metadata": {},
   "outputs": [
    {
     "data": {
      "text/plain": [
       "0"
      ]
     },
     "execution_count": 34,
     "metadata": {},
     "output_type": "execute_result"
    }
   ],
   "source": [
    "betting_df.shape[0]"
   ]
  },
  {
   "cell_type": "code",
   "execution_count": null,
   "id": "a3a8cd06",
   "metadata": {},
   "outputs": [],
   "source": []
  }
 ],
 "metadata": {
  "kernelspec": {
   "display_name": "Python 3 (ipykernel)",
   "language": "python",
   "name": "python3"
  },
  "language_info": {
   "codemirror_mode": {
    "name": "ipython",
    "version": 3
   },
   "file_extension": ".py",
   "mimetype": "text/x-python",
   "name": "python",
   "nbconvert_exporter": "python",
   "pygments_lexer": "ipython3",
   "version": "3.10.6"
  },
  "toc": {
   "base_numbering": 1,
   "nav_menu": {},
   "number_sections": true,
   "sideBar": true,
   "skip_h1_title": false,
   "title_cell": "Table of Contents",
   "title_sidebar": "Contents",
   "toc_cell": false,
   "toc_position": {},
   "toc_section_display": true,
   "toc_window_display": false
  }
 },
 "nbformat": 4,
 "nbformat_minor": 5
}
