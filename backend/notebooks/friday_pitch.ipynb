{
 "cells": [
  {
   "cell_type": "code",
   "execution_count": 182,
   "id": "78908565-aa79-4400-a85c-e6edcb2b7761",
   "metadata": {},
   "outputs": [],
   "source": [
    "from xgboost import XGBRegressor\n",
    "import pandas as pd\n",
    "from sklearn.linear_model import Lasso\n",
    "from sklearn.model_selection import train_test_split\n",
    "from sklearn.model_selection import RandomizedSearchCV"
   ]
  },
  {
   "cell_type": "code",
   "execution_count": 183,
   "id": "a3b231fa-5e33-42c6-a286-c742e318e6c2",
   "metadata": {},
   "outputs": [],
   "source": [
    "import xgboost as xgb"
   ]
  },
  {
   "cell_type": "code",
   "execution_count": 184,
   "id": "51f8ec21-de60-45c7-94b4-2cec37d1d281",
   "metadata": {},
   "outputs": [],
   "source": [
    "from sklearn.metrics import mean_squared_error\n",
    "from sklearn.model_selection import cross_val_score\n",
    "from sklearn.metrics import r2_score\n",
    "import numpy as np\n",
    "from scipy.stats import randint"
   ]
  },
  {
   "cell_type": "code",
   "execution_count": 191,
   "id": "df04fcde-386e-4390-a07a-a2936fddd0d6",
   "metadata": {},
   "outputs": [],
   "source": [
    "df_train = pd.read_pickle(\"../data/pkl/ADV_OHE_TEAM_ALL\")"
   ]
  },
  {
   "cell_type": "code",
   "execution_count": 192,
   "id": "57f6fe72-0b73-4649-94e7-e62a9f157b24",
   "metadata": {},
   "outputs": [
    {
     "data": {
      "text/plain": [
       "Index(['GAME_ID', 'TEAM_ID_h', 'TEAM_NAME_h', 'TEAM_ABBREVIATION_h',\n",
       "       'OFF_RATING_h', 'DEF_RATING_h', 'NET_RATING_h', 'AST_PCT_h',\n",
       "       'AST_TOV_h', 'OREB_PCT_h',\n",
       "       ...\n",
       "       'OKC_a', 'ORL_a', 'PHI_a', 'PHX_a', 'POR_a', 'SAC_a', 'SAS_a', 'TOR_a',\n",
       "       'UTA_a', 'WAS_a'],\n",
       "      dtype='object', length=175)"
      ]
     },
     "execution_count": 192,
     "metadata": {},
     "output_type": "execute_result"
    }
   ],
   "source": [
    "df_train.columns"
   ]
  },
  {
   "cell_type": "code",
   "execution_count": 193,
   "id": "f55f45f6-b2c5-4812-93fa-4077de9ee232",
   "metadata": {},
   "outputs": [],
   "source": [
    "df_target = df_train['PLUS_MINUS']"
   ]
  },
  {
   "cell_type": "code",
   "execution_count": 199,
   "id": "6314d0ba-10a9-4e39-89b4-9433443b6a68",
   "metadata": {},
   "outputs": [
    {
     "data": {
      "text/plain": [
       "['GAME_ID',\n",
       " 'TEAM_ID_h',\n",
       " 'TEAM_NAME_h',\n",
       " 'TEAM_ABBREVIATION_h',\n",
       " 'OFF_RATING_h',\n",
       " 'DEF_RATING_h',\n",
       " 'NET_RATING_h',\n",
       " 'AST_PCT_h',\n",
       " 'AST_TOV_h',\n",
       " 'OREB_PCT_h',\n",
       " 'DREB_PCT_h',\n",
       " 'REB_PCT_h',\n",
       " 'TM_TOV_PCT_h',\n",
       " 'EFG_PCT_h',\n",
       " 'TS_PCT_h',\n",
       " 'PACE_h',\n",
       " 'POSS_h',\n",
       " 'GAME_DATE',\n",
       " 'HOME_TEAM_h',\n",
       " 'PLUS_MINUS',\n",
       " 'OFF_RATING_Roll_mean_h',\n",
       " 'DEF_RATING_Roll_mean_h',\n",
       " 'NET_RATING_Roll_mean_h',\n",
       " 'AST_PCT_Roll_mean_h',\n",
       " 'AST_TOV_Roll_mean_h',\n",
       " 'OREB_PCT_Roll_mean_h',\n",
       " 'DREB_PCT_Roll_mean_h',\n",
       " 'REB_PCT_Roll_mean_h',\n",
       " 'TM_TOV_PCT_Roll_mean_h',\n",
       " 'EFG_PCT_Roll_mean_h',\n",
       " 'TS_PCT_Roll_mean_h',\n",
       " 'PACE_Roll_mean_h',\n",
       " 'POSS_Roll_mean_h',\n",
       " 'OFF_RATING_Roll_median_x_h',\n",
       " 'DEF_RATING_Roll_median_x_h',\n",
       " 'NET_RATING_Roll_median_x_h',\n",
       " 'AST_PCT_Roll_median_x_h',\n",
       " 'AST_TOV_Roll_median_x_h',\n",
       " 'OREB_PCT_Roll_median_x_h',\n",
       " 'DREB_PCT_Roll_median_x_h',\n",
       " 'REB_PCT_Roll_median_x_h',\n",
       " 'TM_TOV_PCT_Roll_median_x_h',\n",
       " 'EFG_PCT_Roll_median_x_h',\n",
       " 'TS_PCT_Roll_median_x_h',\n",
       " 'PACE_Roll_median_x_h',\n",
       " 'POSS_Roll_median_x_h',\n",
       " 'OFF_RATING_Roll_median_y_h',\n",
       " 'DEF_RATING_Roll_median_y_h',\n",
       " 'NET_RATING_Roll_median_y_h',\n",
       " 'AST_PCT_Roll_median_y_h',\n",
       " 'AST_TOV_Roll_median_y_h',\n",
       " 'OREB_PCT_Roll_median_y_h',\n",
       " 'DREB_PCT_Roll_median_y_h',\n",
       " 'REB_PCT_Roll_median_y_h',\n",
       " 'TM_TOV_PCT_Roll_median_y_h',\n",
       " 'EFG_PCT_Roll_median_y_h',\n",
       " 'TS_PCT_Roll_median_y_h',\n",
       " 'PACE_Roll_median_y_h',\n",
       " 'POSS_Roll_median_y_h',\n",
       " 'TEAM_ID_a',\n",
       " 'TEAM_NAME_a',\n",
       " 'TEAM_ABBREVIATION_a',\n",
       " 'OFF_RATING_a',\n",
       " 'DEF_RATING_a',\n",
       " 'NET_RATING_a',\n",
       " 'AST_PCT_a',\n",
       " 'AST_TOV_a',\n",
       " 'OREB_PCT_a',\n",
       " 'DREB_PCT_a',\n",
       " 'REB_PCT_a',\n",
       " 'TM_TOV_PCT_a',\n",
       " 'EFG_PCT_a',\n",
       " 'TS_PCT_a',\n",
       " 'PACE_a',\n",
       " 'POSS_a',\n",
       " 'HOME_TEAM_a',\n",
       " 'OFF_RATING_Roll_mean_a',\n",
       " 'DEF_RATING_Roll_mean_a',\n",
       " 'NET_RATING_Roll_mean_a',\n",
       " 'AST_PCT_Roll_mean_a',\n",
       " 'AST_TOV_Roll_mean_a',\n",
       " 'OREB_PCT_Roll_mean_a',\n",
       " 'DREB_PCT_Roll_mean_a',\n",
       " 'REB_PCT_Roll_mean_a',\n",
       " 'TM_TOV_PCT_Roll_mean_a',\n",
       " 'EFG_PCT_Roll_mean_a',\n",
       " 'TS_PCT_Roll_mean_a',\n",
       " 'PACE_Roll_mean_a',\n",
       " 'POSS_Roll_mean_a',\n",
       " 'OFF_RATING_Roll_median_x_a',\n",
       " 'DEF_RATING_Roll_median_x_a',\n",
       " 'NET_RATING_Roll_median_x_a',\n",
       " 'AST_PCT_Roll_median_x_a',\n",
       " 'AST_TOV_Roll_median_x_a',\n",
       " 'OREB_PCT_Roll_median_x_a',\n",
       " 'DREB_PCT_Roll_median_x_a',\n",
       " 'REB_PCT_Roll_median_x_a',\n",
       " 'TM_TOV_PCT_Roll_median_x_a',\n",
       " 'EFG_PCT_Roll_median_x_a',\n",
       " 'TS_PCT_Roll_median_x_a',\n",
       " 'PACE_Roll_median_x_a',\n",
       " 'POSS_Roll_median_x_a',\n",
       " 'OFF_RATING_Roll_median_y_a',\n",
       " 'DEF_RATING_Roll_median_y_a',\n",
       " 'NET_RATING_Roll_median_y_a',\n",
       " 'AST_PCT_Roll_median_y_a',\n",
       " 'AST_TOV_Roll_median_y_a',\n",
       " 'OREB_PCT_Roll_median_y_a',\n",
       " 'DREB_PCT_Roll_median_y_a',\n",
       " 'REB_PCT_Roll_median_y_a',\n",
       " 'TM_TOV_PCT_Roll_median_y_a',\n",
       " 'EFG_PCT_Roll_median_y_a',\n",
       " 'TS_PCT_Roll_median_y_a',\n",
       " 'PACE_Roll_median_y_a',\n",
       " 'POSS_Roll_median_y_a',\n",
       " 'ATL_h',\n",
       " 'BKN_h',\n",
       " 'BOS_h',\n",
       " 'CHA_h',\n",
       " 'CHI_h',\n",
       " 'CLE_h',\n",
       " 'DAL_h',\n",
       " 'DEN_h',\n",
       " 'DET_h',\n",
       " 'GSW_h',\n",
       " 'HOU_h',\n",
       " 'IND_h',\n",
       " 'LAC_h',\n",
       " 'LAL_h',\n",
       " 'MEM_h',\n",
       " 'MIA_h',\n",
       " 'MIL_h',\n",
       " 'MIN_h',\n",
       " 'NOP_h',\n",
       " 'NYK_h',\n",
       " 'OKC_h',\n",
       " 'ORL_h',\n",
       " 'PHI_h',\n",
       " 'PHX_h',\n",
       " 'POR_h',\n",
       " 'SAC_h',\n",
       " 'SAS_h',\n",
       " 'TOR_h',\n",
       " 'UTA_h',\n",
       " 'WAS_h',\n",
       " 'ATL_a',\n",
       " 'BKN_a',\n",
       " 'BOS_a',\n",
       " 'CHA_a',\n",
       " 'CHI_a',\n",
       " 'CLE_a',\n",
       " 'DAL_a',\n",
       " 'DEN_a',\n",
       " 'DET_a',\n",
       " 'GSW_a',\n",
       " 'HOU_a',\n",
       " 'IND_a',\n",
       " 'LAC_a',\n",
       " 'LAL_a',\n",
       " 'MEM_a',\n",
       " 'MIA_a',\n",
       " 'MIL_a',\n",
       " 'MIN_a',\n",
       " 'NOP_a',\n",
       " 'NYK_a',\n",
       " 'OKC_a',\n",
       " 'ORL_a',\n",
       " 'PHI_a',\n",
       " 'PHX_a',\n",
       " 'POR_a',\n",
       " 'SAC_a',\n",
       " 'SAS_a',\n",
       " 'TOR_a',\n",
       " 'UTA_a',\n",
       " 'WAS_a']"
      ]
     },
     "execution_count": 199,
     "metadata": {},
     "output_type": "execute_result"
    }
   ],
   "source": [
    "list(df_train.columns)"
   ]
  },
  {
   "cell_type": "code",
   "execution_count": 194,
   "id": "5bece2f1-b770-4bac-964f-ebbb706633f1",
   "metadata": {},
   "outputs": [],
   "source": [
    "columns_drop = ['PLUS_MINUS', 'OFF_RATING_h', 'GAME_ID', 'TEAM_ID_h', 'TEAM_NAME_h', 'TEAM_ABBREVIATION_h',\n",
    " 'DEF_RATING_h',\n",
    " 'NET_RATING_h',\n",
    " 'AST_PCT_h',\n",
    " 'AST_TOV_h',\n",
    " 'OREB_PCT_h',\n",
    " 'DREB_PCT_h',\n",
    " 'REB_PCT_h',\n",
    " 'TM_TOV_PCT_h',\n",
    " 'EFG_PCT_h',\n",
    " 'TS_PCT_h',\n",
    " 'PACE_h',\n",
    " 'POSS_h','OFF_RATING_a',\n",
    " 'DEF_RATING_a',\n",
    " 'NET_RATING_a',\n",
    " 'AST_PCT_a',\n",
    " 'AST_TOV_a',\n",
    " 'OREB_PCT_a',\n",
    " 'DREB_PCT_a',\n",
    " 'REB_PCT_a',\n",
    " 'TM_TOV_PCT_a',\n",
    " 'EFG_PCT_a',\n",
    " 'TS_PCT_a',\n",
    " 'PACE_a',\n",
    " 'POSS_a', 'AST_PCT_Roll_std_h',\n",
    " 'AST_PCT_Roll_median_a',\n",
    " 'REB_PCT_Roll_std_h',\n",
    " 'TM_TOV_PCT_Roll_std_h',\n",
    " 'AST_PCT_Roll_std_a',\n",
    " 'OREB_PCT_Roll_median_h',\n",
    " 'OREB_PCT_Roll_std_a',\n",
    " 'EFG_PCT_Roll_std_h',\n",
    " 'POSS_Roll_std_a',\n",
    " 'AST_TOV_Roll_median_h',\n",
    " 'OREB_PCT_Roll_median_a',\n",
    " 'AST_PCT_Roll_mean_a',\n",
    " 'OREB_PCT_Roll_std_h',\n",
    " 'AST_TOV_Roll_std_a',\n",
    " 'PACE_Roll_std_h',\n",
    " 'DREB_PCT_Roll_std_h',\n",
    " 'REB_PCT_Roll_median_h',\n",
    " 'PACE_Roll_median_h',\n",
    " 'TS_PCT_Roll_mean_h',\n",
    " 'REB_PCT_Roll_mean_h',\n",
    " 'POSS_Roll_mean_h',\n",
    " 'AST_PCT_Roll_median_h',\n",
    " 'EFG_PCT_Roll_median_a',\n",
    " 'DREB_PCT_Roll_median_h',\n",
    " 'EFG_PCT_Roll_mean_h',\n",
    " 'PACE_Roll_mean_h',\n",
    " 'TM_TOV_PCT_Roll_mean_h',\n",
    " 'DREB_PCT_Roll_mean_h',\n",
    " 'OREB_PCT_Roll_mean_h',\n",
    " 'AST_TOV_Roll_mean_h',\n",
    " 'AST_PCT_Roll_mean_h',\n",
    " 'DEF_RATING_Roll_mean_h',\n",
    " 'OFF_RATING_Roll_mean_h']"
   ]
  },
  {
   "cell_type": "code",
   "execution_count": 195,
   "id": "bbb11e11-68e6-466d-b84a-fe8bf0c524ee",
   "metadata": {},
   "outputs": [
    {
     "ename": "KeyError",
     "evalue": "\"['AST_PCT_Roll_std_h', 'AST_PCT_Roll_median_a', 'REB_PCT_Roll_std_h', 'TM_TOV_PCT_Roll_std_h', 'AST_PCT_Roll_std_a', 'OREB_PCT_Roll_median_h', 'OREB_PCT_Roll_std_a', 'EFG_PCT_Roll_std_h', 'POSS_Roll_std_a', 'AST_TOV_Roll_median_h', 'OREB_PCT_Roll_median_a', 'OREB_PCT_Roll_std_h', 'AST_TOV_Roll_std_a', 'PACE_Roll_std_h', 'DREB_PCT_Roll_std_h', 'REB_PCT_Roll_median_h', 'PACE_Roll_median_h', 'AST_PCT_Roll_median_h', 'EFG_PCT_Roll_median_a', 'DREB_PCT_Roll_median_h'] not found in axis\"",
     "output_type": "error",
     "traceback": [
      "\u001b[0;31m---------------------------------------------------------------------------\u001b[0m",
      "\u001b[0;31mKeyError\u001b[0m                                  Traceback (most recent call last)",
      "Cell \u001b[0;32mIn[195], line 1\u001b[0m\n\u001b[0;32m----> 1\u001b[0m df_train \u001b[38;5;241m=\u001b[39m \u001b[43mdf_train\u001b[49m\u001b[38;5;241;43m.\u001b[39;49m\u001b[43mdrop\u001b[49m\u001b[43m(\u001b[49m\u001b[43mcolumns_drop\u001b[49m\u001b[43m,\u001b[49m\u001b[43m \u001b[49m\u001b[43maxis\u001b[49m\u001b[38;5;241;43m=\u001b[39;49m\u001b[38;5;241;43m1\u001b[39;49m\u001b[43m)\u001b[49m\n",
      "File \u001b[0;32m~/.pyenv/versions/3.10.6/envs/nba_betting_analysis/lib/python3.10/site-packages/pandas/util/_decorators.py:331\u001b[0m, in \u001b[0;36mdeprecate_nonkeyword_arguments.<locals>.decorate.<locals>.wrapper\u001b[0;34m(*args, **kwargs)\u001b[0m\n\u001b[1;32m    325\u001b[0m \u001b[38;5;28;01mif\u001b[39;00m \u001b[38;5;28mlen\u001b[39m(args) \u001b[38;5;241m>\u001b[39m num_allow_args:\n\u001b[1;32m    326\u001b[0m     warnings\u001b[38;5;241m.\u001b[39mwarn(\n\u001b[1;32m    327\u001b[0m         msg\u001b[38;5;241m.\u001b[39mformat(arguments\u001b[38;5;241m=\u001b[39m_format_argument_list(allow_args)),\n\u001b[1;32m    328\u001b[0m         \u001b[38;5;167;01mFutureWarning\u001b[39;00m,\n\u001b[1;32m    329\u001b[0m         stacklevel\u001b[38;5;241m=\u001b[39mfind_stack_level(),\n\u001b[1;32m    330\u001b[0m     )\n\u001b[0;32m--> 331\u001b[0m \u001b[38;5;28;01mreturn\u001b[39;00m \u001b[43mfunc\u001b[49m\u001b[43m(\u001b[49m\u001b[38;5;241;43m*\u001b[39;49m\u001b[43margs\u001b[49m\u001b[43m,\u001b[49m\u001b[43m \u001b[49m\u001b[38;5;241;43m*\u001b[39;49m\u001b[38;5;241;43m*\u001b[39;49m\u001b[43mkwargs\u001b[49m\u001b[43m)\u001b[49m\n",
      "File \u001b[0;32m~/.pyenv/versions/3.10.6/envs/nba_betting_analysis/lib/python3.10/site-packages/pandas/core/frame.py:5399\u001b[0m, in \u001b[0;36mDataFrame.drop\u001b[0;34m(self, labels, axis, index, columns, level, inplace, errors)\u001b[0m\n\u001b[1;32m   5251\u001b[0m \u001b[38;5;129m@deprecate_nonkeyword_arguments\u001b[39m(version\u001b[38;5;241m=\u001b[39m\u001b[38;5;28;01mNone\u001b[39;00m, allowed_args\u001b[38;5;241m=\u001b[39m[\u001b[38;5;124m\"\u001b[39m\u001b[38;5;124mself\u001b[39m\u001b[38;5;124m\"\u001b[39m, \u001b[38;5;124m\"\u001b[39m\u001b[38;5;124mlabels\u001b[39m\u001b[38;5;124m\"\u001b[39m])\n\u001b[1;32m   5252\u001b[0m \u001b[38;5;28;01mdef\u001b[39;00m \u001b[38;5;21mdrop\u001b[39m(  \u001b[38;5;66;03m# type: ignore[override]\u001b[39;00m\n\u001b[1;32m   5253\u001b[0m     \u001b[38;5;28mself\u001b[39m,\n\u001b[0;32m   (...)\u001b[0m\n\u001b[1;32m   5260\u001b[0m     errors: IgnoreRaise \u001b[38;5;241m=\u001b[39m \u001b[38;5;124m\"\u001b[39m\u001b[38;5;124mraise\u001b[39m\u001b[38;5;124m\"\u001b[39m,\n\u001b[1;32m   5261\u001b[0m ) \u001b[38;5;241m-\u001b[39m\u001b[38;5;241m>\u001b[39m DataFrame \u001b[38;5;241m|\u001b[39m \u001b[38;5;28;01mNone\u001b[39;00m:\n\u001b[1;32m   5262\u001b[0m \u001b[38;5;250m    \u001b[39m\u001b[38;5;124;03m\"\"\"\u001b[39;00m\n\u001b[1;32m   5263\u001b[0m \u001b[38;5;124;03m    Drop specified labels from rows or columns.\u001b[39;00m\n\u001b[1;32m   5264\u001b[0m \n\u001b[0;32m   (...)\u001b[0m\n\u001b[1;32m   5397\u001b[0m \u001b[38;5;124;03m            weight  1.0     0.8\u001b[39;00m\n\u001b[1;32m   5398\u001b[0m \u001b[38;5;124;03m    \"\"\"\u001b[39;00m\n\u001b[0;32m-> 5399\u001b[0m     \u001b[38;5;28;01mreturn\u001b[39;00m \u001b[38;5;28;43msuper\u001b[39;49m\u001b[43m(\u001b[49m\u001b[43m)\u001b[49m\u001b[38;5;241;43m.\u001b[39;49m\u001b[43mdrop\u001b[49m\u001b[43m(\u001b[49m\n\u001b[1;32m   5400\u001b[0m \u001b[43m        \u001b[49m\u001b[43mlabels\u001b[49m\u001b[38;5;241;43m=\u001b[39;49m\u001b[43mlabels\u001b[49m\u001b[43m,\u001b[49m\n\u001b[1;32m   5401\u001b[0m \u001b[43m        \u001b[49m\u001b[43maxis\u001b[49m\u001b[38;5;241;43m=\u001b[39;49m\u001b[43maxis\u001b[49m\u001b[43m,\u001b[49m\n\u001b[1;32m   5402\u001b[0m \u001b[43m        \u001b[49m\u001b[43mindex\u001b[49m\u001b[38;5;241;43m=\u001b[39;49m\u001b[43mindex\u001b[49m\u001b[43m,\u001b[49m\n\u001b[1;32m   5403\u001b[0m \u001b[43m        \u001b[49m\u001b[43mcolumns\u001b[49m\u001b[38;5;241;43m=\u001b[39;49m\u001b[43mcolumns\u001b[49m\u001b[43m,\u001b[49m\n\u001b[1;32m   5404\u001b[0m \u001b[43m        \u001b[49m\u001b[43mlevel\u001b[49m\u001b[38;5;241;43m=\u001b[39;49m\u001b[43mlevel\u001b[49m\u001b[43m,\u001b[49m\n\u001b[1;32m   5405\u001b[0m \u001b[43m        \u001b[49m\u001b[43minplace\u001b[49m\u001b[38;5;241;43m=\u001b[39;49m\u001b[43minplace\u001b[49m\u001b[43m,\u001b[49m\n\u001b[1;32m   5406\u001b[0m \u001b[43m        \u001b[49m\u001b[43merrors\u001b[49m\u001b[38;5;241;43m=\u001b[39;49m\u001b[43merrors\u001b[49m\u001b[43m,\u001b[49m\n\u001b[1;32m   5407\u001b[0m \u001b[43m    \u001b[49m\u001b[43m)\u001b[49m\n",
      "File \u001b[0;32m~/.pyenv/versions/3.10.6/envs/nba_betting_analysis/lib/python3.10/site-packages/pandas/util/_decorators.py:331\u001b[0m, in \u001b[0;36mdeprecate_nonkeyword_arguments.<locals>.decorate.<locals>.wrapper\u001b[0;34m(*args, **kwargs)\u001b[0m\n\u001b[1;32m    325\u001b[0m \u001b[38;5;28;01mif\u001b[39;00m \u001b[38;5;28mlen\u001b[39m(args) \u001b[38;5;241m>\u001b[39m num_allow_args:\n\u001b[1;32m    326\u001b[0m     warnings\u001b[38;5;241m.\u001b[39mwarn(\n\u001b[1;32m    327\u001b[0m         msg\u001b[38;5;241m.\u001b[39mformat(arguments\u001b[38;5;241m=\u001b[39m_format_argument_list(allow_args)),\n\u001b[1;32m    328\u001b[0m         \u001b[38;5;167;01mFutureWarning\u001b[39;00m,\n\u001b[1;32m    329\u001b[0m         stacklevel\u001b[38;5;241m=\u001b[39mfind_stack_level(),\n\u001b[1;32m    330\u001b[0m     )\n\u001b[0;32m--> 331\u001b[0m \u001b[38;5;28;01mreturn\u001b[39;00m \u001b[43mfunc\u001b[49m\u001b[43m(\u001b[49m\u001b[38;5;241;43m*\u001b[39;49m\u001b[43margs\u001b[49m\u001b[43m,\u001b[49m\u001b[43m \u001b[49m\u001b[38;5;241;43m*\u001b[39;49m\u001b[38;5;241;43m*\u001b[39;49m\u001b[43mkwargs\u001b[49m\u001b[43m)\u001b[49m\n",
      "File \u001b[0;32m~/.pyenv/versions/3.10.6/envs/nba_betting_analysis/lib/python3.10/site-packages/pandas/core/generic.py:4505\u001b[0m, in \u001b[0;36mNDFrame.drop\u001b[0;34m(self, labels, axis, index, columns, level, inplace, errors)\u001b[0m\n\u001b[1;32m   4503\u001b[0m \u001b[38;5;28;01mfor\u001b[39;00m axis, labels \u001b[38;5;129;01min\u001b[39;00m axes\u001b[38;5;241m.\u001b[39mitems():\n\u001b[1;32m   4504\u001b[0m     \u001b[38;5;28;01mif\u001b[39;00m labels \u001b[38;5;129;01mis\u001b[39;00m \u001b[38;5;129;01mnot\u001b[39;00m \u001b[38;5;28;01mNone\u001b[39;00m:\n\u001b[0;32m-> 4505\u001b[0m         obj \u001b[38;5;241m=\u001b[39m \u001b[43mobj\u001b[49m\u001b[38;5;241;43m.\u001b[39;49m\u001b[43m_drop_axis\u001b[49m\u001b[43m(\u001b[49m\u001b[43mlabels\u001b[49m\u001b[43m,\u001b[49m\u001b[43m \u001b[49m\u001b[43maxis\u001b[49m\u001b[43m,\u001b[49m\u001b[43m \u001b[49m\u001b[43mlevel\u001b[49m\u001b[38;5;241;43m=\u001b[39;49m\u001b[43mlevel\u001b[49m\u001b[43m,\u001b[49m\u001b[43m \u001b[49m\u001b[43merrors\u001b[49m\u001b[38;5;241;43m=\u001b[39;49m\u001b[43merrors\u001b[49m\u001b[43m)\u001b[49m\n\u001b[1;32m   4507\u001b[0m \u001b[38;5;28;01mif\u001b[39;00m inplace:\n\u001b[1;32m   4508\u001b[0m     \u001b[38;5;28mself\u001b[39m\u001b[38;5;241m.\u001b[39m_update_inplace(obj)\n",
      "File \u001b[0;32m~/.pyenv/versions/3.10.6/envs/nba_betting_analysis/lib/python3.10/site-packages/pandas/core/generic.py:4546\u001b[0m, in \u001b[0;36mNDFrame._drop_axis\u001b[0;34m(self, labels, axis, level, errors, only_slice)\u001b[0m\n\u001b[1;32m   4544\u001b[0m         new_axis \u001b[38;5;241m=\u001b[39m axis\u001b[38;5;241m.\u001b[39mdrop(labels, level\u001b[38;5;241m=\u001b[39mlevel, errors\u001b[38;5;241m=\u001b[39merrors)\n\u001b[1;32m   4545\u001b[0m     \u001b[38;5;28;01melse\u001b[39;00m:\n\u001b[0;32m-> 4546\u001b[0m         new_axis \u001b[38;5;241m=\u001b[39m \u001b[43maxis\u001b[49m\u001b[38;5;241;43m.\u001b[39;49m\u001b[43mdrop\u001b[49m\u001b[43m(\u001b[49m\u001b[43mlabels\u001b[49m\u001b[43m,\u001b[49m\u001b[43m \u001b[49m\u001b[43merrors\u001b[49m\u001b[38;5;241;43m=\u001b[39;49m\u001b[43merrors\u001b[49m\u001b[43m)\u001b[49m\n\u001b[1;32m   4547\u001b[0m     indexer \u001b[38;5;241m=\u001b[39m axis\u001b[38;5;241m.\u001b[39mget_indexer(new_axis)\n\u001b[1;32m   4549\u001b[0m \u001b[38;5;66;03m# Case for non-unique axis\u001b[39;00m\n\u001b[1;32m   4550\u001b[0m \u001b[38;5;28;01melse\u001b[39;00m:\n",
      "File \u001b[0;32m~/.pyenv/versions/3.10.6/envs/nba_betting_analysis/lib/python3.10/site-packages/pandas/core/indexes/base.py:6934\u001b[0m, in \u001b[0;36mIndex.drop\u001b[0;34m(self, labels, errors)\u001b[0m\n\u001b[1;32m   6932\u001b[0m \u001b[38;5;28;01mif\u001b[39;00m mask\u001b[38;5;241m.\u001b[39many():\n\u001b[1;32m   6933\u001b[0m     \u001b[38;5;28;01mif\u001b[39;00m errors \u001b[38;5;241m!=\u001b[39m \u001b[38;5;124m\"\u001b[39m\u001b[38;5;124mignore\u001b[39m\u001b[38;5;124m\"\u001b[39m:\n\u001b[0;32m-> 6934\u001b[0m         \u001b[38;5;28;01mraise\u001b[39;00m \u001b[38;5;167;01mKeyError\u001b[39;00m(\u001b[38;5;124mf\u001b[39m\u001b[38;5;124m\"\u001b[39m\u001b[38;5;132;01m{\u001b[39;00m\u001b[38;5;28mlist\u001b[39m(labels[mask])\u001b[38;5;132;01m}\u001b[39;00m\u001b[38;5;124m not found in axis\u001b[39m\u001b[38;5;124m\"\u001b[39m)\n\u001b[1;32m   6935\u001b[0m     indexer \u001b[38;5;241m=\u001b[39m indexer[\u001b[38;5;241m~\u001b[39mmask]\n\u001b[1;32m   6936\u001b[0m \u001b[38;5;28;01mreturn\u001b[39;00m \u001b[38;5;28mself\u001b[39m\u001b[38;5;241m.\u001b[39mdelete(indexer)\n",
      "\u001b[0;31mKeyError\u001b[0m: \"['AST_PCT_Roll_std_h', 'AST_PCT_Roll_median_a', 'REB_PCT_Roll_std_h', 'TM_TOV_PCT_Roll_std_h', 'AST_PCT_Roll_std_a', 'OREB_PCT_Roll_median_h', 'OREB_PCT_Roll_std_a', 'EFG_PCT_Roll_std_h', 'POSS_Roll_std_a', 'AST_TOV_Roll_median_h', 'OREB_PCT_Roll_median_a', 'OREB_PCT_Roll_std_h', 'AST_TOV_Roll_std_a', 'PACE_Roll_std_h', 'DREB_PCT_Roll_std_h', 'REB_PCT_Roll_median_h', 'PACE_Roll_median_h', 'AST_PCT_Roll_median_h', 'EFG_PCT_Roll_median_a', 'DREB_PCT_Roll_median_h'] not found in axis\""
     ]
    }
   ],
   "source": [
    "df_train = df_train.drop(columns_drop, axis=1)"
   ]
  },
  {
   "cell_type": "code",
   "execution_count": null,
   "id": "7b119c34-5470-4d0b-b174-06f5cb5434d9",
   "metadata": {},
   "outputs": [],
   "source": [
    "X_train, X_test, y_train, y_test = train_test_split(df_train, df_target, random_state=0, test_size=0.3)"
   ]
  },
  {
   "cell_type": "code",
   "execution_count": 16,
   "id": "478ea228-00c7-4a61-8c76-2f798f145d6c",
   "metadata": {},
   "outputs": [],
   "source": [
    "from sklearn.preprocessing import MinMaxScaler\n",
    "scaler = MinMaxScaler()\n",
    "y_train = scaler.fit_transform(np.array(y_train).reshape(-1, 1))\n",
    "y_test = scaler.transform(np.array(y_test).reshape(-1, 1))"
   ]
  },
  {
   "cell_type": "code",
   "execution_count": 25,
   "id": "3468d1ee-42f2-4aa0-a3e4-587c7ea54046",
   "metadata": {},
   "outputs": [
    {
     "data": {
      "text/plain": [
       "array([[0.58156028],\n",
       "       [0.36879433],\n",
       "       [0.67375887],\n",
       "       ...,\n",
       "       [0.59574468],\n",
       "       [0.34042553],\n",
       "       [0.59574468]])"
      ]
     },
     "execution_count": 25,
     "metadata": {},
     "output_type": "execute_result"
    }
   ],
   "source": [
    "y_train"
   ]
  },
  {
   "cell_type": "code",
   "execution_count": 18,
   "id": "98d48327-08cb-432d-9021-13064553a671",
   "metadata": {},
   "outputs": [],
   "source": [
    "dtrain_reg = xgb.DMatrix(X_train, y_train)\n",
    "dtest_reg = xgb.DMatrix(X_test, y_test)"
   ]
  },
  {
   "cell_type": "code",
   "execution_count": 19,
   "id": "f89c58f7-173a-4375-862a-b5e15560f477",
   "metadata": {},
   "outputs": [],
   "source": [
    "xg_model = XGBRegressor(subsample= 0.39, reg_lambda= 0.028299,reg_alpha=0.033299, objective= 'reg:pseudohubererror', n_estimators= 650, max_depth=32, \n",
    "                        learning_rate = 0.021399, huber_slope=4.56, n_jobs=-1)"
   ]
  },
  {
   "cell_type": "code",
   "execution_count": 20,
   "id": "be039414-86de-4b15-a5c3-92f68da24cf8",
   "metadata": {},
   "outputs": [
    {
     "data": {
      "text/html": [
       "<style>#sk-container-id-1 {color: black;background-color: white;}#sk-container-id-1 pre{padding: 0;}#sk-container-id-1 div.sk-toggleable {background-color: white;}#sk-container-id-1 label.sk-toggleable__label {cursor: pointer;display: block;width: 100%;margin-bottom: 0;padding: 0.3em;box-sizing: border-box;text-align: center;}#sk-container-id-1 label.sk-toggleable__label-arrow:before {content: \"▸\";float: left;margin-right: 0.25em;color: #696969;}#sk-container-id-1 label.sk-toggleable__label-arrow:hover:before {color: black;}#sk-container-id-1 div.sk-estimator:hover label.sk-toggleable__label-arrow:before {color: black;}#sk-container-id-1 div.sk-toggleable__content {max-height: 0;max-width: 0;overflow: hidden;text-align: left;background-color: #f0f8ff;}#sk-container-id-1 div.sk-toggleable__content pre {margin: 0.2em;color: black;border-radius: 0.25em;background-color: #f0f8ff;}#sk-container-id-1 input.sk-toggleable__control:checked~div.sk-toggleable__content {max-height: 200px;max-width: 100%;overflow: auto;}#sk-container-id-1 input.sk-toggleable__control:checked~label.sk-toggleable__label-arrow:before {content: \"▾\";}#sk-container-id-1 div.sk-estimator input.sk-toggleable__control:checked~label.sk-toggleable__label {background-color: #d4ebff;}#sk-container-id-1 div.sk-label input.sk-toggleable__control:checked~label.sk-toggleable__label {background-color: #d4ebff;}#sk-container-id-1 input.sk-hidden--visually {border: 0;clip: rect(1px 1px 1px 1px);clip: rect(1px, 1px, 1px, 1px);height: 1px;margin: -1px;overflow: hidden;padding: 0;position: absolute;width: 1px;}#sk-container-id-1 div.sk-estimator {font-family: monospace;background-color: #f0f8ff;border: 1px dotted black;border-radius: 0.25em;box-sizing: border-box;margin-bottom: 0.5em;}#sk-container-id-1 div.sk-estimator:hover {background-color: #d4ebff;}#sk-container-id-1 div.sk-parallel-item::after {content: \"\";width: 100%;border-bottom: 1px solid gray;flex-grow: 1;}#sk-container-id-1 div.sk-label:hover label.sk-toggleable__label {background-color: #d4ebff;}#sk-container-id-1 div.sk-serial::before {content: \"\";position: absolute;border-left: 1px solid gray;box-sizing: border-box;top: 0;bottom: 0;left: 50%;z-index: 0;}#sk-container-id-1 div.sk-serial {display: flex;flex-direction: column;align-items: center;background-color: white;padding-right: 0.2em;padding-left: 0.2em;position: relative;}#sk-container-id-1 div.sk-item {position: relative;z-index: 1;}#sk-container-id-1 div.sk-parallel {display: flex;align-items: stretch;justify-content: center;background-color: white;position: relative;}#sk-container-id-1 div.sk-item::before, #sk-container-id-1 div.sk-parallel-item::before {content: \"\";position: absolute;border-left: 1px solid gray;box-sizing: border-box;top: 0;bottom: 0;left: 50%;z-index: -1;}#sk-container-id-1 div.sk-parallel-item {display: flex;flex-direction: column;z-index: 1;position: relative;background-color: white;}#sk-container-id-1 div.sk-parallel-item:first-child::after {align-self: flex-end;width: 50%;}#sk-container-id-1 div.sk-parallel-item:last-child::after {align-self: flex-start;width: 50%;}#sk-container-id-1 div.sk-parallel-item:only-child::after {width: 0;}#sk-container-id-1 div.sk-dashed-wrapped {border: 1px dashed gray;margin: 0 0.4em 0.5em 0.4em;box-sizing: border-box;padding-bottom: 0.4em;background-color: white;}#sk-container-id-1 div.sk-label label {font-family: monospace;font-weight: bold;display: inline-block;line-height: 1.2em;}#sk-container-id-1 div.sk-label-container {text-align: center;}#sk-container-id-1 div.sk-container {/* jupyter's `normalize.less` sets `[hidden] { display: none; }` but bootstrap.min.css set `[hidden] { display: none !important; }` so we also need the `!important` here to be able to override the default hidden behavior on the sphinx rendered scikit-learn.org. See: https://github.com/scikit-learn/scikit-learn/issues/21755 */display: inline-block !important;position: relative;}#sk-container-id-1 div.sk-text-repr-fallback {display: none;}</style><div id=\"sk-container-id-1\" class=\"sk-top-container\"><div class=\"sk-text-repr-fallback\"><pre>XGBRegressor(base_score=None, booster=None, callbacks=None,\n",
       "             colsample_bylevel=None, colsample_bynode=None,\n",
       "             colsample_bytree=None, early_stopping_rounds=None,\n",
       "             enable_categorical=False, eval_metric=None, feature_types=None,\n",
       "             gamma=None, gpu_id=None, grow_policy=None, huber_slope=4.56,\n",
       "             importance_type=None, interaction_constraints=None,\n",
       "             learning_rate=0.021399, max_bin=None, max_cat_threshold=None,\n",
       "             max_cat_to_onehot=None, max_delta_step=None, max_depth=32,\n",
       "             max_leaves=None, min_child_weight=None, missing=nan,\n",
       "             monotone_constraints=None, n_estimators=650, n_jobs=-1,\n",
       "             num_parallel_tree=None, objective=&#x27;reg:pseudohubererror&#x27;, ...)</pre><b>In a Jupyter environment, please rerun this cell to show the HTML representation or trust the notebook. <br />On GitHub, the HTML representation is unable to render, please try loading this page with nbviewer.org.</b></div><div class=\"sk-container\" hidden><div class=\"sk-item\"><div class=\"sk-estimator sk-toggleable\"><input class=\"sk-toggleable__control sk-hidden--visually\" id=\"sk-estimator-id-1\" type=\"checkbox\" checked><label for=\"sk-estimator-id-1\" class=\"sk-toggleable__label sk-toggleable__label-arrow\">XGBRegressor</label><div class=\"sk-toggleable__content\"><pre>XGBRegressor(base_score=None, booster=None, callbacks=None,\n",
       "             colsample_bylevel=None, colsample_bynode=None,\n",
       "             colsample_bytree=None, early_stopping_rounds=None,\n",
       "             enable_categorical=False, eval_metric=None, feature_types=None,\n",
       "             gamma=None, gpu_id=None, grow_policy=None, huber_slope=4.56,\n",
       "             importance_type=None, interaction_constraints=None,\n",
       "             learning_rate=0.021399, max_bin=None, max_cat_threshold=None,\n",
       "             max_cat_to_onehot=None, max_delta_step=None, max_depth=32,\n",
       "             max_leaves=None, min_child_weight=None, missing=nan,\n",
       "             monotone_constraints=None, n_estimators=650, n_jobs=-1,\n",
       "             num_parallel_tree=None, objective=&#x27;reg:pseudohubererror&#x27;, ...)</pre></div></div></div></div></div>"
      ],
      "text/plain": [
       "XGBRegressor(base_score=None, booster=None, callbacks=None,\n",
       "             colsample_bylevel=None, colsample_bynode=None,\n",
       "             colsample_bytree=None, early_stopping_rounds=None,\n",
       "             enable_categorical=False, eval_metric=None, feature_types=None,\n",
       "             gamma=None, gpu_id=None, grow_policy=None, huber_slope=4.56,\n",
       "             importance_type=None, interaction_constraints=None,\n",
       "             learning_rate=0.021399, max_bin=None, max_cat_threshold=None,\n",
       "             max_cat_to_onehot=None, max_delta_step=None, max_depth=32,\n",
       "             max_leaves=None, min_child_weight=None, missing=nan,\n",
       "             monotone_constraints=None, n_estimators=650, n_jobs=-1,\n",
       "             num_parallel_tree=None, objective='reg:pseudohubererror', ...)"
      ]
     },
     "execution_count": 20,
     "metadata": {},
     "output_type": "execute_result"
    }
   ],
   "source": [
    "xg_model.fit(X_train, y_train)"
   ]
  },
  {
   "cell_type": "code",
   "execution_count": 21,
   "id": "a02c847e-02a4-49eb-9f2d-90bc534a1dcc",
   "metadata": {},
   "outputs": [
    {
     "data": {
      "text/plain": [
       "array([0.45810264, 0.50933166, 0.47499797, 0.4490659 , 0.51383483])"
      ]
     },
     "execution_count": 21,
     "metadata": {},
     "output_type": "execute_result"
    }
   ],
   "source": [
    "cross_val_score(xg_model, X_train, y_train, cv=5)"
   ]
  },
  {
   "cell_type": "code",
   "execution_count": 38,
   "id": "569785df-00f1-48ce-867f-52089b9ffc1e",
   "metadata": {},
   "outputs": [
    {
     "data": {
      "text/plain": [
       "0.4751805564300373"
      ]
     },
     "execution_count": 38,
     "metadata": {},
     "output_type": "execute_result"
    }
   ],
   "source": [
    "r2_score(y_test, xg_model.predict(X_test))"
   ]
  },
  {
   "cell_type": "code",
   "execution_count": 35,
   "id": "05205646-209f-4908-a404-c905c6c5dda7",
   "metadata": {},
   "outputs": [
    {
     "data": {
      "text/plain": [
       "array([0.53191489, 0.53900709, 0.39716312, ..., 0.43971631, 0.53900709,\n",
       "       0.53191489])"
      ]
     },
     "execution_count": 35,
     "metadata": {},
     "output_type": "execute_result"
    }
   ],
   "source": [
    "y_test.ravel()"
   ]
  },
  {
   "cell_type": "code",
   "execution_count": 28,
   "id": "33e6a8c6-81cb-4aab-88c7-723239341fc6",
   "metadata": {},
   "outputs": [
    {
     "data": {
      "text/plain": [
       "0.07359916379221514"
      ]
     },
     "execution_count": 28,
     "metadata": {},
     "output_type": "execute_result"
    }
   ],
   "source": [
    "rmse = mean_squared_error(y_test, xg_model.predict(X_test), squared=False)\n",
    "rmse"
   ]
  },
  {
   "cell_type": "code",
   "execution_count": 29,
   "id": "392aad91-f2a1-4280-84f5-1606172d0d38",
   "metadata": {},
   "outputs": [],
   "source": [
    "import seaborn as sns"
   ]
  },
  {
   "cell_type": "code",
   "execution_count": 36,
   "id": "37e549f7-958a-432c-b9d1-03228cc2937a",
   "metadata": {},
   "outputs": [
    {
     "data": {
      "text/plain": [
       "<Axes: ylabel='Count'>"
      ]
     },
     "execution_count": 36,
     "metadata": {},
     "output_type": "execute_result"
    },
    {
     "data": {
      "image/png": "[encoded data removed]",
      "text/plain": [
       "<Figure size 640x480 with 1 Axes>"
      ]
     },
     "metadata": {},
     "output_type": "display_data"
    }
   ],
   "source": [
    "sns.histplot(pd.DataFrame({'y_pred':xg_model.predict(X_test), 'y_true':y_test.ravel()}))"
   ]
  },
  {
   "cell_type": "code",
   "execution_count": 205,
   "id": "4ee3fa6e-4786-4350-8b86-8237f8edd119",
   "metadata": {},
   "outputs": [],
   "source": [
    "df_pinnacle = pd.read_csv('../data/csv/pinnacle_sportsbook.csv')\n",
    "df_teamnames = pd.read_pickle('../data/pkl/raw_games_5yrs.pkl')"
   ]
  },
  {
   "cell_type": "code",
   "execution_count": 133,
   "id": "0561129c-041f-49be-9060-a9cdfbb367c2",
   "metadata": {},
   "outputs": [],
   "source": [
    "df_pinnacle_spread = df_pinnacle[['participant id', 'description', 'decimal odds', 'american odds', 'spread / total']]"
   ]
  },
  {
   "cell_type": "code",
   "execution_count": 134,
   "id": "7e7823cd-f518-4ea0-978d-6a68e5d912d3",
   "metadata": {},
   "outputs": [],
   "source": [
    "df_pinnacle_names = df_pinnacle[['participants.1.participant id', 'participants.1.source.nickname',\n",
    "       'participants.1.source.short name', 'participants.2.participant id',\n",
    "       'participants.2.source.nickname', 'participants.2.source.short name']]"
   ]
  },
  {
   "cell_type": "code",
   "execution_count": 135,
   "id": "ce0c77c4-d404-4731-a69f-cab390be86ab",
   "metadata": {},
   "outputs": [
    {
     "name": "stderr",
     "output_type": "stream",
     "text": [
      "/tmp/ipykernel_13827/3300031709.py:1: SettingWithCopyWarning: \n",
      "A value is trying to be set on a copy of a slice from a DataFrame.\n",
      "Try using .loc[row_indexer,col_indexer] = value instead\n",
      "\n",
      "See the caveats in the documentation: https://pandas.pydata.org/pandas-docs/stable/user_guide/indexing.html#returning-a-view-versus-a-copy\n",
      "  df_pinnacle_names['p1_full'] = df_pinnacle_names['participants.1.source.short name'] + ' ' + df_pinnacle_names['participants.1.source.nickname']\n",
      "/tmp/ipykernel_13827/3300031709.py:2: SettingWithCopyWarning: \n",
      "A value is trying to be set on a copy of a slice from a DataFrame.\n",
      "Try using .loc[row_indexer,col_indexer] = value instead\n",
      "\n",
      "See the caveats in the documentation: https://pandas.pydata.org/pandas-docs/stable/user_guide/indexing.html#returning-a-view-versus-a-copy\n",
      "  df_pinnacle_names['p2_full'] = df_pinnacle_names['participants.2.source.short name'] + ' ' + df_pinnacle_names['participants.2.source.nickname']\n",
      "/tmp/ipykernel_13827/3300031709.py:3: SettingWithCopyWarning: \n",
      "A value is trying to be set on a copy of a slice from a DataFrame.\n",
      "Try using .loc[row_indexer,col_indexer] = value instead\n",
      "\n",
      "See the caveats in the documentation: https://pandas.pydata.org/pandas-docs/stable/user_guide/indexing.html#returning-a-view-versus-a-copy\n",
      "  df_pinnacle_names['p2_full'] = df_pinnacle_names['p2_full'].replace({'L.A. Clippers L.A. Clippers': 'LA Clippers', 'L.A. Lakers L.A. Lakers': 'Los Angeles Lakers'})\n",
      "/tmp/ipykernel_13827/3300031709.py:4: SettingWithCopyWarning: \n",
      "A value is trying to be set on a copy of a slice from a DataFrame.\n",
      "Try using .loc[row_indexer,col_indexer] = value instead\n",
      "\n",
      "See the caveats in the documentation: https://pandas.pydata.org/pandas-docs/stable/user_guide/indexing.html#returning-a-view-versus-a-copy\n",
      "  df_pinnacle_names['p1_full'] = df_pinnacle_names['p1_full'].replace({'L.A. Clippers L.A. Clippers': 'LA Clippers', 'L.A. Lakers L.A. Lakers': 'Los Angeles Lakers'})\n"
     ]
    }
   ],
   "source": [
    "df_pinnacle_names['p1_full'] = df_pinnacle_names['participants.1.source.short name'] + ' ' + df_pinnacle_names['participants.1.source.nickname']\n",
    "df_pinnacle_names['p2_full'] = df_pinnacle_names['participants.2.source.short name'] + ' ' + df_pinnacle_names['participants.2.source.nickname']\n",
    "df_pinnacle_names['p2_full'] = df_pinnacle_names['p2_full'].replace({'L.A. Clippers L.A. Clippers': 'LA Clippers', 'L.A. Lakers L.A. Lakers': 'Los Angeles Lakers'})\n",
    "df_pinnacle_names['p1_full'] = df_pinnacle_names['p1_full'].replace({'L.A. Clippers L.A. Clippers': 'LA Clippers', 'L.A. Lakers L.A. Lakers': 'Los Angeles Lakers'})\n",
    "df_pinnacle_names = df_pinnacle_names[df_pinnacle_names['p1_full'].isin(pd.unique(df_teamnames['TEAM_NAME']))]\n",
    "df_pinnacle_names = df_pinnacle_names[df_pinnacle_names['p2_full'].isin(pd.unique(df_teamnames['TEAM_NAME']))]"
   ]
  },
  {
   "cell_type": "code",
   "execution_count": 141,
   "id": "0d201799-715f-4a0d-8872-1c91b98ce8c0",
   "metadata": {},
   "outputs": [],
   "source": [
    "full_names_participant = df_pinnacle_names.drop_duplicates('participants.1.participant id')"
   ]
  },
  {
   "cell_type": "code",
   "execution_count": 144,
   "id": "7bca3274-27d3-45fc-bf5a-7cf676d76756",
   "metadata": {},
   "outputs": [
    {
     "name": "stderr",
     "output_type": "stream",
     "text": [
      "/tmp/ipykernel_13827/274799569.py:1: SettingWithCopyWarning: \n",
      "A value is trying to be set on a copy of a slice from a DataFrame.\n",
      "Try using .loc[row_indexer,col_indexer] = value instead\n",
      "\n",
      "See the caveats in the documentation: https://pandas.pydata.org/pandas-docs/stable/user_guide/indexing.html#returning-a-view-versus-a-copy\n",
      "  full_names_participant['participant id'] = full_names_participant['participants.1.participant id']\n"
     ]
    }
   ],
   "source": [
    "full_names_participant['participant id'] = full_names_participant['participants.1.participant id']"
   ]
  },
  {
   "cell_type": "code",
   "execution_count": 149,
   "id": "1e3a72bf-f274-4497-a2a1-f6f44052723a",
   "metadata": {},
   "outputs": [
    {
     "name": "stderr",
     "output_type": "stream",
     "text": [
      "/tmp/ipykernel_13827/3254063149.py:1: SettingWithCopyWarning: \n",
      "A value is trying to be set on a copy of a slice from a DataFrame.\n",
      "Try using .loc[row_indexer,col_indexer] = value instead\n",
      "\n",
      "See the caveats in the documentation: https://pandas.pydata.org/pandas-docs/stable/user_guide/indexing.html#returning-a-view-versus-a-copy\n",
      "  full_names_participant['TEAM_NAME'] = full_names_participant['p1_full']\n"
     ]
    }
   ],
   "source": [
    "full_names_participant['TEAM_NAME'] = full_names_participant['p1_full']"
   ]
  },
  {
   "cell_type": "code",
   "execution_count": 152,
   "id": "c1d9faf8-1545-4be4-9fb4-1af66a2d5806",
   "metadata": {},
   "outputs": [],
   "source": [
    "full_temp = full_names_participant[['participant id','TEAM_NAME']]"
   ]
  },
  {
   "cell_type": "code",
   "execution_count": 163,
   "id": "ce511c33-8802-48f9-80ce-b31bc9593081",
   "metadata": {},
   "outputs": [],
   "source": [
    "full_name_abb = pd.merge(full_temp, df_teamnames, on='TEAM_NAME').drop_duplicates('participant id')"
   ]
  },
  {
   "cell_type": "code",
   "execution_count": 165,
   "id": "87d90c2f-cc11-4f5e-bb5a-9798896bbb7e",
   "metadata": {},
   "outputs": [],
   "source": [
    "full_name_abb.to_pickle('../data/pkl/sbr_participant_id_name.pkl')"
   ]
  },
  {
   "cell_type": "code",
   "execution_count": null,
   "id": "3402aa46-7a8b-45f2-b02a-9cc74693e8c0",
   "metadata": {},
   "outputs": [],
   "source": [
    "'Team Durant East Team Durant East', 'Team LeBron  LeBron',\n",
    "       'Team LeBron LeBron', 'Team World World', 'Team Giannis Giannis','nan'"
   ]
  },
  {
   "cell_type": "code",
   "execution_count": 153,
   "id": "718b06bf-47c2-4cf5-8bd3-abb30d7bb140",
   "metadata": {},
   "outputs": [
    {
     "data": {
      "text/html": [
       "<div>\n",
       "<style scoped>\n",
       "    .dataframe tbody tr th:only-of-type {\n",
       "        vertical-align: middle;\n",
       "    }\n",
       "\n",
       "    .dataframe tbody tr th {\n",
       "        vertical-align: top;\n",
       "    }\n",
       "\n",
       "    .dataframe thead th {\n",
       "        text-align: right;\n",
       "    }\n",
       "</style>\n",
       "<table border=\"1\" class=\"dataframe\">\n",
       "  <thead>\n",
       "    <tr style=\"text-align: right;\">\n",
       "      <th></th>\n",
       "      <th>TEAM_NAME</th>\n",
       "      <th>TEAM_ABBREVIATION</th>\n",
       "    </tr>\n",
       "  </thead>\n",
       "  <tbody>\n",
       "    <tr>\n",
       "      <th>0</th>\n",
       "      <td>Atlanta Hawks</td>\n",
       "      <td>ATL</td>\n",
       "    </tr>\n",
       "    <tr>\n",
       "      <th>1</th>\n",
       "      <td>Atlanta Hawks</td>\n",
       "      <td>ATL</td>\n",
       "    </tr>\n",
       "    <tr>\n",
       "      <th>2</th>\n",
       "      <td>Atlanta Hawks</td>\n",
       "      <td>ATL</td>\n",
       "    </tr>\n",
       "    <tr>\n",
       "      <th>3</th>\n",
       "      <td>Atlanta Hawks</td>\n",
       "      <td>ATL</td>\n",
       "    </tr>\n",
       "    <tr>\n",
       "      <th>4</th>\n",
       "      <td>Atlanta Hawks</td>\n",
       "      <td>ATL</td>\n",
       "    </tr>\n",
       "    <tr>\n",
       "      <th>...</th>\n",
       "      <td>...</td>\n",
       "      <td>...</td>\n",
       "    </tr>\n",
       "    <tr>\n",
       "      <th>426</th>\n",
       "      <td>Charlotte Hornets</td>\n",
       "      <td>CHA</td>\n",
       "    </tr>\n",
       "    <tr>\n",
       "      <th>427</th>\n",
       "      <td>Charlotte Hornets</td>\n",
       "      <td>CHA</td>\n",
       "    </tr>\n",
       "    <tr>\n",
       "      <th>428</th>\n",
       "      <td>Charlotte Hornets</td>\n",
       "      <td>CHA</td>\n",
       "    </tr>\n",
       "    <tr>\n",
       "      <th>429</th>\n",
       "      <td>Charlotte Hornets</td>\n",
       "      <td>CHA</td>\n",
       "    </tr>\n",
       "    <tr>\n",
       "      <th>430</th>\n",
       "      <td>Charlotte Hornets</td>\n",
       "      <td>CHA</td>\n",
       "    </tr>\n",
       "  </tbody>\n",
       "</table>\n",
       "<p>13700 rows × 2 columns</p>\n",
       "</div>"
      ],
      "text/plain": [
       "             TEAM_NAME TEAM_ABBREVIATION\n",
       "0        Atlanta Hawks               ATL\n",
       "1        Atlanta Hawks               ATL\n",
       "2        Atlanta Hawks               ATL\n",
       "3        Atlanta Hawks               ATL\n",
       "4        Atlanta Hawks               ATL\n",
       "..                 ...               ...\n",
       "426  Charlotte Hornets               CHA\n",
       "427  Charlotte Hornets               CHA\n",
       "428  Charlotte Hornets               CHA\n",
       "429  Charlotte Hornets               CHA\n",
       "430  Charlotte Hornets               CHA\n",
       "\n",
       "[13700 rows x 2 columns]"
      ]
     },
     "execution_count": 153,
     "metadata": {},
     "output_type": "execute_result"
    }
   ],
   "source": [
    "df_teamnames"
   ]
  },
  {
   "cell_type": "code",
   "execution_count": 200,
   "id": "64e555c2-481c-497b-b881-d550ea634326",
   "metadata": {},
   "outputs": [],
   "source": [
    "df_nba = pd.read_pickle('../data/pkl/raw_games_5yrs.pkl')"
   ]
  },
  {
   "cell_type": "code",
   "execution_count": 201,
   "id": "e2f245c3-ab13-4812-90c0-955435aa63a6",
   "metadata": {},
   "outputs": [
    {
     "data": {
      "text/plain": [
       "Index(['SEASON_ID', 'TEAM_ID', 'TEAM_ABBREVIATION', 'TEAM_NAME', 'GAME_ID',\n",
       "       'GAME_DATE', 'MATCHUP', 'WL', 'MIN', 'PTS', 'FGM', 'FGA', 'FG_PCT',\n",
       "       'FG3M', 'FG3A', 'FG3_PCT', 'FTM', 'FTA', 'FT_PCT', 'OREB', 'DREB',\n",
       "       'REB', 'AST', 'STL', 'BLK', 'TOV', 'PF', 'PLUS_MINUS', 'HOME_TEAM'],\n",
       "      dtype='object')"
      ]
     },
     "execution_count": 201,
     "metadata": {},
     "output_type": "execute_result"
    }
   ],
   "source": [
    "df_nba.columns"
   ]
  },
  {
   "cell_type": "code",
   "execution_count": 202,
   "id": "70c33104-9cac-4dbf-bbbc-c2fe399a6784",
   "metadata": {},
   "outputs": [
    {
     "data": {
      "text/html": [
       "<div>\n",
       "<style scoped>\n",
       "    .dataframe tbody tr th:only-of-type {\n",
       "        vertical-align: middle;\n",
       "    }\n",
       "\n",
       "    .dataframe tbody tr th {\n",
       "        vertical-align: top;\n",
       "    }\n",
       "\n",
       "    .dataframe thead th {\n",
       "        text-align: right;\n",
       "    }\n",
       "</style>\n",
       "<table border=\"1\" class=\"dataframe\">\n",
       "  <thead>\n",
       "    <tr style=\"text-align: right;\">\n",
       "      <th></th>\n",
       "      <th>SEASON_ID</th>\n",
       "      <th>TEAM_ID</th>\n",
       "      <th>TEAM_ABBREVIATION</th>\n",
       "      <th>TEAM_NAME</th>\n",
       "      <th>GAME_ID</th>\n",
       "      <th>GAME_DATE</th>\n",
       "      <th>MATCHUP</th>\n",
       "      <th>WL</th>\n",
       "      <th>MIN</th>\n",
       "      <th>PTS</th>\n",
       "      <th>...</th>\n",
       "      <th>OREB</th>\n",
       "      <th>DREB</th>\n",
       "      <th>REB</th>\n",
       "      <th>AST</th>\n",
       "      <th>STL</th>\n",
       "      <th>BLK</th>\n",
       "      <th>TOV</th>\n",
       "      <th>PF</th>\n",
       "      <th>PLUS_MINUS</th>\n",
       "      <th>HOME_TEAM</th>\n",
       "    </tr>\n",
       "  </thead>\n",
       "  <tbody>\n",
       "    <tr>\n",
       "      <th>0</th>\n",
       "      <td>22022</td>\n",
       "      <td>1610612737</td>\n",
       "      <td>ATL</td>\n",
       "      <td>Atlanta Hawks</td>\n",
       "      <td>22200958</td>\n",
       "      <td>2023-03-04</td>\n",
       "      <td>ATL @ MIA</td>\n",
       "      <td>L</td>\n",
       "      <td>239</td>\n",
       "      <td>109</td>\n",
       "      <td>...</td>\n",
       "      <td>10.0</td>\n",
       "      <td>27.0</td>\n",
       "      <td>37.0</td>\n",
       "      <td>22</td>\n",
       "      <td>12.0</td>\n",
       "      <td>1</td>\n",
       "      <td>16</td>\n",
       "      <td>23</td>\n",
       "      <td>-8.0</td>\n",
       "      <td>0</td>\n",
       "    </tr>\n",
       "    <tr>\n",
       "      <th>1</th>\n",
       "      <td>22022</td>\n",
       "      <td>1610612737</td>\n",
       "      <td>ATL</td>\n",
       "      <td>Atlanta Hawks</td>\n",
       "      <td>22200947</td>\n",
       "      <td>2023-03-03</td>\n",
       "      <td>ATL vs. POR</td>\n",
       "      <td>W</td>\n",
       "      <td>239</td>\n",
       "      <td>129</td>\n",
       "      <td>...</td>\n",
       "      <td>10.0</td>\n",
       "      <td>33.0</td>\n",
       "      <td>43.0</td>\n",
       "      <td>30</td>\n",
       "      <td>10.0</td>\n",
       "      <td>5</td>\n",
       "      <td>17</td>\n",
       "      <td>19</td>\n",
       "      <td>18.0</td>\n",
       "      <td>1</td>\n",
       "    </tr>\n",
       "    <tr>\n",
       "      <th>2</th>\n",
       "      <td>22022</td>\n",
       "      <td>1610612737</td>\n",
       "      <td>ATL</td>\n",
       "      <td>Atlanta Hawks</td>\n",
       "      <td>22200923</td>\n",
       "      <td>2023-02-28</td>\n",
       "      <td>ATL vs. WAS</td>\n",
       "      <td>L</td>\n",
       "      <td>239</td>\n",
       "      <td>116</td>\n",
       "      <td>...</td>\n",
       "      <td>13.0</td>\n",
       "      <td>29.0</td>\n",
       "      <td>42.0</td>\n",
       "      <td>21</td>\n",
       "      <td>4.0</td>\n",
       "      <td>7</td>\n",
       "      <td>9</td>\n",
       "      <td>17</td>\n",
       "      <td>-3.0</td>\n",
       "      <td>1</td>\n",
       "    </tr>\n",
       "    <tr>\n",
       "      <th>3</th>\n",
       "      <td>22022</td>\n",
       "      <td>1610612737</td>\n",
       "      <td>ATL</td>\n",
       "      <td>Atlanta Hawks</td>\n",
       "      <td>22200911</td>\n",
       "      <td>2023-02-26</td>\n",
       "      <td>ATL vs. BKN</td>\n",
       "      <td>W</td>\n",
       "      <td>240</td>\n",
       "      <td>129</td>\n",
       "      <td>...</td>\n",
       "      <td>13.0</td>\n",
       "      <td>33.0</td>\n",
       "      <td>46.0</td>\n",
       "      <td>20</td>\n",
       "      <td>7.0</td>\n",
       "      <td>2</td>\n",
       "      <td>15</td>\n",
       "      <td>18</td>\n",
       "      <td>2.0</td>\n",
       "      <td>1</td>\n",
       "    </tr>\n",
       "    <tr>\n",
       "      <th>4</th>\n",
       "      <td>22022</td>\n",
       "      <td>1610612737</td>\n",
       "      <td>ATL</td>\n",
       "      <td>Atlanta Hawks</td>\n",
       "      <td>22200896</td>\n",
       "      <td>2023-02-24</td>\n",
       "      <td>ATL vs. CLE</td>\n",
       "      <td>W</td>\n",
       "      <td>240</td>\n",
       "      <td>136</td>\n",
       "      <td>...</td>\n",
       "      <td>5.0</td>\n",
       "      <td>37.0</td>\n",
       "      <td>42.0</td>\n",
       "      <td>28</td>\n",
       "      <td>7.0</td>\n",
       "      <td>8</td>\n",
       "      <td>14</td>\n",
       "      <td>21</td>\n",
       "      <td>17.0</td>\n",
       "      <td>1</td>\n",
       "    </tr>\n",
       "    <tr>\n",
       "      <th>...</th>\n",
       "      <td>...</td>\n",
       "      <td>...</td>\n",
       "      <td>...</td>\n",
       "      <td>...</td>\n",
       "      <td>...</td>\n",
       "      <td>...</td>\n",
       "      <td>...</td>\n",
       "      <td>...</td>\n",
       "      <td>...</td>\n",
       "      <td>...</td>\n",
       "      <td>...</td>\n",
       "      <td>...</td>\n",
       "      <td>...</td>\n",
       "      <td>...</td>\n",
       "      <td>...</td>\n",
       "      <td>...</td>\n",
       "      <td>...</td>\n",
       "      <td>...</td>\n",
       "      <td>...</td>\n",
       "      <td>...</td>\n",
       "      <td>...</td>\n",
       "    </tr>\n",
       "    <tr>\n",
       "      <th>426</th>\n",
       "      <td>22017</td>\n",
       "      <td>1610612766</td>\n",
       "      <td>CHA</td>\n",
       "      <td>Charlotte Hornets</td>\n",
       "      <td>21701021</td>\n",
       "      <td>2018-03-15</td>\n",
       "      <td>CHA @ ATL</td>\n",
       "      <td>W</td>\n",
       "      <td>239</td>\n",
       "      <td>129</td>\n",
       "      <td>...</td>\n",
       "      <td>6.0</td>\n",
       "      <td>39.0</td>\n",
       "      <td>45.0</td>\n",
       "      <td>30</td>\n",
       "      <td>3.0</td>\n",
       "      <td>3</td>\n",
       "      <td>10</td>\n",
       "      <td>21</td>\n",
       "      <td>12.0</td>\n",
       "      <td>0</td>\n",
       "    </tr>\n",
       "    <tr>\n",
       "      <th>427</th>\n",
       "      <td>22017</td>\n",
       "      <td>1610612766</td>\n",
       "      <td>CHA</td>\n",
       "      <td>Charlotte Hornets</td>\n",
       "      <td>21701011</td>\n",
       "      <td>2018-03-13</td>\n",
       "      <td>CHA @ NOP</td>\n",
       "      <td>L</td>\n",
       "      <td>241</td>\n",
       "      <td>115</td>\n",
       "      <td>...</td>\n",
       "      <td>8.0</td>\n",
       "      <td>37.0</td>\n",
       "      <td>45.0</td>\n",
       "      <td>22</td>\n",
       "      <td>8.0</td>\n",
       "      <td>9</td>\n",
       "      <td>13</td>\n",
       "      <td>13</td>\n",
       "      <td>-4.0</td>\n",
       "      <td>0</td>\n",
       "    </tr>\n",
       "    <tr>\n",
       "      <th>428</th>\n",
       "      <td>22017</td>\n",
       "      <td>1610612766</td>\n",
       "      <td>CHA</td>\n",
       "      <td>Charlotte Hornets</td>\n",
       "      <td>21700987</td>\n",
       "      <td>2018-03-10</td>\n",
       "      <td>CHA vs. PHX</td>\n",
       "      <td>W</td>\n",
       "      <td>239</td>\n",
       "      <td>122</td>\n",
       "      <td>...</td>\n",
       "      <td>7.0</td>\n",
       "      <td>34.0</td>\n",
       "      <td>41.0</td>\n",
       "      <td>24</td>\n",
       "      <td>11.0</td>\n",
       "      <td>5</td>\n",
       "      <td>12</td>\n",
       "      <td>18</td>\n",
       "      <td>5.0</td>\n",
       "      <td>1</td>\n",
       "    </tr>\n",
       "    <tr>\n",
       "      <th>429</th>\n",
       "      <td>22017</td>\n",
       "      <td>1610612766</td>\n",
       "      <td>CHA</td>\n",
       "      <td>Charlotte Hornets</td>\n",
       "      <td>21700972</td>\n",
       "      <td>2018-03-08</td>\n",
       "      <td>CHA vs. BKN</td>\n",
       "      <td>L</td>\n",
       "      <td>241</td>\n",
       "      <td>111</td>\n",
       "      <td>...</td>\n",
       "      <td>6.0</td>\n",
       "      <td>30.0</td>\n",
       "      <td>36.0</td>\n",
       "      <td>19</td>\n",
       "      <td>5.0</td>\n",
       "      <td>5</td>\n",
       "      <td>13</td>\n",
       "      <td>21</td>\n",
       "      <td>-11.0</td>\n",
       "      <td>1</td>\n",
       "    </tr>\n",
       "    <tr>\n",
       "      <th>430</th>\n",
       "      <td>22017</td>\n",
       "      <td>1610612766</td>\n",
       "      <td>CHA</td>\n",
       "      <td>Charlotte Hornets</td>\n",
       "      <td>21700957</td>\n",
       "      <td>2018-03-06</td>\n",
       "      <td>CHA vs. PHI</td>\n",
       "      <td>L</td>\n",
       "      <td>239</td>\n",
       "      <td>114</td>\n",
       "      <td>...</td>\n",
       "      <td>8.0</td>\n",
       "      <td>25.0</td>\n",
       "      <td>33.0</td>\n",
       "      <td>26</td>\n",
       "      <td>7.0</td>\n",
       "      <td>5</td>\n",
       "      <td>10</td>\n",
       "      <td>12</td>\n",
       "      <td>-14.0</td>\n",
       "      <td>1</td>\n",
       "    </tr>\n",
       "  </tbody>\n",
       "</table>\n",
       "<p>13700 rows × 29 columns</p>\n",
       "</div>"
      ],
      "text/plain": [
       "    SEASON_ID     TEAM_ID TEAM_ABBREVIATION          TEAM_NAME   GAME_ID  \\\n",
       "0       22022  1610612737               ATL      Atlanta Hawks  22200958   \n",
       "1       22022  1610612737               ATL      Atlanta Hawks  22200947   \n",
       "2       22022  1610612737               ATL      Atlanta Hawks  22200923   \n",
       "3       22022  1610612737               ATL      Atlanta Hawks  22200911   \n",
       "4       22022  1610612737               ATL      Atlanta Hawks  22200896   \n",
       "..        ...         ...               ...                ...       ...   \n",
       "426     22017  1610612766               CHA  Charlotte Hornets  21701021   \n",
       "427     22017  1610612766               CHA  Charlotte Hornets  21701011   \n",
       "428     22017  1610612766               CHA  Charlotte Hornets  21700987   \n",
       "429     22017  1610612766               CHA  Charlotte Hornets  21700972   \n",
       "430     22017  1610612766               CHA  Charlotte Hornets  21700957   \n",
       "\n",
       "     GAME_DATE      MATCHUP WL  MIN  PTS  ...  OREB  DREB   REB  AST   STL  \\\n",
       "0   2023-03-04    ATL @ MIA  L  239  109  ...  10.0  27.0  37.0   22  12.0   \n",
       "1   2023-03-03  ATL vs. POR  W  239  129  ...  10.0  33.0  43.0   30  10.0   \n",
       "2   2023-02-28  ATL vs. WAS  L  239  116  ...  13.0  29.0  42.0   21   4.0   \n",
       "3   2023-02-26  ATL vs. BKN  W  240  129  ...  13.0  33.0  46.0   20   7.0   \n",
       "4   2023-02-24  ATL vs. CLE  W  240  136  ...   5.0  37.0  42.0   28   7.0   \n",
       "..         ...          ... ..  ...  ...  ...   ...   ...   ...  ...   ...   \n",
       "426 2018-03-15    CHA @ ATL  W  239  129  ...   6.0  39.0  45.0   30   3.0   \n",
       "427 2018-03-13    CHA @ NOP  L  241  115  ...   8.0  37.0  45.0   22   8.0   \n",
       "428 2018-03-10  CHA vs. PHX  W  239  122  ...   7.0  34.0  41.0   24  11.0   \n",
       "429 2018-03-08  CHA vs. BKN  L  241  111  ...   6.0  30.0  36.0   19   5.0   \n",
       "430 2018-03-06  CHA vs. PHI  L  239  114  ...   8.0  25.0  33.0   26   7.0   \n",
       "\n",
       "     BLK  TOV  PF  PLUS_MINUS  HOME_TEAM  \n",
       "0      1   16  23        -8.0          0  \n",
       "1      5   17  19        18.0          1  \n",
       "2      7    9  17        -3.0          1  \n",
       "3      2   15  18         2.0          1  \n",
       "4      8   14  21        17.0          1  \n",
       "..   ...  ...  ..         ...        ...  \n",
       "426    3   10  21        12.0          0  \n",
       "427    9   13  13        -4.0          0  \n",
       "428    5   12  18         5.0          1  \n",
       "429    5   13  21       -11.0          1  \n",
       "430    5   10  12       -14.0          1  \n",
       "\n",
       "[13700 rows x 29 columns]"
      ]
     },
     "execution_count": 202,
     "metadata": {},
     "output_type": "execute_result"
    }
   ],
   "source": [
    "df_nba"
   ]
  },
  {
   "cell_type": "code",
   "execution_count": null,
   "id": "9aa92d4e-331d-4ff2-b145-cacf922388cc",
   "metadata": {},
   "outputs": [],
   "source": []
  }
 ],
 "metadata": {
  "kernelspec": {
   "display_name": "Python 3 (ipykernel)",
   "language": "python",
   "name": "python3"
  },
  "language_info": {
   "codemirror_mode": {
    "name": "ipython",
    "version": 3
   },
   "file_extension": ".py",
   "mimetype": "text/x-python",
   "name": "python",
   "nbconvert_exporter": "python",
   "pygments_lexer": "ipython3",
   "version": "3.10.6"
  }
 },
 "nbformat": 4,
 "nbformat_minor": 5
}
