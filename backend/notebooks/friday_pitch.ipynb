{
 "cells": [
  {
   "cell_type": "code",
   "execution_count": 1,
   "id": "78908565-aa79-4400-a85c-e6edcb2b7761",
   "metadata": {},
   "outputs": [],
   "source": [
    "from xgboost import XGBRegressor\n",
    "import pandas as pd\n",
    "from sklearn.linear_model import Lasso\n",
    "from sklearn.model_selection import train_test_split\n",
    "from sklearn.model_selection import RandomizedSearchCV"
   ]
  },
  {
   "cell_type": "code",
   "execution_count": 2,
   "id": "a3b231fa-5e33-42c6-a286-c742e318e6c2",
   "metadata": {},
   "outputs": [],
   "source": [
    "import xgboost as xgb"
   ]
  },
  {
   "cell_type": "code",
   "execution_count": 3,
   "id": "51f8ec21-de60-45c7-94b4-2cec37d1d281",
   "metadata": {},
   "outputs": [],
   "source": [
    "from sklearn.metrics import mean_squared_error\n",
    "from sklearn.model_selection import cross_val_score\n",
    "from sklearn.metrics import r2_score\n",
    "import numpy as np\n",
    "from scipy.stats import randint"
   ]
  },
  {
   "cell_type": "code",
   "execution_count": 5,
   "id": "df04fcde-386e-4390-a07a-a2936fddd0d6",
   "metadata": {},
   "outputs": [],
   "source": [
    "df_train = pd.read_pickle(\"../data/pkl/X_PREPROC_ADVANCED_TEAM_ALL\")\n",
    "df_target = pd.read_pickle(\"../data/pkl/y_ADVANCED_TEAM_ALL\")"
   ]
  },
  {
   "cell_type": "code",
   "execution_count": 166,
   "id": "f55f45f6-b2c5-4812-93fa-4077de9ee232",
   "metadata": {},
   "outputs": [
    {
     "data": {
      "text/html": [
       "<div>\n",
       "<style scoped>\n",
       "    .dataframe tbody tr th:only-of-type {\n",
       "        vertical-align: middle;\n",
       "    }\n",
       "\n",
       "    .dataframe tbody tr th {\n",
       "        vertical-align: top;\n",
       "    }\n",
       "\n",
       "    .dataframe thead th {\n",
       "        text-align: right;\n",
       "    }\n",
       "</style>\n",
       "<table border=\"1\" class=\"dataframe\">\n",
       "  <thead>\n",
       "    <tr style=\"text-align: right;\">\n",
       "      <th></th>\n",
       "      <th>NET_RATING_Roll_mean_h</th>\n",
       "      <th>OFF_RATING_Roll_median_h</th>\n",
       "      <th>DEF_RATING_Roll_median_h</th>\n",
       "      <th>NET_RATING_Roll_median_h</th>\n",
       "      <th>TM_TOV_PCT_Roll_median_h</th>\n",
       "      <th>EFG_PCT_Roll_median_h</th>\n",
       "      <th>TS_PCT_Roll_median_h</th>\n",
       "      <th>POSS_Roll_median_h</th>\n",
       "      <th>OFF_RATING_Roll_std_h</th>\n",
       "      <th>DEF_RATING_Roll_std_h</th>\n",
       "      <th>...</th>\n",
       "      <th>OKC_a</th>\n",
       "      <th>ORL_a</th>\n",
       "      <th>PHI_a</th>\n",
       "      <th>PHX_a</th>\n",
       "      <th>POR_a</th>\n",
       "      <th>SAC_a</th>\n",
       "      <th>SAS_a</th>\n",
       "      <th>TOR_a</th>\n",
       "      <th>UTA_a</th>\n",
       "      <th>WAS_a</th>\n",
       "    </tr>\n",
       "  </thead>\n",
       "  <tbody>\n",
       "    <tr>\n",
       "      <th>0</th>\n",
       "      <td>0.382353</td>\n",
       "      <td>0.479167</td>\n",
       "      <td>0.537205</td>\n",
       "      <td>0.439065</td>\n",
       "      <td>0.447674</td>\n",
       "      <td>0.445578</td>\n",
       "      <td>0.460145</td>\n",
       "      <td>0.600000</td>\n",
       "      <td>0.460567</td>\n",
       "      <td>0.147198</td>\n",
       "      <td>...</td>\n",
       "      <td>0.0</td>\n",
       "      <td>0.0</td>\n",
       "      <td>0.0</td>\n",
       "      <td>0.0</td>\n",
       "      <td>0.0</td>\n",
       "      <td>0.0</td>\n",
       "      <td>0.0</td>\n",
       "      <td>0.0</td>\n",
       "      <td>0.0</td>\n",
       "      <td>0.0</td>\n",
       "    </tr>\n",
       "    <tr>\n",
       "      <th>1</th>\n",
       "      <td>0.308415</td>\n",
       "      <td>0.532197</td>\n",
       "      <td>0.620690</td>\n",
       "      <td>0.405676</td>\n",
       "      <td>0.482558</td>\n",
       "      <td>0.527211</td>\n",
       "      <td>0.601449</td>\n",
       "      <td>0.733333</td>\n",
       "      <td>0.723678</td>\n",
       "      <td>0.425281</td>\n",
       "      <td>...</td>\n",
       "      <td>0.0</td>\n",
       "      <td>0.0</td>\n",
       "      <td>0.0</td>\n",
       "      <td>0.0</td>\n",
       "      <td>0.0</td>\n",
       "      <td>0.0</td>\n",
       "      <td>0.0</td>\n",
       "      <td>0.0</td>\n",
       "      <td>0.0</td>\n",
       "      <td>0.0</td>\n",
       "    </tr>\n",
       "    <tr>\n",
       "      <th>2</th>\n",
       "      <td>0.384804</td>\n",
       "      <td>0.501894</td>\n",
       "      <td>0.477314</td>\n",
       "      <td>0.472454</td>\n",
       "      <td>0.389535</td>\n",
       "      <td>0.500000</td>\n",
       "      <td>0.474638</td>\n",
       "      <td>0.500000</td>\n",
       "      <td>0.395309</td>\n",
       "      <td>0.134567</td>\n",
       "      <td>...</td>\n",
       "      <td>0.0</td>\n",
       "      <td>0.0</td>\n",
       "      <td>0.0</td>\n",
       "      <td>0.0</td>\n",
       "      <td>0.0</td>\n",
       "      <td>0.0</td>\n",
       "      <td>0.0</td>\n",
       "      <td>0.0</td>\n",
       "      <td>0.0</td>\n",
       "      <td>0.0</td>\n",
       "    </tr>\n",
       "    <tr>\n",
       "      <th>3</th>\n",
       "      <td>0.517565</td>\n",
       "      <td>0.615530</td>\n",
       "      <td>0.535390</td>\n",
       "      <td>0.405676</td>\n",
       "      <td>0.261628</td>\n",
       "      <td>0.595238</td>\n",
       "      <td>0.561594</td>\n",
       "      <td>0.733333</td>\n",
       "      <td>0.234960</td>\n",
       "      <td>0.361292</td>\n",
       "      <td>...</td>\n",
       "      <td>0.0</td>\n",
       "      <td>0.0</td>\n",
       "      <td>0.0</td>\n",
       "      <td>0.0</td>\n",
       "      <td>0.0</td>\n",
       "      <td>0.0</td>\n",
       "      <td>0.0</td>\n",
       "      <td>0.0</td>\n",
       "      <td>1.0</td>\n",
       "      <td>0.0</td>\n",
       "    </tr>\n",
       "    <tr>\n",
       "      <th>4</th>\n",
       "      <td>0.406046</td>\n",
       "      <td>0.515152</td>\n",
       "      <td>0.615245</td>\n",
       "      <td>0.230384</td>\n",
       "      <td>0.383721</td>\n",
       "      <td>0.496599</td>\n",
       "      <td>0.423913</td>\n",
       "      <td>0.633333</td>\n",
       "      <td>0.467503</td>\n",
       "      <td>0.419964</td>\n",
       "      <td>...</td>\n",
       "      <td>0.0</td>\n",
       "      <td>0.0</td>\n",
       "      <td>0.0</td>\n",
       "      <td>0.0</td>\n",
       "      <td>0.0</td>\n",
       "      <td>0.0</td>\n",
       "      <td>1.0</td>\n",
       "      <td>0.0</td>\n",
       "      <td>0.0</td>\n",
       "      <td>0.0</td>\n",
       "    </tr>\n",
       "    <tr>\n",
       "      <th>...</th>\n",
       "      <td>...</td>\n",
       "      <td>...</td>\n",
       "      <td>...</td>\n",
       "      <td>...</td>\n",
       "      <td>...</td>\n",
       "      <td>...</td>\n",
       "      <td>...</td>\n",
       "      <td>...</td>\n",
       "      <td>...</td>\n",
       "      <td>...</td>\n",
       "      <td>...</td>\n",
       "      <td>...</td>\n",
       "      <td>...</td>\n",
       "      <td>...</td>\n",
       "      <td>...</td>\n",
       "      <td>...</td>\n",
       "      <td>...</td>\n",
       "      <td>...</td>\n",
       "      <td>...</td>\n",
       "      <td>...</td>\n",
       "      <td>...</td>\n",
       "    </tr>\n",
       "    <tr>\n",
       "      <th>5881</th>\n",
       "      <td>0.533097</td>\n",
       "      <td>0.536765</td>\n",
       "      <td>0.472000</td>\n",
       "      <td>0.360215</td>\n",
       "      <td>0.351648</td>\n",
       "      <td>0.530534</td>\n",
       "      <td>0.553279</td>\n",
       "      <td>0.527778</td>\n",
       "      <td>0.437692</td>\n",
       "      <td>0.517513</td>\n",
       "      <td>...</td>\n",
       "      <td>0.0</td>\n",
       "      <td>0.0</td>\n",
       "      <td>0.0</td>\n",
       "      <td>0.0</td>\n",
       "      <td>0.0</td>\n",
       "      <td>0.0</td>\n",
       "      <td>0.0</td>\n",
       "      <td>0.0</td>\n",
       "      <td>1.0</td>\n",
       "      <td>0.0</td>\n",
       "    </tr>\n",
       "    <tr>\n",
       "      <th>5882</th>\n",
       "      <td>0.661947</td>\n",
       "      <td>0.740809</td>\n",
       "      <td>0.564800</td>\n",
       "      <td>0.648746</td>\n",
       "      <td>0.351648</td>\n",
       "      <td>0.530534</td>\n",
       "      <td>0.655738</td>\n",
       "      <td>0.611111</td>\n",
       "      <td>0.478922</td>\n",
       "      <td>0.202311</td>\n",
       "      <td>...</td>\n",
       "      <td>0.0</td>\n",
       "      <td>0.0</td>\n",
       "      <td>0.0</td>\n",
       "      <td>0.0</td>\n",
       "      <td>0.0</td>\n",
       "      <td>0.0</td>\n",
       "      <td>0.0</td>\n",
       "      <td>0.0</td>\n",
       "      <td>0.0</td>\n",
       "      <td>0.0</td>\n",
       "    </tr>\n",
       "    <tr>\n",
       "      <th>5883</th>\n",
       "      <td>0.391504</td>\n",
       "      <td>0.573529</td>\n",
       "      <td>0.651200</td>\n",
       "      <td>0.302867</td>\n",
       "      <td>0.296703</td>\n",
       "      <td>0.320611</td>\n",
       "      <td>0.397541</td>\n",
       "      <td>0.666667</td>\n",
       "      <td>0.285387</td>\n",
       "      <td>0.334836</td>\n",
       "      <td>...</td>\n",
       "      <td>0.0</td>\n",
       "      <td>0.0</td>\n",
       "      <td>0.0</td>\n",
       "      <td>0.0</td>\n",
       "      <td>0.0</td>\n",
       "      <td>0.0</td>\n",
       "      <td>0.0</td>\n",
       "      <td>0.0</td>\n",
       "      <td>0.0</td>\n",
       "      <td>0.0</td>\n",
       "    </tr>\n",
       "    <tr>\n",
       "      <th>5884</th>\n",
       "      <td>0.571327</td>\n",
       "      <td>0.678309</td>\n",
       "      <td>0.601600</td>\n",
       "      <td>0.577061</td>\n",
       "      <td>0.478022</td>\n",
       "      <td>0.564885</td>\n",
       "      <td>0.573770</td>\n",
       "      <td>0.611111</td>\n",
       "      <td>0.271794</td>\n",
       "      <td>0.295103</td>\n",
       "      <td>...</td>\n",
       "      <td>0.0</td>\n",
       "      <td>0.0</td>\n",
       "      <td>0.0</td>\n",
       "      <td>0.0</td>\n",
       "      <td>0.0</td>\n",
       "      <td>0.0</td>\n",
       "      <td>0.0</td>\n",
       "      <td>0.0</td>\n",
       "      <td>0.0</td>\n",
       "      <td>0.0</td>\n",
       "    </tr>\n",
       "    <tr>\n",
       "      <th>5885</th>\n",
       "      <td>0.575929</td>\n",
       "      <td>0.823529</td>\n",
       "      <td>0.545600</td>\n",
       "      <td>0.650538</td>\n",
       "      <td>0.538462</td>\n",
       "      <td>0.354962</td>\n",
       "      <td>0.413934</td>\n",
       "      <td>0.333333</td>\n",
       "      <td>0.736908</td>\n",
       "      <td>0.138833</td>\n",
       "      <td>...</td>\n",
       "      <td>0.0</td>\n",
       "      <td>0.0</td>\n",
       "      <td>0.0</td>\n",
       "      <td>0.0</td>\n",
       "      <td>0.0</td>\n",
       "      <td>0.0</td>\n",
       "      <td>0.0</td>\n",
       "      <td>0.0</td>\n",
       "      <td>0.0</td>\n",
       "      <td>0.0</td>\n",
       "    </tr>\n",
       "  </tbody>\n",
       "</table>\n",
       "<p>5886 rows × 105 columns</p>\n",
       "</div>"
      ],
      "text/plain": [
       "      NET_RATING_Roll_mean_h  OFF_RATING_Roll_median_h  \\\n",
       "0                   0.382353                  0.479167   \n",
       "1                   0.308415                  0.532197   \n",
       "2                   0.384804                  0.501894   \n",
       "3                   0.517565                  0.615530   \n",
       "4                   0.406046                  0.515152   \n",
       "...                      ...                       ...   \n",
       "5881                0.533097                  0.536765   \n",
       "5882                0.661947                  0.740809   \n",
       "5883                0.391504                  0.573529   \n",
       "5884                0.571327                  0.678309   \n",
       "5885                0.575929                  0.823529   \n",
       "\n",
       "      DEF_RATING_Roll_median_h  NET_RATING_Roll_median_h  \\\n",
       "0                     0.537205                  0.439065   \n",
       "1                     0.620690                  0.405676   \n",
       "2                     0.477314                  0.472454   \n",
       "3                     0.535390                  0.405676   \n",
       "4                     0.615245                  0.230384   \n",
       "...                        ...                       ...   \n",
       "5881                  0.472000                  0.360215   \n",
       "5882                  0.564800                  0.648746   \n",
       "5883                  0.651200                  0.302867   \n",
       "5884                  0.601600                  0.577061   \n",
       "5885                  0.545600                  0.650538   \n",
       "\n",
       "      TM_TOV_PCT_Roll_median_h  EFG_PCT_Roll_median_h  TS_PCT_Roll_median_h  \\\n",
       "0                     0.447674               0.445578              0.460145   \n",
       "1                     0.482558               0.527211              0.601449   \n",
       "2                     0.389535               0.500000              0.474638   \n",
       "3                     0.261628               0.595238              0.561594   \n",
       "4                     0.383721               0.496599              0.423913   \n",
       "...                        ...                    ...                   ...   \n",
       "5881                  0.351648               0.530534              0.553279   \n",
       "5882                  0.351648               0.530534              0.655738   \n",
       "5883                  0.296703               0.320611              0.397541   \n",
       "5884                  0.478022               0.564885              0.573770   \n",
       "5885                  0.538462               0.354962              0.413934   \n",
       "\n",
       "      POSS_Roll_median_h  OFF_RATING_Roll_std_h  DEF_RATING_Roll_std_h  ...  \\\n",
       "0               0.600000               0.460567               0.147198  ...   \n",
       "1               0.733333               0.723678               0.425281  ...   \n",
       "2               0.500000               0.395309               0.134567  ...   \n",
       "3               0.733333               0.234960               0.361292  ...   \n",
       "4               0.633333               0.467503               0.419964  ...   \n",
       "...                  ...                    ...                    ...  ...   \n",
       "5881            0.527778               0.437692               0.517513  ...   \n",
       "5882            0.611111               0.478922               0.202311  ...   \n",
       "5883            0.666667               0.285387               0.334836  ...   \n",
       "5884            0.611111               0.271794               0.295103  ...   \n",
       "5885            0.333333               0.736908               0.138833  ...   \n",
       "\n",
       "      OKC_a  ORL_a  PHI_a  PHX_a  POR_a  SAC_a  SAS_a  TOR_a  UTA_a  WAS_a  \n",
       "0       0.0    0.0    0.0    0.0    0.0    0.0    0.0    0.0    0.0    0.0  \n",
       "1       0.0    0.0    0.0    0.0    0.0    0.0    0.0    0.0    0.0    0.0  \n",
       "2       0.0    0.0    0.0    0.0    0.0    0.0    0.0    0.0    0.0    0.0  \n",
       "3       0.0    0.0    0.0    0.0    0.0    0.0    0.0    0.0    1.0    0.0  \n",
       "4       0.0    0.0    0.0    0.0    0.0    0.0    1.0    0.0    0.0    0.0  \n",
       "...     ...    ...    ...    ...    ...    ...    ...    ...    ...    ...  \n",
       "5881    0.0    0.0    0.0    0.0    0.0    0.0    0.0    0.0    1.0    0.0  \n",
       "5882    0.0    0.0    0.0    0.0    0.0    0.0    0.0    0.0    0.0    0.0  \n",
       "5883    0.0    0.0    0.0    0.0    0.0    0.0    0.0    0.0    0.0    0.0  \n",
       "5884    0.0    0.0    0.0    0.0    0.0    0.0    0.0    0.0    0.0    0.0  \n",
       "5885    0.0    0.0    0.0    0.0    0.0    0.0    0.0    0.0    0.0    0.0  \n",
       "\n",
       "[5886 rows x 105 columns]"
      ]
     },
     "execution_count": 166,
     "metadata": {},
     "output_type": "execute_result"
    }
   ],
   "source": [
    "df_train"
   ]
  },
  {
   "cell_type": "code",
   "execution_count": 6,
   "id": "5bece2f1-b770-4bac-964f-ebbb706633f1",
   "metadata": {},
   "outputs": [],
   "source": [
    "columns_drop = ['OFF_RATING_h',\n",
    " 'DEF_RATING_h',\n",
    " 'NET_RATING_h',\n",
    " 'AST_PCT_h',\n",
    " 'AST_TOV_h',\n",
    " 'OREB_PCT_h',\n",
    " 'DREB_PCT_h',\n",
    " 'REB_PCT_h',\n",
    " 'TM_TOV_PCT_h',\n",
    " 'EFG_PCT_h',\n",
    " 'TS_PCT_h',\n",
    " 'PACE_h',\n",
    " 'POSS_h','OFF_RATING_a',\n",
    " 'DEF_RATING_a',\n",
    " 'NET_RATING_a',\n",
    " 'AST_PCT_a',\n",
    " 'AST_TOV_a',\n",
    " 'OREB_PCT_a',\n",
    " 'DREB_PCT_a',\n",
    " 'REB_PCT_a',\n",
    " 'TM_TOV_PCT_a',\n",
    " 'EFG_PCT_a',\n",
    " 'TS_PCT_a',\n",
    " 'PACE_a',\n",
    " 'POSS_a', 'AST_PCT_Roll_std_h',\n",
    " 'AST_PCT_Roll_median_a',\n",
    " 'REB_PCT_Roll_std_h',\n",
    " 'TM_TOV_PCT_Roll_std_h',\n",
    " 'AST_PCT_Roll_std_a',\n",
    " 'OREB_PCT_Roll_median_h',\n",
    " 'OREB_PCT_Roll_std_a',\n",
    " 'EFG_PCT_Roll_std_h',\n",
    " 'POSS_Roll_std_a',\n",
    " 'AST_TOV_Roll_median_h',\n",
    " 'OREB_PCT_Roll_median_a',\n",
    " 'AST_PCT_Roll_mean_a',\n",
    " 'OREB_PCT_Roll_std_h',\n",
    " 'AST_TOV_Roll_std_a',\n",
    " 'PACE_Roll_std_h',\n",
    " 'DREB_PCT_Roll_std_h',\n",
    " 'REB_PCT_Roll_median_h',\n",
    " 'PACE_Roll_median_h',\n",
    " 'TS_PCT_Roll_mean_h',\n",
    " 'REB_PCT_Roll_mean_h',\n",
    " 'POSS_Roll_mean_h',\n",
    " 'AST_PCT_Roll_median_h',\n",
    " 'EFG_PCT_Roll_median_a',\n",
    " 'DREB_PCT_Roll_median_h',\n",
    " 'EFG_PCT_Roll_mean_h',\n",
    " 'PACE_Roll_mean_h',\n",
    " 'TM_TOV_PCT_Roll_mean_h',\n",
    " 'DREB_PCT_Roll_mean_h',\n",
    " 'OREB_PCT_Roll_mean_h',\n",
    " 'AST_TOV_Roll_mean_h',\n",
    " 'AST_PCT_Roll_mean_h',\n",
    " 'DEF_RATING_Roll_mean_h',\n",
    " 'OFF_RATING_Roll_mean_h']"
   ]
  },
  {
   "cell_type": "code",
   "execution_count": 8,
   "id": "bbb11e11-68e6-466d-b84a-fe8bf0c524ee",
   "metadata": {},
   "outputs": [],
   "source": [
    "df_train = df_train.drop(columns_drop, axis=1)"
   ]
  },
  {
   "cell_type": "code",
   "execution_count": 10,
   "id": "7b119c34-5470-4d0b-b174-06f5cb5434d9",
   "metadata": {},
   "outputs": [],
   "source": [
    "X_train, X_test, y_train, y_test = train_test_split(df_train, df_target, random_state=0, test_size=0.3)"
   ]
  },
  {
   "cell_type": "code",
   "execution_count": 16,
   "id": "478ea228-00c7-4a61-8c76-2f798f145d6c",
   "metadata": {},
   "outputs": [],
   "source": [
    "from sklearn.preprocessing import MinMaxScaler\n",
    "scaler = MinMaxScaler()\n",
    "y_train = scaler.fit_transform(np.array(y_train).reshape(-1, 1))\n",
    "y_test = scaler.transform(np.array(y_test).reshape(-1, 1))"
   ]
  },
  {
   "cell_type": "code",
   "execution_count": 25,
   "id": "3468d1ee-42f2-4aa0-a3e4-587c7ea54046",
   "metadata": {},
   "outputs": [
    {
     "data": {
      "text/plain": [
       "array([[0.58156028],\n",
       "       [0.36879433],\n",
       "       [0.67375887],\n",
       "       ...,\n",
       "       [0.59574468],\n",
       "       [0.34042553],\n",
       "       [0.59574468]])"
      ]
     },
     "execution_count": 25,
     "metadata": {},
     "output_type": "execute_result"
    }
   ],
   "source": [
    "y_train"
   ]
  },
  {
   "cell_type": "code",
   "execution_count": 18,
   "id": "98d48327-08cb-432d-9021-13064553a671",
   "metadata": {},
   "outputs": [],
   "source": [
    "dtrain_reg = xgb.DMatrix(X_train, y_train)\n",
    "dtest_reg = xgb.DMatrix(X_test, y_test)"
   ]
  },
  {
   "cell_type": "code",
   "execution_count": 19,
   "id": "f89c58f7-173a-4375-862a-b5e15560f477",
   "metadata": {},
   "outputs": [],
   "source": [
    "xg_model = XGBRegressor(subsample= 0.39, reg_lambda= 0.028299,reg_alpha=0.033299, objective= 'reg:pseudohubererror', n_estimators= 650, max_depth=32, \n",
    "                        learning_rate = 0.021399, huber_slope=4.56, n_jobs=-1)"
   ]
  },
  {
   "cell_type": "code",
   "execution_count": 20,
   "id": "be039414-86de-4b15-a5c3-92f68da24cf8",
   "metadata": {},
   "outputs": [
    {
     "data": {
      "text/html": [
       "<style>#sk-container-id-1 {color: black;background-color: white;}#sk-container-id-1 pre{padding: 0;}#sk-container-id-1 div.sk-toggleable {background-color: white;}#sk-container-id-1 label.sk-toggleable__label {cursor: pointer;display: block;width: 100%;margin-bottom: 0;padding: 0.3em;box-sizing: border-box;text-align: center;}#sk-container-id-1 label.sk-toggleable__label-arrow:before {content: \"▸\";float: left;margin-right: 0.25em;color: #696969;}#sk-container-id-1 label.sk-toggleable__label-arrow:hover:before {color: black;}#sk-container-id-1 div.sk-estimator:hover label.sk-toggleable__label-arrow:before {color: black;}#sk-container-id-1 div.sk-toggleable__content {max-height: 0;max-width: 0;overflow: hidden;text-align: left;background-color: #f0f8ff;}#sk-container-id-1 div.sk-toggleable__content pre {margin: 0.2em;color: black;border-radius: 0.25em;background-color: #f0f8ff;}#sk-container-id-1 input.sk-toggleable__control:checked~div.sk-toggleable__content {max-height: 200px;max-width: 100%;overflow: auto;}#sk-container-id-1 input.sk-toggleable__control:checked~label.sk-toggleable__label-arrow:before {content: \"▾\";}#sk-container-id-1 div.sk-estimator input.sk-toggleable__control:checked~label.sk-toggleable__label {background-color: #d4ebff;}#sk-container-id-1 div.sk-label input.sk-toggleable__control:checked~label.sk-toggleable__label {background-color: #d4ebff;}#sk-container-id-1 input.sk-hidden--visually {border: 0;clip: rect(1px 1px 1px 1px);clip: rect(1px, 1px, 1px, 1px);height: 1px;margin: -1px;overflow: hidden;padding: 0;position: absolute;width: 1px;}#sk-container-id-1 div.sk-estimator {font-family: monospace;background-color: #f0f8ff;border: 1px dotted black;border-radius: 0.25em;box-sizing: border-box;margin-bottom: 0.5em;}#sk-container-id-1 div.sk-estimator:hover {background-color: #d4ebff;}#sk-container-id-1 div.sk-parallel-item::after {content: \"\";width: 100%;border-bottom: 1px solid gray;flex-grow: 1;}#sk-container-id-1 div.sk-label:hover label.sk-toggleable__label {background-color: #d4ebff;}#sk-container-id-1 div.sk-serial::before {content: \"\";position: absolute;border-left: 1px solid gray;box-sizing: border-box;top: 0;bottom: 0;left: 50%;z-index: 0;}#sk-container-id-1 div.sk-serial {display: flex;flex-direction: column;align-items: center;background-color: white;padding-right: 0.2em;padding-left: 0.2em;position: relative;}#sk-container-id-1 div.sk-item {position: relative;z-index: 1;}#sk-container-id-1 div.sk-parallel {display: flex;align-items: stretch;justify-content: center;background-color: white;position: relative;}#sk-container-id-1 div.sk-item::before, #sk-container-id-1 div.sk-parallel-item::before {content: \"\";position: absolute;border-left: 1px solid gray;box-sizing: border-box;top: 0;bottom: 0;left: 50%;z-index: -1;}#sk-container-id-1 div.sk-parallel-item {display: flex;flex-direction: column;z-index: 1;position: relative;background-color: white;}#sk-container-id-1 div.sk-parallel-item:first-child::after {align-self: flex-end;width: 50%;}#sk-container-id-1 div.sk-parallel-item:last-child::after {align-self: flex-start;width: 50%;}#sk-container-id-1 div.sk-parallel-item:only-child::after {width: 0;}#sk-container-id-1 div.sk-dashed-wrapped {border: 1px dashed gray;margin: 0 0.4em 0.5em 0.4em;box-sizing: border-box;padding-bottom: 0.4em;background-color: white;}#sk-container-id-1 div.sk-label label {font-family: monospace;font-weight: bold;display: inline-block;line-height: 1.2em;}#sk-container-id-1 div.sk-label-container {text-align: center;}#sk-container-id-1 div.sk-container {/* jupyter's `normalize.less` sets `[hidden] { display: none; }` but bootstrap.min.css set `[hidden] { display: none !important; }` so we also need the `!important` here to be able to override the default hidden behavior on the sphinx rendered scikit-learn.org. See: https://github.com/scikit-learn/scikit-learn/issues/21755 */display: inline-block !important;position: relative;}#sk-container-id-1 div.sk-text-repr-fallback {display: none;}</style><div id=\"sk-container-id-1\" class=\"sk-top-container\"><div class=\"sk-text-repr-fallback\"><pre>XGBRegressor(base_score=None, booster=None, callbacks=None,\n",
       "             colsample_bylevel=None, colsample_bynode=None,\n",
       "             colsample_bytree=None, early_stopping_rounds=None,\n",
       "             enable_categorical=False, eval_metric=None, feature_types=None,\n",
       "             gamma=None, gpu_id=None, grow_policy=None, huber_slope=4.56,\n",
       "             importance_type=None, interaction_constraints=None,\n",
       "             learning_rate=0.021399, max_bin=None, max_cat_threshold=None,\n",
       "             max_cat_to_onehot=None, max_delta_step=None, max_depth=32,\n",
       "             max_leaves=None, min_child_weight=None, missing=nan,\n",
       "             monotone_constraints=None, n_estimators=650, n_jobs=-1,\n",
       "             num_parallel_tree=None, objective=&#x27;reg:pseudohubererror&#x27;, ...)</pre><b>In a Jupyter environment, please rerun this cell to show the HTML representation or trust the notebook. <br />On GitHub, the HTML representation is unable to render, please try loading this page with nbviewer.org.</b></div><div class=\"sk-container\" hidden><div class=\"sk-item\"><div class=\"sk-estimator sk-toggleable\"><input class=\"sk-toggleable__control sk-hidden--visually\" id=\"sk-estimator-id-1\" type=\"checkbox\" checked><label for=\"sk-estimator-id-1\" class=\"sk-toggleable__label sk-toggleable__label-arrow\">XGBRegressor</label><div class=\"sk-toggleable__content\"><pre>XGBRegressor(base_score=None, booster=None, callbacks=None,\n",
       "             colsample_bylevel=None, colsample_bynode=None,\n",
       "             colsample_bytree=None, early_stopping_rounds=None,\n",
       "             enable_categorical=False, eval_metric=None, feature_types=None,\n",
       "             gamma=None, gpu_id=None, grow_policy=None, huber_slope=4.56,\n",
       "             importance_type=None, interaction_constraints=None,\n",
       "             learning_rate=0.021399, max_bin=None, max_cat_threshold=None,\n",
       "             max_cat_to_onehot=None, max_delta_step=None, max_depth=32,\n",
       "             max_leaves=None, min_child_weight=None, missing=nan,\n",
       "             monotone_constraints=None, n_estimators=650, n_jobs=-1,\n",
       "             num_parallel_tree=None, objective=&#x27;reg:pseudohubererror&#x27;, ...)</pre></div></div></div></div></div>"
      ],
      "text/plain": [
       "XGBRegressor(base_score=None, booster=None, callbacks=None,\n",
       "             colsample_bylevel=None, colsample_bynode=None,\n",
       "             colsample_bytree=None, early_stopping_rounds=None,\n",
       "             enable_categorical=False, eval_metric=None, feature_types=None,\n",
       "             gamma=None, gpu_id=None, grow_policy=None, huber_slope=4.56,\n",
       "             importance_type=None, interaction_constraints=None,\n",
       "             learning_rate=0.021399, max_bin=None, max_cat_threshold=None,\n",
       "             max_cat_to_onehot=None, max_delta_step=None, max_depth=32,\n",
       "             max_leaves=None, min_child_weight=None, missing=nan,\n",
       "             monotone_constraints=None, n_estimators=650, n_jobs=-1,\n",
       "             num_parallel_tree=None, objective='reg:pseudohubererror', ...)"
      ]
     },
     "execution_count": 20,
     "metadata": {},
     "output_type": "execute_result"
    }
   ],
   "source": [
    "xg_model.fit(X_train, y_train)"
   ]
  },
  {
   "cell_type": "code",
   "execution_count": 21,
   "id": "a02c847e-02a4-49eb-9f2d-90bc534a1dcc",
   "metadata": {},
   "outputs": [
    {
     "data": {
      "text/plain": [
       "array([0.45810264, 0.50933166, 0.47499797, 0.4490659 , 0.51383483])"
      ]
     },
     "execution_count": 21,
     "metadata": {},
     "output_type": "execute_result"
    }
   ],
   "source": [
    "cross_val_score(xg_model, X_train, y_train, cv=5)"
   ]
  },
  {
   "cell_type": "code",
   "execution_count": 38,
   "id": "569785df-00f1-48ce-867f-52089b9ffc1e",
   "metadata": {},
   "outputs": [
    {
     "data": {
      "text/plain": [
       "0.4751805564300373"
      ]
     },
     "execution_count": 38,
     "metadata": {},
     "output_type": "execute_result"
    }
   ],
   "source": [
    "r2_score(y_test, xg_model.predict(X_test))"
   ]
  },
  {
   "cell_type": "code",
   "execution_count": 35,
   "id": "05205646-209f-4908-a404-c905c6c5dda7",
   "metadata": {},
   "outputs": [
    {
     "data": {
      "text/plain": [
       "array([0.53191489, 0.53900709, 0.39716312, ..., 0.43971631, 0.53900709,\n",
       "       0.53191489])"
      ]
     },
     "execution_count": 35,
     "metadata": {},
     "output_type": "execute_result"
    }
   ],
   "source": [
    "y_test.ravel()"
   ]
  },
  {
   "cell_type": "code",
   "execution_count": 28,
   "id": "33e6a8c6-81cb-4aab-88c7-723239341fc6",
   "metadata": {},
   "outputs": [
    {
     "data": {
      "text/plain": [
       "0.07359916379221514"
      ]
     },
     "execution_count": 28,
     "metadata": {},
     "output_type": "execute_result"
    }
   ],
   "source": [
    "rmse = mean_squared_error(y_test, xg_model.predict(X_test), squared=False)\n",
    "rmse"
   ]
  },
  {
   "cell_type": "code",
   "execution_count": 29,
   "id": "392aad91-f2a1-4280-84f5-1606172d0d38",
   "metadata": {},
   "outputs": [],
   "source": [
    "import seaborn as sns"
   ]
  },
  {
   "cell_type": "code",
   "execution_count": 36,
   "id": "37e549f7-958a-432c-b9d1-03228cc2937a",
   "metadata": {},
   "outputs": [
    {
     "data": {
      "text/plain": [
       "<Axes: ylabel='Count'>"
      ]
     },
     "execution_count": 36,
     "metadata": {},
     "output_type": "execute_result"
    },
    {
     "data": {
      "image/png": "[encoded data removed]",
      "text/plain": [
       "<Figure size 640x480 with 1 Axes>"
      ]
     },
     "metadata": {},
     "output_type": "display_data"
    }
   ],
   "source": [
    "sns.histplot(pd.DataFrame({'y_pred':xg_model.predict(X_test), 'y_true':y_test.ravel()}))"
   ]
  },
  {
   "cell_type": "code",
   "execution_count": 132,
   "id": "4ee3fa6e-4786-4350-8b86-8237f8edd119",
   "metadata": {},
   "outputs": [],
   "source": [
    "df_pinnacle = pd.read_csv('../data/csv/pinnacle_sportsbook.csv')"
   ]
  },
  {
   "cell_type": "code",
   "execution_count": 133,
   "id": "0561129c-041f-49be-9060-a9cdfbb367c2",
   "metadata": {},
   "outputs": [],
   "source": [
    "df_pinnacle_spread = df_pinnacle[['participant id', 'description', 'decimal odds', 'american odds', 'spread / total']]"
   ]
  },
  {
   "cell_type": "code",
   "execution_count": 134,
   "id": "7e7823cd-f518-4ea0-978d-6a68e5d912d3",
   "metadata": {},
   "outputs": [],
   "source": [
    "df_pinnacle_names = df_pinnacle[['participants.1.participant id', 'participants.1.source.nickname',\n",
    "       'participants.1.source.short name', 'participants.2.participant id',\n",
    "       'participants.2.source.nickname', 'participants.2.source.short name']]"
   ]
  },
  {
   "cell_type": "code",
   "execution_count": 135,
   "id": "ce0c77c4-d404-4731-a69f-cab390be86ab",
   "metadata": {},
   "outputs": [
    {
     "name": "stderr",
     "output_type": "stream",
     "text": [
      "/tmp/ipykernel_13827/3300031709.py:1: SettingWithCopyWarning: \n",
      "A value is trying to be set on a copy of a slice from a DataFrame.\n",
      "Try using .loc[row_indexer,col_indexer] = value instead\n",
      "\n",
      "See the caveats in the documentation: https://pandas.pydata.org/pandas-docs/stable/user_guide/indexing.html#returning-a-view-versus-a-copy\n",
      "  df_pinnacle_names['p1_full'] = df_pinnacle_names['participants.1.source.short name'] + ' ' + df_pinnacle_names['participants.1.source.nickname']\n",
      "/tmp/ipykernel_13827/3300031709.py:2: SettingWithCopyWarning: \n",
      "A value is trying to be set on a copy of a slice from a DataFrame.\n",
      "Try using .loc[row_indexer,col_indexer] = value instead\n",
      "\n",
      "See the caveats in the documentation: https://pandas.pydata.org/pandas-docs/stable/user_guide/indexing.html#returning-a-view-versus-a-copy\n",
      "  df_pinnacle_names['p2_full'] = df_pinnacle_names['participants.2.source.short name'] + ' ' + df_pinnacle_names['participants.2.source.nickname']\n",
      "/tmp/ipykernel_13827/3300031709.py:3: SettingWithCopyWarning: \n",
      "A value is trying to be set on a copy of a slice from a DataFrame.\n",
      "Try using .loc[row_indexer,col_indexer] = value instead\n",
      "\n",
      "See the caveats in the documentation: https://pandas.pydata.org/pandas-docs/stable/user_guide/indexing.html#returning-a-view-versus-a-copy\n",
      "  df_pinnacle_names['p2_full'] = df_pinnacle_names['p2_full'].replace({'L.A. Clippers L.A. Clippers': 'LA Clippers', 'L.A. Lakers L.A. Lakers': 'Los Angeles Lakers'})\n",
      "/tmp/ipykernel_13827/3300031709.py:4: SettingWithCopyWarning: \n",
      "A value is trying to be set on a copy of a slice from a DataFrame.\n",
      "Try using .loc[row_indexer,col_indexer] = value instead\n",
      "\n",
      "See the caveats in the documentation: https://pandas.pydata.org/pandas-docs/stable/user_guide/indexing.html#returning-a-view-versus-a-copy\n",
      "  df_pinnacle_names['p1_full'] = df_pinnacle_names['p1_full'].replace({'L.A. Clippers L.A. Clippers': 'LA Clippers', 'L.A. Lakers L.A. Lakers': 'Los Angeles Lakers'})\n"
     ]
    }
   ],
   "source": [
    "df_pinnacle_names['p1_full'] = df_pinnacle_names['participants.1.source.short name'] + ' ' + df_pinnacle_names['participants.1.source.nickname']\n",
    "df_pinnacle_names['p2_full'] = df_pinnacle_names['participants.2.source.short name'] + ' ' + df_pinnacle_names['participants.2.source.nickname']\n",
    "df_pinnacle_names['p2_full'] = df_pinnacle_names['p2_full'].replace({'L.A. Clippers L.A. Clippers': 'LA Clippers', 'L.A. Lakers L.A. Lakers': 'Los Angeles Lakers'})\n",
    "df_pinnacle_names['p1_full'] = df_pinnacle_names['p1_full'].replace({'L.A. Clippers L.A. Clippers': 'LA Clippers', 'L.A. Lakers L.A. Lakers': 'Los Angeles Lakers'})\n",
    "df_pinnacle_names = df_pinnacle_names[df_pinnacle_names['p1_full'].isin(pd.unique(df_teamnames['TEAM_NAME']))]\n",
    "df_pinnacle_names = df_pinnacle_names[df_pinnacle_names['p2_full'].isin(pd.unique(df_teamnames['TEAM_NAME']))]"
   ]
  },
  {
   "cell_type": "code",
   "execution_count": 141,
   "id": "0d201799-715f-4a0d-8872-1c91b98ce8c0",
   "metadata": {},
   "outputs": [],
   "source": [
    "full_names_participant = df_pinnacle_names.drop_duplicates('participants.1.participant id')"
   ]
  },
  {
   "cell_type": "code",
   "execution_count": 144,
   "id": "7bca3274-27d3-45fc-bf5a-7cf676d76756",
   "metadata": {},
   "outputs": [
    {
     "name": "stderr",
     "output_type": "stream",
     "text": [
      "/tmp/ipykernel_13827/274799569.py:1: SettingWithCopyWarning: \n",
      "A value is trying to be set on a copy of a slice from a DataFrame.\n",
      "Try using .loc[row_indexer,col_indexer] = value instead\n",
      "\n",
      "See the caveats in the documentation: https://pandas.pydata.org/pandas-docs/stable/user_guide/indexing.html#returning-a-view-versus-a-copy\n",
      "  full_names_participant['participant id'] = full_names_participant['participants.1.participant id']\n"
     ]
    }
   ],
   "source": [
    "full_names_participant['participant id'] = full_names_participant['participants.1.participant id']"
   ]
  },
  {
   "cell_type": "code",
   "execution_count": 149,
   "id": "1e3a72bf-f274-4497-a2a1-f6f44052723a",
   "metadata": {},
   "outputs": [
    {
     "name": "stderr",
     "output_type": "stream",
     "text": [
      "/tmp/ipykernel_13827/3254063149.py:1: SettingWithCopyWarning: \n",
      "A value is trying to be set on a copy of a slice from a DataFrame.\n",
      "Try using .loc[row_indexer,col_indexer] = value instead\n",
      "\n",
      "See the caveats in the documentation: https://pandas.pydata.org/pandas-docs/stable/user_guide/indexing.html#returning-a-view-versus-a-copy\n",
      "  full_names_participant['TEAM_NAME'] = full_names_participant['p1_full']\n"
     ]
    }
   ],
   "source": [
    "full_names_participant['TEAM_NAME'] = full_names_participant['p1_full']"
   ]
  },
  {
   "cell_type": "code",
   "execution_count": 152,
   "id": "c1d9faf8-1545-4be4-9fb4-1af66a2d5806",
   "metadata": {},
   "outputs": [],
   "source": [
    "full_temp = full_names_participant[['participant id','TEAM_NAME']]"
   ]
  },
  {
   "cell_type": "code",
   "execution_count": 163,
   "id": "ce511c33-8802-48f9-80ce-b31bc9593081",
   "metadata": {},
   "outputs": [],
   "source": [
    "full_name_abb = pd.merge(full_temp, df_teamnames, on='TEAM_NAME').drop_duplicates('participant id')"
   ]
  },
  {
   "cell_type": "code",
   "execution_count": 165,
   "id": "87d90c2f-cc11-4f5e-bb5a-9798896bbb7e",
   "metadata": {},
   "outputs": [],
   "source": [
    "full_name_abb.to_pickle('../data/pkl/sbr_participant_id_name.pkl')"
   ]
  },
  {
   "cell_type": "code",
   "execution_count": null,
   "id": "3402aa46-7a8b-45f2-b02a-9cc74693e8c0",
   "metadata": {},
   "outputs": [],
   "source": [
    "'Team Durant East Team Durant East', 'Team LeBron  LeBron',\n",
    "       'Team LeBron LeBron', 'Team World World', 'Team Giannis Giannis','nan'"
   ]
  },
  {
   "cell_type": "code",
   "execution_count": 153,
   "id": "718b06bf-47c2-4cf5-8bd3-abb30d7bb140",
   "metadata": {},
   "outputs": [
    {
     "data": {
      "text/html": [
       "<div>\n",
       "<style scoped>\n",
       "    .dataframe tbody tr th:only-of-type {\n",
       "        vertical-align: middle;\n",
       "    }\n",
       "\n",
       "    .dataframe tbody tr th {\n",
       "        vertical-align: top;\n",
       "    }\n",
       "\n",
       "    .dataframe thead th {\n",
       "        text-align: right;\n",
       "    }\n",
       "</style>\n",
       "<table border=\"1\" class=\"dataframe\">\n",
       "  <thead>\n",
       "    <tr style=\"text-align: right;\">\n",
       "      <th></th>\n",
       "      <th>TEAM_NAME</th>\n",
       "      <th>TEAM_ABBREVIATION</th>\n",
       "    </tr>\n",
       "  </thead>\n",
       "  <tbody>\n",
       "    <tr>\n",
       "      <th>0</th>\n",
       "      <td>Atlanta Hawks</td>\n",
       "      <td>ATL</td>\n",
       "    </tr>\n",
       "    <tr>\n",
       "      <th>1</th>\n",
       "      <td>Atlanta Hawks</td>\n",
       "      <td>ATL</td>\n",
       "    </tr>\n",
       "    <tr>\n",
       "      <th>2</th>\n",
       "      <td>Atlanta Hawks</td>\n",
       "      <td>ATL</td>\n",
       "    </tr>\n",
       "    <tr>\n",
       "      <th>3</th>\n",
       "      <td>Atlanta Hawks</td>\n",
       "      <td>ATL</td>\n",
       "    </tr>\n",
       "    <tr>\n",
       "      <th>4</th>\n",
       "      <td>Atlanta Hawks</td>\n",
       "      <td>ATL</td>\n",
       "    </tr>\n",
       "    <tr>\n",
       "      <th>...</th>\n",
       "      <td>...</td>\n",
       "      <td>...</td>\n",
       "    </tr>\n",
       "    <tr>\n",
       "      <th>426</th>\n",
       "      <td>Charlotte Hornets</td>\n",
       "      <td>CHA</td>\n",
       "    </tr>\n",
       "    <tr>\n",
       "      <th>427</th>\n",
       "      <td>Charlotte Hornets</td>\n",
       "      <td>CHA</td>\n",
       "    </tr>\n",
       "    <tr>\n",
       "      <th>428</th>\n",
       "      <td>Charlotte Hornets</td>\n",
       "      <td>CHA</td>\n",
       "    </tr>\n",
       "    <tr>\n",
       "      <th>429</th>\n",
       "      <td>Charlotte Hornets</td>\n",
       "      <td>CHA</td>\n",
       "    </tr>\n",
       "    <tr>\n",
       "      <th>430</th>\n",
       "      <td>Charlotte Hornets</td>\n",
       "      <td>CHA</td>\n",
       "    </tr>\n",
       "  </tbody>\n",
       "</table>\n",
       "<p>13700 rows × 2 columns</p>\n",
       "</div>"
      ],
      "text/plain": [
       "             TEAM_NAME TEAM_ABBREVIATION\n",
       "0        Atlanta Hawks               ATL\n",
       "1        Atlanta Hawks               ATL\n",
       "2        Atlanta Hawks               ATL\n",
       "3        Atlanta Hawks               ATL\n",
       "4        Atlanta Hawks               ATL\n",
       "..                 ...               ...\n",
       "426  Charlotte Hornets               CHA\n",
       "427  Charlotte Hornets               CHA\n",
       "428  Charlotte Hornets               CHA\n",
       "429  Charlotte Hornets               CHA\n",
       "430  Charlotte Hornets               CHA\n",
       "\n",
       "[13700 rows x 2 columns]"
      ]
     },
     "execution_count": 153,
     "metadata": {},
     "output_type": "execute_result"
    }
   ],
   "source": [
    "df_teamnames"
   ]
  },
  {
   "cell_type": "code",
   "execution_count": 171,
   "id": "64e555c2-481c-497b-b881-d550ea634326",
   "metadata": {},
   "outputs": [],
   "source": [
    "df_nba = pd.read_pickle('../data/pkl/raw_games_5yrs.pkl')"
   ]
  },
  {
   "cell_type": "code",
   "execution_count": 175,
   "id": "e2f245c3-ab13-4812-90c0-955435aa63a6",
   "metadata": {},
   "outputs": [
    {
     "data": {
      "text/plain": [
       "Index(['SEASON_ID', 'TEAM_ID', 'TEAM_ABBREVIATION', 'TEAM_NAME', 'GAME_ID',\n",
       "       'GAME_DATE', 'MATCHUP', 'WL', 'MIN', 'PTS', 'FGM', 'FGA', 'FG_PCT',\n",
       "       'FG3M', 'FG3A', 'FG3_PCT', 'FTM', 'FTA', 'FT_PCT', 'OREB', 'DREB',\n",
       "       'REB', 'AST', 'STL', 'BLK', 'TOV', 'PF', 'PLUS_MINUS', 'HOME_TEAM'],\n",
       "      dtype='object')"
      ]
     },
     "execution_count": 175,
     "metadata": {},
     "output_type": "execute_result"
    }
   ],
   "source": [
    "df_nba.columns"
   ]
  },
  {
   "cell_type": "code",
   "execution_count": null,
   "id": "70c33104-9cac-4dbf-bbbc-c2fe399a6784",
   "metadata": {},
   "outputs": [],
   "source": []
  }
 ],
 "metadata": {
  "kernelspec": {
   "display_name": "Python 3 (ipykernel)",
   "language": "python",
   "name": "python3"
  },
  "language_info": {
   "codemirror_mode": {
    "name": "ipython",
    "version": 3
   },
   "file_extension": ".py",
   "mimetype": "text/x-python",
   "name": "python",
   "nbconvert_exporter": "python",
   "pygments_lexer": "ipython3",
   "version": "3.10.6"
  }
 },
 "nbformat": 4,
 "nbformat_minor": 5
}
