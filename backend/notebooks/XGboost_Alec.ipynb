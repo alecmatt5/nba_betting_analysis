{
 "cells": [
  {
   "cell_type": "code",
   "execution_count": 25,
   "id": "ba1997f8-90a5-40d9-814e-58d06b591e92",
   "metadata": {},
   "outputs": [],
   "source": [
    "from xgboost import XGBRegressor\n",
    "import pandas as pd\n",
    "from sklearn.linear_model import Lasso\n",
    "from sklearn.model_selection import train_test_split\n",
    "from sklearn.model_selection import RandomizedSearchCV"
   ]
  },
  {
   "cell_type": "code",
   "execution_count": 26,
   "id": "65c3d9aa-58d5-4a3e-bc0e-779cd69147bc",
   "metadata": {},
   "outputs": [],
   "source": [
    "from sklearn.metrics import mean_squared_error"
   ]
  },
  {
   "cell_type": "code",
   "execution_count": 27,
   "id": "3fcbf397-4968-45fc-b3e8-e15dbb1625bd",
   "metadata": {},
   "outputs": [],
   "source": [
    "from sklearn.model_selection import cross_val_score"
   ]
  },
  {
   "cell_type": "code",
   "execution_count": 28,
   "id": "b43f7efc-536c-44f9-be41-91165a909d12",
   "metadata": {},
   "outputs": [],
   "source": [
    "from sklearn.metrics import r2_score"
   ]
  },
  {
   "cell_type": "code",
   "execution_count": 29,
   "id": "73977ce9-52aa-4447-8e29-9cb61c9fc64c",
   "metadata": {},
   "outputs": [],
   "source": [
    "import numpy as np"
   ]
  },
  {
   "cell_type": "code",
   "execution_count": 30,
   "id": "2b523d02-954d-4036-8917-f48bd622050d",
   "metadata": {},
   "outputs": [],
   "source": [
    "from scipy.stats import randint"
   ]
  },
  {
   "cell_type": "code",
   "execution_count": 31,
   "id": "623083c0-c553-45f1-b8d0-751165e1be5a",
   "metadata": {},
   "outputs": [],
   "source": [
    "param = {'max_depth': 2, 'eta': 1, 'objective': 'binary:logistic'}\n",
    "param['nthread'] = 4\n",
    "param['eval_metric'] = ['auc',  'ams@0']"
   ]
  },
  {
   "cell_type": "code",
   "execution_count": 32,
   "id": "4588d6e4-fd60-4205-9323-5943acd99396",
   "metadata": {},
   "outputs": [],
   "source": [
    "X_advanced='../data/pkl/X_PREPROC_ADVANCED_TEAM_ALL'\n",
    "y_advanced='../data/pkl/y_ADVANCED_TEAM_ALL'"
   ]
  },
  {
   "cell_type": "code",
   "execution_count": 33,
   "id": "9cc1f03e",
   "metadata": {},
   "outputs": [],
   "source": [
    "X=pd.read_pickle(X_advanced)\n",
    "y=pd.read_pickle(y_advanced)"
   ]
  },
  {
   "cell_type": "code",
   "execution_count": 34,
   "id": "d659eeb5-c4c3-45c2-8d02-ee5c9b6a764f",
   "metadata": {},
   "outputs": [],
   "source": [
    "def make_baseline_lasso(X_path, y_path, alpha=0.5):\n",
    "    \n",
    "    '''scikit learn lasso regression, returns r2score, model, X_train, X_test, y_train, y_test'''\n",
    "    \n",
    "    X = pd.read_pickle(X_path)\n",
    "    y = pd.read_pickle(y_path)\n",
    "\n",
    "    X_train, X_test, y_train, y_test = train_test_split(X, y, random_state=0, test_size=0.3)\n",
    "\n",
    "    clf = Lasso(alpha)\n",
    "    clf.fit(X_train, y_train)\n",
    "\n",
    "    scores = cross_val_score(clf, X_train, y_train, cv=5)\n",
    "\n",
    "    return (np.mean(scores), clf, X_train, X_test, y_train, y_test)\n",
    "\n",
    "def make_permutations(model, X_test, y_test, repeats=30, random_state=None):\n",
    "    r_list = []\n",
    "    r = permutation_importance(clf, X_test, y_test,n_repeats=30,random_state=0)\n",
    "    for i in r.importances_mean.argsort()[::-1]:\n",
    "        if r.importances_mean[i] - 2 * r.importances_std[i] > 0:\n",
    "            r_list.append(f\"{X.columns[i]}\"\n",
    "                   f\"{r.importances_mean[i]:.3f}\"\n",
    "                   f\" +/- {r.importances_std[i]:.3f}\")\n",
    "    return r_list\n",
    "\n",
    "def make_team_xgboost(X_path, y_path, n_iters):\n",
    "    \n",
    "    '''XG boost team based, WARNING THIS XGBOOST REQUIRES CATEGORICAL DATA TO NOT BE OHE;\n",
    "    Returns the rmse, xg_model, X_train, X_test, y_train, y_test'''\n",
    "    \n",
    "    df_train = pd.read_pickle(\"../data/pkl/X_ADV_XGBOOST_TEAM_ALL\")\n",
    "    df_train[\"TEAM_ABBREVIATION_h\"] = df_train[\"TEAM_ABBREVIATION_h\"].astype(\"category\")\n",
    "    df_train[\"TEAM_ABBREVIATION_a\"] = df_train[\"TEAM_ABBREVIATION_a\"].astype(\"category\")\n",
    "    df_target = pd.read_pickle(\"../data/pkl/y_ADV_XGBOOST_TEAM_ALL\")\n",
    "    X_train, X_test, y_train, y_test = train_test_split(df_train, df_target, random_state=0, test_size=0.3)\n",
    "    dtrain_reg = xgb.DMatrix(X_train, y_train, enable_categorical=True)\n",
    "    dtest_reg = xgb.DMatrix(X_test, y_test, enable_categorical=True)\n",
    "    params = {\"objective\": \"reg:squarederror\", \"tree_method\": \"hist\"}\n",
    "    evals = [(dtest_reg, \"validation\"), (dtrain_reg, \"train\")]\n",
    "    xg_model = xgb.train( params=params,dtrain=dtrain_reg,num_boost_round=n_iters, evals=evals, verbose_eval=False)\n",
    "    \n",
    "    rmse = mean_squared_error(y_test, predictions, squared=False)\n",
    "    return xg_model"
   ]
  },
  {
   "cell_type": "code",
   "execution_count": 35,
   "id": "2f3df528-f508-4596-b11b-80594f2961e4",
   "metadata": {},
   "outputs": [],
   "source": [
    "score_mean, model, X_train, X_test, y_train, y_test = make_baseline_lasso(X_advanced, y_advanced, alpha=0.5)"
   ]
  },
  {
   "cell_type": "code",
   "execution_count": 36,
   "id": "4aa4f09f-49b1-403b-adce-8893287104c7",
   "metadata": {},
   "outputs": [
    {
     "ename": "NameError",
     "evalue": "name 'permutation_importance' is not defined",
     "output_type": "error",
     "traceback": [
      "\u001b[0;31m---------------------------------------------------------------------------\u001b[0m",
      "\u001b[0;31mNameError\u001b[0m                                 Traceback (most recent call last)",
      "Cell \u001b[0;32mIn[36], line 1\u001b[0m\n\u001b[0;32m----> 1\u001b[0m \u001b[43mmake_permutations\u001b[49m\u001b[43m(\u001b[49m\u001b[43mmodel\u001b[49m\u001b[43m,\u001b[49m\u001b[43m \u001b[49m\u001b[43mX_test\u001b[49m\u001b[43m,\u001b[49m\u001b[43m \u001b[49m\u001b[43my_test\u001b[49m\u001b[43m,\u001b[49m\u001b[43m \u001b[49m\u001b[43mrepeats\u001b[49m\u001b[38;5;241;43m=\u001b[39;49m\u001b[38;5;241;43m30\u001b[39;49m\u001b[43m,\u001b[49m\u001b[43m \u001b[49m\u001b[43mrandom_state\u001b[49m\u001b[38;5;241;43m=\u001b[39;49m\u001b[38;5;241;43m0\u001b[39;49m\u001b[43m)\u001b[49m\n",
      "Cell \u001b[0;32mIn[34], line 19\u001b[0m, in \u001b[0;36mmake_permutations\u001b[0;34m(model, X_test, y_test, repeats, random_state)\u001b[0m\n\u001b[1;32m     17\u001b[0m \u001b[38;5;28;01mdef\u001b[39;00m \u001b[38;5;21mmake_permutations\u001b[39m(model, X_test, y_test, repeats\u001b[38;5;241m=\u001b[39m\u001b[38;5;241m30\u001b[39m, random_state\u001b[38;5;241m=\u001b[39m\u001b[38;5;28;01mNone\u001b[39;00m):\n\u001b[1;32m     18\u001b[0m     r_list \u001b[38;5;241m=\u001b[39m []\n\u001b[0;32m---> 19\u001b[0m     r \u001b[38;5;241m=\u001b[39m \u001b[43mpermutation_importance\u001b[49m(clf, X_test, y_test,n_repeats\u001b[38;5;241m=\u001b[39m\u001b[38;5;241m30\u001b[39m,random_state\u001b[38;5;241m=\u001b[39m\u001b[38;5;241m0\u001b[39m)\n\u001b[1;32m     20\u001b[0m     \u001b[38;5;28;01mfor\u001b[39;00m i \u001b[38;5;129;01min\u001b[39;00m r\u001b[38;5;241m.\u001b[39mimportances_mean\u001b[38;5;241m.\u001b[39margsort()[::\u001b[38;5;241m-\u001b[39m\u001b[38;5;241m1\u001b[39m]:\n\u001b[1;32m     21\u001b[0m         \u001b[38;5;28;01mif\u001b[39;00m r\u001b[38;5;241m.\u001b[39mimportances_mean[i] \u001b[38;5;241m-\u001b[39m \u001b[38;5;241m2\u001b[39m \u001b[38;5;241m*\u001b[39m r\u001b[38;5;241m.\u001b[39mimportances_std[i] \u001b[38;5;241m>\u001b[39m \u001b[38;5;241m0\u001b[39m:\n",
      "\u001b[0;31mNameError\u001b[0m: name 'permutation_importance' is not defined"
     ]
    }
   ],
   "source": [
    "make_permutations(model, X_test, y_test, repeats=30, random_state=0)"
   ]
  },
  {
   "cell_type": "code",
   "execution_count": 37,
   "id": "d7def1a9-cf65-4d84-8348-f4649be7bd4b",
   "metadata": {},
   "outputs": [],
   "source": [
    "df_train = pd.read_pickle(\"../data/pkl/X_PREPROC_ADVANCED_TEAM_ALL\")\n",
    "# df_train[\"TEAM_ABBREVIATION_h\"] = df_train[\"TEAM_ABBREVIATION_h\"].astype(\"category\")\n",
    "# df_train[\"TEAM_ABBREVIATION_a\"] = df_train[\"TEAM_ABBREVIATION_a\"].astype(\"category\")\n",
    "columns_drop = ['OFF_RATING_h',\n",
    " 'DEF_RATING_h',\n",
    " 'NET_RATING_h',\n",
    " 'AST_PCT_h',\n",
    " 'AST_TOV_h',\n",
    " 'OREB_PCT_h',\n",
    " 'DREB_PCT_h',\n",
    " 'REB_PCT_h',\n",
    " 'TM_TOV_PCT_h',\n",
    " 'EFG_PCT_h',\n",
    " 'TS_PCT_h',\n",
    " 'PACE_h',\n",
    " 'POSS_h','OFF_RATING_a',\n",
    " 'DEF_RATING_a',\n",
    " 'NET_RATING_a',\n",
    " 'AST_PCT_a',\n",
    " 'AST_TOV_a',\n",
    " 'OREB_PCT_a',\n",
    " 'DREB_PCT_a',\n",
    " 'REB_PCT_a',\n",
    " 'TM_TOV_PCT_a',\n",
    " 'EFG_PCT_a',\n",
    " 'TS_PCT_a',\n",
    " 'PACE_a',\n",
    " 'POSS_a']\n",
    "df_train = df_train.drop(columns_drop, axis=1)\n",
    "df_target = pd.read_pickle(\"../data/pkl/y_ADVANCED_TEAM_ALL\")\n",
    "X_train, X_test, y_train, y_test = train_test_split(df_train, df_target, random_state=0, test_size=0.3)"
   ]
  },
  {
   "cell_type": "code",
   "execution_count": 38,
   "id": "d9b1076c-8013-4c5d-ae6b-583abd2fafda",
   "metadata": {
    "tags": []
   },
   "outputs": [
    {
     "data": {
      "text/plain": [
       "Index(['OFF_RATING_Roll_mean_h', 'DEF_RATING_Roll_mean_h',\n",
       "       'NET_RATING_Roll_mean_h', 'AST_PCT_Roll_mean_h', 'AST_TOV_Roll_mean_h',\n",
       "       'OREB_PCT_Roll_mean_h', 'DREB_PCT_Roll_mean_h', 'REB_PCT_Roll_mean_h',\n",
       "       'TM_TOV_PCT_Roll_mean_h', 'EFG_PCT_Roll_mean_h',\n",
       "       ...\n",
       "       'OKC_a', 'ORL_a', 'PHI_a', 'PHX_a', 'POR_a', 'SAC_a', 'SAS_a', 'TOR_a',\n",
       "       'UTA_a', 'WAS_a'],\n",
       "      dtype='object', length=138)"
      ]
     },
     "execution_count": 38,
     "metadata": {},
     "output_type": "execute_result"
    }
   ],
   "source": [
    "X_train.columns"
   ]
  },
  {
   "cell_type": "code",
   "execution_count": 39,
   "id": "3459a0e7-25b3-4e39-a093-33ca78937275",
   "metadata": {},
   "outputs": [],
   "source": [
    "# dtrain_reg = xgb.DMatrix(X_train, y_train, enable_categorical=True)\n",
    "\n",
    "# dtest_reg = xgb.DMatrix(X_test, y_test, enable_categorical=True)"
   ]
  },
  {
   "cell_type": "code",
   "execution_count": 40,
   "id": "a85f2518-fa52-4de6-836b-8238c490cdc7",
   "metadata": {},
   "outputs": [],
   "source": [
    "params = {'n_estimators': 600, 'max_depth': 20, 'learning_rate': 0.04350000000000002, 'subsample':0.2, 'gamma': 0.3, 'max_leaves':2}"
   ]
  },
  {
   "cell_type": "code",
   "execution_count": 41,
   "id": "5d6ab968-6636-4356-8793-658c6363c07a",
   "metadata": {},
   "outputs": [],
   "source": [
    "n_iter_search = 500\n",
    "#reg = XGBRegressor(nthread=-1)\n",
    "xg_model = XGBRegressor(subsample= 0.39, reg_lambda= 0.02829999999999995,reg_alpha=0.03329999999999998, objective= 'reg:pseudohubererror', n_estimators= 647, max_depth=32, \n",
    "                        learning_rate = 0.021399999999999992, huber_slope=4.5600000000000005, n_jobs=-1)\n",
    "# random_search = RandomizedSearchCV(reg, param_distributions=params,\n",
    "#                                    n_iter=n_iter_search, cv=5, scoring='neg_mean_squared_error', n_jobs=)"
   ]
  },
  {
   "cell_type": "code",
   "execution_count": 42,
   "id": "dc655255-00c2-4c68-934f-7c6e74cb06a4",
   "metadata": {},
   "outputs": [
    {
     "data": {
      "text/html": [
       "<style>#sk-container-id-2 {color: black;background-color: white;}#sk-container-id-2 pre{padding: 0;}#sk-container-id-2 div.sk-toggleable {background-color: white;}#sk-container-id-2 label.sk-toggleable__label {cursor: pointer;display: block;width: 100%;margin-bottom: 0;padding: 0.3em;box-sizing: border-box;text-align: center;}#sk-container-id-2 label.sk-toggleable__label-arrow:before {content: \"▸\";float: left;margin-right: 0.25em;color: #696969;}#sk-container-id-2 label.sk-toggleable__label-arrow:hover:before {color: black;}#sk-container-id-2 div.sk-estimator:hover label.sk-toggleable__label-arrow:before {color: black;}#sk-container-id-2 div.sk-toggleable__content {max-height: 0;max-width: 0;overflow: hidden;text-align: left;background-color: #f0f8ff;}#sk-container-id-2 div.sk-toggleable__content pre {margin: 0.2em;color: black;border-radius: 0.25em;background-color: #f0f8ff;}#sk-container-id-2 input.sk-toggleable__control:checked~div.sk-toggleable__content {max-height: 200px;max-width: 100%;overflow: auto;}#sk-container-id-2 input.sk-toggleable__control:checked~label.sk-toggleable__label-arrow:before {content: \"▾\";}#sk-container-id-2 div.sk-estimator input.sk-toggleable__control:checked~label.sk-toggleable__label {background-color: #d4ebff;}#sk-container-id-2 div.sk-label input.sk-toggleable__control:checked~label.sk-toggleable__label {background-color: #d4ebff;}#sk-container-id-2 input.sk-hidden--visually {border: 0;clip: rect(1px 1px 1px 1px);clip: rect(1px, 1px, 1px, 1px);height: 1px;margin: -1px;overflow: hidden;padding: 0;position: absolute;width: 1px;}#sk-container-id-2 div.sk-estimator {font-family: monospace;background-color: #f0f8ff;border: 1px dotted black;border-radius: 0.25em;box-sizing: border-box;margin-bottom: 0.5em;}#sk-container-id-2 div.sk-estimator:hover {background-color: #d4ebff;}#sk-container-id-2 div.sk-parallel-item::after {content: \"\";width: 100%;border-bottom: 1px solid gray;flex-grow: 1;}#sk-container-id-2 div.sk-label:hover label.sk-toggleable__label {background-color: #d4ebff;}#sk-container-id-2 div.sk-serial::before {content: \"\";position: absolute;border-left: 1px solid gray;box-sizing: border-box;top: 0;bottom: 0;left: 50%;z-index: 0;}#sk-container-id-2 div.sk-serial {display: flex;flex-direction: column;align-items: center;background-color: white;padding-right: 0.2em;padding-left: 0.2em;position: relative;}#sk-container-id-2 div.sk-item {position: relative;z-index: 1;}#sk-container-id-2 div.sk-parallel {display: flex;align-items: stretch;justify-content: center;background-color: white;position: relative;}#sk-container-id-2 div.sk-item::before, #sk-container-id-2 div.sk-parallel-item::before {content: \"\";position: absolute;border-left: 1px solid gray;box-sizing: border-box;top: 0;bottom: 0;left: 50%;z-index: -1;}#sk-container-id-2 div.sk-parallel-item {display: flex;flex-direction: column;z-index: 1;position: relative;background-color: white;}#sk-container-id-2 div.sk-parallel-item:first-child::after {align-self: flex-end;width: 50%;}#sk-container-id-2 div.sk-parallel-item:last-child::after {align-self: flex-start;width: 50%;}#sk-container-id-2 div.sk-parallel-item:only-child::after {width: 0;}#sk-container-id-2 div.sk-dashed-wrapped {border: 1px dashed gray;margin: 0 0.4em 0.5em 0.4em;box-sizing: border-box;padding-bottom: 0.4em;background-color: white;}#sk-container-id-2 div.sk-label label {font-family: monospace;font-weight: bold;display: inline-block;line-height: 1.2em;}#sk-container-id-2 div.sk-label-container {text-align: center;}#sk-container-id-2 div.sk-container {/* jupyter's `normalize.less` sets `[hidden] { display: none; }` but bootstrap.min.css set `[hidden] { display: none !important; }` so we also need the `!important` here to be able to override the default hidden behavior on the sphinx rendered scikit-learn.org. See: https://github.com/scikit-learn/scikit-learn/issues/21755 */display: inline-block !important;position: relative;}#sk-container-id-2 div.sk-text-repr-fallback {display: none;}</style><div id=\"sk-container-id-2\" class=\"sk-top-container\"><div class=\"sk-text-repr-fallback\"><pre>XGBRegressor(base_score=None, booster=None, callbacks=None,\n",
       "             colsample_bylevel=None, colsample_bynode=None,\n",
       "             colsample_bytree=None, early_stopping_rounds=None,\n",
       "             enable_categorical=False, eval_metric=None, feature_types=None,\n",
       "             gamma=None, gpu_id=None, grow_policy=None,\n",
       "             huber_slope=4.5600000000000005, importance_type=None,\n",
       "             interaction_constraints=None, learning_rate=0.021399999999999992,\n",
       "             max_bin=None, max_cat_threshold=None, max_cat_to_onehot=None,\n",
       "             max_delta_step=None, max_depth=32, max_leaves=None,\n",
       "             min_child_weight=None, missing=nan, monotone_constraints=None,\n",
       "             n_estimators=647, n_jobs=-1, num_parallel_tree=None,\n",
       "             objective=&#x27;reg:pseudohubererror&#x27;, ...)</pre><b>In a Jupyter environment, please rerun this cell to show the HTML representation or trust the notebook. <br />On GitHub, the HTML representation is unable to render, please try loading this page with nbviewer.org.</b></div><div class=\"sk-container\" hidden><div class=\"sk-item\"><div class=\"sk-estimator sk-toggleable\"><input class=\"sk-toggleable__control sk-hidden--visually\" id=\"sk-estimator-id-2\" type=\"checkbox\" checked><label for=\"sk-estimator-id-2\" class=\"sk-toggleable__label sk-toggleable__label-arrow\">XGBRegressor</label><div class=\"sk-toggleable__content\"><pre>XGBRegressor(base_score=None, booster=None, callbacks=None,\n",
       "             colsample_bylevel=None, colsample_bynode=None,\n",
       "             colsample_bytree=None, early_stopping_rounds=None,\n",
       "             enable_categorical=False, eval_metric=None, feature_types=None,\n",
       "             gamma=None, gpu_id=None, grow_policy=None,\n",
       "             huber_slope=4.5600000000000005, importance_type=None,\n",
       "             interaction_constraints=None, learning_rate=0.021399999999999992,\n",
       "             max_bin=None, max_cat_threshold=None, max_cat_to_onehot=None,\n",
       "             max_delta_step=None, max_depth=32, max_leaves=None,\n",
       "             min_child_weight=None, missing=nan, monotone_constraints=None,\n",
       "             n_estimators=647, n_jobs=-1, num_parallel_tree=None,\n",
       "             objective=&#x27;reg:pseudohubererror&#x27;, ...)</pre></div></div></div></div></div>"
      ],
      "text/plain": [
       "XGBRegressor(base_score=None, booster=None, callbacks=None,\n",
       "             colsample_bylevel=None, colsample_bynode=None,\n",
       "             colsample_bytree=None, early_stopping_rounds=None,\n",
       "             enable_categorical=False, eval_metric=None, feature_types=None,\n",
       "             gamma=None, gpu_id=None, grow_policy=None,\n",
       "             huber_slope=4.5600000000000005, importance_type=None,\n",
       "             interaction_constraints=None, learning_rate=0.021399999999999992,\n",
       "             max_bin=None, max_cat_threshold=None, max_cat_to_onehot=None,\n",
       "             max_delta_step=None, max_depth=32, max_leaves=None,\n",
       "             min_child_weight=None, missing=nan, monotone_constraints=None,\n",
       "             n_estimators=647, n_jobs=-1, num_parallel_tree=None,\n",
       "             objective='reg:pseudohubererror', ...)"
      ]
     },
     "execution_count": 42,
     "metadata": {},
     "output_type": "execute_result"
    }
   ],
   "source": [
    "xg_model.fit(X_train, y_train)"
   ]
  },
  {
   "cell_type": "code",
   "execution_count": 43,
   "id": "321cdeda-6092-4580-9b8b-703b16e7fd49",
   "metadata": {},
   "outputs": [
    {
     "data": {
      "text/plain": [
       "array([0.38533494, 0.44817289, 0.38687145, 0.39593415, 0.48936437])"
      ]
     },
     "execution_count": 43,
     "metadata": {},
     "output_type": "execute_result"
    }
   ],
   "source": [
    "cross_val_score(xg_model, X_train, y_train, cv=5)"
   ]
  },
  {
   "cell_type": "code",
   "execution_count": 44,
   "id": "0c3ec6d8-39d8-499c-a6b1-4a30cb9c5aab",
   "metadata": {},
   "outputs": [
    {
     "data": {
      "text/plain": [
       "['CHA_h',\n",
       " 'NET_RATING_Roll_median_a',\n",
       " 'NET_RATING_Roll_median_h',\n",
       " 'NET_RATING_Roll_mean_a',\n",
       " 'NET_RATING_Roll_std_a',\n",
       " 'HOU_a',\n",
       " 'NET_RATING_Roll_std_h',\n",
       " 'PHX_a',\n",
       " 'SAS_h',\n",
       " 'DEF_RATING_Roll_median_a',\n",
       " 'DEF_RATING_Roll_std_a',\n",
       " 'CHA_a',\n",
       " 'ORL_h',\n",
       " 'OFF_RATING_Roll_median_a',\n",
       " 'PHX_h',\n",
       " 'REB_PCT_Roll_median_a',\n",
       " 'TS_PCT_Roll_mean_a',\n",
       " 'GSW_a',\n",
       " 'EFG_PCT_Roll_std_a',\n",
       " 'AST_PCT_Roll_median_a',\n",
       " 'NOP_a',\n",
       " 'DAL_a',\n",
       " 'UTA_h',\n",
       " 'AST_TOV_Roll_median_a',\n",
       " 'BKN_h',\n",
       " 'EFG_PCT_Roll_mean_a',\n",
       " 'TS_PCT_Roll_median_a',\n",
       " 'BKN_a',\n",
       " 'IND_a',\n",
       " 'REB_PCT_Roll_mean_a',\n",
       " 'AST_TOV_Roll_std_a',\n",
       " 'PACE_Roll_mean_a',\n",
       " 'OKC_h',\n",
       " 'TM_TOV_PCT_Roll_median_a',\n",
       " 'POSS_Roll_median_a',\n",
       " 'EFG_PCT_Roll_median_a',\n",
       " 'TS_PCT_Roll_std_h',\n",
       " 'OREB_PCT_Roll_std_a',\n",
       " 'DREB_PCT_Roll_std_a',\n",
       " 'AST_TOV_Roll_mean_a',\n",
       " 'PACE_Roll_std_a',\n",
       " 'OFF_RATING_Roll_std_a',\n",
       " 'EFG_PCT_Roll_std_h',\n",
       " 'CLE_h',\n",
       " 'MIL_h',\n",
       " 'TM_TOV_PCT_Roll_std_a',\n",
       " 'AST_PCT_Roll_std_a',\n",
       " 'REB_PCT_Roll_std_a',\n",
       " 'DEN_a',\n",
       " 'OREB_PCT_Roll_median_a',\n",
       " 'REB_PCT_Roll_std_h',\n",
       " 'UTA_a',\n",
       " 'POSS_Roll_std_a',\n",
       " 'DEF_RATING_Roll_mean_a',\n",
       " 'PACE_Roll_median_a',\n",
       " 'SAS_a',\n",
       " 'POSS_Roll_mean_a',\n",
       " 'TM_TOV_PCT_Roll_mean_a',\n",
       " 'DEF_RATING_Roll_std_h',\n",
       " 'MIA_a',\n",
       " 'AST_PCT_Roll_std_h',\n",
       " 'TS_PCT_Roll_std_a',\n",
       " 'OFF_RATING_Roll_mean_a',\n",
       " 'OREB_PCT_Roll_mean_a',\n",
       " 'NYK_h',\n",
       " 'IND_h',\n",
       " 'MIA_h',\n",
       " 'AST_TOV_Roll_std_h',\n",
       " 'DREB_PCT_Roll_median_a',\n",
       " 'OFF_RATING_Roll_std_h',\n",
       " 'TS_PCT_Roll_mean_h',\n",
       " 'MIN_a',\n",
       " 'OFF_RATING_Roll_median_h',\n",
       " 'PACE_Roll_std_h',\n",
       " 'OREB_PCT_Roll_std_h',\n",
       " 'TM_TOV_PCT_Roll_std_h',\n",
       " 'DREB_PCT_Roll_mean_a',\n",
       " 'POR_a',\n",
       " 'MEM_a',\n",
       " 'TM_TOV_PCT_Roll_median_h',\n",
       " 'POSS_Roll_std_h',\n",
       " 'AST_PCT_Roll_mean_a',\n",
       " 'BOS_h',\n",
       " 'NET_RATING_Roll_mean_h',\n",
       " 'EFG_PCT_Roll_median_h',\n",
       " 'PACE_Roll_median_h',\n",
       " 'DREB_PCT_Roll_std_h',\n",
       " 'REB_PCT_Roll_median_h',\n",
       " 'TS_PCT_Roll_median_h',\n",
       " 'DEN_h',\n",
       " 'NOP_h',\n",
       " 'POR_h',\n",
       " 'CLE_a',\n",
       " 'DEF_RATING_Roll_median_h',\n",
       " 'POSS_Roll_median_h',\n",
       " 'PHI_h',\n",
       " 'CHI_h',\n",
       " 'DREB_PCT_Roll_median_h',\n",
       " 'SAC_h',\n",
       " 'AST_TOV_Roll_median_h',\n",
       " 'TOR_a',\n",
       " 'AST_PCT_Roll_median_h',\n",
       " 'LAL_h',\n",
       " 'OREB_PCT_Roll_median_h',\n",
       " 'LAC_h',\n",
       " 'CHI_a',\n",
       " 'ATL_h',\n",
       " 'DAL_h',\n",
       " 'MIL_a',\n",
       " 'HOU_h',\n",
       " 'PHI_a',\n",
       " 'PACE_Roll_mean_h',\n",
       " 'LAL_a',\n",
       " 'WAS_a',\n",
       " 'MEM_h',\n",
       " 'OKC_a',\n",
       " 'EFG_PCT_Roll_mean_h',\n",
       " 'POSS_Roll_mean_h',\n",
       " 'REB_PCT_Roll_mean_h',\n",
       " 'NYK_a',\n",
       " 'DET_a',\n",
       " 'SAC_a',\n",
       " 'TOR_h',\n",
       " 'MIN_h',\n",
       " 'TM_TOV_PCT_Roll_mean_h',\n",
       " 'LAC_a',\n",
       " 'ORL_a',\n",
       " 'DET_h',\n",
       " 'WAS_h',\n",
       " 'GSW_h',\n",
       " 'ATL_a',\n",
       " 'DREB_PCT_Roll_mean_h',\n",
       " 'BOS_a',\n",
       " 'OREB_PCT_Roll_mean_h',\n",
       " 'AST_TOV_Roll_mean_h',\n",
       " 'AST_PCT_Roll_mean_h',\n",
       " 'DEF_RATING_Roll_mean_h',\n",
       " 'OFF_RATING_Roll_mean_h']"
      ]
     },
     "execution_count": 44,
     "metadata": {},
     "output_type": "execute_result"
    }
   ],
   "source": [
    "ft_importance = dict(zip(X_train.columns,xg_model.feature_importances_))\n",
    "list(pd.DataFrame(dict(sorted(ft_importance.items(), key=lambda item: item[1], reverse=True)), index=[0]).columns)"
   ]
  },
  {
   "cell_type": "code",
   "execution_count": 45,
   "id": "9d20b497-87eb-4b7b-bc77-120c1e60f8d2",
   "metadata": {},
   "outputs": [
    {
     "data": {
      "text/plain": [
       "0.43408692136419"
      ]
     },
     "execution_count": 45,
     "metadata": {},
     "output_type": "execute_result"
    }
   ],
   "source": [
    "r2_score(y_test, np.round(xg_model.predict(X_test)))"
   ]
  },
  {
   "cell_type": "code",
   "execution_count": 46,
   "id": "d1d944de-9e77-422a-a7d6-aeffcc6260b5",
   "metadata": {},
   "outputs": [
    {
     "data": {
      "text/plain": [
       "0.998790570791004"
      ]
     },
     "execution_count": 46,
     "metadata": {},
     "output_type": "execute_result"
    }
   ],
   "source": [
    "r2_score(y_train, np.round(xg_model.predict(X_train)))"
   ]
  },
  {
   "cell_type": "code",
   "execution_count": 47,
   "id": "dcb42547-4737-45e4-b94a-595e8b600ef2",
   "metadata": {},
   "outputs": [],
   "source": [
    "rmse = mean_squared_error(y_test, xg_model.predict(X_test), squared=False)"
   ]
  },
  {
   "cell_type": "code",
   "execution_count": 48,
   "id": "55d0e7b3-06cf-4a00-8221-ca7b8fbdf10c",
   "metadata": {},
   "outputs": [
    {
     "data": {
      "text/plain": [
       "10.775873809564521"
      ]
     },
     "execution_count": 48,
     "metadata": {},
     "output_type": "execute_result"
    }
   ],
   "source": [
    "rmse"
   ]
  },
  {
   "cell_type": "code",
   "execution_count": 49,
   "id": "1dc10cfb-c363-4cea-81da-8d679967e88c",
   "metadata": {},
   "outputs": [
    {
     "ename": "NameError",
     "evalue": "name 'sns' is not defined",
     "output_type": "error",
     "traceback": [
      "\u001b[0;31m---------------------------------------------------------------------------\u001b[0m",
      "\u001b[0;31mNameError\u001b[0m                                 Traceback (most recent call last)",
      "Cell \u001b[0;32mIn[49], line 1\u001b[0m\n\u001b[0;32m----> 1\u001b[0m \u001b[43msns\u001b[49m\u001b[38;5;241m.\u001b[39mhistplot(pd\u001b[38;5;241m.\u001b[39mDataFrame({\u001b[38;5;124m'\u001b[39m\u001b[38;5;124my_pred\u001b[39m\u001b[38;5;124m'\u001b[39m:xg_model\u001b[38;5;241m.\u001b[39mpredict(X_test), \u001b[38;5;124m'\u001b[39m\u001b[38;5;124my_true\u001b[39m\u001b[38;5;124m'\u001b[39m:y_test}))\n",
      "\u001b[0;31mNameError\u001b[0m: name 'sns' is not defined"
     ]
    }
   ],
   "source": [
    "sns.histplot(pd.DataFrame({'y_pred':xg_model.predict(X_test), 'y_true':y_test}))"
   ]
  },
  {
   "cell_type": "code",
   "execution_count": 50,
   "id": "c4a70be8-279e-411b-bf01-f65e396c6897",
   "metadata": {
    "tags": []
   },
   "outputs": [
    {
     "ename": "NameError",
     "evalue": "name 'random_search' is not defined",
     "output_type": "error",
     "traceback": [
      "\u001b[0;31m---------------------------------------------------------------------------\u001b[0m",
      "\u001b[0;31mNameError\u001b[0m                                 Traceback (most recent call last)",
      "Cell \u001b[0;32mIn[50], line 1\u001b[0m\n\u001b[0;32m----> 1\u001b[0m \u001b[43mrandom_search\u001b[49m\u001b[38;5;241m.\u001b[39mfit(X_train, y_train)\n",
      "\u001b[0;31mNameError\u001b[0m: name 'random_search' is not defined"
     ]
    }
   ],
   "source": [
    "random_search.fit(X_train, y_train)"
   ]
  },
  {
   "cell_type": "code",
   "execution_count": 51,
   "id": "0f5bed57-68aa-4c5c-b7b9-bc4e0335611a",
   "metadata": {},
   "outputs": [
    {
     "ename": "NameError",
     "evalue": "name 'random_search' is not defined",
     "output_type": "error",
     "traceback": [
      "\u001b[0;31m---------------------------------------------------------------------------\u001b[0m",
      "\u001b[0;31mNameError\u001b[0m                                 Traceback (most recent call last)",
      "Cell \u001b[0;32mIn[51], line 1\u001b[0m\n\u001b[0;32m----> 1\u001b[0m best_random \u001b[38;5;241m=\u001b[39m \u001b[43mrandom_search\u001b[49m\u001b[38;5;241m.\u001b[39mbest_estimator_\n",
      "\u001b[0;31mNameError\u001b[0m: name 'random_search' is not defined"
     ]
    }
   ],
   "source": [
    "best_random = random_search.best_estimator_"
   ]
  },
  {
   "cell_type": "code",
   "execution_count": 52,
   "id": "85355818-2b90-438d-9d54-75211eddf94c",
   "metadata": {},
   "outputs": [
    {
     "ename": "NameError",
     "evalue": "name 'best_random' is not defined",
     "output_type": "error",
     "traceback": [
      "\u001b[0;31m---------------------------------------------------------------------------\u001b[0m",
      "\u001b[0;31mNameError\u001b[0m                                 Traceback (most recent call last)",
      "Cell \u001b[0;32mIn[52], line 1\u001b[0m\n\u001b[0;32m----> 1\u001b[0m predictions \u001b[38;5;241m=\u001b[39m \u001b[43mbest_random\u001b[49m\u001b[38;5;241m.\u001b[39mpredict(X_test)\n",
      "\u001b[0;31mNameError\u001b[0m: name 'best_random' is not defined"
     ]
    }
   ],
   "source": [
    "predictions = best_random.predict(X_test)"
   ]
  },
  {
   "cell_type": "code",
   "execution_count": 54,
   "id": "2c6c288d-c339-4e73-b710-e60145c52c10",
   "metadata": {},
   "outputs": [],
   "source": [
    "predictions = xg_model.predict(X_test)"
   ]
  },
  {
   "cell_type": "code",
   "execution_count": 57,
   "id": "884c21e7",
   "metadata": {},
   "outputs": [
    {
     "data": {
      "text/html": [
       "<div>\n",
       "<style scoped>\n",
       "    .dataframe tbody tr th:only-of-type {\n",
       "        vertical-align: middle;\n",
       "    }\n",
       "\n",
       "    .dataframe tbody tr th {\n",
       "        vertical-align: top;\n",
       "    }\n",
       "\n",
       "    .dataframe thead th {\n",
       "        text-align: right;\n",
       "    }\n",
       "</style>\n",
       "<table border=\"1\" class=\"dataframe\">\n",
       "  <thead>\n",
       "    <tr style=\"text-align: right;\">\n",
       "      <th></th>\n",
       "      <th>OFF_RATING_Roll_mean_h</th>\n",
       "      <th>DEF_RATING_Roll_mean_h</th>\n",
       "      <th>NET_RATING_Roll_mean_h</th>\n",
       "      <th>AST_PCT_Roll_mean_h</th>\n",
       "      <th>AST_TOV_Roll_mean_h</th>\n",
       "      <th>OREB_PCT_Roll_mean_h</th>\n",
       "      <th>DREB_PCT_Roll_mean_h</th>\n",
       "      <th>REB_PCT_Roll_mean_h</th>\n",
       "      <th>TM_TOV_PCT_Roll_mean_h</th>\n",
       "      <th>EFG_PCT_Roll_mean_h</th>\n",
       "      <th>...</th>\n",
       "      <th>OKC_a</th>\n",
       "      <th>ORL_a</th>\n",
       "      <th>PHI_a</th>\n",
       "      <th>PHX_a</th>\n",
       "      <th>POR_a</th>\n",
       "      <th>SAC_a</th>\n",
       "      <th>SAS_a</th>\n",
       "      <th>TOR_a</th>\n",
       "      <th>UTA_a</th>\n",
       "      <th>WAS_a</th>\n",
       "    </tr>\n",
       "  </thead>\n",
       "  <tbody>\n",
       "    <tr>\n",
       "      <th>5811</th>\n",
       "      <td>0.692593</td>\n",
       "      <td>0.613125</td>\n",
       "      <td>0.608850</td>\n",
       "      <td>0.449114</td>\n",
       "      <td>0.170512</td>\n",
       "      <td>0.778298</td>\n",
       "      <td>0.586703</td>\n",
       "      <td>0.689278</td>\n",
       "      <td>0.385987</td>\n",
       "      <td>0.553390</td>\n",
       "      <td>...</td>\n",
       "      <td>0.0</td>\n",
       "      <td>0.0</td>\n",
       "      <td>0.0</td>\n",
       "      <td>0.0</td>\n",
       "      <td>0.0</td>\n",
       "      <td>0.0</td>\n",
       "      <td>0.0</td>\n",
       "      <td>0.0</td>\n",
       "      <td>0.0</td>\n",
       "      <td>0.0</td>\n",
       "    </tr>\n",
       "    <tr>\n",
       "      <th>304</th>\n",
       "      <td>0.473478</td>\n",
       "      <td>0.713523</td>\n",
       "      <td>0.252859</td>\n",
       "      <td>0.573015</td>\n",
       "      <td>0.342511</td>\n",
       "      <td>0.510460</td>\n",
       "      <td>0.466541</td>\n",
       "      <td>0.386889</td>\n",
       "      <td>0.305732</td>\n",
       "      <td>0.342520</td>\n",
       "      <td>...</td>\n",
       "      <td>0.0</td>\n",
       "      <td>0.0</td>\n",
       "      <td>0.0</td>\n",
       "      <td>0.0</td>\n",
       "      <td>0.0</td>\n",
       "      <td>0.0</td>\n",
       "      <td>0.0</td>\n",
       "      <td>0.0</td>\n",
       "      <td>0.0</td>\n",
       "      <td>0.0</td>\n",
       "    </tr>\n",
       "    <tr>\n",
       "      <th>2824</th>\n",
       "      <td>0.438683</td>\n",
       "      <td>0.716139</td>\n",
       "      <td>0.294867</td>\n",
       "      <td>0.587848</td>\n",
       "      <td>0.203677</td>\n",
       "      <td>0.325527</td>\n",
       "      <td>0.369272</td>\n",
       "      <td>0.236324</td>\n",
       "      <td>0.346497</td>\n",
       "      <td>0.438136</td>\n",
       "      <td>...</td>\n",
       "      <td>0.0</td>\n",
       "      <td>0.0</td>\n",
       "      <td>0.0</td>\n",
       "      <td>0.0</td>\n",
       "      <td>0.0</td>\n",
       "      <td>0.0</td>\n",
       "      <td>0.0</td>\n",
       "      <td>0.0</td>\n",
       "      <td>0.0</td>\n",
       "      <td>0.0</td>\n",
       "    </tr>\n",
       "    <tr>\n",
       "      <th>2724</th>\n",
       "      <td>0.632922</td>\n",
       "      <td>0.613125</td>\n",
       "      <td>0.557522</td>\n",
       "      <td>0.573671</td>\n",
       "      <td>0.222422</td>\n",
       "      <td>0.580016</td>\n",
       "      <td>0.519317</td>\n",
       "      <td>0.506565</td>\n",
       "      <td>0.345223</td>\n",
       "      <td>0.600847</td>\n",
       "      <td>...</td>\n",
       "      <td>0.0</td>\n",
       "      <td>0.0</td>\n",
       "      <td>0.0</td>\n",
       "      <td>1.0</td>\n",
       "      <td>0.0</td>\n",
       "      <td>0.0</td>\n",
       "      <td>0.0</td>\n",
       "      <td>0.0</td>\n",
       "      <td>0.0</td>\n",
       "      <td>0.0</td>\n",
       "    </tr>\n",
       "    <tr>\n",
       "      <th>4193</th>\n",
       "      <td>0.710288</td>\n",
       "      <td>0.545975</td>\n",
       "      <td>0.685664</td>\n",
       "      <td>0.699241</td>\n",
       "      <td>0.373107</td>\n",
       "      <td>0.526932</td>\n",
       "      <td>0.545373</td>\n",
       "      <td>0.568928</td>\n",
       "      <td>0.266242</td>\n",
       "      <td>0.672034</td>\n",
       "      <td>...</td>\n",
       "      <td>0.0</td>\n",
       "      <td>0.0</td>\n",
       "      <td>0.0</td>\n",
       "      <td>0.0</td>\n",
       "      <td>0.0</td>\n",
       "      <td>0.0</td>\n",
       "      <td>0.0</td>\n",
       "      <td>0.0</td>\n",
       "      <td>0.0</td>\n",
       "      <td>0.0</td>\n",
       "    </tr>\n",
       "    <tr>\n",
       "      <th>...</th>\n",
       "      <td>...</td>\n",
       "      <td>...</td>\n",
       "      <td>...</td>\n",
       "      <td>...</td>\n",
       "      <td>...</td>\n",
       "      <td>...</td>\n",
       "      <td>...</td>\n",
       "      <td>...</td>\n",
       "      <td>...</td>\n",
       "      <td>...</td>\n",
       "      <td>...</td>\n",
       "      <td>...</td>\n",
       "      <td>...</td>\n",
       "      <td>...</td>\n",
       "      <td>...</td>\n",
       "      <td>...</td>\n",
       "      <td>...</td>\n",
       "      <td>...</td>\n",
       "      <td>...</td>\n",
       "      <td>...</td>\n",
       "      <td>...</td>\n",
       "    </tr>\n",
       "    <tr>\n",
       "      <th>2132</th>\n",
       "      <td>0.465217</td>\n",
       "      <td>0.460854</td>\n",
       "      <td>0.475899</td>\n",
       "      <td>0.634092</td>\n",
       "      <td>0.265969</td>\n",
       "      <td>0.575732</td>\n",
       "      <td>0.619227</td>\n",
       "      <td>0.628535</td>\n",
       "      <td>0.379618</td>\n",
       "      <td>0.345669</td>\n",
       "      <td>...</td>\n",
       "      <td>0.0</td>\n",
       "      <td>0.0</td>\n",
       "      <td>0.0</td>\n",
       "      <td>0.0</td>\n",
       "      <td>0.0</td>\n",
       "      <td>0.0</td>\n",
       "      <td>0.0</td>\n",
       "      <td>0.0</td>\n",
       "      <td>0.0</td>\n",
       "      <td>0.0</td>\n",
       "    </tr>\n",
       "    <tr>\n",
       "      <th>4300</th>\n",
       "      <td>0.565432</td>\n",
       "      <td>0.513163</td>\n",
       "      <td>0.592212</td>\n",
       "      <td>0.680000</td>\n",
       "      <td>0.220620</td>\n",
       "      <td>0.610461</td>\n",
       "      <td>0.777179</td>\n",
       "      <td>0.764770</td>\n",
       "      <td>0.416561</td>\n",
       "      <td>0.550000</td>\n",
       "      <td>...</td>\n",
       "      <td>0.0</td>\n",
       "      <td>0.0</td>\n",
       "      <td>0.0</td>\n",
       "      <td>0.0</td>\n",
       "      <td>0.0</td>\n",
       "      <td>0.0</td>\n",
       "      <td>0.0</td>\n",
       "      <td>1.0</td>\n",
       "      <td>0.0</td>\n",
       "      <td>0.0</td>\n",
       "    </tr>\n",
       "    <tr>\n",
       "      <th>5247</th>\n",
       "      <td>0.501235</td>\n",
       "      <td>0.574590</td>\n",
       "      <td>0.480000</td>\n",
       "      <td>0.623291</td>\n",
       "      <td>0.291276</td>\n",
       "      <td>0.470726</td>\n",
       "      <td>0.343217</td>\n",
       "      <td>0.297593</td>\n",
       "      <td>0.207643</td>\n",
       "      <td>0.404237</td>\n",
       "      <td>...</td>\n",
       "      <td>0.0</td>\n",
       "      <td>0.0</td>\n",
       "      <td>0.0</td>\n",
       "      <td>0.0</td>\n",
       "      <td>0.0</td>\n",
       "      <td>0.0</td>\n",
       "      <td>0.0</td>\n",
       "      <td>0.0</td>\n",
       "      <td>0.0</td>\n",
       "      <td>0.0</td>\n",
       "    </tr>\n",
       "    <tr>\n",
       "      <th>325</th>\n",
       "      <td>0.596087</td>\n",
       "      <td>0.544484</td>\n",
       "      <td>0.522467</td>\n",
       "      <td>0.348140</td>\n",
       "      <td>0.134361</td>\n",
       "      <td>0.455230</td>\n",
       "      <td>0.480679</td>\n",
       "      <td>0.479434</td>\n",
       "      <td>0.619108</td>\n",
       "      <td>0.693701</td>\n",
       "      <td>...</td>\n",
       "      <td>0.0</td>\n",
       "      <td>0.0</td>\n",
       "      <td>0.0</td>\n",
       "      <td>0.0</td>\n",
       "      <td>0.0</td>\n",
       "      <td>0.0</td>\n",
       "      <td>0.0</td>\n",
       "      <td>0.0</td>\n",
       "      <td>0.0</td>\n",
       "      <td>0.0</td>\n",
       "    </tr>\n",
       "    <tr>\n",
       "      <th>2265</th>\n",
       "      <td>0.510435</td>\n",
       "      <td>0.485765</td>\n",
       "      <td>0.495915</td>\n",
       "      <td>0.359800</td>\n",
       "      <td>0.297907</td>\n",
       "      <td>0.553138</td>\n",
       "      <td>0.613572</td>\n",
       "      <td>0.640103</td>\n",
       "      <td>0.280255</td>\n",
       "      <td>0.396850</td>\n",
       "      <td>...</td>\n",
       "      <td>0.0</td>\n",
       "      <td>0.0</td>\n",
       "      <td>0.0</td>\n",
       "      <td>0.0</td>\n",
       "      <td>0.0</td>\n",
       "      <td>0.0</td>\n",
       "      <td>0.0</td>\n",
       "      <td>0.0</td>\n",
       "      <td>0.0</td>\n",
       "      <td>1.0</td>\n",
       "    </tr>\n",
       "  </tbody>\n",
       "</table>\n",
       "<p>1766 rows × 138 columns</p>\n",
       "</div>"
      ],
      "text/plain": [
       "      OFF_RATING_Roll_mean_h  DEF_RATING_Roll_mean_h  NET_RATING_Roll_mean_h  \\\n",
       "5811                0.692593                0.613125                0.608850   \n",
       "304                 0.473478                0.713523                0.252859   \n",
       "2824                0.438683                0.716139                0.294867   \n",
       "2724                0.632922                0.613125                0.557522   \n",
       "4193                0.710288                0.545975                0.685664   \n",
       "...                      ...                     ...                     ...   \n",
       "2132                0.465217                0.460854                0.475899   \n",
       "4300                0.565432                0.513163                0.592212   \n",
       "5247                0.501235                0.574590                0.480000   \n",
       "325                 0.596087                0.544484                0.522467   \n",
       "2265                0.510435                0.485765                0.495915   \n",
       "\n",
       "      AST_PCT_Roll_mean_h  AST_TOV_Roll_mean_h  OREB_PCT_Roll_mean_h  \\\n",
       "5811             0.449114             0.170512              0.778298   \n",
       "304              0.573015             0.342511              0.510460   \n",
       "2824             0.587848             0.203677              0.325527   \n",
       "2724             0.573671             0.222422              0.580016   \n",
       "4193             0.699241             0.373107              0.526932   \n",
       "...                   ...                  ...                   ...   \n",
       "2132             0.634092             0.265969              0.575732   \n",
       "4300             0.680000             0.220620              0.610461   \n",
       "5247             0.623291             0.291276              0.470726   \n",
       "325              0.348140             0.134361              0.455230   \n",
       "2265             0.359800             0.297907              0.553138   \n",
       "\n",
       "      DREB_PCT_Roll_mean_h  REB_PCT_Roll_mean_h  TM_TOV_PCT_Roll_mean_h  \\\n",
       "5811              0.586703             0.689278                0.385987   \n",
       "304               0.466541             0.386889                0.305732   \n",
       "2824              0.369272             0.236324                0.346497   \n",
       "2724              0.519317             0.506565                0.345223   \n",
       "4193              0.545373             0.568928                0.266242   \n",
       "...                    ...                  ...                     ...   \n",
       "2132              0.619227             0.628535                0.379618   \n",
       "4300              0.777179             0.764770                0.416561   \n",
       "5247              0.343217             0.297593                0.207643   \n",
       "325               0.480679             0.479434                0.619108   \n",
       "2265              0.613572             0.640103                0.280255   \n",
       "\n",
       "      EFG_PCT_Roll_mean_h  ...  OKC_a  ORL_a  PHI_a  PHX_a  POR_a  SAC_a  \\\n",
       "5811             0.553390  ...    0.0    0.0    0.0    0.0    0.0    0.0   \n",
       "304              0.342520  ...    0.0    0.0    0.0    0.0    0.0    0.0   \n",
       "2824             0.438136  ...    0.0    0.0    0.0    0.0    0.0    0.0   \n",
       "2724             0.600847  ...    0.0    0.0    0.0    1.0    0.0    0.0   \n",
       "4193             0.672034  ...    0.0    0.0    0.0    0.0    0.0    0.0   \n",
       "...                   ...  ...    ...    ...    ...    ...    ...    ...   \n",
       "2132             0.345669  ...    0.0    0.0    0.0    0.0    0.0    0.0   \n",
       "4300             0.550000  ...    0.0    0.0    0.0    0.0    0.0    0.0   \n",
       "5247             0.404237  ...    0.0    0.0    0.0    0.0    0.0    0.0   \n",
       "325              0.693701  ...    0.0    0.0    0.0    0.0    0.0    0.0   \n",
       "2265             0.396850  ...    0.0    0.0    0.0    0.0    0.0    0.0   \n",
       "\n",
       "      SAS_a  TOR_a  UTA_a  WAS_a  \n",
       "5811    0.0    0.0    0.0    0.0  \n",
       "304     0.0    0.0    0.0    0.0  \n",
       "2824    0.0    0.0    0.0    0.0  \n",
       "2724    0.0    0.0    0.0    0.0  \n",
       "4193    0.0    0.0    0.0    0.0  \n",
       "...     ...    ...    ...    ...  \n",
       "2132    0.0    0.0    0.0    0.0  \n",
       "4300    0.0    1.0    0.0    0.0  \n",
       "5247    0.0    0.0    0.0    0.0  \n",
       "325     0.0    0.0    0.0    0.0  \n",
       "2265    0.0    0.0    0.0    1.0  \n",
       "\n",
       "[1766 rows x 138 columns]"
      ]
     },
     "execution_count": 57,
     "metadata": {},
     "output_type": "execute_result"
    }
   ],
   "source": [
    "X_test"
   ]
  },
  {
   "cell_type": "code",
   "execution_count": 56,
   "id": "95f25ef2",
   "metadata": {},
   "outputs": [
    {
     "data": {
      "text/plain": [
       "(1766,)"
      ]
     },
     "execution_count": 56,
     "metadata": {},
     "output_type": "execute_result"
    }
   ],
   "source": [
    "predictions"
   ]
  },
  {
   "cell_type": "code",
   "execution_count": 260,
   "id": "ce9906e0-2bf4-4398-b38b-3faadac4ef38",
   "metadata": {},
   "outputs": [
    {
     "data": {
      "text/plain": [
       "0.47807273709081766"
      ]
     },
     "execution_count": 260,
     "metadata": {},
     "output_type": "execute_result"
    }
   ],
   "source": [
    "r2_score(y_test, np.round(best_random.predict(X_test)))"
   ]
  },
  {
   "cell_type": "code",
   "execution_count": 264,
   "id": "4cf292a5-fcf2-456a-b048-da99641df12a",
   "metadata": {},
   "outputs": [],
   "source": [
    "from sklearn.metrics import mean_squared_error\n",
    "rmse = mean_squared_error(y_test, best_random.predict(X_test), squared=False)"
   ]
  },
  {
   "cell_type": "code",
   "execution_count": 265,
   "id": "48b8652f-6fb9-4ea0-8163-bc5a4e2852ef",
   "metadata": {},
   "outputs": [
    {
     "data": {
      "text/plain": [
       "10.342202199782951"
      ]
     },
     "execution_count": 265,
     "metadata": {},
     "output_type": "execute_result"
    }
   ],
   "source": [
    "rmse"
   ]
  },
  {
   "cell_type": "code",
   "execution_count": 266,
   "id": "1762e691-54ac-499b-a5d5-0eefb15efd62",
   "metadata": {},
   "outputs": [],
   "source": [
    "import seaborn as sns"
   ]
  },
  {
   "cell_type": "code",
   "execution_count": 267,
   "id": "e0e52999-c71a-4a32-9468-8bbd33dca952",
   "metadata": {},
   "outputs": [
    {
     "data": {
      "text/plain": [
       "<Axes: ylabel='Count'>"
      ]
     },
     "execution_count": 267,
     "metadata": {},
     "output_type": "execute_result"
    },
    {
     "data": {
      "image/png": "[encoded data removed]",
      "text/plain": [
       "<Figure size 640x480 with 1 Axes>"
      ]
     },
     "metadata": {},
     "output_type": "display_data"
    }
   ],
   "source": [
    "sns.histplot(pd.DataFrame({'y_pred':preds, 'y_true':y_test}))"
   ]
  },
  {
   "cell_type": "code",
   "execution_count": null,
   "id": "015af078-eb50-4aaf-8fc1-bdaf05e62dad",
   "metadata": {},
   "outputs": [],
   "source": [
    "sns.scatterplot"
   ]
  }
 ],
 "metadata": {
  "kernelspec": {
   "display_name": "Python 3 (ipykernel)",
   "language": "python",
   "name": "python3"
  },
  "language_info": {
   "codemirror_mode": {
    "name": "ipython",
    "version": 3
   },
   "file_extension": ".py",
   "mimetype": "text/x-python",
   "name": "python",
   "nbconvert_exporter": "python",
   "pygments_lexer": "ipython3",
   "version": "3.10.6"
  },
  "toc": {
   "base_numbering": 1,
   "nav_menu": {},
   "number_sections": true,
   "sideBar": true,
   "skip_h1_title": false,
   "title_cell": "Table of Contents",
   "title_sidebar": "Contents",
   "toc_cell": false,
   "toc_position": {},
   "toc_section_display": true,
   "toc_window_display": false
  }
 },
 "nbformat": 4,
 "nbformat_minor": 5
}
