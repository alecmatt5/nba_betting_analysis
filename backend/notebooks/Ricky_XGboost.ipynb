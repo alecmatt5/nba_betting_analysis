{
 "cells": [
  {
   "cell_type": "code",
   "execution_count": 202,
   "id": "ba1997f8-90a5-40d9-814e-58d06b591e92",
   "metadata": {},
   "outputs": [],
   "source": [
    "from xgboost import XGBRegressor\n",
    "import pandas as pd\n",
    "from sklearn.linear_model import Lasso\n",
    "from sklearn.model_selection import train_test_split\n",
    "from sklearn.model_selection import RandomizedSearchCV"
   ]
  },
  {
   "cell_type": "code",
   "execution_count": null,
   "id": "65c3d9aa-58d5-4a3e-bc0e-779cd69147bc",
   "metadata": {},
   "outputs": [],
   "source": [
    "from sklearn.metrics import mean_squared_error"
   ]
  },
  {
   "cell_type": "code",
   "execution_count": null,
   "id": "3fcbf397-4968-45fc-b3e8-e15dbb1625bd",
   "metadata": {},
   "outputs": [],
   "source": [
    "from sklearn.model_selection import cross_val_score"
   ]
  },
  {
   "cell_type": "code",
   "execution_count": 103,
   "id": "b43f7efc-536c-44f9-be41-91165a909d12",
   "metadata": {},
   "outputs": [],
   "source": [
    "from sklearn.metrics import r2_score"
   ]
  },
  {
   "cell_type": "code",
   "execution_count": 32,
   "id": "73977ce9-52aa-4447-8e29-9cb61c9fc64c",
   "metadata": {},
   "outputs": [],
   "source": [
    "import numpy as np"
   ]
  },
  {
   "cell_type": "code",
   "execution_count": 27,
   "id": "2b523d02-954d-4036-8917-f48bd622050d",
   "metadata": {},
   "outputs": [],
   "source": [
    "from scipy.stats import randint"
   ]
  },
  {
   "cell_type": "code",
   "execution_count": 3,
   "id": "623083c0-c553-45f1-b8d0-751165e1be5a",
   "metadata": {},
   "outputs": [],
   "source": [
    "param = {'max_depth': 2, 'eta': 1, 'objective': 'binary:logistic'}\n",
    "param['nthread'] = 4\n",
    "param['eval_metric'] = ['auc',  'ams@0']"
   ]
  },
  {
   "cell_type": "code",
   "execution_count": 76,
   "id": "4588d6e4-fd60-4205-9323-5943acd99396",
   "metadata": {},
   "outputs": [],
   "source": [
    "X_advanced='../data/pkl/X_PREPROC_ADVANCED_TEAM_ALL'\n",
    "y_advanced='../data/pkl/y_ADVANCED_TEAM_ALL'"
   ]
  },
  {
   "cell_type": "code",
   "execution_count": 181,
   "id": "d659eeb5-c4c3-45c2-8d02-ee5c9b6a764f",
   "metadata": {},
   "outputs": [
    {
     "ename": "SyntaxError",
     "evalue": "incomplete input (3070079718.py, line 29)",
     "output_type": "error",
     "traceback": [
      "\u001b[0;36m  Cell \u001b[0;32mIn[181], line 29\u001b[0;36m\u001b[0m\n\u001b[0;31m    '''XG boost team based, WARNING THIS XGBOOST REQUIRES CATEGORICAL DATA TO NOT BE OHE;\u001b[0m\n\u001b[0m    ^\u001b[0m\n\u001b[0;31mSyntaxError\u001b[0m\u001b[0;31m:\u001b[0m incomplete input\n"
     ]
    }
   ],
   "source": [
    "def make_baseline_lasso(X_path, y_path, alpha=0.5):\n",
    "    \n",
    "    '''scikit learn lasso regression, returns r2score, model, X_train, X_test, y_train, y_test'''\n",
    "    \n",
    "    X = pd.read_pickle(X_path)\n",
    "    y = pd.read_pickle(y_path)\n",
    "\n",
    "    X_train, X_test, y_train, y_test = train_test_split(X, y, random_state=0, test_size=0.3)\n",
    "\n",
    "    clf = Lasso(alpha)\n",
    "    clf.fit(X_train, y_train)\n",
    "\n",
    "    scores = cross_val_score(clf, X_train, y_train, cv=5)\n",
    "\n",
    "    return (np.mean(scores), clf, X_train, X_test, y_train, y_test)\n",
    "\n",
    "def make_permutations(model, X_test, y_test, repeats=30, random_state=None):\n",
    "    r_list = []\n",
    "    r = permutation_importance(clf, X_test, y_test,n_repeats=30,random_state=0)\n",
    "    for i in r.importances_mean.argsort()[::-1]:\n",
    "        if r.importances_mean[i] - 2 * r.importances_std[i] > 0:\n",
    "            r_list.append(f\"{X.columns[i]}\"\n",
    "                   f\"{r.importances_mean[i]:.3f}\"\n",
    "                   f\" +/- {r.importances_std[i]:.3f}\")\n",
    "    return r_list\n",
    "\n",
    "def make_team_xgboost(X_path, y_path, n_iters):\n",
    "    \n",
    "    '''XG boost team based, WARNING THIS XGBOOST REQUIRES CATEGORICAL DATA TO NOT BE OHE;\n",
    "    Returns the rmse, xg_model, X_train, X_test, y_train, y_test'''\n",
    "    \n",
    "    df_train = pd.read_pickle(\"../data/pkl/X_ADV_XGBOOST_TEAM_ALL\")\n",
    "    df_train[\"TEAM_ABBREVIATION_h\"] = df_train[\"TEAM_ABBREVIATION_h\"].astype(\"category\")\n",
    "    df_train[\"TEAM_ABBREVIATION_a\"] = df_train[\"TEAM_ABBREVIATION_a\"].astype(\"category\")\n",
    "    df_target = pd.read_pickle(\"../data/pkl/y_ADV_XGBOOST_TEAM_ALL\")\n",
    "    X_train, X_test, y_train, y_test = train_test_split(df_train, df_target, random_state=0, test_size=0.3)\n",
    "    dtrain_reg = xgb.DMatrix(X_train, y_train, enable_categorical=True)\n",
    "    dtest_reg = xgb.DMatrix(X_test, y_test, enable_categorical=True)\n",
    "    params = {\"objective\": \"reg:squarederror\", \"tree_method\": \"hist\"}\n",
    "    evals = [(dtest_reg, \"validation\"), (dtrain_reg, \"train\")]\n",
    "    xg_model = xgb.train( params=params,dtrain=dtrain_reg,num_boost_round=n_iters, evals=evals, verbose_eval=False)\n",
    "    \n",
    "    rmse = mean_squared_error(y_test, predictions, squared=False)\n",
    "    return xg_model"
   ]
  },
  {
   "cell_type": "code",
   "execution_count": 105,
   "id": "cd65efce-cb3d-470b-ac56-80d5a81af82f",
   "metadata": {},
   "outputs": [
    {
     "data": {
      "text/plain": [
       "0.7596077869486921"
      ]
     },
     "execution_count": 105,
     "metadata": {},
     "output_type": "execute_result"
    }
   ],
   "source": [
    "r2_score(y_test, np.round(model.predict(X_test)))"
   ]
  },
  {
   "cell_type": "code",
   "execution_count": 96,
   "id": "2f3df528-f508-4596-b11b-80594f2961e4",
   "metadata": {},
   "outputs": [],
   "source": [
    "score_mean, model, X_train, X_test, y_train, y_test = make_baseline_lasso(X_advanced, y_advanced, alpha=0.5)"
   ]
  },
  {
   "cell_type": "code",
   "execution_count": 99,
   "id": "4aa4f09f-49b1-403b-adce-8893287104c7",
   "metadata": {},
   "outputs": [
    {
     "data": {
      "text/plain": [
       "['NET_RATING_h0.379 +/- 0.012',\n",
       " 'DEF_RATING_h0.275 +/- 0.007',\n",
       " 'OFF_RATING_h0.182 +/- 0.006',\n",
       " 'NET_RATING_a0.002 +/- 0.000']"
      ]
     },
     "execution_count": 99,
     "metadata": {},
     "output_type": "execute_result"
    }
   ],
   "source": [
    "make_permutations(model, X_test, y_test, repeats=30, random_state=0)"
   ]
  },
  {
   "cell_type": "code",
   "execution_count": 313,
   "id": "d7def1a9-cf65-4d84-8348-f4649be7bd4b",
   "metadata": {},
   "outputs": [],
   "source": [
    "df_train = pd.read_pickle(\"../data/pkl/X_PREPROC_ADVANCED_TEAM_ALL\")\n",
    "# df_train[\"TEAM_ABBREVIATION_h\"] = df_train[\"TEAM_ABBREVIATION_h\"].astype(\"category\")\n",
    "# df_train[\"TEAM_ABBREVIATION_a\"] = df_train[\"TEAM_ABBREVIATION_a\"].astype(\"category\")\n",
    "columns_drop = ['OFF_RATING_h',\n",
    " 'DEF_RATING_h',\n",
    " 'NET_RATING_h',\n",
    " 'AST_PCT_h',\n",
    " 'AST_TOV_h',\n",
    " 'OREB_PCT_h',\n",
    " 'DREB_PCT_h',\n",
    " 'REB_PCT_h',\n",
    " 'TM_TOV_PCT_h',\n",
    " 'EFG_PCT_h',\n",
    " 'TS_PCT_h',\n",
    " 'PACE_h',\n",
    " 'POSS_h','OFF_RATING_a',\n",
    " 'DEF_RATING_a',\n",
    " 'NET_RATING_a',\n",
    " 'AST_PCT_a',\n",
    " 'AST_TOV_a',\n",
    " 'OREB_PCT_a',\n",
    " 'DREB_PCT_a',\n",
    " 'REB_PCT_a',\n",
    " 'TM_TOV_PCT_a',\n",
    " 'EFG_PCT_a',\n",
    " 'TS_PCT_a',\n",
    " 'PACE_a',\n",
    " 'POSS_a']\n",
    "df_train = df_train.drop(columns_drop, axis=1)\n",
    "df_target = pd.read_pickle(\"../data/pkl/y_ADVANCED_TEAM_ALL\")\n",
    "X_train, X_test, y_train, y_test = train_test_split(df_train, df_target, random_state=0, test_size=0.3)"
   ]
  },
  {
   "cell_type": "code",
   "execution_count": 314,
   "id": "d9b1076c-8013-4c5d-ae6b-583abd2fafda",
   "metadata": {
    "tags": []
   },
   "outputs": [
    {
     "data": {
      "text/plain": [
       "Index(['OFF_RATING_Roll_mean_h', 'DEF_RATING_Roll_mean_h',\n",
       "       'NET_RATING_Roll_mean_h', 'AST_PCT_Roll_mean_h', 'AST_TOV_Roll_mean_h',\n",
       "       'OREB_PCT_Roll_mean_h', 'DREB_PCT_Roll_mean_h', 'REB_PCT_Roll_mean_h',\n",
       "       'TM_TOV_PCT_Roll_mean_h', 'EFG_PCT_Roll_mean_h',\n",
       "       ...\n",
       "       'OKC_a', 'ORL_a', 'PHI_a', 'PHX_a', 'POR_a', 'SAC_a', 'SAS_a', 'TOR_a',\n",
       "       'UTA_a', 'WAS_a'],\n",
       "      dtype='object', length=138)"
      ]
     },
     "execution_count": 314,
     "metadata": {},
     "output_type": "execute_result"
    }
   ],
   "source": [
    "X_train.columns"
   ]
  },
  {
   "cell_type": "code",
   "execution_count": 315,
   "id": "3459a0e7-25b3-4e39-a093-33ca78937275",
   "metadata": {},
   "outputs": [],
   "source": [
    "dtrain_reg = xgb.DMatrix(X_train, y_train, enable_categorical=True)\n",
    "\n",
    "dtest_reg = xgb.DMatrix(X_test, y_test, enable_categorical=True)"
   ]
  },
  {
   "cell_type": "code",
   "execution_count": 440,
   "id": "a85f2518-fa52-4de6-836b-8238c490cdc7",
   "metadata": {},
   "outputs": [],
   "source": [
    "params = {'n_estimators': 600, 'max_depth': 20, 'learning_rate': 0.04350000000000002, 'subsample':0.2, 'gamma': 0.3, 'max_leaves':2}\n",
    "evals = [(dtest_reg, \"validation\"), (dtrain_reg, \"train\")]"
   ]
  },
  {
   "cell_type": "code",
   "execution_count": 446,
   "id": "5d6ab968-6636-4356-8793-658c6363c07a",
   "metadata": {},
   "outputs": [],
   "source": [
    "n_iter_search = 500\n",
    "#reg = XGBRegressor(nthread=-1)\n",
    "xg_model = XGBRegressor(subsample= 0.39, reg_lambda= 0.02829999999999995,reg_alpha=0.03329999999999998, objective= 'reg:pseudohubererror', n_estimators= 647, max_depth=32, \n",
    "                        learning_rate = 0.021399999999999992, huber_slope=4.5600000000000005, n_jobs=-1)\n",
    "# random_search = RandomizedSearchCV(reg, param_distributions=params,\n",
    "#                                    n_iter=n_iter_search, cv=5, scoring='neg_mean_squared_error', n_jobs=)"
   ]
  },
  {
   "cell_type": "code",
   "execution_count": 447,
   "id": "dc655255-00c2-4c68-934f-7c6e74cb06a4",
   "metadata": {},
   "outputs": [
    {
     "data": {
      "text/html": [
       "<style>#sk-container-id-34 {color: black;background-color: white;}#sk-container-id-34 pre{padding: 0;}#sk-container-id-34 div.sk-toggleable {background-color: white;}#sk-container-id-34 label.sk-toggleable__label {cursor: pointer;display: block;width: 100%;margin-bottom: 0;padding: 0.3em;box-sizing: border-box;text-align: center;}#sk-container-id-34 label.sk-toggleable__label-arrow:before {content: \"▸\";float: left;margin-right: 0.25em;color: #696969;}#sk-container-id-34 label.sk-toggleable__label-arrow:hover:before {color: black;}#sk-container-id-34 div.sk-estimator:hover label.sk-toggleable__label-arrow:before {color: black;}#sk-container-id-34 div.sk-toggleable__content {max-height: 0;max-width: 0;overflow: hidden;text-align: left;background-color: #f0f8ff;}#sk-container-id-34 div.sk-toggleable__content pre {margin: 0.2em;color: black;border-radius: 0.25em;background-color: #f0f8ff;}#sk-container-id-34 input.sk-toggleable__control:checked~div.sk-toggleable__content {max-height: 200px;max-width: 100%;overflow: auto;}#sk-container-id-34 input.sk-toggleable__control:checked~label.sk-toggleable__label-arrow:before {content: \"▾\";}#sk-container-id-34 div.sk-estimator input.sk-toggleable__control:checked~label.sk-toggleable__label {background-color: #d4ebff;}#sk-container-id-34 div.sk-label input.sk-toggleable__control:checked~label.sk-toggleable__label {background-color: #d4ebff;}#sk-container-id-34 input.sk-hidden--visually {border: 0;clip: rect(1px 1px 1px 1px);clip: rect(1px, 1px, 1px, 1px);height: 1px;margin: -1px;overflow: hidden;padding: 0;position: absolute;width: 1px;}#sk-container-id-34 div.sk-estimator {font-family: monospace;background-color: #f0f8ff;border: 1px dotted black;border-radius: 0.25em;box-sizing: border-box;margin-bottom: 0.5em;}#sk-container-id-34 div.sk-estimator:hover {background-color: #d4ebff;}#sk-container-id-34 div.sk-parallel-item::after {content: \"\";width: 100%;border-bottom: 1px solid gray;flex-grow: 1;}#sk-container-id-34 div.sk-label:hover label.sk-toggleable__label {background-color: #d4ebff;}#sk-container-id-34 div.sk-serial::before {content: \"\";position: absolute;border-left: 1px solid gray;box-sizing: border-box;top: 0;bottom: 0;left: 50%;z-index: 0;}#sk-container-id-34 div.sk-serial {display: flex;flex-direction: column;align-items: center;background-color: white;padding-right: 0.2em;padding-left: 0.2em;position: relative;}#sk-container-id-34 div.sk-item {position: relative;z-index: 1;}#sk-container-id-34 div.sk-parallel {display: flex;align-items: stretch;justify-content: center;background-color: white;position: relative;}#sk-container-id-34 div.sk-item::before, #sk-container-id-34 div.sk-parallel-item::before {content: \"\";position: absolute;border-left: 1px solid gray;box-sizing: border-box;top: 0;bottom: 0;left: 50%;z-index: -1;}#sk-container-id-34 div.sk-parallel-item {display: flex;flex-direction: column;z-index: 1;position: relative;background-color: white;}#sk-container-id-34 div.sk-parallel-item:first-child::after {align-self: flex-end;width: 50%;}#sk-container-id-34 div.sk-parallel-item:last-child::after {align-self: flex-start;width: 50%;}#sk-container-id-34 div.sk-parallel-item:only-child::after {width: 0;}#sk-container-id-34 div.sk-dashed-wrapped {border: 1px dashed gray;margin: 0 0.4em 0.5em 0.4em;box-sizing: border-box;padding-bottom: 0.4em;background-color: white;}#sk-container-id-34 div.sk-label label {font-family: monospace;font-weight: bold;display: inline-block;line-height: 1.2em;}#sk-container-id-34 div.sk-label-container {text-align: center;}#sk-container-id-34 div.sk-container {/* jupyter's `normalize.less` sets `[hidden] { display: none; }` but bootstrap.min.css set `[hidden] { display: none !important; }` so we also need the `!important` here to be able to override the default hidden behavior on the sphinx rendered scikit-learn.org. See: https://github.com/scikit-learn/scikit-learn/issues/21755 */display: inline-block !important;position: relative;}#sk-container-id-34 div.sk-text-repr-fallback {display: none;}</style><div id=\"sk-container-id-34\" class=\"sk-top-container\"><div class=\"sk-text-repr-fallback\"><pre>XGBRegressor(base_score=None, booster=None, callbacks=None,\n",
       "             colsample_bylevel=None, colsample_bynode=None,\n",
       "             colsample_bytree=None, early_stopping_rounds=None,\n",
       "             enable_categorical=False, eval_metric=None, feature_types=None,\n",
       "             gamma=None, gpu_id=None, grow_policy=None,\n",
       "             huber_slope=4.5600000000000005, importance_type=None,\n",
       "             interaction_constraints=None, learning_rate=0.021399999999999992,\n",
       "             max_bin=None, max_cat_threshold=None, max_cat_to_onehot=None,\n",
       "             max_delta_step=None, max_depth=32, max_leaves=None,\n",
       "             min_child_weight=None, missing=nan, monotone_constraints=None,\n",
       "             n_estimators=647, n_jobs=-1, num_parallel_tree=None,\n",
       "             objective=&#x27;reg:pseudohubererror&#x27;, ...)</pre><b>In a Jupyter environment, please rerun this cell to show the HTML representation or trust the notebook. <br />On GitHub, the HTML representation is unable to render, please try loading this page with nbviewer.org.</b></div><div class=\"sk-container\" hidden><div class=\"sk-item\"><div class=\"sk-estimator sk-toggleable\"><input class=\"sk-toggleable__control sk-hidden--visually\" id=\"sk-estimator-id-38\" type=\"checkbox\" checked><label for=\"sk-estimator-id-38\" class=\"sk-toggleable__label sk-toggleable__label-arrow\">XGBRegressor</label><div class=\"sk-toggleable__content\"><pre>XGBRegressor(base_score=None, booster=None, callbacks=None,\n",
       "             colsample_bylevel=None, colsample_bynode=None,\n",
       "             colsample_bytree=None, early_stopping_rounds=None,\n",
       "             enable_categorical=False, eval_metric=None, feature_types=None,\n",
       "             gamma=None, gpu_id=None, grow_policy=None,\n",
       "             huber_slope=4.5600000000000005, importance_type=None,\n",
       "             interaction_constraints=None, learning_rate=0.021399999999999992,\n",
       "             max_bin=None, max_cat_threshold=None, max_cat_to_onehot=None,\n",
       "             max_delta_step=None, max_depth=32, max_leaves=None,\n",
       "             min_child_weight=None, missing=nan, monotone_constraints=None,\n",
       "             n_estimators=647, n_jobs=-1, num_parallel_tree=None,\n",
       "             objective=&#x27;reg:pseudohubererror&#x27;, ...)</pre></div></div></div></div></div>"
      ],
      "text/plain": [
       "XGBRegressor(base_score=None, booster=None, callbacks=None,\n",
       "             colsample_bylevel=None, colsample_bynode=None,\n",
       "             colsample_bytree=None, early_stopping_rounds=None,\n",
       "             enable_categorical=False, eval_metric=None, feature_types=None,\n",
       "             gamma=None, gpu_id=None, grow_policy=None,\n",
       "             huber_slope=4.5600000000000005, importance_type=None,\n",
       "             interaction_constraints=None, learning_rate=0.021399999999999992,\n",
       "             max_bin=None, max_cat_threshold=None, max_cat_to_onehot=None,\n",
       "             max_delta_step=None, max_depth=32, max_leaves=None,\n",
       "             min_child_weight=None, missing=nan, monotone_constraints=None,\n",
       "             n_estimators=647, n_jobs=-1, num_parallel_tree=None,\n",
       "             objective='reg:pseudohubererror', ...)"
      ]
     },
     "execution_count": 447,
     "metadata": {},
     "output_type": "execute_result"
    }
   ],
   "source": [
    "xg_model.fit(X_train, y_train)"
   ]
  },
  {
   "cell_type": "code",
   "execution_count": 448,
   "id": "321cdeda-6092-4580-9b8b-703b16e7fd49",
   "metadata": {},
   "outputs": [
    {
     "data": {
      "text/plain": [
       "array([0.38533494, 0.44817289, 0.38687145, 0.39593415, 0.48936437])"
      ]
     },
     "execution_count": 448,
     "metadata": {},
     "output_type": "execute_result"
    }
   ],
   "source": [
    "cross_val_score(xg_model, X_train, y_train, cv=5)"
   ]
  },
  {
   "cell_type": "code",
   "execution_count": 449,
   "id": "0c3ec6d8-39d8-499c-a6b1-4a30cb9c5aab",
   "metadata": {},
   "outputs": [
    {
     "data": {
      "text/plain": [
       "['CHA_h',\n",
       " 'NET_RATING_Roll_median_a',\n",
       " 'NET_RATING_Roll_median_h',\n",
       " 'NET_RATING_Roll_mean_a',\n",
       " 'NET_RATING_Roll_std_a',\n",
       " 'HOU_a',\n",
       " 'NET_RATING_Roll_std_h',\n",
       " 'PHX_a',\n",
       " 'SAS_h',\n",
       " 'DEF_RATING_Roll_median_a',\n",
       " 'DEF_RATING_Roll_std_a',\n",
       " 'CHA_a',\n",
       " 'ORL_h',\n",
       " 'OFF_RATING_Roll_median_a',\n",
       " 'PHX_h',\n",
       " 'REB_PCT_Roll_median_a',\n",
       " 'TS_PCT_Roll_mean_a',\n",
       " 'GSW_a',\n",
       " 'EFG_PCT_Roll_std_a',\n",
       " 'AST_PCT_Roll_median_a',\n",
       " 'NOP_a',\n",
       " 'DAL_a',\n",
       " 'UTA_h',\n",
       " 'AST_TOV_Roll_median_a',\n",
       " 'BKN_h',\n",
       " 'EFG_PCT_Roll_mean_a',\n",
       " 'TS_PCT_Roll_median_a',\n",
       " 'BKN_a',\n",
       " 'IND_a',\n",
       " 'REB_PCT_Roll_mean_a',\n",
       " 'AST_TOV_Roll_std_a',\n",
       " 'PACE_Roll_mean_a',\n",
       " 'OKC_h',\n",
       " 'TM_TOV_PCT_Roll_median_a',\n",
       " 'POSS_Roll_median_a',\n",
       " 'EFG_PCT_Roll_median_a',\n",
       " 'TS_PCT_Roll_std_h',\n",
       " 'OREB_PCT_Roll_std_a',\n",
       " 'DREB_PCT_Roll_std_a',\n",
       " 'AST_TOV_Roll_mean_a',\n",
       " 'PACE_Roll_std_a',\n",
       " 'OFF_RATING_Roll_std_a',\n",
       " 'EFG_PCT_Roll_std_h',\n",
       " 'CLE_h',\n",
       " 'MIL_h',\n",
       " 'TM_TOV_PCT_Roll_std_a',\n",
       " 'AST_PCT_Roll_std_a',\n",
       " 'REB_PCT_Roll_std_a',\n",
       " 'DEN_a',\n",
       " 'OREB_PCT_Roll_median_a',\n",
       " 'REB_PCT_Roll_std_h',\n",
       " 'UTA_a',\n",
       " 'POSS_Roll_std_a',\n",
       " 'DEF_RATING_Roll_mean_a',\n",
       " 'PACE_Roll_median_a',\n",
       " 'SAS_a',\n",
       " 'POSS_Roll_mean_a',\n",
       " 'TM_TOV_PCT_Roll_mean_a',\n",
       " 'DEF_RATING_Roll_std_h',\n",
       " 'MIA_a',\n",
       " 'AST_PCT_Roll_std_h',\n",
       " 'TS_PCT_Roll_std_a',\n",
       " 'OFF_RATING_Roll_mean_a',\n",
       " 'OREB_PCT_Roll_mean_a',\n",
       " 'NYK_h',\n",
       " 'IND_h',\n",
       " 'MIA_h',\n",
       " 'AST_TOV_Roll_std_h',\n",
       " 'DREB_PCT_Roll_median_a',\n",
       " 'OFF_RATING_Roll_std_h',\n",
       " 'TS_PCT_Roll_mean_h',\n",
       " 'MIN_a',\n",
       " 'OFF_RATING_Roll_median_h',\n",
       " 'PACE_Roll_std_h',\n",
       " 'OREB_PCT_Roll_std_h',\n",
       " 'TM_TOV_PCT_Roll_std_h',\n",
       " 'DREB_PCT_Roll_mean_a',\n",
       " 'POR_a',\n",
       " 'MEM_a',\n",
       " 'TM_TOV_PCT_Roll_median_h',\n",
       " 'POSS_Roll_std_h',\n",
       " 'AST_PCT_Roll_mean_a',\n",
       " 'BOS_h',\n",
       " 'NET_RATING_Roll_mean_h',\n",
       " 'EFG_PCT_Roll_median_h',\n",
       " 'PACE_Roll_median_h',\n",
       " 'DREB_PCT_Roll_std_h',\n",
       " 'REB_PCT_Roll_median_h',\n",
       " 'TS_PCT_Roll_median_h',\n",
       " 'DEN_h',\n",
       " 'NOP_h',\n",
       " 'POR_h',\n",
       " 'CLE_a',\n",
       " 'DEF_RATING_Roll_median_h',\n",
       " 'POSS_Roll_median_h',\n",
       " 'PHI_h',\n",
       " 'CHI_h',\n",
       " 'DREB_PCT_Roll_median_h',\n",
       " 'SAC_h',\n",
       " 'AST_TOV_Roll_median_h',\n",
       " 'TOR_a',\n",
       " 'AST_PCT_Roll_median_h',\n",
       " 'LAL_h',\n",
       " 'OREB_PCT_Roll_median_h',\n",
       " 'LAC_h',\n",
       " 'CHI_a',\n",
       " 'ATL_h',\n",
       " 'DAL_h',\n",
       " 'MIL_a',\n",
       " 'HOU_h',\n",
       " 'PHI_a',\n",
       " 'PACE_Roll_mean_h',\n",
       " 'LAL_a',\n",
       " 'WAS_a',\n",
       " 'MEM_h',\n",
       " 'OKC_a',\n",
       " 'EFG_PCT_Roll_mean_h',\n",
       " 'POSS_Roll_mean_h',\n",
       " 'REB_PCT_Roll_mean_h',\n",
       " 'NYK_a',\n",
       " 'DET_a',\n",
       " 'SAC_a',\n",
       " 'TOR_h',\n",
       " 'MIN_h',\n",
       " 'TM_TOV_PCT_Roll_mean_h',\n",
       " 'LAC_a',\n",
       " 'ORL_a',\n",
       " 'DET_h',\n",
       " 'WAS_h',\n",
       " 'GSW_h',\n",
       " 'ATL_a',\n",
       " 'DREB_PCT_Roll_mean_h',\n",
       " 'BOS_a',\n",
       " 'OREB_PCT_Roll_mean_h',\n",
       " 'AST_TOV_Roll_mean_h',\n",
       " 'AST_PCT_Roll_mean_h',\n",
       " 'DEF_RATING_Roll_mean_h',\n",
       " 'OFF_RATING_Roll_mean_h']"
      ]
     },
     "execution_count": 449,
     "metadata": {},
     "output_type": "execute_result"
    }
   ],
   "source": [
    "ft_importance = dict(zip(X_train.columns,xg_model.feature_importances_))\n",
    "list(pd.DataFrame(dict(sorted(ft_importance.items(), key=lambda item: item[1], reverse=True)), index=[0]).columns)"
   ]
  },
  {
   "cell_type": "code",
   "execution_count": 450,
   "id": "9d20b497-87eb-4b7b-bc77-120c1e60f8d2",
   "metadata": {},
   "outputs": [
    {
     "data": {
      "text/plain": [
       "0.43408692136419"
      ]
     },
     "execution_count": 450,
     "metadata": {},
     "output_type": "execute_result"
    }
   ],
   "source": [
    "r2_score(y_test, np.round(xg_model.predict(X_test)))"
   ]
  },
  {
   "cell_type": "code",
   "execution_count": 451,
   "id": "d1d944de-9e77-422a-a7d6-aeffcc6260b5",
   "metadata": {},
   "outputs": [
    {
     "data": {
      "text/plain": [
       "0.998790570791004"
      ]
     },
     "execution_count": 451,
     "metadata": {},
     "output_type": "execute_result"
    }
   ],
   "source": [
    "r2_score(y_train, np.round(xg_model.predict(X_train)))"
   ]
  },
  {
   "cell_type": "code",
   "execution_count": 452,
   "id": "dcb42547-4737-45e4-b94a-595e8b600ef2",
   "metadata": {},
   "outputs": [],
   "source": [
    "rmse = mean_squared_error(y_test, xg_model.predict(X_test), squared=False)"
   ]
  },
  {
   "cell_type": "code",
   "execution_count": 453,
   "id": "55d0e7b3-06cf-4a00-8221-ca7b8fbdf10c",
   "metadata": {},
   "outputs": [
    {
     "data": {
      "text/plain": [
       "10.775873809564521"
      ]
     },
     "execution_count": 453,
     "metadata": {},
     "output_type": "execute_result"
    }
   ],
   "source": [
    "rmse"
   ]
  },
  {
   "cell_type": "code",
   "execution_count": 454,
   "id": "1dc10cfb-c363-4cea-81da-8d679967e88c",
   "metadata": {},
   "outputs": [
    {
     "data": {
      "text/plain": [
       "<Axes: ylabel='Count'>"
      ]
     },
     "execution_count": 454,
     "metadata": {},
     "output_type": "execute_result"
    },
    {
     "data": {
      "image/png": "[encoded data removed]",
      "text/plain": [
       "<Figure size 640x480 with 1 Axes>"
      ]
     },
     "metadata": {},
     "output_type": "display_data"
    }
   ],
   "source": [
    "sns.histplot(pd.DataFrame({'y_pred':xg_model.predict(X_test), 'y_true':y_test}))"
   ]
  },
  {
   "cell_type": "code",
   "execution_count": 276,
   "id": "c4a70be8-279e-411b-bf01-f65e396c6897",
   "metadata": {
    "tags": []
   },
   "outputs": [
    {
     "data": {
      "text/html": [
       "<style>#sk-container-id-7 {color: black;background-color: white;}#sk-container-id-7 pre{padding: 0;}#sk-container-id-7 div.sk-toggleable {background-color: white;}#sk-container-id-7 label.sk-toggleable__label {cursor: pointer;display: block;width: 100%;margin-bottom: 0;padding: 0.3em;box-sizing: border-box;text-align: center;}#sk-container-id-7 label.sk-toggleable__label-arrow:before {content: \"▸\";float: left;margin-right: 0.25em;color: #696969;}#sk-container-id-7 label.sk-toggleable__label-arrow:hover:before {color: black;}#sk-container-id-7 div.sk-estimator:hover label.sk-toggleable__label-arrow:before {color: black;}#sk-container-id-7 div.sk-toggleable__content {max-height: 0;max-width: 0;overflow: hidden;text-align: left;background-color: #f0f8ff;}#sk-container-id-7 div.sk-toggleable__content pre {margin: 0.2em;color: black;border-radius: 0.25em;background-color: #f0f8ff;}#sk-container-id-7 input.sk-toggleable__control:checked~div.sk-toggleable__content {max-height: 200px;max-width: 100%;overflow: auto;}#sk-container-id-7 input.sk-toggleable__control:checked~label.sk-toggleable__label-arrow:before {content: \"▾\";}#sk-container-id-7 div.sk-estimator input.sk-toggleable__control:checked~label.sk-toggleable__label {background-color: #d4ebff;}#sk-container-id-7 div.sk-label input.sk-toggleable__control:checked~label.sk-toggleable__label {background-color: #d4ebff;}#sk-container-id-7 input.sk-hidden--visually {border: 0;clip: rect(1px 1px 1px 1px);clip: rect(1px, 1px, 1px, 1px);height: 1px;margin: -1px;overflow: hidden;padding: 0;position: absolute;width: 1px;}#sk-container-id-7 div.sk-estimator {font-family: monospace;background-color: #f0f8ff;border: 1px dotted black;border-radius: 0.25em;box-sizing: border-box;margin-bottom: 0.5em;}#sk-container-id-7 div.sk-estimator:hover {background-color: #d4ebff;}#sk-container-id-7 div.sk-parallel-item::after {content: \"\";width: 100%;border-bottom: 1px solid gray;flex-grow: 1;}#sk-container-id-7 div.sk-label:hover label.sk-toggleable__label {background-color: #d4ebff;}#sk-container-id-7 div.sk-serial::before {content: \"\";position: absolute;border-left: 1px solid gray;box-sizing: border-box;top: 0;bottom: 0;left: 50%;z-index: 0;}#sk-container-id-7 div.sk-serial {display: flex;flex-direction: column;align-items: center;background-color: white;padding-right: 0.2em;padding-left: 0.2em;position: relative;}#sk-container-id-7 div.sk-item {position: relative;z-index: 1;}#sk-container-id-7 div.sk-parallel {display: flex;align-items: stretch;justify-content: center;background-color: white;position: relative;}#sk-container-id-7 div.sk-item::before, #sk-container-id-7 div.sk-parallel-item::before {content: \"\";position: absolute;border-left: 1px solid gray;box-sizing: border-box;top: 0;bottom: 0;left: 50%;z-index: -1;}#sk-container-id-7 div.sk-parallel-item {display: flex;flex-direction: column;z-index: 1;position: relative;background-color: white;}#sk-container-id-7 div.sk-parallel-item:first-child::after {align-self: flex-end;width: 50%;}#sk-container-id-7 div.sk-parallel-item:last-child::after {align-self: flex-start;width: 50%;}#sk-container-id-7 div.sk-parallel-item:only-child::after {width: 0;}#sk-container-id-7 div.sk-dashed-wrapped {border: 1px dashed gray;margin: 0 0.4em 0.5em 0.4em;box-sizing: border-box;padding-bottom: 0.4em;background-color: white;}#sk-container-id-7 div.sk-label label {font-family: monospace;font-weight: bold;display: inline-block;line-height: 1.2em;}#sk-container-id-7 div.sk-label-container {text-align: center;}#sk-container-id-7 div.sk-container {/* jupyter's `normalize.less` sets `[hidden] { display: none; }` but bootstrap.min.css set `[hidden] { display: none !important; }` so we also need the `!important` here to be able to override the default hidden behavior on the sphinx rendered scikit-learn.org. See: https://github.com/scikit-learn/scikit-learn/issues/21755 */display: inline-block !important;position: relative;}#sk-container-id-7 div.sk-text-repr-fallback {display: none;}</style><div id=\"sk-container-id-7\" class=\"sk-top-container\"><div class=\"sk-text-repr-fallback\"><pre>RandomizedSearchCV(cv=5,\n",
       "                   estimator=XGBRegressor(base_score=None, booster=None,\n",
       "                                          callbacks=None,\n",
       "                                          colsample_bylevel=None,\n",
       "                                          colsample_bynode=None,\n",
       "                                          colsample_bytree=None,\n",
       "                                          early_stopping_rounds=None,\n",
       "                                          enable_categorical=False,\n",
       "                                          eval_metric=None, feature_types=None,\n",
       "                                          gamma=None, gpu_id=None,\n",
       "                                          grow_policy=None,\n",
       "                                          importance_type=None,\n",
       "                                          interaction_constraints=None,\n",
       "                                          learning_rate=...\n",
       "                                          max_cat_threshold=None,\n",
       "                                          max_cat_to_onehot=None,\n",
       "                                          max_delta_step=None, max_depth=None,\n",
       "                                          max_leaves=None,\n",
       "                                          min_child_weight=None, missing=nan,\n",
       "                                          monotone_constraints=None,\n",
       "                                          n_estimators=100, n_jobs=None,\n",
       "                                          nthread=-1, num_parallel_tree=None,\n",
       "                                          predictor=None, ...),\n",
       "                   n_iter=100,\n",
       "                   param_distributions={&#x27;learning_rate&#x27;: [0.001, 0.005, 0.01,\n",
       "                                                          0.1],\n",
       "                                        &#x27;n_estimators&#x27;: [500]},\n",
       "                   scoring=&#x27;neg_mean_squared_error&#x27;)</pre><b>In a Jupyter environment, please rerun this cell to show the HTML representation or trust the notebook. <br />On GitHub, the HTML representation is unable to render, please try loading this page with nbviewer.org.</b></div><div class=\"sk-container\" hidden><div class=\"sk-item sk-dashed-wrapped\"><div class=\"sk-label-container\"><div class=\"sk-label sk-toggleable\"><input class=\"sk-toggleable__control sk-hidden--visually\" id=\"sk-estimator-id-9\" type=\"checkbox\" ><label for=\"sk-estimator-id-9\" class=\"sk-toggleable__label sk-toggleable__label-arrow\">RandomizedSearchCV</label><div class=\"sk-toggleable__content\"><pre>RandomizedSearchCV(cv=5,\n",
       "                   estimator=XGBRegressor(base_score=None, booster=None,\n",
       "                                          callbacks=None,\n",
       "                                          colsample_bylevel=None,\n",
       "                                          colsample_bynode=None,\n",
       "                                          colsample_bytree=None,\n",
       "                                          early_stopping_rounds=None,\n",
       "                                          enable_categorical=False,\n",
       "                                          eval_metric=None, feature_types=None,\n",
       "                                          gamma=None, gpu_id=None,\n",
       "                                          grow_policy=None,\n",
       "                                          importance_type=None,\n",
       "                                          interaction_constraints=None,\n",
       "                                          learning_rate=...\n",
       "                                          max_cat_threshold=None,\n",
       "                                          max_cat_to_onehot=None,\n",
       "                                          max_delta_step=None, max_depth=None,\n",
       "                                          max_leaves=None,\n",
       "                                          min_child_weight=None, missing=nan,\n",
       "                                          monotone_constraints=None,\n",
       "                                          n_estimators=100, n_jobs=None,\n",
       "                                          nthread=-1, num_parallel_tree=None,\n",
       "                                          predictor=None, ...),\n",
       "                   n_iter=100,\n",
       "                   param_distributions={&#x27;learning_rate&#x27;: [0.001, 0.005, 0.01,\n",
       "                                                          0.1],\n",
       "                                        &#x27;n_estimators&#x27;: [500]},\n",
       "                   scoring=&#x27;neg_mean_squared_error&#x27;)</pre></div></div></div><div class=\"sk-parallel\"><div class=\"sk-parallel-item\"><div class=\"sk-item\"><div class=\"sk-label-container\"><div class=\"sk-label sk-toggleable\"><input class=\"sk-toggleable__control sk-hidden--visually\" id=\"sk-estimator-id-10\" type=\"checkbox\" ><label for=\"sk-estimator-id-10\" class=\"sk-toggleable__label sk-toggleable__label-arrow\">estimator: XGBRegressor</label><div class=\"sk-toggleable__content\"><pre>XGBRegressor(base_score=None, booster=None, callbacks=None,\n",
       "             colsample_bylevel=None, colsample_bynode=None,\n",
       "             colsample_bytree=None, early_stopping_rounds=None,\n",
       "             enable_categorical=False, eval_metric=None, feature_types=None,\n",
       "             gamma=None, gpu_id=None, grow_policy=None, importance_type=None,\n",
       "             interaction_constraints=None, learning_rate=None, max_bin=None,\n",
       "             max_cat_threshold=None, max_cat_to_onehot=None,\n",
       "             max_delta_step=None, max_depth=None, max_leaves=None,\n",
       "             min_child_weight=None, missing=nan, monotone_constraints=None,\n",
       "             n_estimators=100, n_jobs=None, nthread=-1, num_parallel_tree=None,\n",
       "             predictor=None, ...)</pre></div></div></div><div class=\"sk-serial\"><div class=\"sk-item\"><div class=\"sk-estimator sk-toggleable\"><input class=\"sk-toggleable__control sk-hidden--visually\" id=\"sk-estimator-id-11\" type=\"checkbox\" ><label for=\"sk-estimator-id-11\" class=\"sk-toggleable__label sk-toggleable__label-arrow\">XGBRegressor</label><div class=\"sk-toggleable__content\"><pre>XGBRegressor(base_score=None, booster=None, callbacks=None,\n",
       "             colsample_bylevel=None, colsample_bynode=None,\n",
       "             colsample_bytree=None, early_stopping_rounds=None,\n",
       "             enable_categorical=False, eval_metric=None, feature_types=None,\n",
       "             gamma=None, gpu_id=None, grow_policy=None, importance_type=None,\n",
       "             interaction_constraints=None, learning_rate=None, max_bin=None,\n",
       "             max_cat_threshold=None, max_cat_to_onehot=None,\n",
       "             max_delta_step=None, max_depth=None, max_leaves=None,\n",
       "             min_child_weight=None, missing=nan, monotone_constraints=None,\n",
       "             n_estimators=100, n_jobs=None, nthread=-1, num_parallel_tree=None,\n",
       "             predictor=None, ...)</pre></div></div></div></div></div></div></div></div></div></div>"
      ],
      "text/plain": [
       "RandomizedSearchCV(cv=5,\n",
       "                   estimator=XGBRegressor(base_score=None, booster=None,\n",
       "                                          callbacks=None,\n",
       "                                          colsample_bylevel=None,\n",
       "                                          colsample_bynode=None,\n",
       "                                          colsample_bytree=None,\n",
       "                                          early_stopping_rounds=None,\n",
       "                                          enable_categorical=False,\n",
       "                                          eval_metric=None, feature_types=None,\n",
       "                                          gamma=None, gpu_id=None,\n",
       "                                          grow_policy=None,\n",
       "                                          importance_type=None,\n",
       "                                          interaction_constraints=None,\n",
       "                                          learning_rate=...\n",
       "                                          max_cat_threshold=None,\n",
       "                                          max_cat_to_onehot=None,\n",
       "                                          max_delta_step=None, max_depth=None,\n",
       "                                          max_leaves=None,\n",
       "                                          min_child_weight=None, missing=nan,\n",
       "                                          monotone_constraints=None,\n",
       "                                          n_estimators=100, n_jobs=None,\n",
       "                                          nthread=-1, num_parallel_tree=None,\n",
       "                                          predictor=None, ...),\n",
       "                   n_iter=100,\n",
       "                   param_distributions={'learning_rate': [0.001, 0.005, 0.01,\n",
       "                                                          0.1],\n",
       "                                        'n_estimators': [500]},\n",
       "                   scoring='neg_mean_squared_error')"
      ]
     },
     "execution_count": 276,
     "metadata": {},
     "output_type": "execute_result"
    }
   ],
   "source": [
    "random_search.fit(X_train, y_train)"
   ]
  },
  {
   "cell_type": "code",
   "execution_count": 277,
   "id": "0f5bed57-68aa-4c5c-b7b9-bc4e0335611a",
   "metadata": {},
   "outputs": [],
   "source": [
    "best_random = random_search.best_estimator_"
   ]
  },
  {
   "cell_type": "code",
   "execution_count": 259,
   "id": "85355818-2b90-438d-9d54-75211eddf94c",
   "metadata": {},
   "outputs": [
    {
     "data": {
      "text/plain": [
       "array([  2.1804829 ,   2.9207299 , -22.246914  , ...,  -0.10886419,\n",
       "         2.3736324 ,   2.1483138 ], dtype=float32)"
      ]
     },
     "execution_count": 259,
     "metadata": {},
     "output_type": "execute_result"
    }
   ],
   "source": [
    "best_random.predict(X_test)"
   ]
  },
  {
   "cell_type": "code",
   "execution_count": 195,
   "id": "2c6c288d-c339-4e73-b710-e60145c52c10",
   "metadata": {},
   "outputs": [],
   "source": [
    "#predictions = xg_model.predict(dtest_reg)"
   ]
  },
  {
   "cell_type": "code",
   "execution_count": 260,
   "id": "ce9906e0-2bf4-4398-b38b-3faadac4ef38",
   "metadata": {},
   "outputs": [
    {
     "data": {
      "text/plain": [
       "0.47807273709081766"
      ]
     },
     "execution_count": 260,
     "metadata": {},
     "output_type": "execute_result"
    }
   ],
   "source": [
    "r2_score(y_test, np.round(best_random.predict(X_test)))"
   ]
  },
  {
   "cell_type": "code",
   "execution_count": 264,
   "id": "4cf292a5-fcf2-456a-b048-da99641df12a",
   "metadata": {},
   "outputs": [],
   "source": [
    "from sklearn.metrics import mean_squared_error\n",
    "rmse = mean_squared_error(y_test, best_random.predict(X_test), squared=False)"
   ]
  },
  {
   "cell_type": "code",
   "execution_count": 265,
   "id": "48b8652f-6fb9-4ea0-8163-bc5a4e2852ef",
   "metadata": {},
   "outputs": [
    {
     "data": {
      "text/plain": [
       "10.342202199782951"
      ]
     },
     "execution_count": 265,
     "metadata": {},
     "output_type": "execute_result"
    }
   ],
   "source": [
    "rmse"
   ]
  },
  {
   "cell_type": "code",
   "execution_count": 266,
   "id": "1762e691-54ac-499b-a5d5-0eefb15efd62",
   "metadata": {},
   "outputs": [],
   "source": [
    "import seaborn as sns"
   ]
  },
  {
   "cell_type": "code",
   "execution_count": 267,
   "id": "e0e52999-c71a-4a32-9468-8bbd33dca952",
   "metadata": {},
   "outputs": [
    {
     "data": {
      "text/plain": [
       "<Axes: ylabel='Count'>"
      ]
     },
     "execution_count": 267,
     "metadata": {},
     "output_type": "execute_result"
    },
    {
     "data": {
      "image/png": "[encoded data removed]",
      "text/plain": [
       "<Figure size 640x480 with 1 Axes>"
      ]
     },
     "metadata": {},
     "output_type": "display_data"
    }
   ],
   "source": [
    "sns.histplot(pd.DataFrame({'y_pred':preds, 'y_true':y_test}))"
   ]
  },
  {
   "cell_type": "code",
   "execution_count": null,
   "id": "015af078-eb50-4aaf-8fc1-bdaf05e62dad",
   "metadata": {},
   "outputs": [],
   "source": [
    "sns.scatterplot"
   ]
  }
 ],
 "metadata": {
  "kernelspec": {
   "display_name": "Python 3 (ipykernel)",
   "language": "python",
   "name": "python3"
  },
  "language_info": {
   "codemirror_mode": {
    "name": "ipython",
    "version": 3
   },
   "file_extension": ".py",
   "mimetype": "text/x-python",
   "name": "python",
   "nbconvert_exporter": "python",
   "pygments_lexer": "ipython3",
   "version": "3.10.6"
  }
 },
 "nbformat": 4,
 "nbformat_minor": 5
}
