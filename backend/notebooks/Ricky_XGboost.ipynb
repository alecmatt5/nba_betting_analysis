{
 "cells": [
  {
   "cell_type": "code",
   "execution_count": 24,
   "id": "ba1997f8-90a5-40d9-814e-58d06b591e92",
   "metadata": {},
   "outputs": [],
   "source": [
    "import xgboost as xgb\n",
    "import pandas as pd\n",
    "from sklearn.linear_model import Lasso\n",
    "from sklearn.model_selection import train_test_split\n",
    "from sklearn.model_selection import RandomizedSearchCV"
   ]
  },
  {
   "cell_type": "code",
   "execution_count": 32,
   "id": "73977ce9-52aa-4447-8e29-9cb61c9fc64c",
   "metadata": {},
   "outputs": [],
   "source": [
    "import numpy as np"
   ]
  },
  {
   "cell_type": "code",
   "execution_count": 27,
   "id": "2b523d02-954d-4036-8917-f48bd622050d",
   "metadata": {},
   "outputs": [],
   "source": [
    "from scipy.stats import randint"
   ]
  },
  {
   "cell_type": "code",
   "execution_count": 3,
   "id": "623083c0-c553-45f1-b8d0-751165e1be5a",
   "metadata": {},
   "outputs": [],
   "source": [
    "param = {'max_depth': 2, 'eta': 1, 'objective': 'binary:logistic'}\n",
    "param['nthread'] = 4\n",
    "param['eval_metric'] = ['auc',  'ams@0']"
   ]
  },
  {
   "cell_type": "code",
   "execution_count": 76,
   "id": "4588d6e4-fd60-4205-9323-5943acd99396",
   "metadata": {},
   "outputs": [],
   "source": [
    "X_advanced='../data/pkl/X_PREPROC_ADVANCED_TEAM_ALL'\n",
    "y_advanced='../data/pkl/y_ADVANCED_TEAM_ALL'"
   ]
  },
  {
   "cell_type": "code",
   "execution_count": 95,
   "id": "d659eeb5-c4c3-45c2-8d02-ee5c9b6a764f",
   "metadata": {},
   "outputs": [],
   "source": [
    "def make_baseline_lasso(X_path, y_path, alpha=0.5):\n",
    "    X = pd.read_pickle(X_path)\n",
    "    y = pd.read_pickle(y_path)\n",
    "\n",
    "    X_train, X_test, y_train, y_test = train_test_split(X, y, random_state=0, test_size=0.3)\n",
    "\n",
    "    clf = Lasso(alpha)\n",
    "    clf.fit(X_train, y_train)\n",
    "\n",
    "    from sklearn.model_selection import cross_val_score\n",
    "    scores = cross_val_score(clf, X_train, y_train, cv=5)\n",
    "\n",
    "    return (np.mean(scores), clf, X_train, X_test, y_train, y_test)\n",
    "\n",
    "def make_permutations(model, X_test, y_test, repeats=30, random_state=None):\n",
    "    r_list = []\n",
    "    r = permutation_importance(clf, X_test, y_test,n_repeats=30,random_state=0)\n",
    "    for i in r.importances_mean.argsort()[::-1]:\n",
    "        if r.importances_mean[i] - 2 * r.importances_std[i] > 0:\n",
    "            r_list.append(f\"{X.columns[i]}\"\n",
    "                   f\"{r.importances_mean[i]:.3f}\"\n",
    "                   f\" +/- {r.importances_std[i]:.3f}\")\n",
    "    return r_list"
   ]
  },
  {
   "cell_type": "code",
   "execution_count": 96,
   "id": "2f3df528-f508-4596-b11b-80594f2961e4",
   "metadata": {},
   "outputs": [],
   "source": [
    "score_mean, model, X_train, X_test, y_train, y_test = make_baseline_lasso(X_advanced, y_advanced, alpha=0.5)"
   ]
  },
  {
   "cell_type": "code",
   "execution_count": 99,
   "id": "4aa4f09f-49b1-403b-adce-8893287104c7",
   "metadata": {},
   "outputs": [
    {
     "data": {
      "text/plain": [
       "['NET_RATING_h0.379 +/- 0.012',\n",
       " 'DEF_RATING_h0.275 +/- 0.007',\n",
       " 'OFF_RATING_h0.182 +/- 0.006',\n",
       " 'NET_RATING_a0.002 +/- 0.000']"
      ]
     },
     "execution_count": 99,
     "metadata": {},
     "output_type": "execute_result"
    }
   ],
   "source": [
    "make_permutations(model, X_test, y_test, repeats=30, random_state=0)"
   ]
  },
  {
   "cell_type": "code",
   "execution_count": null,
   "id": "ec7119db-7cc6-4c8c-a68b-47a241dfa87f",
   "metadata": {},
   "outputs": [],
   "source": [
    "label = pd.DataFrame(np.random.randint(2, size=4))\n",
    "dtrain = xgb.DMatrix(data, label=label)"
   ]
  }
 ],
 "metadata": {
  "kernelspec": {
   "display_name": "Python 3 (ipykernel)",
   "language": "python",
   "name": "python3"
  },
  "language_info": {
   "codemirror_mode": {
    "name": "ipython",
    "version": 3
   },
   "file_extension": ".py",
   "mimetype": "text/x-python",
   "name": "python",
   "nbconvert_exporter": "python",
   "pygments_lexer": "ipython3",
   "version": "3.10.6"
  }
 },
 "nbformat": 4,
 "nbformat_minor": 5
}
