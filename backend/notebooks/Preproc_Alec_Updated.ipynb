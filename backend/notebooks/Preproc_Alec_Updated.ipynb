{
 "cells": [
  {
   "cell_type": "code",
   "execution_count": 1,
   "id": "4cb0cf37",
   "metadata": {},
   "outputs": [],
   "source": [
    "import pandas as pd\n",
    "import numpy as np"
   ]
  },
  {
   "cell_type": "code",
   "execution_count": 2,
   "id": "dccafbed",
   "metadata": {},
   "outputs": [],
   "source": [
    "basic = pd.read_pickle('../data/pkl/raw_games_5yrs.pkl')\n",
    "advanced = pd.read_pickle('../data/pkl/boxscores_advanced_team_part2.pkl')"
   ]
  },
  {
   "cell_type": "code",
   "execution_count": 3,
   "id": "ff9a6cda",
   "metadata": {},
   "outputs": [],
   "source": [
    "basic = basic.sort_values(by=['GAME_DATE', 'GAME_ID'], ascending=False).reset_index(drop=True)"
   ]
  },
  {
   "cell_type": "code",
   "execution_count": 4,
   "id": "45d39975",
   "metadata": {},
   "outputs": [],
   "source": [
    "basic.columns"
   ]
  },
  {
   "cell_type": "code",
   "execution_count": 5,
   "id": "0309efc6",
   "metadata": {},
   "outputs": [],
   "source": [
    "games_df = basic[['TEAM_ID', 'TEAM_ABBREVIATION', 'GAME_ID', 'GAME_DATE', 'HOME_TEAM', 'PTS', 'PLUS_MINUS']].copy()\n",
    "games_df.head()"
   ]
  },
  {
   "cell_type": "code",
   "execution_count": 6,
   "id": "9e5c539a",
   "metadata": {},
   "outputs": [],
   "source": [
    "advanced.head()"
   ]
  },
  {
   "cell_type": "code",
   "execution_count": 7,
   "id": "88bdbe74",
   "metadata": {},
   "outputs": [],
   "source": [
    "advanced.columns"
   ]
  },
  {
   "cell_type": "code",
   "execution_count": 8,
   "id": "3af5c95d",
   "metadata": {},
   "outputs": [],
   "source": [
    "columns_to_drop = ['TEAM_CITY', 'MIN', 'E_OFF_RATING', 'E_DEF_RATING', \n",
    "                   'E_NET_RATING', 'AST_RATIO', 'E_TM_TOV_PCT', 'USG_PCT', \n",
    "                   'E_USG_PCT', 'E_PACE', 'PACE_PER40', 'PIE']"
   ]
  },
  {
   "cell_type": "code",
   "execution_count": 9,
   "id": "56c671a5",
   "metadata": {
    "scrolled": true
   },
   "outputs": [],
   "source": [
    "advanced = advanced.drop(columns=columns_to_drop)\n",
    "advanced"
   ]
  },
  {
   "cell_type": "code",
   "execution_count": 10,
   "id": "8e85ea0a",
   "metadata": {},
   "outputs": [],
   "source": [
    "advanced['GAME_ID'] = advanced['GAME_ID'].astype('int32')"
   ]
  },
  {
   "cell_type": "code",
   "execution_count": 11,
   "id": "3e50448b",
   "metadata": {},
   "outputs": [],
   "source": [
    "advanced = advanced.merge(games_df.drop(columns=['TEAM_ID']), on=['GAME_ID', 'TEAM_ABBREVIATION'])"
   ]
  },
  {
   "cell_type": "code",
   "execution_count": 12,
   "id": "676bb948",
   "metadata": {},
   "outputs": [],
   "source": [
    "advanced.head()"
   ]
  },
  {
   "cell_type": "markdown",
   "id": "fcae080b",
   "metadata": {},
   "source": [
    "Reorder the data frame"
   ]
  },
  {
   "cell_type": "markdown",
   "id": "a12a605b",
   "metadata": {},
   "source": [
    "#### DROP ROWS THAT DONT HAVE A MATCHING GAME ID"
   ]
  },
  {
   "cell_type": "code",
   "execution_count": 13,
   "id": "63b041e8",
   "metadata": {},
   "outputs": [],
   "source": [
    "value_counts = advanced['GAME_ID'].value_counts()"
   ]
  },
  {
   "cell_type": "code",
   "execution_count": 14,
   "id": "938b165c",
   "metadata": {},
   "outputs": [],
   "source": [
    "unique_values = value_counts[value_counts == 1].index.tolist()"
   ]
  },
  {
   "cell_type": "code",
   "execution_count": 15,
   "id": "32a1302b",
   "metadata": {},
   "outputs": [],
   "source": [
    "advanced = advanced[~advanced['GAME_ID'].isin(unique_values)].reset_index(drop=True)"
   ]
  },
  {
   "cell_type": "code",
   "execution_count": 16,
   "id": "a31ec7e6",
   "metadata": {},
   "outputs": [],
   "source": [
    "advanced_desc = advanced.sort_values(by=['GAME_DATE'], ascending=True).copy()"
   ]
  },
  {
   "cell_type": "code",
   "execution_count": 17,
   "id": "c3ebe35a",
   "metadata": {},
   "outputs": [],
   "source": [
    "advanced_desc"
   ]
  },
  {
   "cell_type": "markdown",
   "id": "49db6c30",
   "metadata": {},
   "source": [
    "#### Data Frame is ready to be preprocessed"
   ]
  },
  {
   "cell_type": "code",
   "execution_count": 18,
   "id": "763fbb8c",
   "metadata": {},
   "outputs": [],
   "source": [
    "non_eng_features = ['TEAM_ABBREVIATION', 'GAME_ID', 'TEAM_ID', 'TEAM_NAME', \n",
    "                        'GAME_DATE', 'HOME_TEAM', 'PTS', 'PLUS_MINUS']"
   ]
  },
  {
   "cell_type": "code",
   "execution_count": 19,
   "id": "d2a9316c",
   "metadata": {},
   "outputs": [],
   "source": [
    "eng_features = advanced_desc.drop(columns=non_eng_features).columns.tolist()"
   ]
  },
  {
   "cell_type": "code",
   "execution_count": 20,
   "id": "eddf5e10",
   "metadata": {},
   "outputs": [],
   "source": [
    "eng_features"
   ]
  },
  {
   "cell_type": "code",
   "execution_count": 21,
   "id": "89f732a6",
   "metadata": {},
   "outputs": [],
   "source": [
    "def roll(df, roll_number = 10, procedure = '', suff = '_Roll', selected_columns=[]):\n",
    "    \n",
    "    df_rolling = df[selected_columns + [\"TEAM_ABBREVIATION\"]]\n",
    "    df_rolling = df_rolling.groupby([\"TEAM_ABBREVIATION\"], group_keys=False)\n",
    "    \n",
    "    def find_team_averages(team):\n",
    "        return team.rolling(roll_number).mean()\n",
    "\n",
    "    def find_team_medians(team):\n",
    "        return team.rolling(roll_number).median()\n",
    "    \n",
    "    def find_team_stds(team):\n",
    "        return team.rolling(roll_number).std()\n",
    "    \n",
    "    def find_team_wma(team):\n",
    "        return team.rolling(roll_number).std()\n",
    "\n",
    "    if procedure == 'median':\n",
    "        df_rolling = df_rolling.apply(find_team_medians)\n",
    "    elif procedure == 'std':\n",
    "        df_rolling = df_rolling.apply(find_team_stds)    \n",
    "    else:\n",
    "        procedure = 'mean'\n",
    "        df_rolling = df_rolling.apply(find_team_averages)\n",
    "        \n",
    "    df_rolling = df_rolling[selected_columns]\n",
    "    df_rolling = df_rolling.sort_index()\n",
    "    \n",
    "    new_column_names = {}\n",
    "    for col in df_rolling.columns:\n",
    "        new_column_names[col] = col + suff + '_' + procedure\n",
    "\n",
    "    df_rolling = df_rolling.rename(columns=new_column_names)\n",
    "    return df_rolling"
   ]
  },
  {
   "cell_type": "code",
   "execution_count": 22,
   "id": "9a3953c7",
   "metadata": {},
   "outputs": [],
   "source": [
    "df_test = roll(df = advanced_desc, roll_number=5, procedure='mean', selected_columns=eng_features)\n",
    "df_test2 = roll(df = advanced_desc, roll_number=5, procedure='median', selected_columns=eng_features)\n",
    "df_test3 = roll(df = advanced_desc, roll_number=5, procedure='std', selected_columns=eng_features)"
   ]
  },
  {
   "cell_type": "code",
   "execution_count": 23,
   "id": "515b5cf9",
   "metadata": {},
   "outputs": [],
   "source": [
    "advanced = advanced.merge(df_test, left_index=True, right_index=True)\n",
    "advanced = advanced.merge(df_test2, left_index=True, right_index=True)\n",
    "advanced = advanced.merge(df_test3, left_index=True, right_index=True)"
   ]
  },
  {
   "cell_type": "code",
   "execution_count": null,
   "id": "f1fbdfa3",
   "metadata": {},
   "outputs": [],
   "source": []
  },
  {
   "cell_type": "code",
   "execution_count": 24,
   "id": "30134140",
   "metadata": {},
   "outputs": [],
   "source": [
    "#advanced_desc = advanced_desc.groupby('TEAM_ABBREVIATION', as_index=False, group_keys=False)[eng_features].rolling(5).mean()\n",
    "#advanced_desc.drop(columns=['TEAM_ABBREVIATION']).sort_index()\n",
    "#advanced[eng_features] = advanced_desc.drop(columns=['TEAM_ABBREVIATION']).sort_index()"
   ]
  },
  {
   "cell_type": "code",
   "execution_count": 25,
   "id": "1db3b58c",
   "metadata": {},
   "outputs": [],
   "source": [
    "advanced.columns"
   ]
  },
  {
   "cell_type": "code",
   "execution_count": 26,
   "id": "f1920176",
   "metadata": {},
   "outputs": [],
   "source": [
    "advanced = advanced.sort_values(by=['GAME_DATE', 'GAME_ID', 'HOME_TEAM'], ascending=False).reset_index(drop=True)"
   ]
  },
  {
   "cell_type": "code",
   "execution_count": 27,
   "id": "a00907da",
   "metadata": {},
   "outputs": [],
   "source": [
    "adv_home = advanced.iloc[::2].copy()\n",
    "adv_away = advanced.iloc[1::2].copy()"
   ]
  },
  {
   "cell_type": "code",
   "execution_count": 28,
   "id": "393e4b4b",
   "metadata": {},
   "outputs": [],
   "source": [
    "columns_away = {}\n",
    "columns_home = {}\n",
    "columns_to_merge = []\n",
    "for column in advanced.columns:\n",
    "    if column == 'GAME_ID' or column == 'PLUS_MINUS' or column == 'GAME_DATE':\n",
    "        continue\n",
    "    columns_to_merge.append(column + '_a')\n",
    "    columns_away[column] = column + '_a'\n",
    "    columns_home[column] = column + '_h'"
   ]
  },
  {
   "cell_type": "code",
   "execution_count": 29,
   "id": "8f1064e5",
   "metadata": {},
   "outputs": [],
   "source": [
    "columns_away"
   ]
  },
  {
   "cell_type": "code",
   "execution_count": 30,
   "id": "1e5961c0",
   "metadata": {},
   "outputs": [],
   "source": [
    "adv_away.rename(columns=columns_away, inplace=True)\n",
    "adv_home.rename(columns=columns_home, inplace=True)"
   ]
  },
  {
   "cell_type": "code",
   "execution_count": 31,
   "id": "734a3104",
   "metadata": {},
   "outputs": [],
   "source": [
    "columns_to_merge.append('GAME_ID')"
   ]
  },
  {
   "cell_type": "code",
   "execution_count": 32,
   "id": "c5b843d9",
   "metadata": {
    "scrolled": true
   },
   "outputs": [],
   "source": [
    "merged_df = adv_home.merge(adv_away[columns_to_merge], on=['GAME_ID'])"
   ]
  },
  {
   "cell_type": "code",
   "execution_count": 33,
   "id": "cb6f6143",
   "metadata": {},
   "outputs": [],
   "source": [
    "merged_df = merged_df.dropna()"
   ]
  },
  {
   "cell_type": "markdown",
   "id": "e158d309",
   "metadata": {},
   "source": [
    "#### Now the data is ready for scaling and one hot encoding"
   ]
  },
  {
   "cell_type": "code",
   "execution_count": 34,
   "id": "2ab37fec",
   "metadata": {},
   "outputs": [],
   "source": [
    "from sklearn.preprocessing import MinMaxScaler\n",
    "from sklearn.preprocessing import OneHotEncoder"
   ]
  },
  {
   "cell_type": "code",
   "execution_count": 35,
   "id": "ed9fee89",
   "metadata": {},
   "outputs": [],
   "source": [
    "X_features_num = [col for col in merged_df.columns if 'GAME_ID' not in col \n",
    "                     and 'GAME_DATE' not in col \n",
    "                     and 'TEAM_ID' not in col \n",
    "                     and 'TEAM_NAME' not in col\n",
    "                     and 'TEAM_ABBREVIATION' not in col\n",
    "                     and 'PLUS_MINUS' not in col\n",
    "                     and 'HOME_TEAM' not in col]"
   ]
  },
  {
   "cell_type": "code",
   "execution_count": 36,
   "id": "a67aebab",
   "metadata": {},
   "outputs": [],
   "source": [
    "X_features_cat = ['TEAM_ABBREVIATION_h', 'TEAM_ABBREVIATION_a']"
   ]
  },
  {
   "cell_type": "code",
   "execution_count": 37,
   "id": "186b706b",
   "metadata": {},
   "outputs": [],
   "source": [
    "preproc_data = merged_df.copy()"
   ]
  },
  {
   "cell_type": "code",
   "execution_count": 38,
   "id": "303ed07e",
   "metadata": {},
   "outputs": [],
   "source": [
    "scaler = MinMaxScaler()\n",
    "preproc_data[X_features_num] = scaler.fit_transform(preproc_data[X_features_num])"
   ]
  },
  {
   "cell_type": "code",
   "execution_count": 39,
   "id": "9bba7361",
   "metadata": {},
   "outputs": [],
   "source": [
    "ohe = OneHotEncoder(sparse=False)\n",
    "ohe.fit(preproc_data[X_features_cat])\n",
    "cols = [str(team) +'_h' for team in ohe.categories_[0]] + [str(team) +'_a' for team in ohe.categories_[1]]"
   ]
  },
  {
   "cell_type": "code",
   "execution_count": 40,
   "id": "5c6b391e",
   "metadata": {},
   "outputs": [],
   "source": [
    "preproc_data[cols]=ohe.transform(preproc_data[X_features_cat])"
   ]
  },
  {
   "cell_type": "code",
   "execution_count": 41,
   "id": "30c8e0e1",
   "metadata": {},
   "outputs": [],
   "source": [
    "X_features = [col for col in preproc_data.columns if 'GAME_ID' not in col \n",
    "                     and 'GAME_DATE' not in col \n",
    "                     and 'TEAM_ID' not in col \n",
    "                     and 'TEAM_NAME' not in col\n",
    "                     and 'TEAM_ABBREVIATION' not in col\n",
    "                     and 'PLUS_MINUS' not in col\n",
    "                     and 'HOME_TEAM' not in col\n",
    "                     and 'PTS' not in col]"
   ]
  },
  {
   "cell_type": "code",
   "execution_count": 42,
   "id": "4e431323",
   "metadata": {},
   "outputs": [],
   "source": [
    "len(X_features)"
   ]
  },
  {
   "cell_type": "code",
   "execution_count": 43,
   "id": "b12f3ea5",
   "metadata": {},
   "outputs": [],
   "source": [
    "preproc_data"
   ]
  },
  {
   "cell_type": "code",
   "execution_count": 44,
   "id": "19f01881",
   "metadata": {},
   "outputs": [],
   "source": [
    "X_preproc = preproc_data[X_features]\n",
    "y = preproc_data['PLUS_MINUS']"
   ]
  },
  {
   "cell_type": "code",
   "execution_count": 45,
   "id": "e3596b6a",
   "metadata": {},
   "outputs": [],
   "source": [
    "X_preproc.columns[1:70]"
   ]
  },
  {
   "cell_type": "code",
   "execution_count": null,
   "id": "ca2806a8",
   "metadata": {},
   "outputs": [],
   "source": []
  },
  {
   "cell_type": "code",
   "execution_count": null,
   "id": "354ad3e2",
   "metadata": {},
   "outputs": [],
   "source": []
  },
  {
   "cell_type": "code",
   "execution_count": null,
   "id": "98f38be5",
   "metadata": {},
   "outputs": [],
   "source": []
  },
  {
   "cell_type": "code",
   "execution_count": 46,
   "id": "10a925d8",
   "metadata": {},
   "outputs": [],
   "source": [
    "X_preproc.to_pickle('X_preproc_rolling_advanced_part2.pkl')"
   ]
  },
  {
   "cell_type": "code",
   "execution_count": 47,
   "id": "48cc644e",
   "metadata": {},
   "outputs": [],
   "source": [
    "y.to_pickle('y_preproc_rolling_advanced_part2.pkl')"
   ]
  },
  {
   "cell_type": "code",
   "execution_count": null,
   "id": "0c895d9d",
   "metadata": {},
   "outputs": [],
   "source": []
  },
  {
   "cell_type": "code",
   "execution_count": 52,
   "id": "d6848e51",
   "metadata": {},
   "outputs": [],
   "source": [
    "X_preproc_part1 = pd.read_pickle('X_preproc_rolling_advanced_part1.pkl')"
   ]
  },
  {
   "cell_type": "code",
   "execution_count": 51,
   "id": "a1f1a303",
   "metadata": {},
   "outputs": [],
   "source": [
    "X_preproc_part1"
   ]
  },
  {
   "cell_type": "code",
   "execution_count": null,
   "id": "69b0e684",
   "metadata": {},
   "outputs": [],
   "source": []
  }
 ],
 "metadata": {
  "kernelspec": {
   "display_name": "Python 3 (ipykernel)",
   "language": "python",
   "name": "python3"
  },
  "language_info": {
   "codemirror_mode": {
    "name": "ipython",
    "version": 3
   },
   "file_extension": ".py",
   "mimetype": "text/x-python",
   "name": "python",
   "nbconvert_exporter": "python",
   "pygments_lexer": "ipython3",
   "version": "3.10.6"
  },
  "toc": {
   "base_numbering": 1,
   "nav_menu": {},
   "number_sections": true,
   "sideBar": true,
   "skip_h1_title": false,
   "title_cell": "Table of Contents",
   "title_sidebar": "Contents",
   "toc_cell": false,
   "toc_position": {},
   "toc_section_display": true,
   "toc_window_display": false
  }
 },
 "nbformat": 4,
 "nbformat_minor": 5
}
