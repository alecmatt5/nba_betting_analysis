{
cells: [
{
cell_type: "code",
execution_count: 278,
id: "d05bd487-e504-4330-ae29-ab90313acde5",
metadata: { },
outputs: [ ],
source: [
"%matplotlib inline
",
"%load_ext autoreload
",
"%autoreload 2"
]
},
{
cell_type: "markdown",
id: "873f171e-f36f-4448-aeba-49b2a666e241",
metadata: { },
source: [
"## IMPORTS"
]
},
{
cell_type: "code",
execution_count: 12,
id: "71f39788",
metadata: { },
outputs: [ ],
source: [
"import pandas as pd
",
"import numpy as np
",
"import matplotlib.pyplot as plt
",
"import requests
",
"
",
"pd.set_option('display.max_columns', 100)"
]
},
{
cell_type: "code",
execution_count: 25,
id: "976a50a3-ba20-4838-be75-7bac3a6375cb",
metadata: { },
outputs: [ ],
source: [
"import os"
]
},
{
cell_type: "code",
execution_count: null,
id: "106df43d-da34-4750-b05c-0830af270525",
metadata: { },
outputs: [ ],
source: [
"from nba_api.stats.endpoints import boxscoreadvancedv2
",
"
",
"from nba_api.stats.static import teams
",
"from nba_api.stats.endpoints import leaguegamefinder"
]
},
{
cell_type: "code",
execution_count: 90,
id: "5d89b0df-f991-490a-a36a-f89398e47d65",
metadata: {
tags: [ ]
},
outputs: [ ],
source: [
"import statsmodels.api as sm"
]
},
{
cell_type: "markdown",
id: "376230a9-eac0-479d-9a8e-df05ed0a2013",
metadata: { },
source: [
"## BASIC BOX TEAM GAMES DATA RETRIEVAL"
]
},
{
cell_type: "code",
execution_count: 39,
id: "8395ed57-d0be-480e-a56c-421e715d5d93",
metadata: { },
outputs: [ ],
source: [
"nba_teams = teams.get_teams()
",
"team_names = [team['full_name'] for team in nba_teams]
",
"team_names.sort()
",
"team_ids = [team['id'] for team in nba_teams]"
]
},
{
cell_type: "code",
execution_count: 40,
id: "b31b55f3",
metadata: { },
outputs: [ ],
source: [
"games = None
",
"for ids in team_ids:
",
"    if games is None:
",
"        gamefinder = leaguegamefinder.LeagueGameFinder(team_id_nullable=ids)
",
"        games = gamefinder.get_data_frames()[0]
",
"    else:
",
"        gamefinder = leaguegamefinder.LeagueGameFinder(team_id_nullable=ids)
",
"        games = pd.concat([games, gamefinder.get_data_frames()[0]])"
]
},
{
cell_type: "code",
execution_count: 233,
id: "c522fafe",
metadata: { },
outputs: [
{
name: "stdout",
output_type: "stream",
text: [
"<class 'pandas.core.frame.DataFrame'>
",
"Int64Index: 102157 entries, 0 to 2862
",
"Data columns (total 29 columns):
",
" #   Column             Non-Null Count   Dtype
",
"---  ------             --------------   -----
",
" 0   SEASON_ID          102157 non-null  object
",
" 1   TEAM_ID            102157 non-null  int64
",
" 2   TEAM_ABBREVIATION  102157 non-null  object
",
" 3   TEAM_NAME          102157 non-null  object
",
" 4   GAME_ID            102157 non-null  int32
",
" 5   GAME_DATE          102157 non-null  datetime64[ns]
",
" 6   MATCHUP            102157 non-null  object
",
" 7   WL                 102135 non-null  object
",
" 8   MIN                102157 non-null  int64
",
" 9   PTS                102157 non-null  int64
",
" 10  FGM                102157 non-null  int64
",
" 11  FGA                102157 non-null  int64
",
" 12  FG_PCT             102150 non-null  float64
",
" 13  FG3M               102157 non-null  int64
",
" 14  FG3A               102155 non-null  float64
",
" 15  FG3_PCT            101112 non-null  float64
",
" 16  FTM                102157 non-null  int64
",
" 17  FTA                102157 non-null  int64
",
" 18  FT_PCT             102147 non-null  float64
",
" 19  OREB               102153 non-null  float64
",
" 20  DREB               102153 non-null  float64
",
" 21  REB                102156 non-null  float64
",
" 22  AST                102157 non-null  int64
",
" 23  STL                102155 non-null  float64
",
" 24  BLK                102157 non-null  int64
",
" 25  TOV                102157 non-null  int64
",
" 26  PF                 102157 non-null  int64
",
" 27  PLUS_MINUS         72453 non-null   float64
",
" 28  HOME_TEAM          102157 non-null  int64
",
"dtypes: datetime64[ns](1), float64(9), int32(1), int64(13), object(5)
",
"memory usage: 27.0+ MB
"
]
}
],
source: [
"games.info()"
]
},
{
cell_type: "markdown",
id: "d90d630c-f659-48be-9474-8795944d9d3b",
metadata: { },
source: [
"TEAM GAMES RAW TABLE
",
"
",
"SEASON_ID: Int. Unique play season identifier
",
"TEAM_ID: Int. Unique team identifier
",
"TEAM_ABBREVIATION: Str. Three letter team name abbreviation
",
"TEAM_NAME: Str. Home team
",
"GAME_ID: Int. Unique game identifier
",
"GAME_DATE: Date. Game date. YYYY-MM-DD format.
",
"MATCHUP: Str. Team matchup. @ before/ 'vs.' after TEAM_NAME indicates TEAM_NAME was the host.
",
"FGM: Int. Field Goals Made
",
"FGA: Int. Field Goals Attempted
",
"FG_PCT: Float. Field Goal %
",
"FG3M: Int. 3-point Field Goals Made
",
"FG3A: Int. 3-point Field Goals Attempted
",
"FG3_PCT: Float. 3-point Field Goal %
",
"FTM: Int. Free Throws Made
",
"FTA: Int. Free Throws Attempted
",
"FT_PCT: Float. Free Throw %
",
"OREB: Float. Offensive Rebound % by TEAM_NAME
",
"DREB: Float. Defensive Rebound % by TEAM_NAME
",
"REB: Float. Rebound % by TEAM_NAME (equal to OREB + DREB)
",
"AST: Int. Assists Made by TEAM_NAME
",
"STL: Int. Steals Made by TEAM_NAME
",
"BLK: Int. Blocks Made by TEAM_NAME
",
"TOV: Int. Turnovers - loss of ball by offensive player (opposition?)
",
"PF: Int. Personal Fouls by TEAM_NAME
",
"PLUS_MINUS: Float. Target variable. Should be the match score differential, but is inconsistent. Re-egineer.
",
"
",
"TO ENGINEER:
",
"HOME_TEAM: boolean. Create from MATCHUP column - first_team @ second_team indicates second_team was the home team
",
"PLUS_MINUS: Int. Target variable. Match score differential, i.e. +10 for team winning by 10 points, -10 for team losing by 10 points."
]
},
{
cell_type: "markdown",
id: "c9f5fa39-412b-4e34-a9fc-6101a6e070bf",
metadata: { },
source: [
"## PREPROCESSING"
]
},
{
cell_type: "code",
execution_count: 232,
id: "77dd9d67-d2f8-4b15-9df9-dbcabc87e3d5",
metadata: { },
outputs: [ ],
source: [
"games.GAME_ID = pd.to_numeric(games.GAME_ID, downcast='integer')
",
"games.GAME_DATE = pd.to_datetime(games.GAME_DATE, infer_datetime_format=True)"
]
},
{
cell_type: "code",
execution_count: 234,
id: "9f5fa66d-cfb5-45e6-92d4-72251104462c",
metadata: {
collapsed: true,
jupyter: {
outputs_hidden: true
},
tags: [ ]
},
outputs: [
{
data: {
text/html: [
"<div>
",
"<style scoped>
",
"    .dataframe tbody tr th:only-of-type {
",
"        vertical-align: middle;
",
"    }
",
"
",
"    .dataframe tbody tr th {
",
"        vertical-align: top;
",
"    }
",
"
",
"    .dataframe thead th {
",
"        text-align: right;
",
"    }
",
"</style>
",
"<table border="1" class="dataframe">
",
"  <thead>
",
"    <tr style="text-align: right;">
",
"      <th></th>
",
"      <th>SEASON_ID</th>
",
"      <th>TEAM_ID</th>
",
"      <th>TEAM_ABBREVIATION</th>
",
"      <th>TEAM_NAME</th>
",
"      <th>GAME_ID</th>
",
"      <th>GAME_DATE</th>
",
"      <th>MATCHUP</th>
",
"      <th>WL</th>
",
"      <th>MIN</th>
",
"      <th>PTS</th>
",
"      <th>FGM</th>
",
"      <th>FGA</th>
",
"      <th>FG_PCT</th>
",
"      <th>FG3M</th>
",
"      <th>FG3A</th>
",
"      <th>FG3_PCT</th>
",
"      <th>FTM</th>
",
"      <th>FTA</th>
",
"      <th>FT_PCT</th>
",
"      <th>OREB</th>
",
"      <th>DREB</th>
",
"      <th>REB</th>
",
"      <th>AST</th>
",
"      <th>STL</th>
",
"      <th>BLK</th>
",
"      <th>TOV</th>
",
"      <th>PF</th>
",
"      <th>PLUS_MINUS</th>
",
"      <th>HOME_TEAM</th>
",
"    </tr>
",
"  </thead>
",
"  <tbody>
",
"    <tr>
",
"      <th>74</th>
",
"      <td>22022</td>
",
"      <td>1610612762</td>
",
"      <td>UTA</td>
",
"      <td>Utah Jazz</td>
",
"      <td>1622200006</td>
",
"      <td>2022-07-07</td>
",
"      <td>UTA vs. MEM</td>
",
"      <td>L</td>
",
"      <td>200</td>
",
"      <td>84</td>
",
"      <td>29</td>
",
"      <td>79</td>
",
"      <td>0.367</td>
",
"      <td>11</td>
",
"      <td>43.0</td>
",
"      <td>0.256</td>
",
"      <td>15</td>
",
"      <td>26</td>
",
"      <td>0.577</td>
",
"      <td>15.0</td>
",
"      <td>24.0</td>
",
"      <td>39.0</td>
",
"      <td>19</td>
",
"      <td>9.0</td>
",
"      <td>9</td>
",
"      <td>13</td>
",
"      <td>19</td>
",
"      <td>-3.8</td>
",
"      <td>1</td>
",
"    </tr>
",
"    <tr>
",
"      <th>73</th>
",
"      <td>22022</td>
",
"      <td>1610612763</td>
",
"      <td>MEM</td>
",
"      <td>Memphis Grizzlies</td>
",
"      <td>1622200006</td>
",
"      <td>2022-07-07</td>
",
"      <td>MEM @ UTA</td>
",
"      <td>W</td>
",
"      <td>199</td>
",
"      <td>95</td>
",
"      <td>38</td>
",
"      <td>84</td>
",
"      <td>0.452</td>
",
"      <td>6</td>
",
"      <td>31.0</td>
",
"      <td>0.194</td>
",
"      <td>13</td>
",
"      <td>14</td>
",
"      <td>0.929</td>
",
"      <td>16.0</td>
",
"      <td>30.0</td>
",
"      <td>46.0</td>
",
"      <td>20</td>
",
"      <td>12.0</td>
",
"      <td>2</td>
",
"      <td>15</td>
",
"      <td>25</td>
",
"      <td>3.2</td>
",
"      <td>0</td>
",
"    </tr>
",
"    <tr>
",
"      <th>72</th>
",
"      <td>22022</td>
",
"      <td>1610612755</td>
",
"      <td>PHI</td>
",
"      <td>Philadelphia 76ers</td>
",
"      <td>1622200005</td>
",
"      <td>2022-07-07</td>
",
"      <td>PHI vs. OKC</td>
",
"      <td>W</td>
",
"      <td>200</td>
",
"      <td>80</td>
",
"      <td>26</td>
",
"      <td>67</td>
",
"      <td>0.388</td>
",
"      <td>6</td>
",
"      <td>23.0</td>
",
"      <td>0.261</td>
",
"      <td>22</td>
",
"      <td>27</td>
",
"      <td>0.815</td>
",
"      <td>14.0</td>
",
"      <td>29.0</td>
",
"      <td>43.0</td>
",
"      <td>16</td>
",
"      <td>13.0</td>
",
"      <td>6</td>
",
"      <td>21</td>
",
"      <td>24</td>
",
"      <td>-1.0</td>
",
"      <td>1</td>
",
"    </tr>
",
"    <tr>
",
"      <th>75</th>
",
"      <td>22022</td>
",
"      <td>1610612760</td>
",
"      <td>OKC</td>
",
"      <td>Oklahoma City Thunder</td>
",
"      <td>1622200005</td>
",
"      <td>2022-07-07</td>
",
"      <td>OKC @ PHI</td>
",
"      <td>L</td>
",
"      <td>200</td>
",
"      <td>79</td>
",
"      <td>28</td>
",
"      <td>70</td>
",
"      <td>0.400</td>
",
"      <td>10</td>
",
"      <td>28.0</td>
",
"      <td>0.357</td>
",
"      <td>13</td>
",
"      <td>18</td>
",
"      <td>0.722</td>
",
"      <td>9.0</td>
",
"      <td>25.0</td>
",
"      <td>34.0</td>
",
"      <td>18</td>
",
"      <td>12.0</td>
",
"      <td>5</td>
",
"      <td>21</td>
",
"      <td>24</td>
",
"      <td>-0.4</td>
",
"      <td>0</td>
",
"    </tr>
",
"    <tr>
",
"      <th>75</th>
",
"      <td>22022</td>
",
"      <td>1610612762</td>
",
"      <td>UTA</td>
",
"      <td>Utah Jazz</td>
",
"      <td>1622200004</td>
",
"      <td>2022-07-06</td>
",
"      <td>UTA vs. PHI</td>
",
"      <td>L</td>
",
"      <td>200</td>
",
"      <td>82</td>
",
"      <td>31</td>
",
"      <td>74</td>
",
"      <td>0.419</td>
",
"      <td>9</td>
",
"      <td>27.0</td>
",
"      <td>0.333</td>
",
"      <td>11</td>
",
"      <td>17</td>
",
"      <td>0.647</td>
",
"      <td>13.0</td>
",
"      <td>28.0</td>
",
"      <td>41.0</td>
",
"      <td>18</td>
",
"      <td>8.0</td>
",
"      <td>4</td>
",
"      <td>22</td>
",
"      <td>25</td>
",
"      <td>-4.4</td>
",
"      <td>1</td>
",
"    </tr>
",
"    <tr>
",
"      <th>...</th>
",
"      <td>...</td>
",
"      <td>...</td>
",
"      <td>...</td>
",
"      <td>...</td>
",
"      <td>...</td>
",
"      <td>...</td>
",
"      <td>...</td>
",
"      <td>...</td>
",
"      <td>...</td>
",
"      <td>...</td>
",
"      <td>...</td>
",
"      <td>...</td>
",
"      <td>...</td>
",
"      <td>...</td>
",
"      <td>...</td>
",
"      <td>...</td>
",
"      <td>...</td>
",
"      <td>...</td>
",
"      <td>...</td>
",
"      <td>...</td>
",
"      <td>...</td>
",
"      <td>...</td>
",
"      <td>...</td>
",
"      <td>...</td>
",
"      <td>...</td>
",
"      <td>...</td>
",
"      <td>...</td>
",
"      <td>...</td>
",
"      <td>...</td>
",
"    </tr>
",
"    <tr>
",
"      <th>1881</th>
",
"      <td>12003</td>
",
"      <td>1610612765</td>
",
"      <td>DET</td>
",
"      <td>Detroit Pistons</td>
",
"      <td>10300003</td>
",
"      <td>2003-10-07</td>
",
"      <td>DET vs. CLE</td>
",
"      <td>L</td>
",
"      <td>70</td>
",
"      <td>96</td>
",
"      <td>34</td>
",
"      <td>87</td>
",
"      <td>0.391</td>
",
"      <td>4</td>
",
"      <td>9.0</td>
",
"      <td>0.444</td>
",
"      <td>24</td>
",
"      <td>40</td>
",
"      <td>0.600</td>
",
"      <td>12.0</td>
",
"      <td>25.0</td>
",
"      <td>37.0</td>
",
"      <td>19</td>
",
"      <td>15.0</td>
",
"      <td>3</td>
",
"      <td>13</td>
",
"      <td>27</td>
",
"      <td>NaN</td>
",
"      <td>1</td>
",
"    </tr>
",
"    <tr>
",
"      <th>1872</th>
",
"      <td>12003</td>
",
"      <td>1610612749</td>
",
"      <td>MIL</td>
",
"      <td>Milwaukee Bucks</td>
",
"      <td>10300002</td>
",
"      <td>2003-10-06</td>
",
"      <td>MIL @ MEM</td>
",
"      <td>L</td>
",
"      <td>65</td>
",
"      <td>94</td>
",
"      <td>32</td>
",
"      <td>75</td>
",
"      <td>0.427</td>
",
"      <td>2</td>
",
"      <td>13.0</td>
",
"      <td>0.154</td>
",
"      <td>28</td>
",
"      <td>40</td>
",
"      <td>0.700</td>
",
"      <td>11.0</td>
",
"      <td>32.0</td>
",
"      <td>43.0</td>
",
"      <td>20</td>
",
"      <td>9.0</td>
",
"      <td>4</td>
",
"      <td>24</td>
",
"      <td>26</td>
",
"      <td>NaN</td>
",
"      <td>0</td>
",
"    </tr>
",
"    <tr>
",
"      <th>1889</th>
",
"      <td>12003</td>
",
"      <td>1610612763</td>
",
"      <td>MEM</td>
",
"      <td>Memphis Grizzlies</td>
",
"      <td>10300002</td>
",
"      <td>2003-10-06</td>
",
"      <td>MEM vs. MIL</td>
",
"      <td>W</td>
",
"      <td>75</td>
",
"      <td>105</td>
",
"      <td>40</td>
",
"      <td>81</td>
",
"      <td>0.494</td>
",
"      <td>4</td>
",
"      <td>15.0</td>
",
"      <td>0.267</td>
",
"      <td>21</td>
",
"      <td>34</td>
",
"      <td>0.618</td>
",
"      <td>14.0</td>
",
"      <td>34.0</td>
",
"      <td>48.0</td>
",
"      <td>25</td>
",
"      <td>18.0</td>
",
"      <td>7</td>
",
"      <td>25</td>
",
"      <td>35</td>
",
"      <td>NaN</td>
",
"      <td>1</td>
",
"    </tr>
",
"    <tr>
",
"      <th>1936</th>
",
"      <td>12003</td>
",
"      <td>1610612742</td>
",
"      <td>DAL</td>
",
"      <td>Dallas Mavericks</td>
",
"      <td>10300001</td>
",
"      <td>2003-10-05</td>
",
"      <td>DAL @ UTA</td>
",
"      <td>L</td>
",
"      <td>55</td>
",
"      <td>85</td>
",
"      <td>34</td>
",
"      <td>76</td>
",
"      <td>0.447</td>
",
"      <td>2</td>
",
"      <td>8.0</td>
",
"      <td>0.250</td>
",
"      <td>15</td>
",
"      <td>30</td>
",
"      <td>0.500</td>
",
"      <td>12.0</td>
",
"      <td>26.0</td>
",
"      <td>38.0</td>
",
"      <td>20</td>
",
"      <td>9.0</td>
",
"      <td>4</td>
",
"      <td>18</td>
",
"      <td>34</td>
",
"      <td>NaN</td>
",
"      <td>0</td>
",
"    </tr>
",
"    <tr>
",
"      <th>1879</th>
",
"      <td>12003</td>
",
"      <td>1610612762</td>
",
"      <td>UTA</td>
",
"      <td>Utah Jazz</td>
",
"      <td>10300001</td>
",
"      <td>2003-10-05</td>
",
"      <td>UTA vs. DAL</td>
",
"      <td>W</td>
",
"      <td>95</td>
",
"      <td>90</td>
",
"      <td>32</td>
",
"      <td>70</td>
",
"      <td>0.457</td>
",
"      <td>1</td>
",
"      <td>7.0</td>
",
"      <td>0.143</td>
",
"      <td>25</td>
",
"      <td>34</td>
",
"      <td>0.735</td>
",
"      <td>9.0</td>
",
"      <td>32.0</td>
",
"      <td>41.0</td>
",
"      <td>23</td>
",
"      <td>8.0</td>
",
"      <td>4</td>
",
"      <td>18</td>
",
"      <td>26</td>
",
"      <td>NaN</td>
",
"      <td>1</td>
",
"    </tr>
",
"  </tbody>
",
"</table>
",
"<p>102157 rows × 29 columns</p>
",
"</div>"
],
text/plain: [
"     SEASON_ID     TEAM_ID TEAM_ABBREVIATION              TEAM_NAME  \
",
"74       22022  1610612762               UTA              Utah Jazz
",
"73       22022  1610612763               MEM      Memphis Grizzlies
",
"72       22022  1610612755               PHI     Philadelphia 76ers
",
"75       22022  1610612760               OKC  Oklahoma City Thunder
",
"75       22022  1610612762               UTA              Utah Jazz
",
"...        ...         ...               ...                    ...
",
"1881     12003  1610612765               DET        Detroit Pistons
",
"1872     12003  1610612749               MIL        Milwaukee Bucks
",
"1889     12003  1610612763               MEM      Memphis Grizzlies
",
"1936     12003  1610612742               DAL       Dallas Mavericks
",
"1879     12003  1610612762               UTA              Utah Jazz
",
"
",
"         GAME_ID  GAME_DATE      MATCHUP WL  MIN  PTS  FGM  FGA  FG_PCT  FG3M  \
",
"74    1622200006 2022-07-07  UTA vs. MEM  L  200   84   29   79   0.367    11
",
"73    1622200006 2022-07-07    MEM @ UTA  W  199   95   38   84   0.452     6
",
"72    1622200005 2022-07-07  PHI vs. OKC  W  200   80   26   67   0.388     6
",
"75    1622200005 2022-07-07    OKC @ PHI  L  200   79   28   70   0.400    10
",
"75    1622200004 2022-07-06  UTA vs. PHI  L  200   82   31   74   0.419     9
",
"...          ...        ...          ... ..  ...  ...  ...  ...     ...   ...
",
"1881    10300003 2003-10-07  DET vs. CLE  L   70   96   34   87   0.391     4
",
"1872    10300002 2003-10-06    MIL @ MEM  L   65   94   32   75   0.427     2
",
"1889    10300002 2003-10-06  MEM vs. MIL  W   75  105   40   81   0.494     4
",
"1936    10300001 2003-10-05    DAL @ UTA  L   55   85   34   76   0.447     2
",
"1879    10300001 2003-10-05  UTA vs. DAL  W   95   90   32   70   0.457     1
",
"
",
"      FG3A  FG3_PCT  FTM  FTA  FT_PCT  OREB  DREB   REB  AST   STL  BLK  TOV  \
",
"74    43.0    0.256   15   26   0.577  15.0  24.0  39.0   19   9.0    9   13
",
"73    31.0    0.194   13   14   0.929  16.0  30.0  46.0   20  12.0    2   15
",
"72    23.0    0.261   22   27   0.815  14.0  29.0  43.0   16  13.0    6   21
",
"75    28.0    0.357   13   18   0.722   9.0  25.0  34.0   18  12.0    5   21
",
"75    27.0    0.333   11   17   0.647  13.0  28.0  41.0   18   8.0    4   22
",
"...    ...      ...  ...  ...     ...   ...   ...   ...  ...   ...  ...  ...
",
"1881   9.0    0.444   24   40   0.600  12.0  25.0  37.0   19  15.0    3   13
",
"1872  13.0    0.154   28   40   0.700  11.0  32.0  43.0   20   9.0    4   24
",
"1889  15.0    0.267   21   34   0.618  14.0  34.0  48.0   25  18.0    7   25
",
"1936   8.0    0.250   15   30   0.500  12.0  26.0  38.0   20   9.0    4   18
",
"1879   7.0    0.143   25   34   0.735   9.0  32.0  41.0   23   8.0    4   18
",
"
",
"      PF  PLUS_MINUS  HOME_TEAM
",
"74    19        -3.8          1
",
"73    25         3.2          0
",
"72    24        -1.0          1
",
"75    24        -0.4          0
",
"75    25        -4.4          1
",
"...   ..         ...        ...
",
"1881  27         NaN          1
",
"1872  26         NaN          0
",
"1889  35         NaN          1
",
"1936  34         NaN          0
",
"1879  26         NaN          1
",
"
",
"[102157 rows x 29 columns]"
]
},
execution_count: 234,
metadata: { },
output_type: "execute_result"
}
],
source: [
"games.sort_values(by='GAME_ID', ascending=False)"
]
},
{
cell_type: "code",
execution_count: 204,
id: "46f8afac-cfc9-457e-8abc-e8856086177c",
metadata: { },
outputs: [ ],
source: [
"games['HOME_TEAM'] = 0
",
"games.loc[games['MATCHUP'].str.contains('vs.'), ['HOME_TEAM']] = 1"
]
},
{
cell_type: "code",
execution_count: 205,
id: "0f5eb532-7c97-4906-a38b-0b8a318919cf",
metadata: { },
outputs: [
{
data: {
text/html: [
"<div>
",
"<style scoped>
",
"    .dataframe tbody tr th:only-of-type {
",
"        vertical-align: middle;
",
"    }
",
"
",
"    .dataframe tbody tr th {
",
"        vertical-align: top;
",
"    }
",
"
",
"    .dataframe thead th {
",
"        text-align: right;
",
"    }
",
"</style>
",
"<table border="1" class="dataframe">
",
"  <thead>
",
"    <tr style="text-align: right;">
",
"      <th></th>
",
"      <th>SEASON_ID</th>
",
"      <th>TEAM_ID</th>
",
"      <th>TEAM_ABBREVIATION</th>
",
"      <th>TEAM_NAME</th>
",
"      <th>GAME_ID</th>
",
"      <th>GAME_DATE</th>
",
"      <th>MATCHUP</th>
",
"      <th>WL</th>
",
"      <th>MIN</th>
",
"      <th>PTS</th>
",
"      <th>FGM</th>
",
"      <th>FGA</th>
",
"      <th>FG_PCT</th>
",
"      <th>FG3M</th>
",
"      <th>FG3A</th>
",
"      <th>FG3_PCT</th>
",
"      <th>FTM</th>
",
"      <th>FTA</th>
",
"      <th>FT_PCT</th>
",
"      <th>OREB</th>
",
"      <th>DREB</th>
",
"      <th>REB</th>
",
"      <th>AST</th>
",
"      <th>STL</th>
",
"      <th>BLK</th>
",
"      <th>TOV</th>
",
"      <th>PF</th>
",
"      <th>PLUS_MINUS</th>
",
"      <th>HOME_TEAM</th>
",
"    </tr>
",
"  </thead>
",
"  <tbody>
",
"    <tr>
",
"      <th>1</th>
",
"      <td>22022</td>
",
"      <td>1610612737</td>
",
"      <td>ATL</td>
",
"      <td>Atlanta Hawks</td>
",
"      <td>0022200947</td>
",
"      <td>2023-03-03</td>
",
"      <td>ATL vs. POR</td>
",
"      <td>W</td>
",
"      <td>239</td>
",
"      <td>129</td>
",
"      <td>52</td>
",
"      <td>91</td>
",
"      <td>0.571</td>
",
"      <td>12</td>
",
"      <td>26.0</td>
",
"      <td>0.462</td>
",
"      <td>13</td>
",
"      <td>16</td>
",
"      <td>0.813</td>
",
"      <td>10.0</td>
",
"      <td>33.0</td>
",
"      <td>43.0</td>
",
"      <td>30</td>
",
"      <td>10.0</td>
",
"      <td>5</td>
",
"      <td>17</td>
",
"      <td>19</td>
",
"      <td>18.0</td>
",
"      <td>1</td>
",
"    </tr>
",
"    <tr>
",
"      <th>2</th>
",
"      <td>22022</td>
",
"      <td>1610612737</td>
",
"      <td>ATL</td>
",
"      <td>Atlanta Hawks</td>
",
"      <td>0022200923</td>
",
"      <td>2023-02-28</td>
",
"      <td>ATL vs. WAS</td>
",
"      <td>L</td>
",
"      <td>239</td>
",
"      <td>116</td>
",
"      <td>43</td>
",
"      <td>93</td>
",
"      <td>0.462</td>
",
"      <td>13</td>
",
"      <td>35.0</td>
",
"      <td>0.371</td>
",
"      <td>17</td>
",
"      <td>19</td>
",
"      <td>0.895</td>
",
"      <td>13.0</td>
",
"      <td>29.0</td>
",
"      <td>42.0</td>
",
"      <td>21</td>
",
"      <td>4.0</td>
",
"      <td>7</td>
",
"      <td>9</td>
",
"      <td>17</td>
",
"      <td>-3.0</td>
",
"      <td>1</td>
",
"    </tr>
",
"    <tr>
",
"      <th>3</th>
",
"      <td>22022</td>
",
"      <td>1610612737</td>
",
"      <td>ATL</td>
",
"      <td>Atlanta Hawks</td>
",
"      <td>0022200911</td>
",
"      <td>2023-02-26</td>
",
"      <td>ATL vs. BKN</td>
",
"      <td>W</td>
",
"      <td>240</td>
",
"      <td>129</td>
",
"      <td>45</td>
",
"      <td>90</td>
",
"      <td>0.500</td>
",
"      <td>16</td>
",
"      <td>30.0</td>
",
"      <td>0.533</td>
",
"      <td>23</td>
",
"      <td>28</td>
",
"      <td>0.821</td>
",
"      <td>13.0</td>
",
"      <td>33.0</td>
",
"      <td>46.0</td>
",
"      <td>20</td>
",
"      <td>7.0</td>
",
"      <td>2</td>
",
"      <td>15</td>
",
"      <td>18</td>
",
"      <td>2.0</td>
",
"      <td>1</td>
",
"    </tr>
",
"    <tr>
",
"      <th>4</th>
",
"      <td>22022</td>
",
"      <td>1610612737</td>
",
"      <td>ATL</td>
",
"      <td>Atlanta Hawks</td>
",
"      <td>0022200896</td>
",
"      <td>2023-02-24</td>
",
"      <td>ATL vs. CLE</td>
",
"      <td>W</td>
",
"      <td>240</td>
",
"      <td>136</td>
",
"      <td>50</td>
",
"      <td>85</td>
",
"      <td>0.588</td>
",
"      <td>15</td>
",
"      <td>28.0</td>
",
"      <td>0.536</td>
",
"      <td>21</td>
",
"      <td>23</td>
",
"      <td>0.913</td>
",
"      <td>5.0</td>
",
"      <td>37.0</td>
",
"      <td>42.0</td>
",
"      <td>28</td>
",
"      <td>7.0</td>
",
"      <td>8</td>
",
"      <td>14</td>
",
"      <td>21</td>
",
"      <td>17.0</td>
",
"      <td>1</td>
",
"    </tr>
",
"    <tr>
",
"      <th>5</th>
",
"      <td>22022</td>
",
"      <td>1610612737</td>
",
"      <td>ATL</td>
",
"      <td>Atlanta Hawks</td>
",
"      <td>0022200876</td>
",
"      <td>2023-02-15</td>
",
"      <td>ATL vs. NYK</td>
",
"      <td>L</td>
",
"      <td>243</td>
",
"      <td>101</td>
",
"      <td>40</td>
",
"      <td>97</td>
",
"      <td>0.412</td>
",
"      <td>5</td>
",
"      <td>26.0</td>
",
"      <td>0.192</td>
",
"      <td>16</td>
",
"      <td>21</td>
",
"      <td>0.762</td>
",
"      <td>8.0</td>
",
"      <td>32.0</td>
",
"      <td>40.0</td>
",
"      <td>25</td>
",
"      <td>6.0</td>
",
"      <td>7</td>
",
"      <td>4</td>
",
"      <td>18</td>
",
"      <td>-21.0</td>
",
"      <td>1</td>
",
"    </tr>
",
"    <tr>
",
"      <th>...</th>
",
"      <td>...</td>
",
"      <td>...</td>
",
"      <td>...</td>
",
"      <td>...</td>
",
"      <td>...</td>
",
"      <td>...</td>
",
"      <td>...</td>
",
"      <td>...</td>
",
"      <td>...</td>
",
"      <td>...</td>
",
"      <td>...</td>
",
"      <td>...</td>
",
"      <td>...</td>
",
"      <td>...</td>
",
"      <td>...</td>
",
"      <td>...</td>
",
"      <td>...</td>
",
"      <td>...</td>
",
"      <td>...</td>
",
"      <td>...</td>
",
"      <td>...</td>
",
"      <td>...</td>
",
"      <td>...</td>
",
"      <td>...</td>
",
"      <td>...</td>
",
"      <td>...</td>
",
"      <td>...</td>
",
"      <td>...</td>
",
"      <td>...</td>
",
"    </tr>
",
"    <tr>
",
"      <th>2851</th>
",
"      <td>21988</td>
",
"      <td>1610612766</td>
",
"      <td>CHH</td>
",
"      <td>Charlotte Hornets</td>
",
"      <td>0028800140</td>
",
"      <td>1988-11-26</td>
",
"      <td>CHH vs. WAS</td>
",
"      <td>L</td>
",
"      <td>220</td>
",
"      <td>105</td>
",
"      <td>41</td>
",
"      <td>78</td>
",
"      <td>0.526</td>
",
"      <td>2</td>
",
"      <td>4.0</td>
",
"      <td>0.500</td>
",
"      <td>21</td>
",
"      <td>25</td>
",
"      <td>0.840</td>
",
"      <td>9.0</td>
",
"      <td>21.0</td>
",
"      <td>30.0</td>
",
"      <td>23</td>
",
"      <td>9.0</td>
",
"      <td>1</td>
",
"      <td>15</td>
",
"      <td>27</td>
",
"      <td>NaN</td>
",
"      <td>1</td>
",
"    </tr>
",
"    <tr>
",
"      <th>2854</th>
",
"      <td>21988</td>
",
"      <td>1610612766</td>
",
"      <td>CHH</td>
",
"      <td>Charlotte Hornets</td>
",
"      <td>0028800115</td>
",
"      <td>1988-11-22</td>
",
"      <td>CHH vs. DET</td>
",
"      <td>L</td>
",
"      <td>240</td>
",
"      <td>93</td>
",
"      <td>41</td>
",
"      <td>94</td>
",
"      <td>0.436</td>
",
"      <td>0</td>
",
"      <td>3.0</td>
",
"      <td>0.000</td>
",
"      <td>11</td>
",
"      <td>14</td>
",
"      <td>0.786</td>
",
"      <td>16.0</td>
",
"      <td>28.0</td>
",
"      <td>44.0</td>
",
"      <td>20</td>
",
"      <td>9.0</td>
",
"      <td>1</td>
",
"      <td>13</td>
",
"      <td>21</td>
",
"      <td>NaN</td>
",
"      <td>1</td>
",
"    </tr>
",
"    <tr>
",
"      <th>2857</th>
",
"      <td>21988</td>
",
"      <td>1610612766</td>
",
"      <td>CHH</td>
",
"      <td>Charlotte Hornets</td>
",
"      <td>0028800071</td>
",
"      <td>1988-11-15</td>
",
"      <td>CHH vs. NJN</td>
",
"      <td>L</td>
",
"      <td>240</td>
",
"      <td>99</td>
",
"      <td>38</td>
",
"      <td>92</td>
",
"      <td>0.413</td>
",
"      <td>2</td>
",
"      <td>4.0</td>
",
"      <td>0.500</td>
",
"      <td>21</td>
",
"      <td>30</td>
",
"      <td>0.700</td>
",
"      <td>21.0</td>
",
"      <td>24.0</td>
",
"      <td>45.0</td>
",
"      <td>25</td>
",
"      <td>7.0</td>
",
"      <td>4</td>
",
"      <td>19</td>
",
"      <td>25</td>
",
"      <td>NaN</td>
",
"      <td>1</td>
",
"    </tr>
",
"    <tr>
",
"      <th>2860</th>
",
"      <td>21988</td>
",
"      <td>1610612766</td>
",
"      <td>CHH</td>
",
"      <td>Charlotte Hornets</td>
",
"      <td>0028800024</td>
",
"      <td>1988-11-08</td>
",
"      <td>CHH vs. LAC</td>
",
"      <td>W</td>
",
"      <td>240</td>
",
"      <td>117</td>
",
"      <td>43</td>
",
"      <td>90</td>
",
"      <td>0.478</td>
",
"      <td>0</td>
",
"      <td>2.0</td>
",
"      <td>0.000</td>
",
"      <td>31</td>
",
"      <td>42</td>
",
"      <td>0.738</td>
",
"      <td>17.0</td>
",
"      <td>38.0</td>
",
"      <td>55.0</td>
",
"      <td>28</td>
",
"      <td>9.0</td>
",
"      <td>1</td>
",
"      <td>17</td>
",
"      <td>31</td>
",
"      <td>NaN</td>
",
"      <td>1</td>
",
"    </tr>
",
"    <tr>
",
"      <th>2862</th>
",
"      <td>21988</td>
",
"      <td>1610612766</td>
",
"      <td>CHH</td>
",
"      <td>Charlotte Hornets</td>
",
"      <td>0028800008</td>
",
"      <td>1988-11-04</td>
",
"      <td>CHH vs. CLE</td>
",
"      <td>L</td>
",
"      <td>240</td>
",
"      <td>93</td>
",
"      <td>40</td>
",
"      <td>86</td>
",
"      <td>0.465</td>
",
"      <td>0</td>
",
"      <td>0.0</td>
",
"      <td>NaN</td>
",
"      <td>13</td>
",
"      <td>20</td>
",
"      <td>0.650</td>
",
"      <td>7.0</td>
",
"      <td>24.0</td>
",
"      <td>31.0</td>
",
"      <td>27</td>
",
"      <td>8.0</td>
",
"      <td>1</td>
",
"      <td>24</td>
",
"      <td>25</td>
",
"      <td>NaN</td>
",
"      <td>1</td>
",
"    </tr>
",
"  </tbody>
",
"</table>
",
"<p>51109 rows × 29 columns</p>
",
"</div>"
],
text/plain: [
"     SEASON_ID     TEAM_ID TEAM_ABBREVIATION          TEAM_NAME     GAME_ID  \
",
"1        22022  1610612737               ATL      Atlanta Hawks  0022200947
",
"2        22022  1610612737               ATL      Atlanta Hawks  0022200923
",
"3        22022  1610612737               ATL      Atlanta Hawks  0022200911
",
"4        22022  1610612737               ATL      Atlanta Hawks  0022200896
",
"5        22022  1610612737               ATL      Atlanta Hawks  0022200876
",
"...        ...         ...               ...                ...         ...
",
"2851     21988  1610612766               CHH  Charlotte Hornets  0028800140
",
"2854     21988  1610612766               CHH  Charlotte Hornets  0028800115
",
"2857     21988  1610612766               CHH  Charlotte Hornets  0028800071
",
"2860     21988  1610612766               CHH  Charlotte Hornets  0028800024
",
"2862     21988  1610612766               CHH  Charlotte Hornets  0028800008
",
"
",
"       GAME_DATE      MATCHUP WL  MIN  PTS  FGM  FGA  FG_PCT  FG3M  FG3A  \
",
"1     2023-03-03  ATL vs. POR  W  239  129   52   91   0.571    12  26.0
",
"2     2023-02-28  ATL vs. WAS  L  239  116   43   93   0.462    13  35.0
",
"3     2023-02-26  ATL vs. BKN  W  240  129   45   90   0.500    16  30.0
",
"4     2023-02-24  ATL vs. CLE  W  240  136   50   85   0.588    15  28.0
",
"5     2023-02-15  ATL vs. NYK  L  243  101   40   97   0.412     5  26.0
",
"...          ...          ... ..  ...  ...  ...  ...     ...   ...   ...
",
"2851  1988-11-26  CHH vs. WAS  L  220  105   41   78   0.526     2   4.0
",
"2854  1988-11-22  CHH vs. DET  L  240   93   41   94   0.436     0   3.0
",
"2857  1988-11-15  CHH vs. NJN  L  240   99   38   92   0.413     2   4.0
",
"2860  1988-11-08  CHH vs. LAC  W  240  117   43   90   0.478     0   2.0
",
"2862  1988-11-04  CHH vs. CLE  L  240   93   40   86   0.465     0   0.0
",
"
",
"      FG3_PCT  FTM  FTA  FT_PCT  OREB  DREB   REB  AST   STL  BLK  TOV  PF  \
",
"1       0.462   13   16   0.813  10.0  33.0  43.0   30  10.0    5   17  19
",
"2       0.371   17   19   0.895  13.0  29.0  42.0   21   4.0    7    9  17
",
"3       0.533   23   28   0.821  13.0  33.0  46.0   20   7.0    2   15  18
",
"4       0.536   21   23   0.913   5.0  37.0  42.0   28   7.0    8   14  21
",
"5       0.192   16   21   0.762   8.0  32.0  40.0   25   6.0    7    4  18
",
"...       ...  ...  ...     ...   ...   ...   ...  ...   ...  ...  ...  ..
",
"2851    0.500   21   25   0.840   9.0  21.0  30.0   23   9.0    1   15  27
",
"2854    0.000   11   14   0.786  16.0  28.0  44.0   20   9.0    1   13  21
",
"2857    0.500   21   30   0.700  21.0  24.0  45.0   25   7.0    4   19  25
",
"2860    0.000   31   42   0.738  17.0  38.0  55.0   28   9.0    1   17  31
",
"2862      NaN   13   20   0.650   7.0  24.0  31.0   27   8.0    1   24  25
",
"
",
"      PLUS_MINUS  HOME_TEAM
",
"1           18.0          1
",
"2           -3.0          1
",
"3            2.0          1
",
"4           17.0          1
",
"5          -21.0          1
",
"...          ...        ...
",
"2851         NaN          1
",
"2854         NaN          1
",
"2857         NaN          1
",
"2860         NaN          1
",
"2862         NaN          1
",
"
",
"[51109 rows x 29 columns]"
]
},
execution_count: 205,
metadata: { },
output_type: "execute_result"
}
],
source: [
"games.loc[games['HOME_TEAM'] == 1, :]"
]
},
{
cell_type: "code",
execution_count: 279,
id: "3642599d-872c-43ba-be9b-d6286ade5b80",
metadata: {
tags: [ ]
},
outputs: [
{
data: {
text/html: [
"<div>
",
"<style scoped>
",
"    .dataframe tbody tr th:only-of-type {
",
"        vertical-align: middle;
",
"    }
",
"
",
"    .dataframe tbody tr th {
",
"        vertical-align: top;
",
"    }
",
"
",
"    .dataframe thead th {
",
"        text-align: right;
",
"    }
",
"</style>
",
"<table border="1" class="dataframe">
",
"  <thead>
",
"    <tr style="text-align: right;">
",
"      <th></th>
",
"      <th>index</th>
",
"      <th>SEASON_ID</th>
",
"      <th>TEAM_ID</th>
",
"      <th>TEAM_ABBREVIATION</th>
",
"      <th>TEAM_NAME</th>
",
"      <th>GAME_ID</th>
",
"      <th>GAME_DATE</th>
",
"      <th>MATCHUP</th>
",
"      <th>WL</th>
",
"      <th>MIN</th>
",
"      <th>PTS</th>
",
"      <th>FGM</th>
",
"      <th>FGA</th>
",
"      <th>FG_PCT</th>
",
"      <th>FG3M</th>
",
"      <th>FG3A</th>
",
"      <th>FG3_PCT</th>
",
"      <th>FTM</th>
",
"      <th>FTA</th>
",
"      <th>FT_PCT</th>
",
"      <th>OREB</th>
",
"      <th>DREB</th>
",
"      <th>REB</th>
",
"      <th>AST</th>
",
"      <th>STL</th>
",
"      <th>BLK</th>
",
"      <th>TOV</th>
",
"      <th>PF</th>
",
"      <th>PLUS_MINUS</th>
",
"      <th>HOME_TEAM</th>
",
"    </tr>
",
"  </thead>
",
"  <tbody>
",
"    <tr>
",
"      <th>0</th>
",
"      <td>0</td>
",
"      <td>22022</td>
",
"      <td>1610612737</td>
",
"      <td>ATL</td>
",
"      <td>Atlanta Hawks</td>
",
"      <td>22200958</td>
",
"      <td>2023-03-04</td>
",
"      <td>ATL @ MIA</td>
",
"      <td>L</td>
",
"      <td>239</td>
",
"      <td>109</td>
",
"      <td>37</td>
",
"      <td>79</td>
",
"      <td>0.468</td>
",
"      <td>9</td>
",
"      <td>30.0</td>
",
"      <td>0.300</td>
",
"      <td>26</td>
",
"      <td>30</td>
",
"      <td>0.867</td>
",
"      <td>10.0</td>
",
"      <td>27.0</td>
",
"      <td>37.0</td>
",
"      <td>22</td>
",
"      <td>12.0</td>
",
"      <td>1</td>
",
"      <td>16</td>
",
"      <td>23</td>
",
"      <td>-8.0</td>
",
"      <td>0</td>
",
"    </tr>
",
"    <tr>
",
"      <th>1</th>
",
"      <td>1</td>
",
"      <td>22022</td>
",
"      <td>1610612737</td>
",
"      <td>ATL</td>
",
"      <td>Atlanta Hawks</td>
",
"      <td>22200947</td>
",
"      <td>2023-03-03</td>
",
"      <td>ATL vs. POR</td>
",
"      <td>W</td>
",
"      <td>239</td>
",
"      <td>129</td>
",
"      <td>52</td>
",
"      <td>91</td>
",
"      <td>0.571</td>
",
"      <td>12</td>
",
"      <td>26.0</td>
",
"      <td>0.462</td>
",
"      <td>13</td>
",
"      <td>16</td>
",
"      <td>0.813</td>
",
"      <td>10.0</td>
",
"      <td>33.0</td>
",
"      <td>43.0</td>
",
"      <td>30</td>
",
"      <td>10.0</td>
",
"      <td>5</td>
",
"      <td>17</td>
",
"      <td>19</td>
",
"      <td>18.0</td>
",
"      <td>1</td>
",
"    </tr>
",
"    <tr>
",
"      <th>2</th>
",
"      <td>2</td>
",
"      <td>22022</td>
",
"      <td>1610612737</td>
",
"      <td>ATL</td>
",
"      <td>Atlanta Hawks</td>
",
"      <td>22200923</td>
",
"      <td>2023-02-28</td>
",
"      <td>ATL vs. WAS</td>
",
"      <td>L</td>
",
"      <td>239</td>
",
"      <td>116</td>
",
"      <td>43</td>
",
"      <td>93</td>
",
"      <td>0.462</td>
",
"      <td>13</td>
",
"      <td>35.0</td>
",
"      <td>0.371</td>
",
"      <td>17</td>
",
"      <td>19</td>
",
"      <td>0.895</td>
",
"      <td>13.0</td>
",
"      <td>29.0</td>
",
"      <td>42.0</td>
",
"      <td>21</td>
",
"      <td>4.0</td>
",
"      <td>7</td>
",
"      <td>9</td>
",
"      <td>17</td>
",
"      <td>-3.0</td>
",
"      <td>1</td>
",
"    </tr>
",
"    <tr>
",
"      <th>3</th>
",
"      <td>3</td>
",
"      <td>22022</td>
",
"      <td>1610612737</td>
",
"      <td>ATL</td>
",
"      <td>Atlanta Hawks</td>
",
"      <td>22200911</td>
",
"      <td>2023-02-26</td>
",
"      <td>ATL vs. BKN</td>
",
"      <td>W</td>
",
"      <td>240</td>
",
"      <td>129</td>
",
"      <td>45</td>
",
"      <td>90</td>
",
"      <td>0.500</td>
",
"      <td>16</td>
",
"      <td>30.0</td>
",
"      <td>0.533</td>
",
"      <td>23</td>
",
"      <td>28</td>
",
"      <td>0.821</td>
",
"      <td>13.0</td>
",
"      <td>33.0</td>
",
"      <td>46.0</td>
",
"      <td>20</td>
",
"      <td>7.0</td>
",
"      <td>2</td>
",
"      <td>15</td>
",
"      <td>18</td>
",
"      <td>2.0</td>
",
"      <td>1</td>
",
"    </tr>
",
"    <tr>
",
"      <th>4</th>
",
"      <td>4</td>
",
"      <td>22022</td>
",
"      <td>1610612737</td>
",
"      <td>ATL</td>
",
"      <td>Atlanta Hawks</td>
",
"      <td>22200896</td>
",
"      <td>2023-02-24</td>
",
"      <td>ATL vs. CLE</td>
",
"      <td>W</td>
",
"      <td>240</td>
",
"      <td>136</td>
",
"      <td>50</td>
",
"      <td>85</td>
",
"      <td>0.588</td>
",
"      <td>15</td>
",
"      <td>28.0</td>
",
"      <td>0.536</td>
",
"      <td>21</td>
",
"      <td>23</td>
",
"      <td>0.913</td>
",
"      <td>5.0</td>
",
"      <td>37.0</td>
",
"      <td>42.0</td>
",
"      <td>28</td>
",
"      <td>7.0</td>
",
"      <td>8</td>
",
"      <td>14</td>
",
"      <td>21</td>
",
"      <td>17.0</td>
",
"      <td>1</td>
",
"    </tr>
",
"    <tr>
",
"      <th>...</th>
",
"      <td>...</td>
",
"      <td>...</td>
",
"      <td>...</td>
",
"      <td>...</td>
",
"      <td>...</td>
",
"      <td>...</td>
",
"      <td>...</td>
",
"      <td>...</td>
",
"      <td>...</td>
",
"      <td>...</td>
",
"      <td>...</td>
",
"      <td>...</td>
",
"      <td>...</td>
",
"      <td>...</td>
",
"      <td>...</td>
",
"      <td>...</td>
",
"      <td>...</td>
",
"      <td>...</td>
",
"      <td>...</td>
",
"      <td>...</td>
",
"      <td>...</td>
",
"      <td>...</td>
",
"      <td>...</td>
",
"      <td>...</td>
",
"      <td>...</td>
",
"      <td>...</td>
",
"      <td>...</td>
",
"      <td>...</td>
",
"      <td>...</td>
",
"      <td>...</td>
",
"    </tr>
",
"    <tr>
",
"      <th>13995</th>
",
"      <td>426</td>
",
"      <td>22017</td>
",
"      <td>1610612766</td>
",
"      <td>CHA</td>
",
"      <td>Charlotte Hornets</td>
",
"      <td>21701021</td>
",
"      <td>2018-03-15</td>
",
"      <td>CHA @ ATL</td>
",
"      <td>W</td>
",
"      <td>239</td>
",
"      <td>129</td>
",
"      <td>46</td>
",
"      <td>87</td>
",
"      <td>0.529</td>
",
"      <td>17</td>
",
"      <td>33.0</td>
",
"      <td>0.515</td>
",
"      <td>20</td>
",
"      <td>30</td>
",
"      <td>0.667</td>
",
"      <td>6.0</td>
",
"      <td>39.0</td>
",
"      <td>45.0</td>
",
"      <td>30</td>
",
"      <td>3.0</td>
",
"      <td>3</td>
",
"      <td>10</td>
",
"      <td>21</td>
",
"      <td>12.0</td>
",
"      <td>0</td>
",
"    </tr>
",
"    <tr>
",
"      <th>13996</th>
",
"      <td>427</td>
",
"      <td>22017</td>
",
"      <td>1610612766</td>
",
"      <td>CHA</td>
",
"      <td>Charlotte Hornets</td>
",
"      <td>21701011</td>
",
"      <td>2018-03-13</td>
",
"      <td>CHA @ NOP</td>
",
"      <td>L</td>
",
"      <td>241</td>
",
"      <td>115</td>
",
"      <td>45</td>
",
"      <td>93</td>
",
"      <td>0.484</td>
",
"      <td>7</td>
",
"      <td>26.0</td>
",
"      <td>0.269</td>
",
"      <td>18</td>
",
"      <td>22</td>
",
"      <td>0.818</td>
",
"      <td>8.0</td>
",
"      <td>37.0</td>
",
"      <td>45.0</td>
",
"      <td>22</td>
",
"      <td>8.0</td>
",
"      <td>9</td>
",
"      <td>13</td>
",
"      <td>13</td>
",
"      <td>-4.0</td>
",
"      <td>0</td>
",
"    </tr>
",
"    <tr>
",
"      <th>13997</th>
",
"      <td>428</td>
",
"      <td>22017</td>
",
"      <td>1610612766</td>
",
"      <td>CHA</td>
",
"      <td>Charlotte Hornets</td>
",
"      <td>21700987</td>
",
"      <td>2018-03-10</td>
",
"      <td>CHA vs. PHX</td>
",
"      <td>W</td>
",
"      <td>239</td>
",
"      <td>122</td>
",
"      <td>44</td>
",
"      <td>87</td>
",
"      <td>0.506</td>
",
"      <td>13</td>
",
"      <td>32.0</td>
",
"      <td>0.406</td>
",
"      <td>21</td>
",
"      <td>27</td>
",
"      <td>0.778</td>
",
"      <td>7.0</td>
",
"      <td>34.0</td>
",
"      <td>41.0</td>
",
"      <td>24</td>
",
"      <td>11.0</td>
",
"      <td>5</td>
",
"      <td>12</td>
",
"      <td>18</td>
",
"      <td>5.0</td>
",
"      <td>1</td>
",
"    </tr>
",
"    <tr>
",
"      <th>13998</th>
",
"      <td>429</td>
",
"      <td>22017</td>
",
"      <td>1610612766</td>
",
"      <td>CHA</td>
",
"      <td>Charlotte Hornets</td>
",
"      <td>21700972</td>
",
"      <td>2018-03-08</td>
",
"      <td>CHA vs. BKN</td>
",
"      <td>L</td>
",
"      <td>241</td>
",
"      <td>111</td>
",
"      <td>41</td>
",
"      <td>85</td>
",
"      <td>0.482</td>
",
"      <td>4</td>
",
"      <td>19.0</td>
",
"      <td>0.211</td>
",
"      <td>25</td>
",
"      <td>30</td>
",
"      <td>0.833</td>
",
"      <td>6.0</td>
",
"      <td>30.0</td>
",
"      <td>36.0</td>
",
"      <td>19</td>
",
"      <td>5.0</td>
",
"      <td>5</td>
",
"      <td>13</td>
",
"      <td>21</td>
",
"      <td>-11.0</td>
",
"      <td>1</td>
",
"    </tr>
",
"    <tr>
",
"      <th>13999</th>
",
"      <td>430</td>
",
"      <td>22017</td>
",
"      <td>1610612766</td>
",
"      <td>CHA</td>
",
"      <td>Charlotte Hornets</td>
",
"      <td>21700957</td>
",
"      <td>2018-03-06</td>
",
"      <td>CHA vs. PHI</td>
",
"      <td>L</td>
",
"      <td>239</td>
",
"      <td>114</td>
",
"      <td>40</td>
",
"      <td>80</td>
",
"      <td>0.500</td>
",
"      <td>11</td>
",
"      <td>29.0</td>
",
"      <td>0.379</td>
",
"      <td>23</td>
",
"      <td>31</td>
",
"      <td>0.742</td>
",
"      <td>8.0</td>
",
"      <td>25.0</td>
",
"      <td>33.0</td>
",
"      <td>26</td>
",
"      <td>7.0</td>
",
"      <td>5</td>
",
"      <td>10</td>
",
"      <td>12</td>
",
"      <td>-14.0</td>
",
"      <td>1</td>
",
"    </tr>
",
"  </tbody>
",
"</table>
",
"<p>14000 rows × 30 columns</p>
",
"</div>"
],
text/plain: [
"       index SEASON_ID     TEAM_ID TEAM_ABBREVIATION          TEAM_NAME  \
",
"0          0     22022  1610612737               ATL      Atlanta Hawks
",
"1          1     22022  1610612737               ATL      Atlanta Hawks
",
"2          2     22022  1610612737               ATL      Atlanta Hawks
",
"3          3     22022  1610612737               ATL      Atlanta Hawks
",
"4          4     22022  1610612737               ATL      Atlanta Hawks
",
"...      ...       ...         ...               ...                ...
",
"13995    426     22017  1610612766               CHA  Charlotte Hornets
",
"13996    427     22017  1610612766               CHA  Charlotte Hornets
",
"13997    428     22017  1610612766               CHA  Charlotte Hornets
",
"13998    429     22017  1610612766               CHA  Charlotte Hornets
",
"13999    430     22017  1610612766               CHA  Charlotte Hornets
",
"
",
"        GAME_ID  GAME_DATE      MATCHUP WL  MIN  PTS  FGM  FGA  FG_PCT  FG3M  \
",
"0      22200958 2023-03-04    ATL @ MIA  L  239  109   37   79   0.468     9
",
"1      22200947 2023-03-03  ATL vs. POR  W  239  129   52   91   0.571    12
",
"2      22200923 2023-02-28  ATL vs. WAS  L  239  116   43   93   0.462    13
",
"3      22200911 2023-02-26  ATL vs. BKN  W  240  129   45   90   0.500    16
",
"4      22200896 2023-02-24  ATL vs. CLE  W  240  136   50   85   0.588    15
",
"...         ...        ...          ... ..  ...  ...  ...  ...     ...   ...
",
"13995  21701021 2018-03-15    CHA @ ATL  W  239  129   46   87   0.529    17
",
"13996  21701011 2018-03-13    CHA @ NOP  L  241  115   45   93   0.484     7
",
"13997  21700987 2018-03-10  CHA vs. PHX  W  239  122   44   87   0.506    13
",
"13998  21700972 2018-03-08  CHA vs. BKN  L  241  111   41   85   0.482     4
",
"13999  21700957 2018-03-06  CHA vs. PHI  L  239  114   40   80   0.500    11
",
"
",
"       FG3A  FG3_PCT  FTM  FTA  FT_PCT  OREB  DREB   REB  AST   STL  BLK  TOV  \
",
"0      30.0    0.300   26   30   0.867  10.0  27.0  37.0   22  12.0    1   16
",
"1      26.0    0.462   13   16   0.813  10.0  33.0  43.0   30  10.0    5   17
",
"2      35.0    0.371   17   19   0.895  13.0  29.0  42.0   21   4.0    7    9
",
"3      30.0    0.533   23   28   0.821  13.0  33.0  46.0   20   7.0    2   15
",
"4      28.0    0.536   21   23   0.913   5.0  37.0  42.0   28   7.0    8   14
",
"...     ...      ...  ...  ...     ...   ...   ...   ...  ...   ...  ...  ...
",
"13995  33.0    0.515   20   30   0.667   6.0  39.0  45.0   30   3.0    3   10
",
"13996  26.0    0.269   18   22   0.818   8.0  37.0  45.0   22   8.0    9   13
",
"13997  32.0    0.406   21   27   0.778   7.0  34.0  41.0   24  11.0    5   12
",
"13998  19.0    0.211   25   30   0.833   6.0  30.0  36.0   19   5.0    5   13
",
"13999  29.0    0.379   23   31   0.742   8.0  25.0  33.0   26   7.0    5   10
",
"
",
"       PF  PLUS_MINUS  HOME_TEAM
",
"0      23        -8.0          0
",
"1      19        18.0          1
",
"2      17        -3.0          1
",
"3      18         2.0          1
",
"4      21        17.0          1
",
"...    ..         ...        ...
",
"13995  21        12.0          0
",
"13996  13        -4.0          0
",
"13997  18         5.0          1
",
"13998  21       -11.0          1
",
"13999  12       -14.0          1
",
"
",
"[14000 rows x 30 columns]"
]
},
execution_count: 279,
metadata: { },
output_type: "execute_result"
}
],
source: [
"games_5yrs = games.loc[games.GAME_DATE >= '2018-03-05'].copy()
",
"games_5yrs.reset_index(inplace=True)
",
"games_5yrs"
]
},
{
cell_type: "code",
execution_count: 276,
id: "67909463-2679-481b-8827-569f50e02159",
metadata: {
tags: [ ]
},
outputs: [ ],
source: [
"games_5yrs.to_pickle(os.getcwd() + '/raw_data/raw_games_5yrs.pkl')"
]
},
{
cell_type: "code",
execution_count: 277,
id: "fc670f79-b2c1-4dfc-a9fe-fba1c559cfb2",
metadata: { },
outputs: [
{
data: {
text/plain: [
"array([[<AxesSubplot:title={'center':'TEAM_ID'}>,
",
"        <AxesSubplot:title={'center':'GAME_ID'}>,
",
"        <AxesSubplot:title={'center':'GAME_DATE'}>,
",
"        <AxesSubplot:title={'center':'MIN'}>,
",
"        <AxesSubplot:title={'center':'PTS'}>],
",
"       [<AxesSubplot:title={'center':'FGM'}>,
",
"        <AxesSubplot:title={'center':'FGA'}>,
",
"        <AxesSubplot:title={'center':'FG_PCT'}>,
",
"        <AxesSubplot:title={'center':'FG3M'}>,
",
"        <AxesSubplot:title={'center':'FG3A'}>],
",
"       [<AxesSubplot:title={'center':'FG3_PCT'}>,
",
"        <AxesSubplot:title={'center':'FTM'}>,
",
"        <AxesSubplot:title={'center':'FTA'}>,
",
"        <AxesSubplot:title={'center':'FT_PCT'}>,
",
"        <AxesSubplot:title={'center':'OREB'}>],
",
"       [<AxesSubplot:title={'center':'DREB'}>,
",
"        <AxesSubplot:title={'center':'REB'}>,
",
"        <AxesSubplot:title={'center':'AST'}>,
",
"        <AxesSubplot:title={'center':'STL'}>,
",
"        <AxesSubplot:title={'center':'BLK'}>],
",
"       [<AxesSubplot:title={'center':'TOV'}>,
",
"        <AxesSubplot:title={'center':'PF'}>,
",
"        <AxesSubplot:title={'center':'PLUS_MINUS'}>,
",
"        <AxesSubplot:title={'center':'HOME_TEAM'}>, <AxesSubplot:>]],
",
"      dtype=object)"
]
},
execution_count: 277,
metadata: { },
output_type: "execute_result"
},
{
data: {
image/png: "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
",
text/plain: [
"<Figure size 640x480 with 25 Axes>"
]
},
metadata: { },
output_type: "display_data"
}
],
source: [
"games_5yrs.hist()"
]
},
{
cell_type: "markdown",
id: "8f1518c8-5890-4edf-96fc-100d39349a81",
metadata: { },
source: [
"### CHOOSING AN APPROPRIATE DATA CUT-OFF POINT BY AVERAGING TEAM SCORE AUTOCORRELATIONS"
]
},
{
cell_type: "code",
execution_count: 7,
id: "e9567e1c",
metadata: { },
outputs: [
{
data: {
text/plain: [
"array(['Atlanta Hawks', 'Boston Celtics', 'Cleveland Cavaliers',
",
"       'New Orleans Pelicans', 'New Orleans Hornets',
",
"       'New Orleans/Oklahoma City Hornets', 'Chicago Bulls',
",
"       'Dallas Mavericks', 'Denver Nuggets', 'Golden State Warriors',
",
"       'Houston Rockets', 'LA Clippers', 'Los Angeles Clippers',
",
"       'San Diego Clippers', 'Los Angeles Lakers', 'Miami Heat',
",
"       'Milwaukee Bucks', 'Minnesota Timberwolves', 'Brooklyn Nets',
",
"       'New Jersey Nets', 'New York Knicks', 'Orlando Magic',
",
"       'Indiana Pacers', 'Philadelphia 76ers', 'Phoenix Suns',
",
"       'Portland Trail Blazers', 'Sacramento Kings', 'Kansas City Kings',
",
"       'San Antonio Spurs', 'Oklahoma City Thunder',
",
"       'Seattle SuperSonics', 'Toronto Raptors', 'Utah Jazz',
",
"       'Memphis Grizzlies', 'Vancouver Grizzlies', 'Washington Wizards',
",
"       'Washington Bullets', 'Detroit Pistons', 'Charlotte Hornets',
",
"       'Charlotte Bobcats'], dtype=object)"
]
},
execution_count: 7,
metadata: { },
output_type: "execute_result"
}
],
source: [
"games['TEAM_NAME'].unique()"
]
},
{
cell_type: "code",
execution_count: 8,
id: "5c7a0f0c-8e06-4f47-892e-ce961c12f222",
metadata: { },
outputs: [
{
data: {
text/html: [
"<div>
",
"<style scoped>
",
"    .dataframe tbody tr th:only-of-type {
",
"        vertical-align: middle;
",
"    }
",
"
",
"    .dataframe tbody tr th {
",
"        vertical-align: top;
",
"    }
",
"
",
"    .dataframe thead th {
",
"        text-align: right;
",
"    }
",
"</style>
",
"<table border="1" class="dataframe">
",
"  <thead>
",
"    <tr style="text-align: right;">
",
"      <th></th>
",
"      <th>SEASON_ID</th>
",
"      <th>TEAM_ID</th>
",
"      <th>TEAM_ABBREVIATION</th>
",
"      <th>TEAM_NAME</th>
",
"      <th>GAME_ID</th>
",
"      <th>GAME_DATE</th>
",
"      <th>MATCHUP</th>
",
"      <th>WL</th>
",
"      <th>MIN</th>
",
"      <th>PTS</th>
",
"      <th>...</th>
",
"      <th>FT_PCT</th>
",
"      <th>OREB</th>
",
"      <th>DREB</th>
",
"      <th>REB</th>
",
"      <th>AST</th>
",
"      <th>STL</th>
",
"      <th>BLK</th>
",
"      <th>TOV</th>
",
"      <th>PF</th>
",
"      <th>PLUS_MINUS</th>
",
"    </tr>
",
"  </thead>
",
"  <tbody>
",
"    <tr>
",
"      <th>0</th>
",
"      <td>22022</td>
",
"      <td>1610612737</td>
",
"      <td>ATL</td>
",
"      <td>Atlanta Hawks</td>
",
"      <td>0022200958</td>
",
"      <td>2023-03-04</td>
",
"      <td>ATL @ MIA</td>
",
"      <td>L</td>
",
"      <td>239</td>
",
"      <td>109</td>
",
"      <td>...</td>
",
"      <td>0.867</td>
",
"      <td>10.0</td>
",
"      <td>27.0</td>
",
"      <td>37.0</td>
",
"      <td>22</td>
",
"      <td>12.0</td>
",
"      <td>1</td>
",
"      <td>16</td>
",
"      <td>23</td>
",
"      <td>-8.0</td>
",
"    </tr>
",
"    <tr>
",
"      <th>1</th>
",
"      <td>22022</td>
",
"      <td>1610612737</td>
",
"      <td>ATL</td>
",
"      <td>Atlanta Hawks</td>
",
"      <td>0022200947</td>
",
"      <td>2023-03-03</td>
",
"      <td>ATL vs. POR</td>
",
"      <td>W</td>
",
"      <td>239</td>
",
"      <td>129</td>
",
"      <td>...</td>
",
"      <td>0.813</td>
",
"      <td>10.0</td>
",
"      <td>33.0</td>
",
"      <td>43.0</td>
",
"      <td>30</td>
",
"      <td>10.0</td>
",
"      <td>5</td>
",
"      <td>17</td>
",
"      <td>19</td>
",
"      <td>18.0</td>
",
"    </tr>
",
"    <tr>
",
"      <th>2</th>
",
"      <td>22022</td>
",
"      <td>1610612737</td>
",
"      <td>ATL</td>
",
"      <td>Atlanta Hawks</td>
",
"      <td>0022200923</td>
",
"      <td>2023-02-28</td>
",
"      <td>ATL vs. WAS</td>
",
"      <td>L</td>
",
"      <td>239</td>
",
"      <td>116</td>
",
"      <td>...</td>
",
"      <td>0.895</td>
",
"      <td>13.0</td>
",
"      <td>29.0</td>
",
"      <td>42.0</td>
",
"      <td>21</td>
",
"      <td>4.0</td>
",
"      <td>7</td>
",
"      <td>9</td>
",
"      <td>17</td>
",
"      <td>-3.0</td>
",
"    </tr>
",
"    <tr>
",
"      <th>3</th>
",
"      <td>22022</td>
",
"      <td>1610612737</td>
",
"      <td>ATL</td>
",
"      <td>Atlanta Hawks</td>
",
"      <td>0022200911</td>
",
"      <td>2023-02-26</td>
",
"      <td>ATL vs. BKN</td>
",
"      <td>W</td>
",
"      <td>240</td>
",
"      <td>129</td>
",
"      <td>...</td>
",
"      <td>0.821</td>
",
"      <td>13.0</td>
",
"      <td>33.0</td>
",
"      <td>46.0</td>
",
"      <td>20</td>
",
"      <td>7.0</td>
",
"      <td>2</td>
",
"      <td>15</td>
",
"      <td>18</td>
",
"      <td>2.0</td>
",
"    </tr>
",
"    <tr>
",
"      <th>4</th>
",
"      <td>22022</td>
",
"      <td>1610612737</td>
",
"      <td>ATL</td>
",
"      <td>Atlanta Hawks</td>
",
"      <td>0022200896</td>
",
"      <td>2023-02-24</td>
",
"      <td>ATL vs. CLE</td>
",
"      <td>W</td>
",
"      <td>240</td>
",
"      <td>136</td>
",
"      <td>...</td>
",
"      <td>0.913</td>
",
"      <td>5.0</td>
",
"      <td>37.0</td>
",
"      <td>42.0</td>
",
"      <td>28</td>
",
"      <td>7.0</td>
",
"      <td>8</td>
",
"      <td>14</td>
",
"      <td>21</td>
",
"      <td>17.0</td>
",
"    </tr>
",
"    <tr>
",
"      <th>...</th>
",
"      <td>...</td>
",
"      <td>...</td>
",
"      <td>...</td>
",
"      <td>...</td>
",
"      <td>...</td>
",
"      <td>...</td>
",
"      <td>...</td>
",
"      <td>...</td>
",
"      <td>...</td>
",
"      <td>...</td>
",
"      <td>...</td>
",
"      <td>...</td>
",
"      <td>...</td>
",
"      <td>...</td>
",
"      <td>...</td>
",
"      <td>...</td>
",
"      <td>...</td>
",
"      <td>...</td>
",
"      <td>...</td>
",
"      <td>...</td>
",
"      <td>...</td>
",
"    </tr>
",
"    <tr>
",
"      <th>2858</th>
",
"      <td>21988</td>
",
"      <td>1610612766</td>
",
"      <td>CHH</td>
",
"      <td>Charlotte Hornets</td>
",
"      <td>0028800062</td>
",
"      <td>1988-11-12</td>
",
"      <td>CHH @ ATL</td>
",
"      <td>L</td>
",
"      <td>238</td>
",
"      <td>111</td>
",
"      <td>...</td>
",
"      <td>0.813</td>
",
"      <td>14.0</td>
",
"      <td>21.0</td>
",
"      <td>35.0</td>
",
"      <td>30</td>
",
"      <td>12.0</td>
",
"      <td>2</td>
",
"      <td>19</td>
",
"      <td>26</td>
",
"      <td>NaN</td>
",
"    </tr>
",
"    <tr>
",
"      <th>2859</th>
",
"      <td>21988</td>
",
"      <td>1610612766</td>
",
"      <td>CHH</td>
",
"      <td>Charlotte Hornets</td>
",
"      <td>0028800052</td>
",
"      <td>1988-11-11</td>
",
"      <td>CHH @ WAS</td>
",
"      <td>L</td>
",
"      <td>240</td>
",
"      <td>87</td>
",
"      <td>...</td>
",
"      <td>0.760</td>
",
"      <td>11.0</td>
",
"      <td>32.0</td>
",
"      <td>43.0</td>
",
"      <td>22</td>
",
"      <td>9.0</td>
",
"      <td>1</td>
",
"      <td>23</td>
",
"      <td>26</td>
",
"      <td>NaN</td>
",
"    </tr>
",
"    <tr>
",
"      <th>2860</th>
",
"      <td>21988</td>
",
"      <td>1610612766</td>
",
"      <td>CHH</td>
",
"      <td>Charlotte Hornets</td>
",
"      <td>0028800024</td>
",
"      <td>1988-11-08</td>
",
"      <td>CHH vs. LAC</td>
",
"      <td>W</td>
",
"      <td>240</td>
",
"      <td>117</td>
",
"      <td>...</td>
",
"      <td>0.738</td>
",
"      <td>17.0</td>
",
"      <td>38.0</td>
",
"      <td>55.0</td>
",
"      <td>28</td>
",
"      <td>9.0</td>
",
"      <td>1</td>
",
"      <td>17</td>
",
"      <td>31</td>
",
"      <td>NaN</td>
",
"    </tr>
",
"    <tr>
",
"      <th>2861</th>
",
"      <td>21988</td>
",
"      <td>1610612766</td>
",
"      <td>CHH</td>
",
"      <td>Charlotte Hornets</td>
",
"      <td>0028800015</td>
",
"      <td>1988-11-05</td>
",
"      <td>CHH @ DET</td>
",
"      <td>L</td>
",
"      <td>240</td>
",
"      <td>85</td>
",
"      <td>...</td>
",
"      <td>1.000</td>
",
"      <td>21.0</td>
",
"      <td>19.0</td>
",
"      <td>40.0</td>
",
"      <td>18</td>
",
"      <td>8.0</td>
",
"      <td>6</td>
",
"      <td>11</td>
",
"      <td>21</td>
",
"      <td>NaN</td>
",
"    </tr>
",
"    <tr>
",
"      <th>2862</th>
",
"      <td>21988</td>
",
"      <td>1610612766</td>
",
"      <td>CHH</td>
",
"      <td>Charlotte Hornets</td>
",
"      <td>0028800008</td>
",
"      <td>1988-11-04</td>
",
"      <td>CHH vs. CLE</td>
",
"      <td>L</td>
",
"      <td>240</td>
",
"      <td>93</td>
",
"      <td>...</td>
",
"      <td>0.650</td>
",
"      <td>7.0</td>
",
"      <td>24.0</td>
",
"      <td>31.0</td>
",
"      <td>27</td>
",
"      <td>8.0</td>
",
"      <td>1</td>
",
"      <td>24</td>
",
"      <td>25</td>
",
"      <td>NaN</td>
",
"    </tr>
",
"  </tbody>
",
"</table>
",
"<p>102157 rows × 28 columns</p>
",
"</div>"
],
text/plain: [
"     SEASON_ID     TEAM_ID TEAM_ABBREVIATION          TEAM_NAME     GAME_ID  \
",
"0        22022  1610612737               ATL      Atlanta Hawks  0022200958
",
"1        22022  1610612737               ATL      Atlanta Hawks  0022200947
",
"2        22022  1610612737               ATL      Atlanta Hawks  0022200923
",
"3        22022  1610612737               ATL      Atlanta Hawks  0022200911
",
"4        22022  1610612737               ATL      Atlanta Hawks  0022200896
",
"...        ...         ...               ...                ...         ...
",
"2858     21988  1610612766               CHH  Charlotte Hornets  0028800062
",
"2859     21988  1610612766               CHH  Charlotte Hornets  0028800052
",
"2860     21988  1610612766               CHH  Charlotte Hornets  0028800024
",
"2861     21988  1610612766               CHH  Charlotte Hornets  0028800015
",
"2862     21988  1610612766               CHH  Charlotte Hornets  0028800008
",
"
",
"       GAME_DATE      MATCHUP WL  MIN  PTS  ...  FT_PCT  OREB  DREB   REB  \
",
"0     2023-03-04    ATL @ MIA  L  239  109  ...   0.867  10.0  27.0  37.0
",
"1     2023-03-03  ATL vs. POR  W  239  129  ...   0.813  10.0  33.0  43.0
",
"2     2023-02-28  ATL vs. WAS  L  239  116  ...   0.895  13.0  29.0  42.0
",
"3     2023-02-26  ATL vs. BKN  W  240  129  ...   0.821  13.0  33.0  46.0
",
"4     2023-02-24  ATL vs. CLE  W  240  136  ...   0.913   5.0  37.0  42.0
",
"...          ...          ... ..  ...  ...  ...     ...   ...   ...   ...
",
"2858  1988-11-12    CHH @ ATL  L  238  111  ...   0.813  14.0  21.0  35.0
",
"2859  1988-11-11    CHH @ WAS  L  240   87  ...   0.760  11.0  32.0  43.0
",
"2860  1988-11-08  CHH vs. LAC  W  240  117  ...   0.738  17.0  38.0  55.0
",
"2861  1988-11-05    CHH @ DET  L  240   85  ...   1.000  21.0  19.0  40.0
",
"2862  1988-11-04  CHH vs. CLE  L  240   93  ...   0.650   7.0  24.0  31.0
",
"
",
"      AST   STL  BLK  TOV  PF  PLUS_MINUS
",
"0      22  12.0    1   16  23        -8.0
",
"1      30  10.0    5   17  19        18.0
",
"2      21   4.0    7    9  17        -3.0
",
"3      20   7.0    2   15  18         2.0
",
"4      28   7.0    8   14  21        17.0
",
"...   ...   ...  ...  ...  ..         ...
",
"2858   30  12.0    2   19  26         NaN
",
"2859   22   9.0    1   23  26         NaN
",
"2860   28   9.0    1   17  31         NaN
",
"2861   18   8.0    6   11  21         NaN
",
"2862   27   8.0    1   24  25         NaN
",
"
",
"[102157 rows x 28 columns]"
]
},
execution_count: 8,
metadata: { },
output_type: "execute_result"
}
],
source: [
"games"
]
},
{
cell_type: "code",
execution_count: 180,
id: "0b04380e-cbd8-4d46-bab9-42dabc16dc3b",
metadata: { },
outputs: [
{
data: {
text/plain: [
"40"
]
},
execution_count: 180,
metadata: { },
output_type: "execute_result"
}
],
source: [
"games['TEAM_NAME'].nunique()"
]
},
{
cell_type: "code",
execution_count: 140,
id: "d7f96914-689b-4c21-90ce-082ce6ecfecf",
metadata: {
tags: [ ]
},
outputs: [ ],
source: [
"team = 'Atlanta Hawks'
",
"lags_df = games.loc[games['TEAM_NAME'] == team, ['PTS', 'GAME_DATE']].sort_values(by='GAME_DATE')
",
"acf, ci = sm.tsa.acf(lags_df.loc[:, 'PTS'], alpha=0.05, nlags = 100)
",
"pacf, ci = sm.tsa.pacf(lags_df.loc[:, 'PTS'], alpha=0.05, nlags=100)"
]
},
{
cell_type: "code",
execution_count: 141,
id: "92c1bb4e-aac6-47e4-aaad-e79a9083c8e2",
metadata: { },
outputs: [
{
data: {
text/plain: [
"(array([1.        , 0.33691925, 0.30778649, 0.28871096, 0.25488156,
",
"        0.27594046, 0.2757701 , 0.26084777, 0.23387813, 0.24086163,
",
"        0.2346653 , 0.22873277, 0.21749215, 0.23291862, 0.207323  ,
",
"        0.21751953, 0.19916003, 0.21126041, 0.21944524, 0.20661033,
",
"        0.23390022, 0.21235281, 0.20166922, 0.18396498, 0.18633487,
",
"        0.1964661 , 0.20287489, 0.23164412, 0.20148273, 0.20465502,
",
"        0.19851966, 0.19702074, 0.20247367, 0.2052241 , 0.18259624,
",
"        0.19512401, 0.18756543, 0.18809536, 0.1839763 , 0.19794238,
",
"        0.20049607, 0.18002718, 0.20296842, 0.18584164, 0.175286  ,
",
"        0.17283129, 0.178491  , 0.18260006, 0.18685188, 0.17806515,
",
"        0.16103738, 0.1819413 , 0.20139572, 0.18721738, 0.18132998,
",
"        0.19347526, 0.16793211, 0.17907797, 0.17166213, 0.18950786,
",
"        0.19184812, 0.20599542, 0.17114554, 0.16252999, 0.16485117,
",
"        0.18006947, 0.17902643, 0.17060905, 0.16188367, 0.1578964 ,
",
"        0.19067208, 0.20860216, 0.20323688, 0.18769895, 0.19106735,
",
"        0.18055157, 0.18568572, 0.22195589, 0.22111001, 0.19609253,
",
"        0.20197507, 0.20052599, 0.19762736, 0.1918867 , 0.18831148,
",
"        0.20172612, 0.21999947, 0.21008636, 0.19234634, 0.18440564,
",
"        0.19615303, 0.17073076, 0.20881044, 0.21203266, 0.20943337,
",
"        0.20331154, 0.21176668, 0.22044638, 0.22609941, 0.22168006,
",
"        0.19334095]),
",
" array([[ 1.00000000e+00,  1.00000000e+00],
",
"        [ 3.04247105e-01,  3.69779784e-01],
",
"        [ 1.86520389e-01,  2.52053068e-01],
",
"        [ 1.26067384e-01,  1.91600063e-01],
",
"        [ 6.57296585e-02,  1.31262337e-01],
",
"        [ 9.07996968e-02,  1.56332375e-01],
",
"        [ 7.53738787e-02,  1.40906557e-01],
",
"        [ 4.48482520e-02,  1.10380930e-01],
",
"        [ 6.78628715e-03,  7.23189656e-02],
",
"        [ 2.51617932e-02,  9.06944716e-02],
",
"        [ 1.65725630e-02,  8.21052414e-02],
",
"        [ 8.30808645e-03,  7.38407649e-02],
",
"        [-6.19467465e-03,  5.93380038e-02],
",
"        [ 2.10611083e-02,  8.65937867e-02],
",
"        [-1.60151457e-02,  4.95175327e-02],
",
"        [ 3.93298617e-03,  6.94656646e-02],
",
"        [-2.17217322e-02,  4.38109462e-02],
",
"        [ 3.79388644e-03,  6.93265649e-02],
",
"        [ 1.02214684e-02,  7.57541468e-02],
",
"        [-9.70268460e-03,  5.58299938e-02],
",
"        [ 2.65303742e-02,  9.20630526e-02],
",
"        [-8.51700843e-03,  5.70156700e-02],
",
"        [-2.09078627e-02,  4.46248157e-02],
",
"        [-4.00902999e-02,  2.54423785e-02],
",
"        [-2.60966197e-02,  3.94360587e-02],
",
"        [-9.36520099e-03,  5.61674774e-02],
",
"        [-4.31703797e-03,  6.12156404e-02],
",
"        [ 3.05573927e-02,  9.60900711e-02],
",
"        [-1.97772997e-02,  4.57553787e-02],
",
"        [-9.22233089e-03,  5.63103475e-02],
",
"        [-1.89391794e-02,  4.65934990e-02],
",
"        [-1.77188964e-02,  4.78137820e-02],
",
"        [-1.17032761e-02,  5.38294023e-02],
",
"        [-1.09819781e-02,  5.45507004e-02],
",
"        [-3.89384879e-02,  2.65941905e-02],
",
"        [-1.47047912e-02,  5.08278872e-02],
",
"        [-2.44168984e-02,  4.11157800e-02],
",
"        [-2.19944847e-02,  4.35381938e-02],
",
"        [-2.99176551e-02,  3.56150233e-02],
",
"        [-4.90039148e-03,  6.06322869e-02],
",
"        [-8.44626092e-03,  5.70864175e-02],
",
"        [-3.35474913e-02,  3.19851871e-02],
",
"        [-7.79285637e-04,  6.47533928e-02],
",
"        [-2.28750779e-02,  4.26576005e-02],
",
"        [-3.73120878e-02,  2.82205907e-02],
",
"        [-3.94103596e-02,  2.61223188e-02],
",
"        [-2.54620196e-02,  4.00706589e-02],
",
"        [-2.15377403e-02,  4.39949382e-02],
",
"        [-1.61283203e-02,  4.94043581e-02],
",
"        [-2.79035017e-02,  3.76291768e-02],
",
"        [-4.47910116e-02,  2.07416668e-02],
",
"        [-8.61086978e-03,  5.69218086e-02],
",
"        [ 1.01620847e-02,  7.56947632e-02],
",
"        [-2.13820152e-02,  4.41506632e-02],
",
"        [-2.75956969e-02,  3.79369815e-02],
",
"        [-6.71988738e-03,  5.88127910e-02],
",
"        [-4.14421427e-02,  2.40905357e-02],
",
"        [-2.59101542e-02,  3.96225242e-02],
",
"        [-3.58138468e-02,  2.97188316e-02],
",
"        [-7.42626629e-03,  5.81064121e-02],
",
"        [-1.25953675e-02,  5.29373109e-02],
",
"        [ 7.74238958e-03,  7.32750680e-02],
",
"        [-4.98177491e-02,  1.57149294e-02],
",
"        [-4.51123248e-02,  2.04203536e-02],
",
"        [-3.76897916e-02,  2.78428869e-02],
",
"        [-1.16972442e-02,  5.38354342e-02],
",
"        [-2.39526910e-02,  4.15799875e-02],
",
"        [-3.44070082e-02,  3.11256702e-02],
",
"        [-4.15950432e-02,  2.39376352e-02],
",
"        [-3.97726626e-02,  2.57600158e-02],
",
"        [ 7.36343644e-03,  7.28961149e-02],
",
"        [ 2.22295469e-02,  8.77622253e-02],
",
"        [-3.97288650e-03,  6.15597919e-02],
",
"        [-2.59613401e-02,  3.95713383e-02],
",
"        [-1.62194586e-02,  4.93132198e-02],
",
"        [-3.01126441e-02,  3.54200344e-02],
",
"        [-1.96826489e-02,  4.58500295e-02],
",
"        [ 2.65126129e-02,  9.20452913e-02],
",
"        [ 9.14731439e-03,  7.46799928e-02],
",
"        [-3.74823950e-02,  2.80502834e-02],
",
"        [-2.06147778e-02,  4.49179006e-02],
",
"        [-2.12040029e-02,  4.43286755e-02],
",
"        [-2.22790302e-02,  4.32536482e-02],
",
"        [-2.94803272e-02,  3.60523512e-02],
",
"        [-3.30431042e-02,  3.24895742e-02],
",
"        [-8.86917107e-03,  5.66635074e-02],
",
"        [ 1.10461541e-02,  7.65788325e-02],
",
"        [-1.46115048e-02,  5.09211736e-02],
",
"        [-4.12399492e-02,  2.42927292e-02],
",
"        [-3.60749469e-02,  2.94577315e-02],
",
"        [-1.97673334e-02,  4.57653450e-02],
",
"        [-6.20565614e-02,  3.47611700e-03],
",
"        [-1.77317228e-03,  6.37595061e-02],
",
"        [ 3.14828656e-03,  6.86809650e-02],
",
"        [-4.95652048e-03,  6.05761579e-02],
",
"        [-1.78320976e-02,  4.77005809e-02],
",
"        [-1.92509875e-03,  6.36075797e-02],
",
"        [-1.61706499e-03,  6.39156134e-02],
",
"        [-3.10594523e-03,  6.24267332e-02],
",
"        [-1.48571835e-02,  5.06754949e-02],
",
"        [-4.94665173e-02,  1.60661611e-02]]))"
]
},
execution_count: 141,
metadata: { },
output_type: "execute_result"
}
],
source: [
"acf, ci"
]
},
{
cell_type: "code",
execution_count: 153,
id: "581e053f-be79-4cf3-9b8d-37eb228d9ccd",
metadata: { },
outputs: [ ],
source: [
"ci = ci[:, 1] - ci[:, 0]"
]
},
{
cell_type: "code",
execution_count: 155,
id: "80a13a56-34a5-4061-9120-fce689d95faa",
metadata: { },
outputs: [
{
ename: "ValueError",
evalue: "operands could not be broadcast together with shapes (101,) (2,) ",
output_type: "error",
traceback: [
"[0;31m---------------------------------------------------------------------------[0m",
"[0;31mValueError[0m                                Traceback (most recent call last)",
"Cell [0;32mIn [155], line 1[0m
[0;32m----> 1[0m acf[[43macf[49m[43m [49m[38;5;241;43m<[39;49m[43m [49m[43mci[49m]
",
"[0;31mValueError[0m: operands could not be broadcast together with shapes (101,) (2,) "
]
}
],
source: [
"acf[acf < ci]"
]
},
{
cell_type: "code",
execution_count: 93,
id: "d460303f-0d5f-4140-b087-bc84c87c9047",
metadata: { },
outputs: [
{
ename: "NameError",
evalue: "name 'ind' is not defined",
output_type: "error",
traceback: [
"[0;31m---------------------------------------------------------------------------[0m",
"[0;31mNameError[0m                                 Traceback (most recent call last)",
"Cell [0;32mIn [93], line 1[0m
[0;32m----> 1[0m i [38;5;241m=[39m [43mind[49m[acf[ind] [38;5;241m<[39m ci]
[1;32m      2[0m B [38;5;241m=[39m ind[A[ind][38;5;241m==[39mvalue]
",
"[0;31mNameError[0m: name 'ind' is not defined"
]
}
],
source: [
"i = ind[acf[ind] < ci]
",
"B = ind[A[ind]==value]"
]
},
{
cell_type: "code",
execution_count: 176,
id: "f39f2cc1-ed54-4119-aa00-dbf2f96d5d12",
metadata: { },
outputs: [
{
data: {
text/html: [
"<div>
",
"<style scoped>
",
"    .dataframe tbody tr th:only-of-type {
",
"        vertical-align: middle;
",
"    }
",
"
",
"    .dataframe tbody tr th {
",
"        vertical-align: top;
",
"    }
",
"
",
"    .dataframe thead th {
",
"        text-align: right;
",
"    }
",
"</style>
",
"<table border="1" class="dataframe">
",
"  <thead>
",
"    <tr style="text-align: right;">
",
"      <th></th>
",
"      <th>SEASON_ID</th>
",
"      <th>TEAM_ID</th>
",
"      <th>TEAM_ABBREVIATION</th>
",
"      <th>TEAM_NAME</th>
",
"      <th>GAME_ID</th>
",
"      <th>GAME_DATE</th>
",
"      <th>MATCHUP</th>
",
"      <th>WL</th>
",
"      <th>MIN</th>
",
"      <th>PTS</th>
",
"      <th>FGM</th>
",
"      <th>FGA</th>
",
"      <th>FG_PCT</th>
",
"      <th>FG3M</th>
",
"      <th>FG3A</th>
",
"      <th>FG3_PCT</th>
",
"      <th>FTM</th>
",
"      <th>FTA</th>
",
"      <th>FT_PCT</th>
",
"      <th>OREB</th>
",
"      <th>DREB</th>
",
"      <th>REB</th>
",
"      <th>AST</th>
",
"      <th>STL</th>
",
"      <th>BLK</th>
",
"      <th>TOV</th>
",
"      <th>PF</th>
",
"      <th>PLUS_MINUS</th>
",
"    </tr>
",
"  </thead>
",
"  <tbody>
",
"    <tr>
",
"      <th>0</th>
",
"      <td>22022</td>
",
"      <td>1610612766</td>
",
"      <td>CHA</td>
",
"      <td>Charlotte Hornets</td>
",
"      <td>0022200965</td>
",
"      <td>2023-03-05</td>
",
"      <td>CHA @ BKN</td>
",
"      <td>L</td>
",
"      <td>240</td>
",
"      <td>86</td>
",
"      <td>33</td>
",
"      <td>88</td>
",
"      <td>0.375</td>
",
"      <td>8</td>
",
"      <td>30.0</td>
",
"      <td>0.267</td>
",
"      <td>12</td>
",
"      <td>15</td>
",
"      <td>0.800</td>
",
"      <td>5.0</td>
",
"      <td>44.0</td>
",
"      <td>49.0</td>
",
"      <td>17</td>
",
"      <td>2.0</td>
",
"      <td>3</td>
",
"      <td>10</td>
",
"      <td>19</td>
",
"      <td>-16.0</td>
",
"    </tr>
",
"    <tr>
",
"      <th>1</th>
",
"      <td>22022</td>
",
"      <td>1610612766</td>
",
"      <td>CHA</td>
",
"      <td>Charlotte Hornets</td>
",
"      <td>0022200946</td>
",
"      <td>2023-03-03</td>
",
"      <td>CHA vs. ORL</td>
",
"      <td>L</td>
",
"      <td>240</td>
",
"      <td>106</td>
",
"      <td>38</td>
",
"      <td>78</td>
",
"      <td>0.487</td>
",
"      <td>9</td>
",
"      <td>24.0</td>
",
"      <td>0.375</td>
",
"      <td>21</td>
",
"      <td>25</td>
",
"      <td>0.840</td>
",
"      <td>8.0</td>
",
"      <td>26.0</td>
",
"      <td>34.0</td>
",
"      <td>25</td>
",
"      <td>11.0</td>
",
"      <td>4</td>
",
"      <td>21</td>
",
"      <td>20</td>
",
"      <td>-11.0</td>
",
"    </tr>
",
"    <tr>
",
"      <th>2</th>
",
"      <td>22022</td>
",
"      <td>1610612766</td>
",
"      <td>CHA</td>
",
"      <td>Charlotte Hornets</td>
",
"      <td>0022200933</td>
",
"      <td>2023-03-01</td>
",
"      <td>CHA vs. PHX</td>
",
"      <td>L</td>
",
"      <td>240</td>
",
"      <td>91</td>
",
"      <td>32</td>
",
"      <td>88</td>
",
"      <td>0.364</td>
",
"      <td>9</td>
",
"      <td>33.0</td>
",
"      <td>0.273</td>
",
"      <td>18</td>
",
"      <td>28</td>
",
"      <td>0.643</td>
",
"      <td>12.0</td>
",
"      <td>36.0</td>
",
"      <td>48.0</td>
",
"      <td>20</td>
",
"      <td>3.0</td>
",
"      <td>7</td>
",
"      <td>13</td>
",
"      <td>17</td>
",
"      <td>-14.0</td>
",
"    </tr>
",
"    <tr>
",
"      <th>3</th>
",
"      <td>22022</td>
",
"      <td>1610612766</td>
",
"      <td>CHA</td>
",
"      <td>Charlotte Hornets</td>
",
"      <td>0022200919</td>
",
"      <td>2023-02-27</td>
",
"      <td>CHA vs. DET</td>
",
"      <td>W</td>
",
"      <td>241</td>
",
"      <td>117</td>
",
"      <td>43</td>
",
"      <td>83</td>
",
"      <td>0.518</td>
",
"      <td>13</td>
",
"      <td>26.0</td>
",
"      <td>0.500</td>
",
"      <td>18</td>
",
"      <td>22</td>
",
"      <td>0.818</td>
",
"      <td>7.0</td>
",
"      <td>39.0</td>
",
"      <td>46.0</td>
",
"      <td>24</td>
",
"      <td>8.0</td>
",
"      <td>3</td>
",
"      <td>16</td>
",
"      <td>22</td>
",
"      <td>11.0</td>
",
"    </tr>
",
"    <tr>
",
"      <th>4</th>
",
"      <td>22022</td>
",
"      <td>1610612766</td>
",
"      <td>CHA</td>
",
"      <td>Charlotte Hornets</td>
",
"      <td>0022200904</td>
",
"      <td>2023-02-25</td>
",
"      <td>CHA vs. MIA</td>
",
"      <td>W</td>
",
"      <td>240</td>
",
"      <td>108</td>
",
"      <td>38</td>
",
"      <td>88</td>
",
"      <td>0.432</td>
",
"      <td>10</td>
",
"      <td>31.0</td>
",
"      <td>0.323</td>
",
"      <td>22</td>
",
"      <td>27</td>
",
"      <td>0.815</td>
",
"      <td>11.0</td>
",
"      <td>37.0</td>
",
"      <td>48.0</td>
",
"      <td>20</td>
",
"      <td>10.0</td>
",
"      <td>2</td>
",
"      <td>15</td>
",
"      <td>22</td>
",
"      <td>5.0</td>
",
"    </tr>
",
"    <tr>
",
"      <th>...</th>
",
"      <td>...</td>
",
"      <td>...</td>
",
"      <td>...</td>
",
"      <td>...</td>
",
"      <td>...</td>
",
"      <td>...</td>
",
"      <td>...</td>
",
"      <td>...</td>
",
"      <td>...</td>
",
"      <td>...</td>
",
"      <td>...</td>
",
"      <td>...</td>
",
"      <td>...</td>
",
"      <td>...</td>
",
"      <td>...</td>
",
"      <td>...</td>
",
"      <td>...</td>
",
"      <td>...</td>
",
"      <td>...</td>
",
"      <td>...</td>
",
"      <td>...</td>
",
"      <td>...</td>
",
"      <td>...</td>
",
"      <td>...</td>
",
"      <td>...</td>
",
"      <td>...</td>
",
"      <td>...</td>
",
"      <td>...</td>
",
"    </tr>
",
"    <tr>
",
"      <th>2858</th>
",
"      <td>21988</td>
",
"      <td>1610612766</td>
",
"      <td>CHH</td>
",
"      <td>Charlotte Hornets</td>
",
"      <td>0028800062</td>
",
"      <td>1988-11-12</td>
",
"      <td>CHH @ ATL</td>
",
"      <td>L</td>
",
"      <td>238</td>
",
"      <td>111</td>
",
"      <td>42</td>
",
"      <td>88</td>
",
"      <td>0.477</td>
",
"      <td>1</td>
",
"      <td>3.0</td>
",
"      <td>0.333</td>
",
"      <td>26</td>
",
"      <td>32</td>
",
"      <td>0.813</td>
",
"      <td>14.0</td>
",
"      <td>21.0</td>
",
"      <td>35.0</td>
",
"      <td>30</td>
",
"      <td>12.0</td>
",
"      <td>2</td>
",
"      <td>19</td>
",
"      <td>26</td>
",
"      <td>NaN</td>
",
"    </tr>
",
"    <tr>
",
"      <th>2859</th>
",
"      <td>21988</td>
",
"      <td>1610612766</td>
",
"      <td>CHH</td>
",
"      <td>Charlotte Hornets</td>
",
"      <td>0028800052</td>
",
"      <td>1988-11-11</td>
",
"      <td>CHH @ WAS</td>
",
"      <td>L</td>
",
"      <td>240</td>
",
"      <td>87</td>
",
"      <td>34</td>
",
"      <td>77</td>
",
"      <td>0.442</td>
",
"      <td>0</td>
",
"      <td>4.0</td>
",
"      <td>0.000</td>
",
"      <td>19</td>
",
"      <td>25</td>
",
"      <td>0.760</td>
",
"      <td>11.0</td>
",
"      <td>32.0</td>
",
"      <td>43.0</td>
",
"      <td>22</td>
",
"      <td>9.0</td>
",
"      <td>1</td>
",
"      <td>23</td>
",
"      <td>26</td>
",
"      <td>NaN</td>
",
"    </tr>
",
"    <tr>
",
"      <th>2860</th>
",
"      <td>21988</td>
",
"      <td>1610612766</td>
",
"      <td>CHH</td>
",
"      <td>Charlotte Hornets</td>
",
"      <td>0028800024</td>
",
"      <td>1988-11-08</td>
",
"      <td>CHH vs. LAC</td>
",
"      <td>W</td>
",
"      <td>240</td>
",
"      <td>117</td>
",
"      <td>43</td>
",
"      <td>90</td>
",
"      <td>0.478</td>
",
"      <td>0</td>
",
"      <td>2.0</td>
",
"      <td>0.000</td>
",
"      <td>31</td>
",
"      <td>42</td>
",
"      <td>0.738</td>
",
"      <td>17.0</td>
",
"      <td>38.0</td>
",
"      <td>55.0</td>
",
"      <td>28</td>
",
"      <td>9.0</td>
",
"      <td>1</td>
",
"      <td>17</td>
",
"      <td>31</td>
",
"      <td>NaN</td>
",
"    </tr>
",
"    <tr>
",
"      <th>2861</th>
",
"      <td>21988</td>
",
"      <td>1610612766</td>
",
"      <td>CHH</td>
",
"      <td>Charlotte Hornets</td>
",
"      <td>0028800015</td>
",
"      <td>1988-11-05</td>
",
"      <td>CHH @ DET</td>
",
"      <td>L</td>
",
"      <td>240</td>
",
"      <td>85</td>
",
"      <td>33</td>
",
"      <td>95</td>
",
"      <td>0.347</td>
",
"      <td>0</td>
",
"      <td>1.0</td>
",
"      <td>0.000</td>
",
"      <td>19</td>
",
"      <td>19</td>
",
"      <td>1.000</td>
",
"      <td>21.0</td>
",
"      <td>19.0</td>
",
"      <td>40.0</td>
",
"      <td>18</td>
",
"      <td>8.0</td>
",
"      <td>6</td>
",
"      <td>11</td>
",
"      <td>21</td>
",
"      <td>NaN</td>
",
"    </tr>
",
"    <tr>
",
"      <th>2862</th>
",
"      <td>21988</td>
",
"      <td>1610612766</td>
",
"      <td>CHH</td>
",
"      <td>Charlotte Hornets</td>
",
"      <td>0028800008</td>
",
"      <td>1988-11-04</td>
",
"      <td>CHH vs. CLE</td>
",
"      <td>L</td>
",
"      <td>240</td>
",
"      <td>93</td>
",
"      <td>40</td>
",
"      <td>86</td>
",
"      <td>0.465</td>
",
"      <td>0</td>
",
"      <td>0.0</td>
",
"      <td>NaN</td>
",
"      <td>13</td>
",
"      <td>20</td>
",
"      <td>0.650</td>
",
"      <td>7.0</td>
",
"      <td>24.0</td>
",
"      <td>31.0</td>
",
"      <td>27</td>
",
"      <td>8.0</td>
",
"      <td>1</td>
",
"      <td>24</td>
",
"      <td>25</td>
",
"      <td>NaN</td>
",
"    </tr>
",
"  </tbody>
",
"</table>
",
"<p>1962 rows × 28 columns</p>
",
"</div>"
],
text/plain: [
"     SEASON_ID     TEAM_ID TEAM_ABBREVIATION          TEAM_NAME     GAME_ID  \
",
"0        22022  1610612766               CHA  Charlotte Hornets  0022200965
",
"1        22022  1610612766               CHA  Charlotte Hornets  0022200946
",
"2        22022  1610612766               CHA  Charlotte Hornets  0022200933
",
"3        22022  1610612766               CHA  Charlotte Hornets  0022200919
",
"4        22022  1610612766               CHA  Charlotte Hornets  0022200904
",
"...        ...         ...               ...                ...         ...
",
"2858     21988  1610612766               CHH  Charlotte Hornets  0028800062
",
"2859     21988  1610612766               CHH  Charlotte Hornets  0028800052
",
"2860     21988  1610612766               CHH  Charlotte Hornets  0028800024
",
"2861     21988  1610612766               CHH  Charlotte Hornets  0028800015
",
"2862     21988  1610612766               CHH  Charlotte Hornets  0028800008
",
"
",
"       GAME_DATE      MATCHUP WL  MIN  PTS  FGM  FGA  FG_PCT  FG3M  FG3A  \
",
"0     2023-03-05    CHA @ BKN  L  240   86   33   88   0.375     8  30.0
",
"1     2023-03-03  CHA vs. ORL  L  240  106   38   78   0.487     9  24.0
",
"2     2023-03-01  CHA vs. PHX  L  240   91   32   88   0.364     9  33.0
",
"3     2023-02-27  CHA vs. DET  W  241  117   43   83   0.518    13  26.0
",
"4     2023-02-25  CHA vs. MIA  W  240  108   38   88   0.432    10  31.0
",
"...          ...          ... ..  ...  ...  ...  ...     ...   ...   ...
",
"2858  1988-11-12    CHH @ ATL  L  238  111   42   88   0.477     1   3.0
",
"2859  1988-11-11    CHH @ WAS  L  240   87   34   77   0.442     0   4.0
",
"2860  1988-11-08  CHH vs. LAC  W  240  117   43   90   0.478     0   2.0
",
"2861  1988-11-05    CHH @ DET  L  240   85   33   95   0.347     0   1.0
",
"2862  1988-11-04  CHH vs. CLE  L  240   93   40   86   0.465     0   0.0
",
"
",
"      FG3_PCT  FTM  FTA  FT_PCT  OREB  DREB   REB  AST   STL  BLK  TOV  PF  \
",
"0       0.267   12   15   0.800   5.0  44.0  49.0   17   2.0    3   10  19
",
"1       0.375   21   25   0.840   8.0  26.0  34.0   25  11.0    4   21  20
",
"2       0.273   18   28   0.643  12.0  36.0  48.0   20   3.0    7   13  17
",
"3       0.500   18   22   0.818   7.0  39.0  46.0   24   8.0    3   16  22
",
"4       0.323   22   27   0.815  11.0  37.0  48.0   20  10.0    2   15  22
",
"...       ...  ...  ...     ...   ...   ...   ...  ...   ...  ...  ...  ..
",
"2858    0.333   26   32   0.813  14.0  21.0  35.0   30  12.0    2   19  26
",
"2859    0.000   19   25   0.760  11.0  32.0  43.0   22   9.0    1   23  26
",
"2860    0.000   31   42   0.738  17.0  38.0  55.0   28   9.0    1   17  31
",
"2861    0.000   19   19   1.000  21.0  19.0  40.0   18   8.0    6   11  21
",
"2862      NaN   13   20   0.650   7.0  24.0  31.0   27   8.0    1   24  25
",
"
",
"      PLUS_MINUS
",
"0          -16.0
",
"1          -11.0
",
"2          -14.0
",
"3           11.0
",
"4            5.0
",
"...          ...
",
"2858         NaN
",
"2859         NaN
",
"2860         NaN
",
"2861         NaN
",
"2862         NaN
",
"
",
"[1962 rows x 28 columns]"
]
},
execution_count: 176,
metadata: { },
output_type: "execute_result"
}
],
source: [
"games.loc[games['TEAM_NAME'] == team, :]"
]
},
{
cell_type: "code",
execution_count: 44,
id: "457f519f-04f8-4ab5-8a4d-a30b34eea42d",
metadata: { },
outputs: [
{
data: {
text/plain: [
"array(['Atlanta Hawks', 'Boston Celtics', 'Cleveland Cavaliers',
",
"       'New Orleans Pelicans', 'New Orleans Hornets',
",
"       'New Orleans/Oklahoma City Hornets', 'Chicago Bulls',
",
"       'Dallas Mavericks', 'Denver Nuggets', 'Golden State Warriors',
",
"       'Houston Rockets', 'LA Clippers', 'Los Angeles Clippers',
",
"       'San Diego Clippers', 'Los Angeles Lakers', 'Miami Heat',
",
"       'Milwaukee Bucks', 'Minnesota Timberwolves', 'Brooklyn Nets',
",
"       'New Jersey Nets', 'New York Knicks', 'Orlando Magic',
",
"       'Indiana Pacers', 'Philadelphia 76ers', 'Phoenix Suns',
",
"       'Portland Trail Blazers', 'Sacramento Kings', 'Kansas City Kings',
",
"       'San Antonio Spurs', 'Oklahoma City Thunder',
",
"       'Seattle SuperSonics', 'Toronto Raptors', 'Utah Jazz',
",
"       'Memphis Grizzlies', 'Vancouver Grizzlies', 'Washington Wizards',
",
"       'Washington Bullets', 'Detroit Pistons', 'Charlotte Hornets',
",
"       'Charlotte Bobcats'], dtype=object)"
]
},
execution_count: 44,
metadata: { },
output_type: "execute_result"
}
],
source: [
"games['TEAM_NAME'].unique():"
]
},
{
cell_type: "code",
execution_count: 177,
id: "6c76e5e3-0097-4db6-8791-796ee431c071",
metadata: { },
outputs: [
{
data: {
text/plain: [
"221.875"
]
},
execution_count: 177,
metadata: { },
output_type: "execute_result"
}
],
source: [
"(275 + 275 + 250 + 90 + 230 + 165 + 290 + 240 + 305 + 190 + 280 + 218 + 265 + 225 + 140 + 245 + 145 + 228 + 265 + 235 + 245 + 305 + 110 + 325 + 100 + 235 + 213 + 238 + 130 + 215 + 278 + 150)/32 "
]
},
{
cell_type: "code",
execution_count: 194,
id: "b11d26f5-0c0b-4e0b-9964-5dcc05c7c554",
metadata: { },
outputs: [
{
data: {
text/plain: [
"array(['2023-03-05', '2023-03-04', '2023-03-03', '2023-03-02',
",
"       '2023-03-01', '2023-02-28', '2023-02-27', '2023-02-26',
",
"       '2023-02-25', '2023-02-24', '2023-02-23', '2023-02-16',
",
"       '2023-02-15', '2023-02-14', '2023-02-13', '2023-02-12',
",
"       '2023-02-11', '2023-02-10', '2023-02-09', '2023-02-08',
",
"       '2023-02-07', '2023-02-06', '2023-02-05', '2023-02-04',
",
"       '2023-02-03', '2023-02-02', '2023-02-01', '2023-01-31',
",
"       '2023-01-30', '2023-01-29', '2023-01-28', '2023-01-27',
",
"       '2023-01-26', '2023-01-25', '2023-01-24', '2023-01-23',
",
"       '2023-01-22', '2023-01-21', '2023-01-20', '2023-01-19',
",
"       '2023-01-18', '2023-01-17', '2023-01-16', '2023-01-15',
",
"       '2023-01-14', '2023-01-13', '2023-01-12', '2023-01-11',
",
"       '2023-01-10', '2023-01-09', '2023-01-08', '2023-01-07',
",
"       '2023-01-06', '2023-01-05', '2023-01-04', '2023-01-03',
",
"       '2023-01-02', '2023-01-01', '2022-12-31', '2022-12-30',
",
"       '2022-12-29', '2022-12-28', '2022-12-27', '2022-12-26',
",
"       '2022-12-25', '2022-12-23', '2022-12-22', '2022-12-21',
",
"       '2022-12-20', '2022-12-19', '2022-12-18', '2022-12-17',
",
"       '2022-12-16', '2022-12-15', '2022-12-14', '2022-12-13',
",
"       '2022-12-12', '2022-12-11', '2022-12-10', '2022-12-09',
",
"       '2022-12-08', '2022-12-07', '2022-12-06', '2022-12-05',
",
"       '2022-12-04', '2022-12-03', '2022-12-02', '2022-12-01',
",
"       '2022-11-30', '2022-11-29', '2022-11-28', '2022-11-27',
",
"       '2022-11-26', '2022-11-25', '2022-11-23', '2022-11-22',
",
"       '2022-11-21', '2022-11-20', '2022-11-19', '2022-11-18',
",
"       '2022-11-17', '2022-11-16', '2022-11-15', '2022-11-14',
",
"       '2022-11-13', '2022-11-12', '2022-11-11', '2022-11-10',
",
"       '2022-11-09', '2022-11-07', '2022-11-06', '2022-11-05',
",
"       '2022-11-04', '2022-11-03', '2022-11-02', '2022-11-01',
",
"       '2022-10-31', '2022-10-30', '2022-10-29', '2022-10-28',
",
"       '2022-10-27', '2022-10-26', '2022-10-25', '2022-10-24',
",
"       '2022-10-23', '2022-10-22', '2022-10-21', '2022-10-20',
",
"       '2022-10-19', '2022-10-18', '2022-10-14', '2022-10-13',
",
"       '2022-10-12', '2022-10-11', '2022-10-10', '2022-10-09',
",
"       '2022-10-08', '2022-10-07', '2022-10-06', '2022-10-05',
",
"       '2022-10-04', '2022-10-03', '2022-10-02', '2022-10-01',
",
"       '2022-09-30', '2022-07-17', '2022-07-16', '2022-07-15',
",
"       '2022-07-14', '2022-07-13', '2022-07-12', '2022-07-11',
",
"       '2022-07-10', '2022-07-09', '2022-07-08', '2022-07-07',
",
"       '2022-07-06', '2022-07-05', '2022-07-03', '2022-07-02',
",
"       '2022-06-16', '2022-06-13', '2022-06-10', '2022-06-08',
",
"       '2022-06-05', '2022-06-02', '2022-05-29', '2022-05-27',
",
"       '2022-05-26', '2022-05-25', '2022-05-24', '2022-05-23',
",
"       '2022-05-22', '2022-05-21', '2022-05-20', '2022-05-19',
",
"       '2022-05-18', '2022-05-17', '2022-05-15', '2022-05-13',
",
"       '2022-05-12', '2022-05-11', '2022-05-10', '2022-05-09',
",
"       '2022-05-08', '2022-05-07', '2022-05-06', '2022-05-04',
",
"       '2022-05-03', '2022-05-02', '2022-05-01', '2022-04-29',
",
"       '2022-04-28', '2022-04-27', '2022-04-26', '2022-04-25',
",
"       '2022-04-24', '2022-04-23', '2022-04-22', '2022-04-21',
",
"       '2022-04-20', '2022-04-19', '2022-04-18', '2022-04-17',
",
"       '2022-04-16', '2022-04-15', '2022-04-13', '2022-04-12',
",
"       '2022-04-10', '2022-04-09', '2022-04-08', '2022-04-07',
",
"       '2022-04-06', '2022-04-05', '2022-04-03', '2022-04-02',
",
"       '2022-04-01', '2022-03-31', '2022-03-30', '2022-03-29',
",
"       '2022-03-28', '2022-03-27', '2022-03-26'], dtype=object)"
]
},
execution_count: 194,
metadata: { },
output_type: "execute_result"
}
],
source: [
"games.GAME_DATE.sort_values(ascending=False).unique()[:223]#sort_values(by='GAME_DATE', ascending=False).iloc[:223]"
]
},
{
cell_type: "code",
execution_count: null,
id: "f218d4e0-1619-411d-a162-f18c7aec4305",
metadata: { },
outputs: [ ],
source: [
"00621008418284434500"
]
},
{
cell_type: "code",
execution_count: 182,
id: "c943320c-a181-4d3b-aaf4-f021811920e7",
metadata: { },
outputs: [
{
data: {
text/html: [
"<div>
",
"<style scoped>
",
"    .dataframe tbody tr th:only-of-type {
",
"        vertical-align: middle;
",
"    }
",
"
",
"    .dataframe tbody tr th {
",
"        vertical-align: top;
",
"    }
",
"
",
"    .dataframe thead th {
",
"        text-align: right;
",
"    }
",
"</style>
",
"<table border="1" class="dataframe">
",
"  <thead>
",
"    <tr style="text-align: right;">
",
"      <th></th>
",
"      <th>SEASON_ID</th>
",
"      <th>TEAM_ID</th>
",
"      <th>TEAM_ABBREVIATION</th>
",
"      <th>TEAM_NAME</th>
",
"      <th>GAME_ID</th>
",
"      <th>GAME_DATE</th>
",
"      <th>MATCHUP</th>
",
"      <th>WL</th>
",
"      <th>MIN</th>
",
"      <th>PTS</th>
",
"      <th>FGM</th>
",
"      <th>FGA</th>
",
"      <th>FG_PCT</th>
",
"      <th>FG3M</th>
",
"      <th>FG3A</th>
",
"      <th>FG3_PCT</th>
",
"      <th>FTM</th>
",
"      <th>FTA</th>
",
"      <th>FT_PCT</th>
",
"      <th>OREB</th>
",
"      <th>DREB</th>
",
"      <th>REB</th>
",
"      <th>AST</th>
",
"      <th>STL</th>
",
"      <th>BLK</th>
",
"      <th>TOV</th>
",
"      <th>PF</th>
",
"      <th>PLUS_MINUS</th>
",
"    </tr>
",
"  </thead>
",
"  <tbody>
",
"    <tr>
",
"      <th>0</th>
",
"      <td>22022</td>
",
"      <td>1610612738</td>
",
"      <td>BOS</td>
",
"      <td>Boston Celtics</td>
",
"      <td>0022200969</td>
",
"      <td>2023-03-05</td>
",
"      <td>BOS vs. NYK</td>
",
"      <td>L</td>
",
"      <td>289</td>
",
"      <td>129</td>
",
"      <td>43</td>
",
"      <td>109</td>
",
"      <td>0.394</td>
",
"      <td>21</td>
",
"      <td>59.0</td>
",
"      <td>0.356</td>
",
"      <td>22</td>
",
"      <td>25</td>
",
"      <td>0.880</td>
",
"      <td>17.0</td>
",
"      <td>37.0</td>
",
"      <td>54.0</td>
",
"      <td>27</td>
",
"      <td>8.0</td>
",
"      <td>5</td>
",
"      <td>16</td>
",
"      <td>28</td>
",
"      <td>-2.0</td>
",
"    </tr>
",
"    <tr>
",
"      <th>0</th>
",
"      <td>22022</td>
",
"      <td>1610612746</td>
",
"      <td>LAC</td>
",
"      <td>LA Clippers</td>
",
"      <td>0022200970</td>
",
"      <td>2023-03-05</td>
",
"      <td>LAC vs. MEM</td>
",
"      <td>W</td>
",
"      <td>239</td>
",
"      <td>135</td>
",
"      <td>45</td>
",
"      <td>85</td>
",
"      <td>0.529</td>
",
"      <td>12</td>
",
"      <td>29.0</td>
",
"      <td>0.414</td>
",
"      <td>33</td>
",
"      <td>35</td>
",
"      <td>0.943</td>
",
"      <td>13.0</td>
",
"      <td>40.0</td>
",
"      <td>53.0</td>
",
"      <td>25</td>
",
"      <td>6.0</td>
",
"      <td>2</td>
",
"      <td>17</td>
",
"      <td>17</td>
",
"      <td>6.0</td>
",
"    </tr>
",
"    <tr>
",
"      <th>0</th>
",
"      <td>22022</td>
",
"      <td>1610612762</td>
",
"      <td>UTA</td>
",
"      <td>Utah Jazz</td>
",
"      <td>0022200968</td>
",
"      <td>2023-03-05</td>
",
"      <td>UTA @ OKC</td>
",
"      <td>L</td>
",
"      <td>240</td>
",
"      <td>119</td>
",
"      <td>43</td>
",
"      <td>88</td>
",
"      <td>0.489</td>
",
"      <td>11</td>
",
"      <td>37.0</td>
",
"      <td>0.297</td>
",
"      <td>22</td>
",
"      <td>27</td>
",
"      <td>0.815</td>
",
"      <td>12.0</td>
",
"      <td>27.0</td>
",
"      <td>39.0</td>
",
"      <td>30</td>
",
"      <td>5.0</td>
",
"      <td>8</td>
",
"      <td>16</td>
",
"      <td>25</td>
",
"      <td>-10.0</td>
",
"    </tr>
",
"    <tr>
",
"      <th>0</th>
",
"      <td>22022</td>
",
"      <td>1610612760</td>
",
"      <td>OKC</td>
",
"      <td>Oklahoma City Thunder</td>
",
"      <td>0022200968</td>
",
"      <td>2023-03-05</td>
",
"      <td>OKC vs. UTA</td>
",
"      <td>W</td>
",
"      <td>241</td>
",
"      <td>129</td>
",
"      <td>44</td>
",
"      <td>87</td>
",
"      <td>0.506</td>
",
"      <td>14</td>
",
"      <td>37.0</td>
",
"      <td>0.378</td>
",
"      <td>27</td>
",
"      <td>33</td>
",
"      <td>0.818</td>
",
"      <td>11.0</td>
",
"      <td>31.0</td>
",
"      <td>42.0</td>
",
"      <td>24</td>
",
"      <td>9.0</td>
",
"      <td>4</td>
",
"      <td>12</td>
",
"      <td>20</td>
",
"      <td>10.0</td>
",
"    </tr>
",
"    <tr>
",
"      <th>0</th>
",
"      <td>22022</td>
",
"      <td>1610612759</td>
",
"      <td>SAS</td>
",
"      <td>San Antonio Spurs</td>
",
"      <td>0022200967</td>
",
"      <td>2023-03-05</td>
",
"      <td>SAS @ HOU</td>
",
"      <td>L</td>
",
"      <td>240</td>
",
"      <td>110</td>
",
"      <td>43</td>
",
"      <td>93</td>
",
"      <td>0.462</td>
",
"      <td>11</td>
",
"      <td>34.0</td>
",
"      <td>0.324</td>
",
"      <td>13</td>
",
"      <td>21</td>
",
"      <td>0.619</td>
",
"      <td>13.0</td>
",
"      <td>22.0</td>
",
"      <td>35.0</td>
",
"      <td>23</td>
",
"      <td>5.0</td>
",
"      <td>4</td>
",
"      <td>15</td>
",
"      <td>20</td>
",
"      <td>-32.0</td>
",
"    </tr>
",
"    <tr>
",
"      <th>...</th>
",
"      <td>...</td>
",
"      <td>...</td>
",
"      <td>...</td>
",
"      <td>...</td>
",
"      <td>...</td>
",
"      <td>...</td>
",
"      <td>...</td>
",
"      <td>...</td>
",
"      <td>...</td>
",
"      <td>...</td>
",
"      <td>...</td>
",
"      <td>...</td>
",
"      <td>...</td>
",
"      <td>...</td>
",
"      <td>...</td>
",
"      <td>...</td>
",
"      <td>...</td>
",
"      <td>...</td>
",
"      <td>...</td>
",
"      <td>...</td>
",
"      <td>...</td>
",
"      <td>...</td>
",
"      <td>...</td>
",
"      <td>...</td>
",
"      <td>...</td>
",
"      <td>...</td>
",
"      <td>...</td>
",
"      <td>...</td>
",
"    </tr>
",
"    <tr>
",
"      <th>6</th>
",
"      <td>22022</td>
",
"      <td>1610612750</td>
",
"      <td>MIN</td>
",
"      <td>Minnesota Timberwolves</td>
",
"      <td>0022200865</td>
",
"      <td>2023-02-13</td>
",
"      <td>MIN @ DAL</td>
",
"      <td>W</td>
",
"      <td>239</td>
",
"      <td>124</td>
",
"      <td>48</td>
",
"      <td>83</td>
",
"      <td>0.578</td>
",
"      <td>9</td>
",
"      <td>29.0</td>
",
"      <td>0.310</td>
",
"      <td>19</td>
",
"      <td>26</td>
",
"      <td>0.731</td>
",
"      <td>10.0</td>
",
"      <td>29.0</td>
",
"      <td>39.0</td>
",
"      <td>28</td>
",
"      <td>8.0</td>
",
"      <td>2</td>
",
"      <td>12</td>
",
"      <td>26</td>
",
"      <td>3.0</td>
",
"    </tr>
",
"    <tr>
",
"      <th>7</th>
",
"      <td>22022</td>
",
"      <td>1610612752</td>
",
"      <td>NYK</td>
",
"      <td>New York Knicks</td>
",
"      <td>0022200862</td>
",
"      <td>2023-02-13</td>
",
"      <td>NYK vs. BKN</td>
",
"      <td>W</td>
",
"      <td>240</td>
",
"      <td>124</td>
",
"      <td>45</td>
",
"      <td>82</td>
",
"      <td>0.549</td>
",
"      <td>15</td>
",
"      <td>34.0</td>
",
"      <td>0.441</td>
",
"      <td>19</td>
",
"      <td>26</td>
",
"      <td>0.731</td>
",
"      <td>6.0</td>
",
"      <td>32.0</td>
",
"      <td>38.0</td>
",
"      <td>18</td>
",
"      <td>4.0</td>
",
"      <td>3</td>
",
"      <td>8</td>
",
"      <td>24</td>
",
"      <td>18.0</td>
",
"    </tr>
",
"    <tr>
",
"      <th>8</th>
",
"      <td>22022</td>
",
"      <td>1610612764</td>
",
"      <td>WAS</td>
",
"      <td>Washington Wizards</td>
",
"      <td>0022200866</td>
",
"      <td>2023-02-13</td>
",
"      <td>WAS @ GSW</td>
",
"      <td>L</td>
",
"      <td>240</td>
",
"      <td>126</td>
",
"      <td>48</td>
",
"      <td>80</td>
",
"      <td>0.600</td>
",
"      <td>12</td>
",
"      <td>28.0</td>
",
"      <td>0.429</td>
",
"      <td>18</td>
",
"      <td>21</td>
",
"      <td>0.857</td>
",
"      <td>9.0</td>
",
"      <td>24.0</td>
",
"      <td>33.0</td>
",
"      <td>26</td>
",
"      <td>10.0</td>
",
"      <td>3</td>
",
"      <td>17</td>
",
"      <td>15</td>
",
"      <td>-9.0</td>
",
"    </tr>
",
"    <tr>
",
"      <th>7</th>
",
"      <td>22022</td>
",
"      <td>1610612748</td>
",
"      <td>MIA</td>
",
"      <td>Miami Heat</td>
",
"      <td>0022200861</td>
",
"      <td>2023-02-13</td>
",
"      <td>MIA vs. DEN</td>
",
"      <td>L</td>
",
"      <td>240</td>
",
"      <td>108</td>
",
"      <td>39</td>
",
"      <td>89</td>
",
"      <td>0.438</td>
",
"      <td>12</td>
",
"      <td>35.0</td>
",
"      <td>0.343</td>
",
"      <td>18</td>
",
"      <td>20</td>
",
"      <td>0.900</td>
",
"      <td>9.0</td>
",
"      <td>25.0</td>
",
"      <td>34.0</td>
",
"      <td>25</td>
",
"      <td>9.0</td>
",
"      <td>4</td>
",
"      <td>8</td>
",
"      <td>14</td>
",
"      <td>-4.0</td>
",
"    </tr>
",
"    <tr>
",
"      <th>6</th>
",
"      <td>22022</td>
",
"      <td>1610612754</td>
",
"      <td>IND</td>
",
"      <td>Indiana Pacers</td>
",
"      <td>0022200859</td>
",
"      <td>2023-02-13</td>
",
"      <td>IND vs. UTA</td>
",
"      <td>L</td>
",
"      <td>240</td>
",
"      <td>117</td>
",
"      <td>46</td>
",
"      <td>91</td>
",
"      <td>0.505</td>
",
"      <td>11</td>
",
"      <td>34.0</td>
",
"      <td>0.324</td>
",
"      <td>14</td>
",
"      <td>20</td>
",
"      <td>0.700</td>
",
"      <td>8.0</td>
",
"      <td>24.0</td>
",
"      <td>32.0</td>
",
"      <td>30</td>
",
"      <td>11.0</td>
",
"      <td>7</td>
",
"      <td>11</td>
",
"      <td>21</td>
",
"      <td>-6.0</td>
",
"    </tr>
",
"  </tbody>
",
"</table>
",
"<p>223 rows × 28 columns</p>
",
"</div>"
],
text/plain: [
"   SEASON_ID     TEAM_ID TEAM_ABBREVIATION               TEAM_NAME  \
",
"0      22022  1610612738               BOS          Boston Celtics
",
"0      22022  1610612746               LAC             LA Clippers
",
"0      22022  1610612762               UTA               Utah Jazz
",
"0      22022  1610612760               OKC   Oklahoma City Thunder
",
"0      22022  1610612759               SAS       San Antonio Spurs
",
"..       ...         ...               ...                     ...
",
"6      22022  1610612750               MIN  Minnesota Timberwolves
",
"7      22022  1610612752               NYK         New York Knicks
",
"8      22022  1610612764               WAS      Washington Wizards
",
"7      22022  1610612748               MIA              Miami Heat
",
"6      22022  1610612754               IND          Indiana Pacers
",
"
",
"       GAME_ID   GAME_DATE      MATCHUP WL  MIN  PTS  FGM  FGA  FG_PCT  FG3M  \
",
"0   0022200969  2023-03-05  BOS vs. NYK  L  289  129   43  109   0.394    21
",
"0   0022200970  2023-03-05  LAC vs. MEM  W  239  135   45   85   0.529    12
",
"0   0022200968  2023-03-05    UTA @ OKC  L  240  119   43   88   0.489    11
",
"0   0022200968  2023-03-05  OKC vs. UTA  W  241  129   44   87   0.506    14
",
"0   0022200967  2023-03-05    SAS @ HOU  L  240  110   43   93   0.462    11
",
"..         ...         ...          ... ..  ...  ...  ...  ...     ...   ...
",
"6   0022200865  2023-02-13    MIN @ DAL  W  239  124   48   83   0.578     9
",
"7   0022200862  2023-02-13  NYK vs. BKN  W  240  124   45   82   0.549    15
",
"8   0022200866  2023-02-13    WAS @ GSW  L  240  126   48   80   0.600    12
",
"7   0022200861  2023-02-13  MIA vs. DEN  L  240  108   39   89   0.438    12
",
"6   0022200859  2023-02-13  IND vs. UTA  L  240  117   46   91   0.505    11
",
"
",
"    FG3A  FG3_PCT  FTM  FTA  FT_PCT  OREB  DREB   REB  AST   STL  BLK  TOV  \
",
"0   59.0    0.356   22   25   0.880  17.0  37.0  54.0   27   8.0    5   16
",
"0   29.0    0.414   33   35   0.943  13.0  40.0  53.0   25   6.0    2   17
",
"0   37.0    0.297   22   27   0.815  12.0  27.0  39.0   30   5.0    8   16
",
"0   37.0    0.378   27   33   0.818  11.0  31.0  42.0   24   9.0    4   12
",
"0   34.0    0.324   13   21   0.619  13.0  22.0  35.0   23   5.0    4   15
",
"..   ...      ...  ...  ...     ...   ...   ...   ...  ...   ...  ...  ...
",
"6   29.0    0.310   19   26   0.731  10.0  29.0  39.0   28   8.0    2   12
",
"7   34.0    0.441   19   26   0.731   6.0  32.0  38.0   18   4.0    3    8
",
"8   28.0    0.429   18   21   0.857   9.0  24.0  33.0   26  10.0    3   17
",
"7   35.0    0.343   18   20   0.900   9.0  25.0  34.0   25   9.0    4    8
",
"6   34.0    0.324   14   20   0.700   8.0  24.0  32.0   30  11.0    7   11
",
"
",
"    PF  PLUS_MINUS
",
"0   28        -2.0
",
"0   17         6.0
",
"0   25       -10.0
",
"0   20        10.0
",
"0   20       -32.0
",
"..  ..         ...
",
"6   26         3.0
",
"7   24        18.0
",
"8   15        -9.0
",
"7   14        -4.0
",
"6   21        -6.0
",
"
",
"[223 rows x 28 columns]"
]
},
execution_count: 182,
metadata: { },
output_type: "execute_result"
}
],
source: [
"games.sort_values(by='GAME_DATE', ascending=False).iloc[:223]"
]
},
{
cell_type: "code",
execution_count: 106,
id: "097de736-52a9-4c81-abc8-6ef7aedf0ac1",
metadata: { },
outputs: [ ],
source: [
"from statsmodels.graphics.tsaplots import plot_acf"
]
},
{
cell_type: "code",
execution_count: 175,
id: "86c50fe4-0cab-4e54-a922-e2d89d9d3021",
metadata: { },
outputs: [
{
data: {
image/png: "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
",
text/plain: [
"<Figure size 3000x1250 with 1 Axes>"
]
},
metadata: { },
output_type: "display_data"
}
],
source: [
"team = 'Charlotte Hornets'
",
"lags_df = games.loc[games['TEAM_NAME'] == team, ['PTS', 'GAME_DATE']].sort_values(by='GAME_DATE')
",
"plot_acf(lags_df.loc[:, 'PTS'], lags=325)
",
"fig = plt.gcf()
",
"fig.set_size_inches(30, 12.5)
",
"plt.show()"
]
},
{
cell_type: "code",
execution_count: 108,
id: "faf92744-762a-4316-9968-086136640e72",
metadata: { },
outputs: [
{
data: {
image/png: "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
",
text/plain: [
"<Figure size 3000x1250 with 1 Axes>"
]
},
metadata: { },
output_type: "display_data"
}
],
source: [
"from statsmodels.graphics.tsaplots import plot_pacf
",
"
",
"plot_pacf(lags_df.loc[:, 'PTS'], lags=275, c='r')
",
"fig = plt.gcf()
",
"fig.set_size_inches(30, 12.5)
",
"plt.show()"
]
},
{
cell_type: "code",
execution_count: 83,
id: "19b8f7cd-cf31-46c6-8578-d646f2576d5f",
metadata: { },
outputs: [
{
data: {
text/html: [
"<div>
",
"<style scoped>
",
"    .dataframe tbody tr th:only-of-type {
",
"        vertical-align: middle;
",
"    }
",
"
",
"    .dataframe tbody tr th {
",
"        vertical-align: top;
",
"    }
",
"
",
"    .dataframe thead th {
",
"        text-align: right;
",
"    }
",
"</style>
",
"<table border="1" class="dataframe">
",
"  <thead>
",
"    <tr style="text-align: right;">
",
"      <th></th>
",
"      <th>PTS</th>
",
"      <th>GAME_DATE</th>
",
"    </tr>
",
"  </thead>
",
"  <tbody>
",
"    <tr>
",
"      <th>274</th>
",
"      <td>114</td>
",
"      <td>2020-09-15</td>
",
"    </tr>
",
"    <tr>
",
"      <th>273</th>
",
"      <td>101</td>
",
"      <td>2020-09-17</td>
",
"    </tr>
",
"    <tr>
",
"      <th>272</th>
",
"      <td>117</td>
",
"      <td>2020-09-19</td>
",
"    </tr>
",
"    <tr>
",
"      <th>271</th>
",
"      <td>109</td>
",
"      <td>2020-09-23</td>
",
"    </tr>
",
"    <tr>
",
"      <th>270</th>
",
"      <td>121</td>
",
"      <td>2020-09-25</td>
",
"    </tr>
",
"    <tr>
",
"      <th>...</th>
",
"      <td>...</td>
",
"      <td>...</td>
",
"    </tr>
",
"    <tr>
",
"      <th>4</th>
",
"      <td>110</td>
",
"      <td>2023-02-25</td>
",
"    </tr>
",
"    <tr>
",
"      <th>3</th>
",
"      <td>94</td>
",
"      <td>2023-02-27</td>
",
"    </tr>
",
"    <tr>
",
"      <th>2</th>
",
"      <td>117</td>
",
"      <td>2023-03-01</td>
",
"    </tr>
",
"    <tr>
",
"      <th>1</th>
",
"      <td>105</td>
",
"      <td>2023-03-03</td>
",
"    </tr>
",
"    <tr>
",
"      <th>0</th>
",
"      <td>129</td>
",
"      <td>2023-03-05</td>
",
"    </tr>
",
"  </tbody>
",
"</table>
",
"<p>275 rows × 2 columns</p>
",
"</div>"
],
text/plain: [
"     PTS   GAME_DATE
",
"274  114  2020-09-15
",
"273  101  2020-09-17
",
"272  117  2020-09-19
",
"271  109  2020-09-23
",
"270  121  2020-09-25
",
"..   ...         ...
",
"4    110  2023-02-25
",
"3     94  2023-02-27
",
"2    117  2023-03-01
",
"1    105  2023-03-03
",
"0    129  2023-03-05
",
"
",
"[275 rows x 2 columns]"
]
},
execution_count: 83,
metadata: { },
output_type: "execute_result"
}
],
source: [
"# ATLANTA HAWKS ACF-CI crossover guided data cut-off
",
"#lags_df.iloc[-275:]
",
"
",
"# BOSTON CELTICS
",
"#lags_df.iloc[-275:]
",
"
",
"# CLEVELAND CAVS
",
"#lags_df.iloc[-250:]
",
"
",
"# NEW ORLEANS PELICANS
",
"#lags_df.iloc[-90:]
",
"
",
"# CHICAGO BULLS
",
"#lags_df.iloc[-230:]"
]
},
{
cell_type: "code",
execution_count: 269,
id: "0b63d26a-1025-45f3-8d26-f82842f79126",
metadata: { },
outputs: [
{
data: {
text/plain: [
"array([ 71, 342, 368, 333,  74,  77, 163, 328, 329, 320])"
]
},
execution_count: 269,
metadata: { },
output_type: "execute_result"
}
],
source: [
"games_5yrs.loc[(games_5yrs.MIN < 30), :].index.values"
]
},
{
cell_type: "code",
execution_count: 273,
id: "948e16d6-8078-48bd-afc4-df6d4bbf3ee2",
metadata: { },
outputs: [
{
data: {
text/html: [
"<div>
",
"<style scoped>
",
"    .dataframe tbody tr th:only-of-type {
",
"        vertical-align: middle;
",
"    }
",
"
",
"    .dataframe tbody tr th {
",
"        vertical-align: top;
",
"    }
",
"
",
"    .dataframe thead th {
",
"        text-align: right;
",
"    }
",
"</style>
",
"<table border="1" class="dataframe">
",
"  <thead>
",
"    <tr style="text-align: right;">
",
"      <th></th>
",
"      <th>SEASON_ID</th>
",
"      <th>TEAM_ID</th>
",
"      <th>TEAM_ABBREVIATION</th>
",
"      <th>TEAM_NAME</th>
",
"      <th>GAME_ID</th>
",
"      <th>GAME_DATE</th>
",
"      <th>MATCHUP</th>
",
"      <th>WL</th>
",
"      <th>MIN</th>
",
"      <th>PTS</th>
",
"      <th>FGM</th>
",
"      <th>FGA</th>
",
"      <th>FG_PCT</th>
",
"      <th>FG3M</th>
",
"      <th>FG3A</th>
",
"      <th>FG3_PCT</th>
",
"      <th>FTM</th>
",
"      <th>FTA</th>
",
"      <th>FT_PCT</th>
",
"      <th>OREB</th>
",
"      <th>DREB</th>
",
"      <th>REB</th>
",
"      <th>AST</th>
",
"      <th>STL</th>
",
"      <th>BLK</th>
",
"      <th>TOV</th>
",
"      <th>PF</th>
",
"      <th>PLUS_MINUS</th>
",
"      <th>HOME_TEAM</th>
",
"    </tr>
",
"  </thead>
",
"  <tbody>
",
"    <tr>
",
"      <th>71</th>
",
"      <td>22022</td>
",
"      <td>1610612737</td>
",
"      <td>ATL</td>
",
"      <td>Atlanta Hawks</td>
",
"      <td>1522200034</td>
",
"      <td>2022-07-12</td>
",
"      <td>ATL @ MIA</td>
",
"      <td>None</td>
",
"      <td>0</td>
",
"      <td>0</td>
",
"      <td>0</td>
",
"      <td>0</td>
",
"      <td>NaN</td>
",
"      <td>0</td>
",
"      <td>0.0</td>
",
"      <td>NaN</td>
",
"      <td>0</td>
",
"      <td>0</td>
",
"      <td>NaN</td>
",
"      <td>0.0</td>
",
"      <td>0.0</td>
",
"      <td>0.0</td>
",
"      <td>0</td>
",
"      <td>0.0</td>
",
"      <td>0</td>
",
"      <td>0</td>
",
"      <td>0</td>
",
"      <td>0.0</td>
",
"      <td>0</td>
",
"    </tr>
",
"    <tr>
",
"      <th>342</th>
",
"      <td>22019</td>
",
"      <td>1610612737</td>
",
"      <td>ATL</td>
",
"      <td>Atlanta Hawks</td>
",
"      <td>1521900023</td>
",
"      <td>2019-07-07</td>
",
"      <td>ATL vs. MIN</td>
",
"      <td>None</td>
",
"      <td>21</td>
",
"      <td>6</td>
",
"      <td>2</td>
",
"      <td>8</td>
",
"      <td>0.250</td>
",
"      <td>1</td>
",
"      <td>3.0</td>
",
"      <td>0.333</td>
",
"      <td>1</td>
",
"      <td>2</td>
",
"      <td>0.500</td>
",
"      <td>1.0</td>
",
"      <td>2.0</td>
",
"      <td>3.0</td>
",
"      <td>1</td>
",
"      <td>0.0</td>
",
"      <td>1</td>
",
"      <td>4</td>
",
"      <td>2</td>
",
"      <td>0.0</td>
",
"      <td>1</td>
",
"    </tr>
",
"    <tr>
",
"      <th>368</th>
",
"      <td>22018</td>
",
"      <td>1610612737</td>
",
"      <td>ATL</td>
",
"      <td>Atlanta Hawks</td>
",
"      <td>21800865</td>
",
"      <td>2019-02-14</td>
",
"      <td>ATL vs. NYK</td>
",
"      <td>L</td>
",
"      <td>240</td>
",
"      <td>91</td>
",
"      <td>33</td>
",
"      <td>91</td>
",
"      <td>0.363</td>
",
"      <td>10</td>
",
"      <td>38.0</td>
",
"      <td>0.263</td>
",
"      <td>15</td>
",
"      <td>19</td>
",
"      <td>0.789</td>
",
"      <td>10.0</td>
",
"      <td>31.0</td>
",
"      <td>41.0</td>
",
"      <td>19</td>
",
"      <td>8.0</td>
",
"      <td>4</td>
",
"      <td>12</td>
",
"      <td>24</td>
",
"      <td>-15.0</td>
",
"      <td>1</td>
",
"    </tr>
",
"    <tr>
",
"      <th>333</th>
",
"      <td>12019</td>
",
"      <td>1610612737</td>
",
"      <td>ATL</td>
",
"      <td>Atlanta Hawks</td>
",
"      <td>11900070</td>
",
"      <td>2019-10-17</td>
",
"      <td>ATL @ CHI</td>
",
"      <td>L</td>
",
"      <td>240</td>
",
"      <td>93</td>
",
"      <td>33</td>
",
"      <td>79</td>
",
"      <td>0.418</td>
",
"      <td>12</td>
",
"      <td>30.0</td>
",
"      <td>0.400</td>
",
"      <td>15</td>
",
"      <td>34</td>
",
"      <td>0.441</td>
",
"      <td>10.0</td>
",
"      <td>32.0</td>
",
"      <td>42.0</td>
",
"      <td>25</td>
",
"      <td>4.0</td>
",
"      <td>2</td>
",
"      <td>17</td>
",
"      <td>19</td>
",
"      <td>-18.0</td>
",
"      <td>0</td>
",
"    </tr>
",
"    <tr>
",
"      <th>74</th>
",
"      <td>42021</td>
",
"      <td>1610612737</td>
",
"      <td>ATL</td>
",
"      <td>Atlanta Hawks</td>
",
"      <td>42100105</td>
",
"      <td>2022-04-26</td>
",
"      <td>ATL @ MIA</td>
",
"      <td>L</td>
",
"      <td>240</td>
",
"      <td>94</td>
",
"      <td>31</td>
",
"      <td>74</td>
",
"      <td>0.419</td>
",
"      <td>8</td>
",
"      <td>25.0</td>
",
"      <td>0.320</td>
",
"      <td>24</td>
",
"      <td>28</td>
",
"      <td>0.857</td>
",
"      <td>12.0</td>
",
"      <td>30.0</td>
",
"      <td>42.0</td>
",
"      <td>15</td>
",
"      <td>8.0</td>
",
"      <td>2</td>
",
"      <td>19</td>
",
"      <td>22</td>
",
"      <td>-3.0</td>
",
"      <td>0</td>
",
"    </tr>
",
"    <tr>
",
"      <th>77</th>
",
"      <td>42021</td>
",
"      <td>1610612737</td>
",
"      <td>ATL</td>
",
"      <td>Atlanta Hawks</td>
",
"      <td>42100102</td>
",
"      <td>2022-04-19</td>
",
"      <td>ATL @ MIA</td>
",
"      <td>L</td>
",
"      <td>240</td>
",
"      <td>105</td>
",
"      <td>41</td>
",
"      <td>87</td>
",
"      <td>0.471</td>
",
"      <td>12</td>
",
"      <td>40.0</td>
",
"      <td>0.300</td>
",
"      <td>11</td>
",
"      <td>14</td>
",
"      <td>0.786</td>
",
"      <td>7.0</td>
",
"      <td>33.0</td>
",
"      <td>40.0</td>
",
"      <td>21</td>
",
"      <td>6.0</td>
",
"      <td>2</td>
",
"      <td>19</td>
",
"      <td>26</td>
",
"      <td>-10.0</td>
",
"      <td>0</td>
",
"    </tr>
",
"    <tr>
",
"      <th>163</th>
",
"      <td>12021</td>
",
"      <td>1610612737</td>
",
"      <td>ATL</td>
",
"      <td>Atlanta Hawks</td>
",
"      <td>12100055</td>
",
"      <td>2021-10-14</td>
",
"      <td>ATL vs. MIA</td>
",
"      <td>W</td>
",
"      <td>236</td>
",
"      <td>127</td>
",
"      <td>49</td>
",
"      <td>101</td>
",
"      <td>0.485</td>
",
"      <td>19</td>
",
"      <td>46.0</td>
",
"      <td>0.413</td>
",
"      <td>10</td>
",
"      <td>13</td>
",
"      <td>0.769</td>
",
"      <td>13.0</td>
",
"      <td>38.0</td>
",
"      <td>51.0</td>
",
"      <td>33</td>
",
"      <td>10.0</td>
",
"      <td>8</td>
",
"      <td>11</td>
",
"      <td>17</td>
",
"      <td>35.0</td>
",
"      <td>1</td>
",
"    </tr>
",
"    <tr>
",
"      <th>328</th>
",
"      <td>22019</td>
",
"      <td>1610612737</td>
",
"      <td>ATL</td>
",
"      <td>Atlanta Hawks</td>
",
"      <td>21900066</td>
",
"      <td>2019-10-31</td>
",
"      <td>ATL vs. MIA</td>
",
"      <td>L</td>
",
"      <td>238</td>
",
"      <td>97</td>
",
"      <td>36</td>
",
"      <td>88</td>
",
"      <td>0.409</td>
",
"      <td>7</td>
",
"      <td>34.0</td>
",
"      <td>0.206</td>
",
"      <td>18</td>
",
"      <td>26</td>
",
"      <td>0.692</td>
",
"      <td>16.0</td>
",
"      <td>34.0</td>
",
"      <td>50.0</td>
",
"      <td>20</td>
",
"      <td>5.0</td>
",
"      <td>5</td>
",
"      <td>16</td>
",
"      <td>15</td>
",
"      <td>-9.0</td>
",
"      <td>1</td>
",
"    </tr>
",
"    <tr>
",
"      <th>329</th>
",
"      <td>22019</td>
",
"      <td>1610612737</td>
",
"      <td>ATL</td>
",
"      <td>Atlanta Hawks</td>
",
"      <td>21900052</td>
",
"      <td>2019-10-29</td>
",
"      <td>ATL @ MIA</td>
",
"      <td>L</td>
",
"      <td>240</td>
",
"      <td>97</td>
",
"      <td>35</td>
",
"      <td>83</td>
",
"      <td>0.422</td>
",
"      <td>11</td>
",
"      <td>39.0</td>
",
"      <td>0.282</td>
",
"      <td>16</td>
",
"      <td>24</td>
",
"      <td>0.667</td>
",
"      <td>9.0</td>
",
"      <td>24.0</td>
",
"      <td>33.0</td>
",
"      <td>28</td>
",
"      <td>14.0</td>
",
"      <td>7</td>
",
"      <td>20</td>
",
"      <td>29</td>
",
"      <td>-15.0</td>
",
"      <td>0</td>
",
"    </tr>
",
"    <tr>
",
"      <th>320</th>
",
"      <td>22019</td>
",
"      <td>1610612737</td>
",
"      <td>ATL</td>
",
"      <td>Atlanta Hawks</td>
",
"      <td>21900188</td>
",
"      <td>2019-11-17</td>
",
"      <td>ATL @ LAL</td>
",
"      <td>L</td>
",
"      <td>241</td>
",
"      <td>101</td>
",
"      <td>37</td>
",
"      <td>86</td>
",
"      <td>0.430</td>
",
"      <td>8</td>
",
"      <td>28.0</td>
",
"      <td>0.286</td>
",
"      <td>19</td>
",
"      <td>25</td>
",
"      <td>0.760</td>
",
"      <td>9.0</td>
",
"      <td>28.0</td>
",
"      <td>37.0</td>
",
"      <td>16</td>
",
"      <td>11.0</td>
",
"      <td>2</td>
",
"      <td>18</td>
",
"      <td>19</td>
",
"      <td>-21.0</td>
",
"      <td>0</td>
",
"    </tr>
",
"  </tbody>
",
"</table>
",
"</div>"
],
text/plain: [
"    SEASON_ID     TEAM_ID TEAM_ABBREVIATION      TEAM_NAME     GAME_ID  \
",
"71      22022  1610612737               ATL  Atlanta Hawks  1522200034
",
"342     22019  1610612737               ATL  Atlanta Hawks  1521900023
",
"368     22018  1610612737               ATL  Atlanta Hawks    21800865
",
"333     12019  1610612737               ATL  Atlanta Hawks    11900070
",
"74      42021  1610612737               ATL  Atlanta Hawks    42100105
",
"77      42021  1610612737               ATL  Atlanta Hawks    42100102
",
"163     12021  1610612737               ATL  Atlanta Hawks    12100055
",
"328     22019  1610612737               ATL  Atlanta Hawks    21900066
",
"329     22019  1610612737               ATL  Atlanta Hawks    21900052
",
"320     22019  1610612737               ATL  Atlanta Hawks    21900188
",
"
",
"     GAME_DATE      MATCHUP    WL  MIN  PTS  FGM  FGA  FG_PCT  FG3M  FG3A  \
",
"71  2022-07-12    ATL @ MIA  None    0    0    0    0     NaN     0   0.0
",
"342 2019-07-07  ATL vs. MIN  None   21    6    2    8   0.250     1   3.0
",
"368 2019-02-14  ATL vs. NYK     L  240   91   33   91   0.363    10  38.0
",
"333 2019-10-17    ATL @ CHI     L  240   93   33   79   0.418    12  30.0
",
"74  2022-04-26    ATL @ MIA     L  240   94   31   74   0.419     8  25.0
",
"77  2022-04-19    ATL @ MIA     L  240  105   41   87   0.471    12  40.0
",
"163 2021-10-14  ATL vs. MIA     W  236  127   49  101   0.485    19  46.0
",
"328 2019-10-31  ATL vs. MIA     L  238   97   36   88   0.409     7  34.0
",
"329 2019-10-29    ATL @ MIA     L  240   97   35   83   0.422    11  39.0
",
"320 2019-11-17    ATL @ LAL     L  241  101   37   86   0.430     8  28.0
",
"
",
"     FG3_PCT  FTM  FTA  FT_PCT  OREB  DREB   REB  AST   STL  BLK  TOV  PF  \
",
"71       NaN    0    0     NaN   0.0   0.0   0.0    0   0.0    0    0   0
",
"342    0.333    1    2   0.500   1.0   2.0   3.0    1   0.0    1    4   2
",
"368    0.263   15   19   0.789  10.0  31.0  41.0   19   8.0    4   12  24
",
"333    0.400   15   34   0.441  10.0  32.0  42.0   25   4.0    2   17  19
",
"74     0.320   24   28   0.857  12.0  30.0  42.0   15   8.0    2   19  22
",
"77     0.300   11   14   0.786   7.0  33.0  40.0   21   6.0    2   19  26
",
"163    0.413   10   13   0.769  13.0  38.0  51.0   33  10.0    8   11  17
",
"328    0.206   18   26   0.692  16.0  34.0  50.0   20   5.0    5   16  15
",
"329    0.282   16   24   0.667   9.0  24.0  33.0   28  14.0    7   20  29
",
"320    0.286   19   25   0.760   9.0  28.0  37.0   16  11.0    2   18  19
",
"
",
"     PLUS_MINUS  HOME_TEAM
",
"71          0.0          0
",
"342         0.0          1
",
"368       -15.0          1
",
"333       -18.0          0
",
"74         -3.0          0
",
"77        -10.0          0
",
"163        35.0          1
",
"328        -9.0          1
",
"329       -15.0          0
",
"320       -21.0          0  "
]
},
execution_count: 273,
metadata: { },
output_type: "execute_result"
}
],
source: [
"games_5yrs.iloc[[ 71, 342, 368, 333,  74,  77, 163, 328, 329, 320]]"
]
},
{
cell_type: "code",
execution_count: 272,
id: "e60ed391-b69a-44d1-a8ca-bedd9be71e80",
metadata: { },
outputs: [
{
data: {
text/plain: [
"array([ 71, 342, 368, 333,  74,  77, 163, 328, 329, 320])"
]
},
execution_count: 272,
metadata: { },
output_type: "execute_result"
}
],
source: [
"games_5yrs.loc[(games_5yrs.MIN < 30), :].index.values"
]
},
{
cell_type: "code",
execution_count: 274,
id: "5ba74c25-4d2b-4163-9246-1a3623f77140",
metadata: { },
outputs: [
{
data: {
text/html: [
"<div>
",
"<style scoped>
",
"    .dataframe tbody tr th:only-of-type {
",
"        vertical-align: middle;
",
"    }
",
"
",
"    .dataframe tbody tr th {
",
"        vertical-align: top;
",
"    }
",
"
",
"    .dataframe thead th {
",
"        text-align: right;
",
"    }
",
"</style>
",
"<table border="1" class="dataframe">
",
"  <thead>
",
"    <tr style="text-align: right;">
",
"      <th></th>
",
"      <th>SEASON_ID</th>
",
"      <th>TEAM_ID</th>
",
"      <th>TEAM_ABBREVIATION</th>
",
"      <th>TEAM_NAME</th>
",
"      <th>GAME_ID</th>
",
"      <th>GAME_DATE</th>
",
"      <th>MATCHUP</th>
",
"      <th>WL</th>
",
"      <th>MIN</th>
",
"      <th>PTS</th>
",
"      <th>FGM</th>
",
"      <th>FGA</th>
",
"      <th>FG_PCT</th>
",
"      <th>FG3M</th>
",
"      <th>FG3A</th>
",
"      <th>FG3_PCT</th>
",
"      <th>FTM</th>
",
"      <th>FTA</th>
",
"      <th>FT_PCT</th>
",
"      <th>OREB</th>
",
"      <th>DREB</th>
",
"      <th>REB</th>
",
"      <th>AST</th>
",
"      <th>STL</th>
",
"      <th>BLK</th>
",
"      <th>TOV</th>
",
"      <th>PF</th>
",
"      <th>PLUS_MINUS</th>
",
"      <th>HOME_TEAM</th>
",
"    </tr>
",
"  </thead>
",
"  <tbody>
",
"    <tr>
",
"      <th>0</th>
",
"      <td>22022</td>
",
"      <td>1610612737</td>
",
"      <td>ATL</td>
",
"      <td>Atlanta Hawks</td>
",
"      <td>22200958</td>
",
"      <td>2023-03-04</td>
",
"      <td>ATL @ MIA</td>
",
"      <td>L</td>
",
"      <td>239</td>
",
"      <td>109</td>
",
"      <td>37</td>
",
"      <td>79</td>
",
"      <td>0.468</td>
",
"      <td>9</td>
",
"      <td>30.0</td>
",
"      <td>0.300</td>
",
"      <td>26</td>
",
"      <td>30</td>
",
"      <td>0.867</td>
",
"      <td>10.0</td>
",
"      <td>27.0</td>
",
"      <td>37.0</td>
",
"      <td>22</td>
",
"      <td>12.0</td>
",
"      <td>1</td>
",
"      <td>16</td>
",
"      <td>23</td>
",
"      <td>-8.0</td>
",
"      <td>0</td>
",
"    </tr>
",
"    <tr>
",
"      <th>1</th>
",
"      <td>22022</td>
",
"      <td>1610612737</td>
",
"      <td>ATL</td>
",
"      <td>Atlanta Hawks</td>
",
"      <td>22200947</td>
",
"      <td>2023-03-03</td>
",
"      <td>ATL vs. POR</td>
",
"      <td>W</td>
",
"      <td>239</td>
",
"      <td>129</td>
",
"      <td>52</td>
",
"      <td>91</td>
",
"      <td>0.571</td>
",
"      <td>12</td>
",
"      <td>26.0</td>
",
"      <td>0.462</td>
",
"      <td>13</td>
",
"      <td>16</td>
",
"      <td>0.813</td>
",
"      <td>10.0</td>
",
"      <td>33.0</td>
",
"      <td>43.0</td>
",
"      <td>30</td>
",
"      <td>10.0</td>
",
"      <td>5</td>
",
"      <td>17</td>
",
"      <td>19</td>
",
"      <td>18.0</td>
",
"      <td>1</td>
",
"    </tr>
",
"    <tr>
",
"      <th>2</th>
",
"      <td>22022</td>
",
"      <td>1610612737</td>
",
"      <td>ATL</td>
",
"      <td>Atlanta Hawks</td>
",
"      <td>22200923</td>
",
"      <td>2023-02-28</td>
",
"      <td>ATL vs. WAS</td>
",
"      <td>L</td>
",
"      <td>239</td>
",
"      <td>116</td>
",
"      <td>43</td>
",
"      <td>93</td>
",
"      <td>0.462</td>
",
"      <td>13</td>
",
"      <td>35.0</td>
",
"      <td>0.371</td>
",
"      <td>17</td>
",
"      <td>19</td>
",
"      <td>0.895</td>
",
"      <td>13.0</td>
",
"      <td>29.0</td>
",
"      <td>42.0</td>
",
"      <td>21</td>
",
"      <td>4.0</td>
",
"      <td>7</td>
",
"      <td>9</td>
",
"      <td>17</td>
",
"      <td>-3.0</td>
",
"      <td>1</td>
",
"    </tr>
",
"    <tr>
",
"      <th>3</th>
",
"      <td>22022</td>
",
"      <td>1610612737</td>
",
"      <td>ATL</td>
",
"      <td>Atlanta Hawks</td>
",
"      <td>22200911</td>
",
"      <td>2023-02-26</td>
",
"      <td>ATL vs. BKN</td>
",
"      <td>W</td>
",
"      <td>240</td>
",
"      <td>129</td>
",
"      <td>45</td>
",
"      <td>90</td>
",
"      <td>0.500</td>
",
"      <td>16</td>
",
"      <td>30.0</td>
",
"      <td>0.533</td>
",
"      <td>23</td>
",
"      <td>28</td>
",
"      <td>0.821</td>
",
"      <td>13.0</td>
",
"      <td>33.0</td>
",
"      <td>46.0</td>
",
"      <td>20</td>
",
"      <td>7.0</td>
",
"      <td>2</td>
",
"      <td>15</td>
",
"      <td>18</td>
",
"      <td>2.0</td>
",
"      <td>1</td>
",
"    </tr>
",
"    <tr>
",
"      <th>4</th>
",
"      <td>22022</td>
",
"      <td>1610612737</td>
",
"      <td>ATL</td>
",
"      <td>Atlanta Hawks</td>
",
"      <td>22200896</td>
",
"      <td>2023-02-24</td>
",
"      <td>ATL vs. CLE</td>
",
"      <td>W</td>
",
"      <td>240</td>
",
"      <td>136</td>
",
"      <td>50</td>
",
"      <td>85</td>
",
"      <td>0.588</td>
",
"      <td>15</td>
",
"      <td>28.0</td>
",
"      <td>0.536</td>
",
"      <td>21</td>
",
"      <td>23</td>
",
"      <td>0.913</td>
",
"      <td>5.0</td>
",
"      <td>37.0</td>
",
"      <td>42.0</td>
",
"      <td>28</td>
",
"      <td>7.0</td>
",
"      <td>8</td>
",
"      <td>14</td>
",
"      <td>21</td>
",
"      <td>17.0</td>
",
"      <td>1</td>
",
"    </tr>
",
"    <tr>
",
"      <th>...</th>
",
"      <td>...</td>
",
"      <td>...</td>
",
"      <td>...</td>
",
"      <td>...</td>
",
"      <td>...</td>
",
"      <td>...</td>
",
"      <td>...</td>
",
"      <td>...</td>
",
"      <td>...</td>
",
"      <td>...</td>
",
"      <td>...</td>
",
"      <td>...</td>
",
"      <td>...</td>
",
"      <td>...</td>
",
"      <td>...</td>
",
"      <td>...</td>
",
"      <td>...</td>
",
"      <td>...</td>
",
"      <td>...</td>
",
"      <td>...</td>
",
"      <td>...</td>
",
"      <td>...</td>
",
"      <td>...</td>
",
"      <td>...</td>
",
"      <td>...</td>
",
"      <td>...</td>
",
"      <td>...</td>
",
"      <td>...</td>
",
"      <td>...</td>
",
"    </tr>
",
"    <tr>
",
"      <th>426</th>
",
"      <td>22017</td>
",
"      <td>1610612766</td>
",
"      <td>CHA</td>
",
"      <td>Charlotte Hornets</td>
",
"      <td>21701021</td>
",
"      <td>2018-03-15</td>
",
"      <td>CHA @ ATL</td>
",
"      <td>W</td>
",
"      <td>239</td>
",
"      <td>129</td>
",
"      <td>46</td>
",
"      <td>87</td>
",
"      <td>0.529</td>
",
"      <td>17</td>
",
"      <td>33.0</td>
",
"      <td>0.515</td>
",
"      <td>20</td>
",
"      <td>30</td>
",
"      <td>0.667</td>
",
"      <td>6.0</td>
",
"      <td>39.0</td>
",
"      <td>45.0</td>
",
"      <td>30</td>
",
"      <td>3.0</td>
",
"      <td>3</td>
",
"      <td>10</td>
",
"      <td>21</td>
",
"      <td>12.0</td>
",
"      <td>0</td>
",
"    </tr>
",
"    <tr>
",
"      <th>427</th>
",
"      <td>22017</td>
",
"      <td>1610612766</td>
",
"      <td>CHA</td>
",
"      <td>Charlotte Hornets</td>
",
"      <td>21701011</td>
",
"      <td>2018-03-13</td>
",
"      <td>CHA @ NOP</td>
",
"      <td>L</td>
",
"      <td>241</td>
",
"      <td>115</td>
",
"      <td>45</td>
",
"      <td>93</td>
",
"      <td>0.484</td>
",
"      <td>7</td>
",
"      <td>26.0</td>
",
"      <td>0.269</td>
",
"      <td>18</td>
",
"      <td>22</td>
",
"      <td>0.818</td>
",
"      <td>8.0</td>
",
"      <td>37.0</td>
",
"      <td>45.0</td>
",
"      <td>22</td>
",
"      <td>8.0</td>
",
"      <td>9</td>
",
"      <td>13</td>
",
"      <td>13</td>
",
"      <td>-4.0</td>
",
"      <td>0</td>
",
"    </tr>
",
"    <tr>
",
"      <th>428</th>
",
"      <td>22017</td>
",
"      <td>1610612766</td>
",
"      <td>CHA</td>
",
"      <td>Charlotte Hornets</td>
",
"      <td>21700987</td>
",
"      <td>2018-03-10</td>
",
"      <td>CHA vs. PHX</td>
",
"      <td>W</td>
",
"      <td>239</td>
",
"      <td>122</td>
",
"      <td>44</td>
",
"      <td>87</td>
",
"      <td>0.506</td>
",
"      <td>13</td>
",
"      <td>32.0</td>
",
"      <td>0.406</td>
",
"      <td>21</td>
",
"      <td>27</td>
",
"      <td>0.778</td>
",
"      <td>7.0</td>
",
"      <td>34.0</td>
",
"      <td>41.0</td>
",
"      <td>24</td>
",
"      <td>11.0</td>
",
"      <td>5</td>
",
"      <td>12</td>
",
"      <td>18</td>
",
"      <td>5.0</td>
",
"      <td>1</td>
",
"    </tr>
",
"    <tr>
",
"      <th>429</th>
",
"      <td>22017</td>
",
"      <td>1610612766</td>
",
"      <td>CHA</td>
",
"      <td>Charlotte Hornets</td>
",
"      <td>21700972</td>
",
"      <td>2018-03-08</td>
",
"      <td>CHA vs. BKN</td>
",
"      <td>L</td>
",
"      <td>241</td>
",
"      <td>111</td>
",
"      <td>41</td>
",
"      <td>85</td>
",
"      <td>0.482</td>
",
"      <td>4</td>
",
"      <td>19.0</td>
",
"      <td>0.211</td>
",
"      <td>25</td>
",
"      <td>30</td>
",
"      <td>0.833</td>
",
"      <td>6.0</td>
",
"      <td>30.0</td>
",
"      <td>36.0</td>
",
"      <td>19</td>
",
"      <td>5.0</td>
",
"      <td>5</td>
",
"      <td>13</td>
",
"      <td>21</td>
",
"      <td>-11.0</td>
",
"      <td>1</td>
",
"    </tr>
",
"    <tr>
",
"      <th>430</th>
",
"      <td>22017</td>
",
"      <td>1610612766</td>
",
"      <td>CHA</td>
",
"      <td>Charlotte Hornets</td>
",
"      <td>21700957</td>
",
"      <td>2018-03-06</td>
",
"      <td>CHA vs. PHI</td>
",
"      <td>L</td>
",
"      <td>239</td>
",
"      <td>114</td>
",
"      <td>40</td>
",
"      <td>80</td>
",
"      <td>0.500</td>
",
"      <td>11</td>
",
"      <td>29.0</td>
",
"      <td>0.379</td>
",
"      <td>23</td>
",
"      <td>31</td>
",
"      <td>0.742</td>
",
"      <td>8.0</td>
",
"      <td>25.0</td>
",
"      <td>33.0</td>
",
"      <td>26</td>
",
"      <td>7.0</td>
",
"      <td>5</td>
",
"      <td>10</td>
",
"      <td>12</td>
",
"      <td>-14.0</td>
",
"      <td>1</td>
",
"    </tr>
",
"  </tbody>
",
"</table>
",
"<p>13700 rows × 29 columns</p>
",
"</div>"
],
text/plain: [
"    SEASON_ID     TEAM_ID TEAM_ABBREVIATION          TEAM_NAME   GAME_ID  \
",
"0       22022  1610612737               ATL      Atlanta Hawks  22200958
",
"1       22022  1610612737               ATL      Atlanta Hawks  22200947
",
"2       22022  1610612737               ATL      Atlanta Hawks  22200923
",
"3       22022  1610612737               ATL      Atlanta Hawks  22200911
",
"4       22022  1610612737               ATL      Atlanta Hawks  22200896
",
"..        ...         ...               ...                ...       ...
",
"426     22017  1610612766               CHA  Charlotte Hornets  21701021
",
"427     22017  1610612766               CHA  Charlotte Hornets  21701011
",
"428     22017  1610612766               CHA  Charlotte Hornets  21700987
",
"429     22017  1610612766               CHA  Charlotte Hornets  21700972
",
"430     22017  1610612766               CHA  Charlotte Hornets  21700957
",
"
",
"     GAME_DATE      MATCHUP WL  MIN  PTS  FGM  FGA  FG_PCT  FG3M  FG3A  \
",
"0   2023-03-04    ATL @ MIA  L  239  109   37   79   0.468     9  30.0
",
"1   2023-03-03  ATL vs. POR  W  239  129   52   91   0.571    12  26.0
",
"2   2023-02-28  ATL vs. WAS  L  239  116   43   93   0.462    13  35.0
",
"3   2023-02-26  ATL vs. BKN  W  240  129   45   90   0.500    16  30.0
",
"4   2023-02-24  ATL vs. CLE  W  240  136   50   85   0.588    15  28.0
",
"..         ...          ... ..  ...  ...  ...  ...     ...   ...   ...
",
"426 2018-03-15    CHA @ ATL  W  239  129   46   87   0.529    17  33.0
",
"427 2018-03-13    CHA @ NOP  L  241  115   45   93   0.484     7  26.0
",
"428 2018-03-10  CHA vs. PHX  W  239  122   44   87   0.506    13  32.0
",
"429 2018-03-08  CHA vs. BKN  L  241  111   41   85   0.482     4  19.0
",
"430 2018-03-06  CHA vs. PHI  L  239  114   40   80   0.500    11  29.0
",
"
",
"     FG3_PCT  FTM  FTA  FT_PCT  OREB  DREB   REB  AST   STL  BLK  TOV  PF  \
",
"0      0.300   26   30   0.867  10.0  27.0  37.0   22  12.0    1   16  23
",
"1      0.462   13   16   0.813  10.0  33.0  43.0   30  10.0    5   17  19
",
"2      0.371   17   19   0.895  13.0  29.0  42.0   21   4.0    7    9  17
",
"3      0.533   23   28   0.821  13.0  33.0  46.0   20   7.0    2   15  18
",
"4      0.536   21   23   0.913   5.0  37.0  42.0   28   7.0    8   14  21
",
"..       ...  ...  ...     ...   ...   ...   ...  ...   ...  ...  ...  ..
",
"426    0.515   20   30   0.667   6.0  39.0  45.0   30   3.0    3   10  21
",
"427    0.269   18   22   0.818   8.0  37.0  45.0   22   8.0    9   13  13
",
"428    0.406   21   27   0.778   7.0  34.0  41.0   24  11.0    5   12  18
",
"429    0.211   25   30   0.833   6.0  30.0  36.0   19   5.0    5   13  21
",
"430    0.379   23   31   0.742   8.0  25.0  33.0   26   7.0    5   10  12
",
"
",
"     PLUS_MINUS  HOME_TEAM
",
"0          -8.0          0
",
"1          18.0          1
",
"2          -3.0          1
",
"3           2.0          1
",
"4          17.0          1
",
"..          ...        ...
",
"426        12.0          0
",
"427        -4.0          0
",
"428         5.0          1
",
"429       -11.0          1
",
"430       -14.0          1
",
"
",
"[13700 rows x 29 columns]"
]
},
execution_count: 274,
metadata: { },
output_type: "execute_result"
}
],
source: [
"games_5yrs = games_5yrs.drop(index=[71, 342, 368, 333,  74,  77, 163, 328, 329, 320])
",
"games_5yrs"
]
},
{
cell_type: "code",
execution_count: 248,
id: "19016c43-76dd-47a8-9dfe-f6b9bbff8336",
metadata: { },
outputs: [
{
data: {
text/html: [
"<div>
",
"<style scoped>
",
"    .dataframe tbody tr th:only-of-type {
",
"        vertical-align: middle;
",
"    }
",
"
",
"    .dataframe tbody tr th {
",
"        vertical-align: top;
",
"    }
",
"
",
"    .dataframe thead th {
",
"        text-align: right;
",
"    }
",
"</style>
",
"<table border="1" class="dataframe">
",
"  <thead>
",
"    <tr style="text-align: right;">
",
"      <th></th>
",
"      <th>SEASON_ID</th>
",
"      <th>TEAM_ID</th>
",
"      <th>TEAM_ABBREVIATION</th>
",
"      <th>TEAM_NAME</th>
",
"      <th>GAME_ID</th>
",
"      <th>GAME_DATE</th>
",
"      <th>MATCHUP</th>
",
"      <th>WL</th>
",
"      <th>MIN</th>
",
"      <th>PTS</th>
",
"      <th>FGM</th>
",
"      <th>FGA</th>
",
"      <th>FG_PCT</th>
",
"      <th>FG3M</th>
",
"      <th>FG3A</th>
",
"      <th>FG3_PCT</th>
",
"      <th>FTM</th>
",
"      <th>FTA</th>
",
"      <th>FT_PCT</th>
",
"      <th>OREB</th>
",
"      <th>DREB</th>
",
"      <th>REB</th>
",
"      <th>AST</th>
",
"      <th>STL</th>
",
"      <th>BLK</th>
",
"      <th>TOV</th>
",
"      <th>PF</th>
",
"      <th>PLUS_MINUS</th>
",
"      <th>HOME_TEAM</th>
",
"    </tr>
",
"  </thead>
",
"  <tbody>
",
"  </tbody>
",
"</table>
",
"</div>"
],
text/plain: [
"Empty DataFrame
",
"Columns: [SEASON_ID, TEAM_ID, TEAM_ABBREVIATION, TEAM_NAME, GAME_ID, GAME_DATE, MATCHUP, WL, MIN, PTS, FGM, FGA, FG_PCT, FG3M, FG3A, FG3_PCT, FTM, FTA, FT_PCT, OREB, DREB, REB, AST, STL, BLK, TOV, PF, PLUS_MINUS, HOME_TEAM]
",
"Index: []"
]
},
execution_count: 248,
metadata: { },
output_type: "execute_result"
}
],
source: [
"games_5yrs.loc[games_5yrs.GAME_ID == 1521900023, :]"
]
},
{
cell_type: "code",
execution_count: 242,
id: "3cd686db-8169-4842-8b00-6e3272d3b497",
metadata: { },
outputs: [
{
data: {
text/html: [
"<div>
",
"<style scoped>
",
"    .dataframe tbody tr th:only-of-type {
",
"        vertical-align: middle;
",
"    }
",
"
",
"    .dataframe tbody tr th {
",
"        vertical-align: top;
",
"    }
",
"
",
"    .dataframe thead th {
",
"        text-align: right;
",
"    }
",
"</style>
",
"<table border="1" class="dataframe">
",
"  <thead>
",
"    <tr style="text-align: right;">
",
"      <th></th>
",
"      <th>SEASON_ID</th>
",
"      <th>TEAM_ID</th>
",
"      <th>TEAM_ABBREVIATION</th>
",
"      <th>TEAM_NAME</th>
",
"      <th>GAME_ID</th>
",
"      <th>GAME_DATE</th>
",
"      <th>MATCHUP</th>
",
"      <th>WL</th>
",
"      <th>MIN</th>
",
"      <th>PTS</th>
",
"      <th>FGM</th>
",
"      <th>FGA</th>
",
"      <th>FG_PCT</th>
",
"      <th>FG3M</th>
",
"      <th>FG3A</th>
",
"      <th>FG3_PCT</th>
",
"      <th>FTM</th>
",
"      <th>FTA</th>
",
"      <th>FT_PCT</th>
",
"      <th>OREB</th>
",
"      <th>DREB</th>
",
"      <th>REB</th>
",
"      <th>AST</th>
",
"      <th>STL</th>
",
"      <th>BLK</th>
",
"      <th>TOV</th>
",
"      <th>PF</th>
",
"      <th>PLUS_MINUS</th>
",
"      <th>HOME_TEAM</th>
",
"    </tr>
",
"  </thead>
",
"  <tbody>
",
"    <tr>
",
"      <th>75</th>
",
"      <td>22022</td>
",
"      <td>1610612744</td>
",
"      <td>GSW</td>
",
"      <td>Golden State Warriors</td>
",
"      <td>1322200005</td>
",
"      <td>2022-07-05</td>
",
"      <td>GSW @ MIA</td>
",
"      <td>L</td>
",
"      <td>201</td>
",
"      <td>70</td>
",
"      <td>23</td>
",
"      <td>61</td>
",
"      <td>0.377</td>
",
"      <td>9</td>
",
"      <td>28.0</td>
",
"      <td>0.321</td>
",
"      <td>15</td>
",
"      <td>17</td>
",
"      <td>0.882</td>
",
"      <td>3.0</td>
",
"      <td>20.0</td>
",
"      <td>23.0</td>
",
"      <td>17</td>
",
"      <td>6.0</td>
",
"      <td>4</td>
",
"      <td>15</td>
",
"      <td>26</td>
",
"      <td>-24.0</td>
",
"      <td>0</td>
",
"    </tr>
",
"    <tr>
",
"      <th>75</th>
",
"      <td>22022</td>
",
"      <td>1610612748</td>
",
"      <td>MIA</td>
",
"      <td>Miami Heat</td>
",
"      <td>1322200005</td>
",
"      <td>2022-07-05</td>
",
"      <td>MIA vs. GSW</td>
",
"      <td>W</td>
",
"      <td>201</td>
",
"      <td>94</td>
",
"      <td>37</td>
",
"      <td>75</td>
",
"      <td>0.493</td>
",
"      <td>10</td>
",
"      <td>29.0</td>
",
"      <td>0.345</td>
",
"      <td>10</td>
",
"      <td>15</td>
",
"      <td>0.667</td>
",
"      <td>17.0</td>
",
"      <td>30.0</td>
",
"      <td>47.0</td>
",
"      <td>23</td>
",
"      <td>7.0</td>
",
"      <td>6</td>
",
"      <td>13</td>
",
"      <td>14</td>
",
"      <td>24.0</td>
",
"      <td>1</td>
",
"    </tr>
",
"    <tr>
",
"      <th>76</th>
",
"      <td>22022</td>
",
"      <td>1610612747</td>
",
"      <td>LAL</td>
",
"      <td>Los Angeles Lakers</td>
",
"      <td>1322200006</td>
",
"      <td>2022-07-05</td>
",
"      <td>LAL vs. SAC</td>
",
"      <td>L</td>
",
"      <td>200</td>
",
"      <td>75</td>
",
"      <td>26</td>
",
"      <td>70</td>
",
"      <td>0.371</td>
",
"      <td>7</td>
",
"      <td>22.0</td>
",
"      <td>0.318</td>
",
"      <td>16</td>
",
"      <td>20</td>
",
"      <td>0.800</td>
",
"      <td>10.0</td>
",
"      <td>27.0</td>
",
"      <td>37.0</td>
",
"      <td>13</td>
",
"      <td>5.0</td>
",
"      <td>5</td>
",
"      <td>16</td>
",
"      <td>20</td>
",
"      <td>-19.4</td>
",
"      <td>1</td>
",
"    </tr>
",
"    <tr>
",
"      <th>72</th>
",
"      <td>22022</td>
",
"      <td>1610612758</td>
",
"      <td>SAC</td>
",
"      <td>Sacramento Kings</td>
",
"      <td>1322200006</td>
",
"      <td>2022-07-05</td>
",
"      <td>SAC @ LAL</td>
",
"      <td>W</td>
",
"      <td>200</td>
",
"      <td>87</td>
",
"      <td>31</td>
",
"      <td>71</td>
",
"      <td>0.437</td>
",
"      <td>7</td>
",
"      <td>25.0</td>
",
"      <td>0.280</td>
",
"      <td>18</td>
",
"      <td>24</td>
",
"      <td>0.750</td>
",
"      <td>11.0</td>
",
"      <td>27.0</td>
",
"      <td>38.0</td>
",
"      <td>15</td>
",
"      <td>8.0</td>
",
"      <td>5</td>
",
"      <td>12</td>
",
"      <td>22</td>
",
"      <td>18.0</td>
",
"      <td>0</td>
",
"    </tr>
",
"    <tr>
",
"      <th>74</th>
",
"      <td>22022</td>
",
"      <td>1610612755</td>
",
"      <td>PHI</td>
",
"      <td>Philadelphia 76ers</td>
",
"      <td>1622200001</td>
",
"      <td>2022-07-05</td>
",
"      <td>PHI vs. MEM</td>
",
"      <td>L</td>
",
"      <td>200</td>
",
"      <td>99</td>
",
"      <td>37</td>
",
"      <td>84</td>
",
"      <td>0.440</td>
",
"      <td>8</td>
",
"      <td>30.0</td>
",
"      <td>0.267</td>
",
"      <td>17</td>
",
"      <td>22</td>
",
"      <td>0.773</td>
",
"      <td>18.0</td>
",
"      <td>25.0</td>
",
"      <td>43.0</td>
",
"      <td>22</td>
",
"      <td>15.0</td>
",
"      <td>4</td>
",
"      <td>16</td>
",
"      <td>20</td>
",
"      <td>-4.2</td>
",
"      <td>1</td>
",
"    </tr>
",
"    <tr>
",
"      <th>75</th>
",
"      <td>22022</td>
",
"      <td>1610612763</td>
",
"      <td>MEM</td>
",
"      <td>Memphis Grizzlies</td>
",
"      <td>1622200001</td>
",
"      <td>2022-07-05</td>
",
"      <td>MEM @ PHI</td>
",
"      <td>W</td>
",
"      <td>200</td>
",
"      <td>103</td>
",
"      <td>37</td>
",
"      <td>72</td>
",
"      <td>0.514</td>
",
"      <td>15</td>
",
"      <td>30.0</td>
",
"      <td>0.500</td>
",
"      <td>14</td>
",
"      <td>19</td>
",
"      <td>0.737</td>
",
"      <td>7.0</td>
",
"      <td>23.0</td>
",
"      <td>30.0</td>
",
"      <td>29</td>
",
"      <td>12.0</td>
",
"      <td>9</td>
",
"      <td>17</td>
",
"      <td>16</td>
",
"      <td>5.0</td>
",
"      <td>0</td>
",
"    </tr>
",
"    <tr>
",
"      <th>77</th>
",
"      <td>22022</td>
",
"      <td>1610612760</td>
",
"      <td>OKC</td>
",
"      <td>Oklahoma City Thunder</td>
",
"      <td>1622200002</td>
",
"      <td>2022-07-05</td>
",
"      <td>OKC @ UTA</td>
",
"      <td>W</td>
",
"      <td>200</td>
",
"      <td>98</td>
",
"      <td>36</td>
",
"      <td>73</td>
",
"      <td>0.493</td>
",
"      <td>8</td>
",
"      <td>29.0</td>
",
"      <td>0.276</td>
",
"      <td>18</td>
",
"      <td>24</td>
",
"      <td>0.750</td>
",
"      <td>13.0</td>
",
"      <td>37.0</td>
",
"      <td>50.0</td>
",
"      <td>23</td>
",
"      <td>8.0</td>
",
"      <td>9</td>
",
"      <td>16</td>
",
"      <td>16</td>
",
"      <td>21.0</td>
",
"      <td>0</td>
",
"    </tr>
",
"    <tr>
",
"      <th>76</th>
",
"      <td>22022</td>
",
"      <td>1610612762</td>
",
"      <td>UTA</td>
",
"      <td>Utah Jazz</td>
",
"      <td>1622200002</td>
",
"      <td>2022-07-05</td>
",
"      <td>UTA vs. OKC</td>
",
"      <td>L</td>
",
"      <td>186</td>
",
"      <td>70</td>
",
"      <td>23</td>
",
"      <td>69</td>
",
"      <td>0.333</td>
",
"      <td>9</td>
",
"      <td>25.0</td>
",
"      <td>0.360</td>
",
"      <td>15</td>
",
"      <td>27</td>
",
"      <td>0.556</td>
",
"      <td>11.0</td>
",
"      <td>21.0</td>
",
"      <td>32.0</td>
",
"      <td>16</td>
",
"      <td>7.0</td>
",
"      <td>0</td>
",
"      <td>12</td>
",
"      <td>22</td>
",
"      <td>-22.0</td>
",
"      <td>1</td>
",
"    </tr>
",
"    <tr>
",
"      <th>77</th>
",
"      <td>22022</td>
",
"      <td>1610612762</td>
",
"      <td>UTA</td>
",
"      <td>Utah Jazz</td>
",
"      <td>1622200002</td>
",
"      <td>2022-07-05</td>
",
"      <td>UTA vs. OKC</td>
",
"      <td>None</td>
",
"      <td>14</td>
",
"      <td>7</td>
",
"      <td>3</td>
",
"      <td>6</td>
",
"      <td>0.500</td>
",
"      <td>1</td>
",
"      <td>4.0</td>
",
"      <td>0.250</td>
",
"      <td>0</td>
",
"      <td>0</td>
",
"      <td>NaN</td>
",
"      <td>0.0</td>
",
"      <td>3.0</td>
",
"      <td>3.0</td>
",
"      <td>1</td>
",
"      <td>1.0</td>
",
"      <td>0</td>
",
"      <td>0</td>
",
"      <td>1</td>
",
"      <td>0.4</td>
",
"      <td>1</td>
",
"    </tr>
",
"  </tbody>
",
"</table>
",
"</div>"
],
text/plain: [
"   SEASON_ID     TEAM_ID TEAM_ABBREVIATION              TEAM_NAME     GAME_ID  \
",
"75     22022  1610612744               GSW  Golden State Warriors  1322200005
",
"75     22022  1610612748               MIA             Miami Heat  1322200005
",
"76     22022  1610612747               LAL     Los Angeles Lakers  1322200006
",
"72     22022  1610612758               SAC       Sacramento Kings  1322200006
",
"74     22022  1610612755               PHI     Philadelphia 76ers  1622200001
",
"75     22022  1610612763               MEM      Memphis Grizzlies  1622200001
",
"77     22022  1610612760               OKC  Oklahoma City Thunder  1622200002
",
"76     22022  1610612762               UTA              Utah Jazz  1622200002
",
"77     22022  1610612762               UTA              Utah Jazz  1622200002
",
"
",
"    GAME_DATE      MATCHUP    WL  MIN  PTS  FGM  FGA  FG_PCT  FG3M  FG3A  \
",
"75 2022-07-05    GSW @ MIA     L  201   70   23   61   0.377     9  28.0
",
"75 2022-07-05  MIA vs. GSW     W  201   94   37   75   0.493    10  29.0
",
"76 2022-07-05  LAL vs. SAC     L  200   75   26   70   0.371     7  22.0
",
"72 2022-07-05    SAC @ LAL     W  200   87   31   71   0.437     7  25.0
",
"74 2022-07-05  PHI vs. MEM     L  200   99   37   84   0.440     8  30.0
",
"75 2022-07-05    MEM @ PHI     W  200  103   37   72   0.514    15  30.0
",
"77 2022-07-05    OKC @ UTA     W  200   98   36   73   0.493     8  29.0
",
"76 2022-07-05  UTA vs. OKC     L  186   70   23   69   0.333     9  25.0
",
"77 2022-07-05  UTA vs. OKC  None   14    7    3    6   0.500     1   4.0
",
"
",
"    FG3_PCT  FTM  FTA  FT_PCT  OREB  DREB   REB  AST   STL  BLK  TOV  PF  \
",
"75    0.321   15   17   0.882   3.0  20.0  23.0   17   6.0    4   15  26
",
"75    0.345   10   15   0.667  17.0  30.0  47.0   23   7.0    6   13  14
",
"76    0.318   16   20   0.800  10.0  27.0  37.0   13   5.0    5   16  20
",
"72    0.280   18   24   0.750  11.0  27.0  38.0   15   8.0    5   12  22
",
"74    0.267   17   22   0.773  18.0  25.0  43.0   22  15.0    4   16  20
",
"75    0.500   14   19   0.737   7.0  23.0  30.0   29  12.0    9   17  16
",
"77    0.276   18   24   0.750  13.0  37.0  50.0   23   8.0    9   16  16
",
"76    0.360   15   27   0.556  11.0  21.0  32.0   16   7.0    0   12  22
",
"77    0.250    0    0     NaN   0.0   3.0   3.0    1   1.0    0    0   1
",
"
",
"    PLUS_MINUS  HOME_TEAM
",
"75       -24.0          0
",
"75        24.0          1
",
"76       -19.4          1
",
"72        18.0          0
",
"74        -4.2          1
",
"75         5.0          0
",
"77        21.0          0
",
"76       -22.0          1
",
"77         0.4          1  "
]
},
execution_count: 242,
metadata: { },
output_type: "execute_result"
}
],
source: [
"games_5yrs.loc[games_5yrs.GAME_DATE == '2022-07-05', :].sort_values(by='GAME_ID')"
]
},
{
cell_type: "markdown",
id: "b97977f5-4868-4858-b690-f441f4e400f1",
metadata: { },
source: [
"GAME_ID MAY HAVE RANDOM WHITESPACES"
]
},
{
cell_type: "code",
execution_count: 223,
id: "295cd773",
metadata: { },
outputs: [
{
data: {
text/html: [
"<div>
",
"<style scoped>
",
"    .dataframe tbody tr th:only-of-type {
",
"        vertical-align: middle;
",
"    }
",
"
",
"    .dataframe tbody tr th {
",
"        vertical-align: top;
",
"    }
",
"
",
"    .dataframe thead th {
",
"        text-align: right;
",
"    }
",
"</style>
",
"<table border="1" class="dataframe">
",
"  <thead>
",
"    <tr style="text-align: right;">
",
"      <th></th>
",
"      <th>SEASON_ID</th>
",
"      <th>TEAM_ID</th>
",
"      <th>TEAM_ABBREVIATION</th>
",
"      <th>TEAM_NAME</th>
",
"      <th>GAME_ID</th>
",
"      <th>GAME_DATE</th>
",
"      <th>MATCHUP</th>
",
"      <th>WL</th>
",
"      <th>MIN</th>
",
"      <th>PTS</th>
",
"      <th>FGM</th>
",
"      <th>FGA</th>
",
"      <th>FG_PCT</th>
",
"      <th>FG3M</th>
",
"      <th>FG3A</th>
",
"      <th>FG3_PCT</th>
",
"      <th>FTM</th>
",
"      <th>FTA</th>
",
"      <th>FT_PCT</th>
",
"      <th>OREB</th>
",
"      <th>DREB</th>
",
"      <th>REB</th>
",
"      <th>AST</th>
",
"      <th>STL</th>
",
"      <th>BLK</th>
",
"      <th>TOV</th>
",
"      <th>PF</th>
",
"      <th>PLUS_MINUS</th>
",
"      <th>HOME_TEAM</th>
",
"    </tr>
",
"  </thead>
",
"  <tbody>
",
"    <tr>
",
"      <th>0</th>
",
"      <td>22022</td>
",
"      <td>1610612738</td>
",
"      <td>BOS</td>
",
"      <td>Boston Celtics</td>
",
"      <td>0022200969</td>
",
"      <td>2023-03-05</td>
",
"      <td>BOS vs. NYK</td>
",
"      <td>L</td>
",
"      <td>289</td>
",
"      <td>129</td>
",
"      <td>43</td>
",
"      <td>109</td>
",
"      <td>0.394</td>
",
"      <td>21</td>
",
"      <td>59.0</td>
",
"      <td>0.356</td>
",
"      <td>22</td>
",
"      <td>25</td>
",
"      <td>0.880</td>
",
"      <td>17.0</td>
",
"      <td>37.0</td>
",
"      <td>54.0</td>
",
"      <td>27</td>
",
"      <td>8.0</td>
",
"      <td>5</td>
",
"      <td>16</td>
",
"      <td>28</td>
",
"      <td>-2.0</td>
",
"      <td>1</td>
",
"    </tr>
",
"    <tr>
",
"      <th>0</th>
",
"      <td>22022</td>
",
"      <td>1610612746</td>
",
"      <td>LAC</td>
",
"      <td>LA Clippers</td>
",
"      <td>0022200970</td>
",
"      <td>2023-03-05</td>
",
"      <td>LAC vs. MEM</td>
",
"      <td>W</td>
",
"      <td>239</td>
",
"      <td>135</td>
",
"      <td>45</td>
",
"      <td>85</td>
",
"      <td>0.529</td>
",
"      <td>12</td>
",
"      <td>29.0</td>
",
"      <td>0.414</td>
",
"      <td>33</td>
",
"      <td>35</td>
",
"      <td>0.943</td>
",
"      <td>13.0</td>
",
"      <td>40.0</td>
",
"      <td>53.0</td>
",
"      <td>25</td>
",
"      <td>6.0</td>
",
"      <td>2</td>
",
"      <td>17</td>
",
"      <td>17</td>
",
"      <td>6.0</td>
",
"      <td>1</td>
",
"    </tr>
",
"    <tr>
",
"      <th>0</th>
",
"      <td>22022</td>
",
"      <td>1610612762</td>
",
"      <td>UTA</td>
",
"      <td>Utah Jazz</td>
",
"      <td>0022200968</td>
",
"      <td>2023-03-05</td>
",
"      <td>UTA @ OKC</td>
",
"      <td>L</td>
",
"      <td>240</td>
",
"      <td>119</td>
",
"      <td>43</td>
",
"      <td>88</td>
",
"      <td>0.489</td>
",
"      <td>11</td>
",
"      <td>37.0</td>
",
"      <td>0.297</td>
",
"      <td>22</td>
",
"      <td>27</td>
",
"      <td>0.815</td>
",
"      <td>12.0</td>
",
"      <td>27.0</td>
",
"      <td>39.0</td>
",
"      <td>30</td>
",
"      <td>5.0</td>
",
"      <td>8</td>
",
"      <td>16</td>
",
"      <td>25</td>
",
"      <td>-10.0</td>
",
"      <td>0</td>
",
"    </tr>
",
"    <tr>
",
"      <th>0</th>
",
"      <td>22022</td>
",
"      <td>1610612760</td>
",
"      <td>OKC</td>
",
"      <td>Oklahoma City Thunder</td>
",
"      <td>0022200968</td>
",
"      <td>2023-03-05</td>
",
"      <td>OKC vs. UTA</td>
",
"      <td>W</td>
",
"      <td>241</td>
",
"      <td>129</td>
",
"      <td>44</td>
",
"      <td>87</td>
",
"      <td>0.506</td>
",
"      <td>14</td>
",
"      <td>37.0</td>
",
"      <td>0.378</td>
",
"      <td>27</td>
",
"      <td>33</td>
",
"      <td>0.818</td>
",
"      <td>11.0</td>
",
"      <td>31.0</td>
",
"      <td>42.0</td>
",
"      <td>24</td>
",
"      <td>9.0</td>
",
"      <td>4</td>
",
"      <td>12</td>
",
"      <td>20</td>
",
"      <td>10.0</td>
",
"      <td>1</td>
",
"    </tr>
",
"    <tr>
",
"      <th>0</th>
",
"      <td>22022</td>
",
"      <td>1610612759</td>
",
"      <td>SAS</td>
",
"      <td>San Antonio Spurs</td>
",
"      <td>0022200967</td>
",
"      <td>2023-03-05</td>
",
"      <td>SAS @ HOU</td>
",
"      <td>L</td>
",
"      <td>240</td>
",
"      <td>110</td>
",
"      <td>43</td>
",
"      <td>93</td>
",
"      <td>0.462</td>
",
"      <td>11</td>
",
"      <td>34.0</td>
",
"      <td>0.324</td>
",
"      <td>13</td>
",
"      <td>21</td>
",
"      <td>0.619</td>
",
"      <td>13.0</td>
",
"      <td>22.0</td>
",
"      <td>35.0</td>
",
"      <td>23</td>
",
"      <td>5.0</td>
",
"      <td>4</td>
",
"      <td>15</td>
",
"      <td>20</td>
",
"      <td>-32.0</td>
",
"      <td>0</td>
",
"    </tr>
",
"    <tr>
",
"      <th>...</th>
",
"      <td>...</td>
",
"      <td>...</td>
",
"      <td>...</td>
",
"      <td>...</td>
",
"      <td>...</td>
",
"      <td>...</td>
",
"      <td>...</td>
",
"      <td>...</td>
",
"      <td>...</td>
",
"      <td>...</td>
",
"      <td>...</td>
",
"      <td>...</td>
",
"      <td>...</td>
",
"      <td>...</td>
",
"      <td>...</td>
",
"      <td>...</td>
",
"      <td>...</td>
",
"      <td>...</td>
",
"      <td>...</td>
",
"      <td>...</td>
",
"      <td>...</td>
",
"      <td>...</td>
",
"      <td>...</td>
",
"      <td>...</td>
",
"      <td>...</td>
",
"      <td>...</td>
",
"      <td>...</td>
",
"      <td>...</td>
",
"      <td>...</td>
",
"    </tr>
",
"    <tr>
",
"      <th>3604</th>
",
"      <td>21983</td>
",
"      <td>1610612754</td>
",
"      <td>IND</td>
",
"      <td>Indiana Pacers</td>
",
"      <td>0028300001</td>
",
"      <td>1983-10-28</td>
",
"      <td>IND @ MIL</td>
",
"      <td>L</td>
",
"      <td>240</td>
",
"      <td>83</td>
",
"      <td>35</td>
",
"      <td>104</td>
",
"      <td>0.337</td>
",
"      <td>0</td>
",
"      <td>0.0</td>
",
"      <td>NaN</td>
",
"      <td>13</td>
",
"      <td>21</td>
",
"      <td>0.619</td>
",
"      <td>24.0</td>
",
"      <td>29.0</td>
",
"      <td>53.0</td>
",
"      <td>27</td>
",
"      <td>7.0</td>
",
"      <td>4</td>
",
"      <td>19</td>
",
"      <td>22</td>
",
"      <td>NaN</td>
",
"      <td>0</td>
",
"    </tr>
",
"    <tr>
",
"      <th>3482</th>
",
"      <td>21983</td>
",
"      <td>1610612764</td>
",
"      <td>WAS</td>
",
"      <td>Washington Bullets</td>
",
"      <td>0028300003</td>
",
"      <td>1983-10-28</td>
",
"      <td>WAS @ PHL</td>
",
"      <td>L</td>
",
"      <td>240</td>
",
"      <td>114</td>
",
"      <td>46</td>
",
"      <td>82</td>
",
"      <td>0.561</td>
",
"      <td>0</td>
",
"      <td>2.0</td>
",
"      <td>0.000</td>
",
"      <td>22</td>
",
"      <td>29</td>
",
"      <td>0.759</td>
",
"      <td>10.0</td>
",
"      <td>26.0</td>
",
"      <td>36.0</td>
",
"      <td>32</td>
",
"      <td>9.0</td>
",
"      <td>3</td>
",
"      <td>21</td>
",
"      <td>35</td>
",
"      <td>NaN</td>
",
"      <td>0</td>
",
"    </tr>
",
"    <tr>
",
"      <th>3623</th>
",
"      <td>21983</td>
",
"      <td>1610612760</td>
",
"      <td>SEA</td>
",
"      <td>Seattle SuperSonics</td>
",
"      <td>0028300004</td>
",
"      <td>1983-10-28</td>
",
"      <td>SEA vs. GOS</td>
",
"      <td>L</td>
",
"      <td>240</td>
",
"      <td>109</td>
",
"      <td>39</td>
",
"      <td>74</td>
",
"      <td>0.527</td>
",
"      <td>1</td>
",
"      <td>1.0</td>
",
"      <td>1.000</td>
",
"      <td>30</td>
",
"      <td>43</td>
",
"      <td>0.698</td>
",
"      <td>8.0</td>
",
"      <td>23.0</td>
",
"      <td>31.0</td>
",
"      <td>27</td>
",
"      <td>4.0</td>
",
"      <td>3</td>
",
"      <td>22</td>
",
"      <td>34</td>
",
"      <td>NaN</td>
",
"      <td>1</td>
",
"    </tr>
",
"    <tr>
",
"      <th>3823</th>
",
"      <td>21983</td>
",
"      <td>1610612747</td>
",
"      <td>LAL</td>
",
"      <td>Los Angeles Lakers</td>
",
"      <td>0028300002</td>
",
"      <td>1983-10-28</td>
",
"      <td>LAL @ KCK</td>
",
"      <td>W</td>
",
"      <td>240</td>
",
"      <td>117</td>
",
"      <td>49</td>
",
"      <td>89</td>
",
"      <td>0.551</td>
",
"      <td>0</td>
",
"      <td>0.0</td>
",
"      <td>NaN</td>
",
"      <td>19</td>
",
"      <td>25</td>
",
"      <td>0.760</td>
",
"      <td>9.0</td>
",
"      <td>29.0</td>
",
"      <td>38.0</td>
",
"      <td>22</td>
",
"      <td>6.0</td>
",
"      <td>5</td>
",
"      <td>17</td>
",
"      <td>16</td>
",
"      <td>NaN</td>
",
"      <td>0</td>
",
"    </tr>
",
"    <tr>
",
"      <th>3680</th>
",
"      <td>21983</td>
",
"      <td>1610612762</td>
",
"      <td>UTH</td>
",
"      <td>Utah Jazz</td>
",
"      <td>0028300009</td>
",
"      <td>1983-10-28</td>
",
"      <td>UTH @ DEN</td>
",
"      <td>L</td>
",
"      <td>240</td>
",
"      <td>125</td>
",
"      <td>50</td>
",
"      <td>100</td>
",
"      <td>0.500</td>
",
"      <td>0</td>
",
"      <td>2.0</td>
",
"      <td>0.000</td>
",
"      <td>25</td>
",
"      <td>32</td>
",
"      <td>0.781</td>
",
"      <td>10.0</td>
",
"      <td>27.0</td>
",
"      <td>37.0</td>
",
"      <td>32</td>
",
"      <td>6.0</td>
",
"      <td>8</td>
",
"      <td>7</td>
",
"      <td>30</td>
",
"      <td>NaN</td>
",
"      <td>0</td>
",
"    </tr>
",
"  </tbody>
",
"</table>
",
"<p>102157 rows × 29 columns</p>
",
"</div>"
],
text/plain: [
"     SEASON_ID     TEAM_ID TEAM_ABBREVIATION              TEAM_NAME  \
",
"0        22022  1610612738               BOS         Boston Celtics
",
"0        22022  1610612746               LAC            LA Clippers
",
"0        22022  1610612762               UTA              Utah Jazz
",
"0        22022  1610612760               OKC  Oklahoma City Thunder
",
"0        22022  1610612759               SAS      San Antonio Spurs
",
"...        ...         ...               ...                    ...
",
"3604     21983  1610612754               IND         Indiana Pacers
",
"3482     21983  1610612764               WAS     Washington Bullets
",
"3623     21983  1610612760               SEA    Seattle SuperSonics
",
"3823     21983  1610612747               LAL     Los Angeles Lakers
",
"3680     21983  1610612762               UTH              Utah Jazz
",
"
",
"         GAME_ID  GAME_DATE      MATCHUP WL  MIN  PTS  FGM  FGA  FG_PCT  FG3M  \
",
"0     0022200969 2023-03-05  BOS vs. NYK  L  289  129   43  109   0.394    21
",
"0     0022200970 2023-03-05  LAC vs. MEM  W  239  135   45   85   0.529    12
",
"0     0022200968 2023-03-05    UTA @ OKC  L  240  119   43   88   0.489    11
",
"0     0022200968 2023-03-05  OKC vs. UTA  W  241  129   44   87   0.506    14
",
"0     0022200967 2023-03-05    SAS @ HOU  L  240  110   43   93   0.462    11
",
"...          ...        ...          ... ..  ...  ...  ...  ...     ...   ...
",
"3604  0028300001 1983-10-28    IND @ MIL  L  240   83   35  104   0.337     0
",
"3482  0028300003 1983-10-28    WAS @ PHL  L  240  114   46   82   0.561     0
",
"3623  0028300004 1983-10-28  SEA vs. GOS  L  240  109   39   74   0.527     1
",
"3823  0028300002 1983-10-28    LAL @ KCK  W  240  117   49   89   0.551     0
",
"3680  0028300009 1983-10-28    UTH @ DEN  L  240  125   50  100   0.500     0
",
"
",
"      FG3A  FG3_PCT  FTM  FTA  FT_PCT  OREB  DREB   REB  AST  STL  BLK  TOV  \
",
"0     59.0    0.356   22   25   0.880  17.0  37.0  54.0   27  8.0    5   16
",
"0     29.0    0.414   33   35   0.943  13.0  40.0  53.0   25  6.0    2   17
",
"0     37.0    0.297   22   27   0.815  12.0  27.0  39.0   30  5.0    8   16
",
"0     37.0    0.378   27   33   0.818  11.0  31.0  42.0   24  9.0    4   12
",
"0     34.0    0.324   13   21   0.619  13.0  22.0  35.0   23  5.0    4   15
",
"...    ...      ...  ...  ...     ...   ...   ...   ...  ...  ...  ...  ...
",
"3604   0.0      NaN   13   21   0.619  24.0  29.0  53.0   27  7.0    4   19
",
"3482   2.0    0.000   22   29   0.759  10.0  26.0  36.0   32  9.0    3   21
",
"3623   1.0    1.000   30   43   0.698   8.0  23.0  31.0   27  4.0    3   22
",
"3823   0.0      NaN   19   25   0.760   9.0  29.0  38.0   22  6.0    5   17
",
"3680   2.0    0.000   25   32   0.781  10.0  27.0  37.0   32  6.0    8    7
",
"
",
"      PF  PLUS_MINUS  HOME_TEAM
",
"0     28        -2.0          1
",
"0     17         6.0          1
",
"0     25       -10.0          0
",
"0     20        10.0          1
",
"0     20       -32.0          0
",
"...   ..         ...        ...
",
"3604  22         NaN          0
",
"3482  35         NaN          0
",
"3623  34         NaN          1
",
"3823  16         NaN          0
",
"3680  30         NaN          0
",
"
",
"[102157 rows x 29 columns]"
]
},
execution_count: 223,
metadata: { },
output_type: "execute_result"
}
],
source: [
"games.sort_values(by='GAME_DATE', ascending=False)"
]
},
{
cell_type: "code",
execution_count: 31,
id: "768814e3-d49f-460d-bbec-689fda35cef1",
metadata: { },
outputs: [
{
data: {
text/html: [
"<div>
",
"<style scoped>
",
"    .dataframe tbody tr th:only-of-type {
",
"        vertical-align: middle;
",
"    }
",
"
",
"    .dataframe tbody tr th {
",
"        vertical-align: top;
",
"    }
",
"
",
"    .dataframe thead th {
",
"        text-align: right;
",
"    }
",
"</style>
",
"<table border="1" class="dataframe">
",
"  <thead>
",
"    <tr style="text-align: right;">
",
"      <th></th>
",
"      <th>SEASON_ID</th>
",
"      <th>TEAM_ID</th>
",
"      <th>TEAM_ABBREVIATION</th>
",
"      <th>TEAM_NAME</th>
",
"      <th>GAME_ID</th>
",
"      <th>GAME_DATE</th>
",
"      <th>MATCHUP</th>
",
"      <th>WL</th>
",
"      <th>MIN</th>
",
"      <th>PTS</th>
",
"      <th>FGM</th>
",
"      <th>FGA</th>
",
"      <th>FG_PCT</th>
",
"      <th>FG3M</th>
",
"      <th>FG3A</th>
",
"      <th>FG3_PCT</th>
",
"      <th>FTM</th>
",
"      <th>FTA</th>
",
"      <th>FT_PCT</th>
",
"      <th>OREB</th>
",
"      <th>DREB</th>
",
"      <th>REB</th>
",
"      <th>AST</th>
",
"      <th>STL</th>
",
"      <th>BLK</th>
",
"      <th>TOV</th>
",
"      <th>PF</th>
",
"      <th>PLUS_MINUS</th>
",
"    </tr>
",
"  </thead>
",
"  <tbody>
",
"    <tr>
",
"      <th>0</th>
",
"      <td>22022</td>
",
"      <td>1610612745</td>
",
"      <td>HOU</td>
",
"      <td>Houston Rockets</td>
",
"      <td>0022200967</td>
",
"      <td>2023-03-05</td>
",
"      <td>HOU vs. SAS</td>
",
"      <td>W</td>
",
"      <td>241</td>
",
"      <td>142</td>
",
"      <td>52</td>
",
"      <td>85</td>
",
"      <td>0.612</td>
",
"      <td>13</td>
",
"      <td>24.0</td>
",
"      <td>0.542</td>
",
"      <td>25</td>
",
"      <td>29</td>
",
"      <td>0.862</td>
",
"      <td>6.0</td>
",
"      <td>38.0</td>
",
"      <td>44.0</td>
",
"      <td>29</td>
",
"      <td>10.0</td>
",
"      <td>3</td>
",
"      <td>12</td>
",
"      <td>20</td>
",
"      <td>24.4</td>
",
"    </tr>
",
"    <tr>
",
"      <th>0</th>
",
"      <td>22022</td>
",
"      <td>1610612759</td>
",
"      <td>SAS</td>
",
"      <td>San Antonio Spurs</td>
",
"      <td>0022200967</td>
",
"      <td>2023-03-05</td>
",
"      <td>SAS @ HOU</td>
",
"      <td>L</td>
",
"      <td>240</td>
",
"      <td>110</td>
",
"      <td>43</td>
",
"      <td>93</td>
",
"      <td>0.462</td>
",
"      <td>11</td>
",
"      <td>34.0</td>
",
"      <td>0.324</td>
",
"      <td>13</td>
",
"      <td>21</td>
",
"      <td>0.619</td>
",
"      <td>13.0</td>
",
"      <td>22.0</td>
",
"      <td>35.0</td>
",
"      <td>23</td>
",
"      <td>5.0</td>
",
"      <td>4</td>
",
"      <td>15</td>
",
"      <td>20</td>
",
"      <td>-26.0</td>
",
"    </tr>
",
"    <tr>
",
"      <th>0</th>
",
"      <td>22022</td>
",
"      <td>1610612760</td>
",
"      <td>OKC</td>
",
"      <td>Oklahoma City Thunder</td>
",
"      <td>0022200968</td>
",
"      <td>2023-03-05</td>
",
"      <td>OKC vs. UTA</td>
",
"      <td>W</td>
",
"      <td>241</td>
",
"      <td>129</td>
",
"      <td>44</td>
",
"      <td>87</td>
",
"      <td>0.506</td>
",
"      <td>14</td>
",
"      <td>37.0</td>
",
"      <td>0.378</td>
",
"      <td>27</td>
",
"      <td>33</td>
",
"      <td>0.818</td>
",
"      <td>11.0</td>
",
"      <td>31.0</td>
",
"      <td>42.0</td>
",
"      <td>24</td>
",
"      <td>9.0</td>
",
"      <td>4</td>
",
"      <td>12</td>
",
"      <td>20</td>
",
"      <td>10.0</td>
",
"    </tr>
",
"    <tr>
",
"      <th>0</th>
",
"      <td>22022</td>
",
"      <td>1610612762</td>
",
"      <td>UTA</td>
",
"      <td>Utah Jazz</td>
",
"      <td>0022200968</td>
",
"      <td>2023-03-05</td>
",
"      <td>UTA @ OKC</td>
",
"      <td>L</td>
",
"      <td>240</td>
",
"      <td>119</td>
",
"      <td>43</td>
",
"      <td>88</td>
",
"      <td>0.489</td>
",
"      <td>11</td>
",
"      <td>37.0</td>
",
"      <td>0.297</td>
",
"      <td>22</td>
",
"      <td>27</td>
",
"      <td>0.815</td>
",
"      <td>12.0</td>
",
"      <td>27.0</td>
",
"      <td>39.0</td>
",
"      <td>30</td>
",
"      <td>5.0</td>
",
"      <td>8</td>
",
"      <td>16</td>
",
"      <td>25</td>
",
"      <td>-10.0</td>
",
"    </tr>
",
"    <tr>
",
"      <th>0</th>
",
"      <td>22022</td>
",
"      <td>1610612738</td>
",
"      <td>BOS</td>
",
"      <td>Boston Celtics</td>
",
"      <td>0022200969</td>
",
"      <td>2023-03-05</td>
",
"      <td>BOS vs. NYK</td>
",
"      <td>L</td>
",
"      <td>289</td>
",
"      <td>129</td>
",
"      <td>43</td>
",
"      <td>109</td>
",
"      <td>0.394</td>
",
"      <td>21</td>
",
"      <td>59.0</td>
",
"      <td>0.356</td>
",
"      <td>22</td>
",
"      <td>25</td>
",
"      <td>0.880</td>
",
"      <td>17.0</td>
",
"      <td>37.0</td>
",
"      <td>54.0</td>
",
"      <td>27</td>
",
"      <td>8.0</td>
",
"      <td>5</td>
",
"      <td>16</td>
",
"      <td>28</td>
",
"      <td>0.2</td>
",
"    </tr>
",
"    <tr>
",
"      <th>0</th>
",
"      <td>22022</td>
",
"      <td>1610612752</td>
",
"      <td>NYK</td>
",
"      <td>New York Knicks</td>
",
"      <td>0022200969</td>
",
"      <td>2023-03-05</td>
",
"      <td>NYK @ BOS</td>
",
"      <td>W</td>
",
"      <td>290</td>
",
"      <td>131</td>
",
"      <td>47</td>
",
"      <td>95</td>
",
"      <td>0.495</td>
",
"      <td>15</td>
",
"      <td>41.0</td>
",
"      <td>0.366</td>
",
"      <td>22</td>
",
"      <td>32</td>
",
"      <td>0.688</td>
",
"      <td>11.0</td>
",
"      <td>43.0</td>
",
"      <td>54.0</td>
",
"      <td>18</td>
",
"      <td>7.0</td>
",
"      <td>4</td>
",
"      <td>19</td>
",
"      <td>27</td>
",
"      <td>0.0</td>
",
"    </tr>
",
"    <tr>
",
"      <th>0</th>
",
"      <td>22022</td>
",
"      <td>1610612746</td>
",
"      <td>LAC</td>
",
"      <td>LA Clippers</td>
",
"      <td>0022200970</td>
",
"      <td>2023-03-05</td>
",
"      <td>LAC vs. MEM</td>
",
"      <td>None</td>
",
"      <td>108</td>
",
"      <td>53</td>
",
"      <td>17</td>
",
"      <td>34</td>
",
"      <td>0.500</td>
",
"      <td>5</td>
",
"      <td>12.0</td>
",
"      <td>0.417</td>
",
"      <td>14</td>
",
"      <td>15</td>
",
"      <td>0.933</td>
",
"      <td>5.0</td>
",
"      <td>17.0</td>
",
"      <td>22.0</td>
",
"      <td>10</td>
",
"      <td>3.0</td>
",
"      <td>1</td>
",
"      <td>6</td>
",
"      <td>5</td>
",
"      <td>1.8</td>
",
"    </tr>
",
"    <tr>
",
"      <th>0</th>
",
"      <td>22022</td>
",
"      <td>1610612763</td>
",
"      <td>MEM</td>
",
"      <td>Memphis Grizzlies</td>
",
"      <td>0022200970</td>
",
"      <td>2023-03-05</td>
",
"      <td>MEM @ LAC</td>
",
"      <td>None</td>
",
"      <td>71</td>
",
"      <td>42</td>
",
"      <td>16</td>
",
"      <td>30</td>
",
"      <td>0.533</td>
",
"      <td>4</td>
",
"      <td>9.0</td>
",
"      <td>0.444</td>
",
"      <td>6</td>
",
"      <td>8</td>
",
"      <td>0.750</td>
",
"      <td>0.0</td>
",
"      <td>11.0</td>
",
"      <td>11.0</td>
",
"      <td>10</td>
",
"      <td>5.0</td>
",
"      <td>1</td>
",
"      <td>3</td>
",
"      <td>7</td>
",
"      <td>-1.4</td>
",
"    </tr>
",
"    <tr>
",
"      <th>3583</th>
",
"      <td>21983</td>
",
"      <td>1610612749</td>
",
"      <td>MIL</td>
",
"      <td>Milwaukee Bucks</td>
",
"      <td>0028300001</td>
",
"      <td>1983-10-28</td>
",
"      <td>MIL vs. IND</td>
",
"      <td>W</td>
",
"      <td>240</td>
",
"      <td>104</td>
",
"      <td>42</td>
",
"      <td>97</td>
",
"      <td>0.433</td>
",
"      <td>0</td>
",
"      <td>1.0</td>
",
"      <td>0.000</td>
",
"      <td>20</td>
",
"      <td>26</td>
",
"      <td>0.769</td>
",
"      <td>21.0</td>
",
"      <td>39.0</td>
",
"      <td>60.0</td>
",
"      <td>24</td>
",
"      <td>12.0</td>
",
"      <td>13</td>
",
"      <td>19</td>
",
"      <td>22</td>
",
"      <td>NaN</td>
",
"    </tr>
",
"    <tr>
",
"      <th>3604</th>
",
"      <td>21983</td>
",
"      <td>1610612754</td>
",
"      <td>IND</td>
",
"      <td>Indiana Pacers</td>
",
"      <td>0028300001</td>
",
"      <td>1983-10-28</td>
",
"      <td>IND @ MIL</td>
",
"      <td>L</td>
",
"      <td>240</td>
",
"      <td>83</td>
",
"      <td>35</td>
",
"      <td>104</td>
",
"      <td>0.337</td>
",
"      <td>0</td>
",
"      <td>0.0</td>
",
"      <td>NaN</td>
",
"      <td>13</td>
",
"      <td>21</td>
",
"      <td>0.619</td>
",
"      <td>24.0</td>
",
"      <td>29.0</td>
",
"      <td>53.0</td>
",
"      <td>27</td>
",
"      <td>7.0</td>
",
"      <td>4</td>
",
"      <td>19</td>
",
"      <td>22</td>
",
"      <td>NaN</td>
",
"    </tr>
",
"    <tr>
",
"      <th>3589</th>
",
"      <td>21983</td>
",
"      <td>1610612755</td>
",
"      <td>PHL</td>
",
"      <td>Philadelphia 76ers</td>
",
"      <td>0028300003</td>
",
"      <td>1983-10-28</td>
",
"      <td>PHL vs. WAS</td>
",
"      <td>W</td>
",
"      <td>240</td>
",
"      <td>117</td>
",
"      <td>42</td>
",
"      <td>82</td>
",
"      <td>0.512</td>
",
"      <td>0</td>
",
"      <td>0.0</td>
",
"      <td>NaN</td>
",
"      <td>33</td>
",
"      <td>42</td>
",
"      <td>0.786</td>
",
"      <td>15.0</td>
",
"      <td>26.0</td>
",
"      <td>41.0</td>
",
"      <td>26</td>
",
"      <td>8.0</td>
",
"      <td>12</td>
",
"      <td>20</td>
",
"      <td>28</td>
",
"      <td>NaN</td>
",
"    </tr>
",
"    <tr>
",
"      <th>3482</th>
",
"      <td>21983</td>
",
"      <td>1610612764</td>
",
"      <td>WAS</td>
",
"      <td>Washington Bullets</td>
",
"      <td>0028300003</td>
",
"      <td>1983-10-28</td>
",
"      <td>WAS @ PHL</td>
",
"      <td>L</td>
",
"      <td>240</td>
",
"      <td>114</td>
",
"      <td>46</td>
",
"      <td>82</td>
",
"      <td>0.561</td>
",
"      <td>0</td>
",
"      <td>2.0</td>
",
"      <td>0.000</td>
",
"      <td>22</td>
",
"      <td>29</td>
",
"      <td>0.759</td>
",
"      <td>10.0</td>
",
"      <td>26.0</td>
",
"      <td>36.0</td>
",
"      <td>32</td>
",
"      <td>9.0</td>
",
"      <td>3</td>
",
"      <td>21</td>
",
"      <td>35</td>
",
"      <td>NaN</td>
",
"    </tr>
",
"  </tbody>
",
"</table>
",
"</div>"
],
text/plain: [
"     SEASON_ID     TEAM_ID TEAM_ABBREVIATION              TEAM_NAME  \
",
"0        22022  1610612745               HOU        Houston Rockets
",
"0        22022  1610612759               SAS      San Antonio Spurs
",
"0        22022  1610612760               OKC  Oklahoma City Thunder
",
"0        22022  1610612762               UTA              Utah Jazz
",
"0        22022  1610612738               BOS         Boston Celtics
",
"0        22022  1610612752               NYK        New York Knicks
",
"0        22022  1610612746               LAC            LA Clippers
",
"0        22022  1610612763               MEM      Memphis Grizzlies
",
"3583     21983  1610612749               MIL        Milwaukee Bucks
",
"3604     21983  1610612754               IND         Indiana Pacers
",
"3589     21983  1610612755               PHL     Philadelphia 76ers
",
"3482     21983  1610612764               WAS     Washington Bullets
",
"
",
"         GAME_ID   GAME_DATE      MATCHUP    WL  MIN  PTS  FGM  FGA  FG_PCT  \
",
"0     0022200967  2023-03-05  HOU vs. SAS     W  241  142   52   85   0.612
",
"0     0022200967  2023-03-05    SAS @ HOU     L  240  110   43   93   0.462
",
"0     0022200968  2023-03-05  OKC vs. UTA     W  241  129   44   87   0.506
",
"0     0022200968  2023-03-05    UTA @ OKC     L  240  119   43   88   0.489
",
"0     0022200969  2023-03-05  BOS vs. NYK     L  289  129   43  109   0.394
",
"0     0022200969  2023-03-05    NYK @ BOS     W  290  131   47   95   0.495
",
"0     0022200970  2023-03-05  LAC vs. MEM  None  108   53   17   34   0.500
",
"0     0022200970  2023-03-05    MEM @ LAC  None   71   42   16   30   0.533
",
"3583  0028300001  1983-10-28  MIL vs. IND     W  240  104   42   97   0.433
",
"3604  0028300001  1983-10-28    IND @ MIL     L  240   83   35  104   0.337
",
"3589  0028300003  1983-10-28  PHL vs. WAS     W  240  117   42   82   0.512
",
"3482  0028300003  1983-10-28    WAS @ PHL     L  240  114   46   82   0.561
",
"
",
"      FG3M  FG3A  FG3_PCT  FTM  FTA  FT_PCT  OREB  DREB   REB  AST   STL  BLK  \
",
"0       13  24.0    0.542   25   29   0.862   6.0  38.0  44.0   29  10.0    3
",
"0       11  34.0    0.324   13   21   0.619  13.0  22.0  35.0   23   5.0    4
",
"0       14  37.0    0.378   27   33   0.818  11.0  31.0  42.0   24   9.0    4
",
"0       11  37.0    0.297   22   27   0.815  12.0  27.0  39.0   30   5.0    8
",
"0       21  59.0    0.356   22   25   0.880  17.0  37.0  54.0   27   8.0    5
",
"0       15  41.0    0.366   22   32   0.688  11.0  43.0  54.0   18   7.0    4
",
"0        5  12.0    0.417   14   15   0.933   5.0  17.0  22.0   10   3.0    1
",
"0        4   9.0    0.444    6    8   0.750   0.0  11.0  11.0   10   5.0    1
",
"3583     0   1.0    0.000   20   26   0.769  21.0  39.0  60.0   24  12.0   13
",
"3604     0   0.0      NaN   13   21   0.619  24.0  29.0  53.0   27   7.0    4
",
"3589     0   0.0      NaN   33   42   0.786  15.0  26.0  41.0   26   8.0   12
",
"3482     0   2.0    0.000   22   29   0.759  10.0  26.0  36.0   32   9.0    3
",
"
",
"      TOV  PF  PLUS_MINUS
",
"0      12  20        24.4
",
"0      15  20       -26.0
",
"0      12  20        10.0
",
"0      16  25       -10.0
",
"0      16  28         0.2
",
"0      19  27         0.0
",
"0       6   5         1.8
",
"0       3   7        -1.4
",
"3583   19  22         NaN
",
"3604   19  22         NaN
",
"3589   20  28         NaN
",
"3482   21  35         NaN  "
]
},
execution_count: 31,
metadata: { },
output_type: "execute_result"
}
],
source: [
"games.loc[(games['GAME_ID'] == '0022200969') | (games['GAME_ID'] == '0022200970') | (games['GAME_ID'] == '0022200968')
",
"          | (games['GAME_ID'] == '0022200967') | (games['GAME_ID'] == '0028300001') |( games['GAME_ID'] == '0028300003'), :].sort_values(by='GAME_ID')"
]
},
{
cell_type: "code",
execution_count: 38,
id: "b8e36017-be18-451d-8fa4-4df664f8fb93",
metadata: { },
outputs: [
{
data: {
text/plain: [
"W    51116
",
"L    51014
",
"O        2
",
"T        1
",
"Name: WL, dtype: int64"
]
},
execution_count: 38,
metadata: { },
output_type: "execute_result"
}
],
source: [
"games.loc[:, 'WL'].value_counts()"
]
},
{
cell_type: "markdown",
id: "c025c66d-1794-4bc4-90cd-b34c5838f508",
metadata: { },
source: [
"SCRATCHWORK"
]
},
{
cell_type: "code",
execution_count: 219,
id: "7a052b4f-376e-418a-bc78-8ca3f4fd5c45",
metadata: { },
outputs: [
{
ename: "ValueError",
evalue: "operands could not be broadcast together with shapes (51109,) (51048,) ",
output_type: "error",
traceback: [
"[0;31m---------------------------------------------------------------------------[0m",
"[0;31mValueError[0m                                Traceback (most recent call last)",
"Cell [0;32mIn [219], line 1[0m
[0;32m----> 1[0m games[38;5;241m.[39mloc[games[[38;5;124m'[39m[38;5;124mMATCHUP[39m[38;5;124m'[39m][38;5;241m.[39mstr[38;5;241m.[39mcontains([38;5;124m'[39m[38;5;124mvs.[39m[38;5;124m'[39m), :][38;5;241m.[39msort_values(by[38;5;241m=[39m[38;5;124m'[39m[38;5;124mGAME_ID[39m[38;5;124m'[39m, ascending[38;5;241m=[39m[38;5;28;01mFalse[39;00m)[[38;5;124m'[39m[38;5;124mPLUS_MINUS[39m[38;5;124m'[39m] [38;5;241m=[39m [43mgames[49m[38;5;241;43m.[39;49m[43mloc[49m[43m[[49m[43mgames[49m[43m[[49m[38;5;124;43m'[39;49m[38;5;124;43mMATCHUP[39;49m[38;5;124;43m'[39;49m[43m][49m[38;5;241;43m.[39;49m[43mstr[49m[38;5;241;43m.[39;49m[43mcontains[49m[43m([49m[38;5;124;43m'[39;49m[38;5;124;43mvs.[39;49m[38;5;124;43m'[39;49m[43m)[49m[43m,[49m[43m [49m[43m:[49m[43m][49m[38;5;241;43m.[39;49m[43msort_values[49m[43m([49m[43mby[49m[38;5;241;43m=[39;49m[38;5;124;43m'[39;49m[38;5;124;43mGAME_ID[39;49m[38;5;124;43m'[39;49m[43m,[49m[43m [49m[43mascending[49m[38;5;241;43m=[39;49m[38;5;28;43;01mFalse[39;49;00m[43m)[49m[43m[[49m[38;5;124;43m'[39;49m[38;5;124;43mPTS[39;49m[38;5;124;43m'[39;49m[43m][49m[38;5;241;43m.[39;49m[43mvalues[49m[43m [49m[38;5;241;43m-[39;49m[43m [49m[43mgames[49m[38;5;241;43m.[39;49m[43mloc[49m[43m[[49m[43mgames[49m[43m[[49m[38;5;124;43m'[39;49m[38;5;124;43mMATCHUP[39;49m[38;5;124;43m'[39;49m[43m][49m[38;5;241;43m.[39;49m[43mstr[49m[38;5;241;43m.[39;49m[43mcontains[49m[43m([49m[38;5;124;43m'[39;49m[38;5;124;43m@[39;49m[38;5;124;43m'[39;49m[43m)[49m[43m,[49m[43m [49m[43m:[49m[43m][49m[38;5;241;43m.[39;49m[43msort_values[49m[43m([49m[43mby[49m[38;5;241;43m=[39;49m[38;5;124;43m'[39;49m[38;5;124;43mGAME_ID[39;49m[38;5;124;43m'[39;49m[43m,[49m[43m [49m[43mascending[49m[38;5;241;43m=[39;49m[38;5;28;43;01mFalse[39;49;00m[43m)[49m[43m[[49m[38;5;124;43m'[39;49m[38;5;124;43mPTS[39;49m[38;5;124;43m'[39;49m[43m][49m[38;5;241;43m.[39;49m[43mvalues[49m
",
"[0;31mValueError[0m: operands could not be broadcast together with shapes (51109,) (51048,) "
]
}
],
source: [
"games.loc[games['MATCHUP'].str.contains('vs.'), :].sort_values(by='GAME_ID', ascending=False)['PLUS_MINUS'] = games.loc[games['MATCHUP'].str.contains('vs.'), :].sort_values(by='GAME_ID', ascending=False)['PTS'].values - games.loc[games['MATCHUP'].str.contains('@'), :].sort_values(by='GAME_ID', ascending=False)['PTS'].values"
]
},
{
cell_type: "code",
execution_count: 217,
id: "ee560195-b2b5-488a-8c69-80cb8576a747",
metadata: { },
outputs: [
{
data: {
text/plain: [
"(array([ 84,  80,  82, ...,  96, 105,  90]),
",
" array([ 95,  79,  86, ..., 100,  94,  85]))"
]
},
execution_count: 217,
metadata: { },
output_type: "execute_result"
}
],
source: [
"games.loc[games['MATCHUP'].str.contains('vs.'), :].sort_values(by='GAME_ID', ascending=False)['PTS'].values, games.loc[games['MATCHUP'].str.contains('@'), :].sort_values(by='GAME_ID', ascending=False)['PTS'].values"
]
}
],
metadata: {
kernelspec: {
display_name: "Python 3 (ipykernel)",
language: "python",
name: "python3"
},
language_info: {
codemirror_mode: {
name: "ipython",
version: 3
},
file_extension: ".py",
mimetype: "text/x-python",
name: "python",
nbconvert_exporter: "python",
pygments_lexer: "ipython3",
version: "3.10.6"
},
toc: {
base_numbering: 1,
nav_menu: { },
number_sections: true,
sideBar: true,
skip_h1_title: false,
title_cell: "Table of Contents",
title_sidebar: "Contents",
toc_cell: false,
toc_position: { },
toc_section_display: true,
toc_window_display: false
}
},
nbformat: 4,
nbformat_minor: 5
}
