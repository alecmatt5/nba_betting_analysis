{
 "cells": [
  {
   "cell_type": "code",
   "execution_count": 3,
   "id": "95896f74-e42c-46b9-91a3-eb937696ad96",
   "metadata": {},
   "outputs": [],
   "source": [
    "from pysbr import *\n",
    "from datetime import datetime"
   ]
  },
  {
   "cell_type": "code",
   "execution_count": 6,
   "id": "581448a1-579c-4043-af34-34f7f2689255",
   "metadata": {},
   "outputs": [],
   "source": [
    "dt_start = datetime.strptime('2019-01-01', '%Y-%m-%d')\n",
    "dt_end = datetime.strptime('2020-01-01', '%Y-%m-%d')"
   ]
  },
  {
   "cell_type": "code",
   "execution_count": 34,
   "id": "522aeb62-03d4-45ba-8dc8-243a192f1098",
   "metadata": {},
   "outputs": [],
   "source": [
    "import time\n",
    "import pandas as pd\n",
    "def make_new_sportsbook_data(start_date, end_date, sb_id):\n",
    "    nba = NBA()\n",
    "    sb = Sportsbook()\n",
    "    e = EventsByDateRange(nba.league_id, start_date, end_date)\n",
    "    df_e = e.dataframe()\n",
    "    time.sleep(20)\n",
    "    ol_ps = OpeningLines(e.ids(), nba.market_id('pointspread'), sb.id(sb_id))\n",
    "    time.sleep(20)\n",
    "    ol_t = OpeningLines(e.ids(), nba.market_id('Totals'), sb.id(sb_id))\n",
    "    time.sleep(20)\n",
    "    ol_ml = OpeningLines(e.ids(), nba.market_id('money-line'), sb.id(sb_id))\n",
    "    df_olps = ol_ps.dataframe()\n",
    "    df_olt = ol_t.dataframe()\n",
    "    df_olml = ol_ml.dataframe()\n",
    "    df_ol = pd.concat([df_olt, df_olml, df_olps], axis=0)\n",
    "    merged_df = pd.merge(df_ol, df_e, how='inner', on='event id')[['event id', 'market id', 'description', 'location', 'datetime_x', 'decimal odds', 'american odds', 'spread / total', 'participants.1.participant id', 'participants.1.source.nickname', 'participants.1.source.short name', 'participants.2.participant id', 'participants.2.source.nickname', 'participants.2.source.short name']]\n",
    "    return merged_df.sort_values('datetime_x')"
   ]
  },
  {
   "cell_type": "code",
   "execution_count": 17,
   "id": "41777cfa-d6fa-4433-883e-6a4fcdcb8a06",
   "metadata": {},
   "outputs": [],
   "source": [
    "dt_start = datetime.strptime('2018-01-01', '%Y-%m-%d')\n",
    "dt_end = datetime.strptime('2019-01-01', '%Y-%m-%d')\n",
    "merged_df_2018_2019 = make_new_sportsbook_data(dt_start, dt_end, 'pinnacle')"
   ]
  },
  {
   "cell_type": "code",
   "execution_count": 24,
   "id": "f5250c06-7c46-4967-94ca-a0c4511b8e49",
   "metadata": {},
   "outputs": [],
   "source": [
    "dt_start = datetime.strptime('2019-01-01', '%Y-%m-%d')\n",
    "dt_end = datetime.strptime('2020-01-01', '%Y-%m-%d')\n",
    "merged_df_2019_2020 = make_new_sportsbook_data(dt_start, dt_end, 'pinnacle')"
   ]
  },
  {
   "cell_type": "code",
   "execution_count": 25,
   "id": "12baf087-07a1-4bf2-80ea-04fc4fb54bbf",
   "metadata": {
    "tags": []
   },
   "outputs": [],
   "source": [
    "dt_start = datetime.strptime('2020-01-01', '%Y-%m-%d')\n",
    "dt_end = datetime.strptime('2021-01-01', '%Y-%m-%d')\n",
    "merged_df_2020_2021 = make_new_sportsbook_data(dt_start, dt_end, 'pinnacle')"
   ]
  },
  {
   "cell_type": "code",
   "execution_count": 29,
   "id": "38425d84-851c-4cc7-a609-4dd8a51b3401",
   "metadata": {},
   "outputs": [],
   "source": [
    "dt_start = datetime.strptime('2021-01-01', '%Y-%m-%d')\n",
    "dt_end = datetime.strptime('2022-01-01', '%Y-%m-%d')\n",
    "merged_df_2021_2022 = make_new_sportsbook_data(dt_start, dt_end, 'pinnacle')"
   ]
  },
  {
   "cell_type": "code",
   "execution_count": 36,
   "id": "23e9abde-af8e-4c94-9ce7-4529652213b7",
   "metadata": {},
   "outputs": [],
   "source": [
    "dt_start = datetime.strptime('2022-01-01', '%Y-%m-%d')\n",
    "dt_end = datetime.strptime('2023-01-01', '%Y-%m-%d')\n",
    "merged_df_2022_2023 = make_new_sportsbook_data(dt_start, dt_end, 'pinnacle')"
   ]
  },
  {
   "cell_type": "code",
   "execution_count": 18,
   "id": "5a7ad2f1-5a1f-4f26-b3b3-a1cafcdacdfd",
   "metadata": {},
   "outputs": [],
   "source": [
    "dt_start = datetime.strptime('2023-01-01', '%Y-%m-%d')\n",
    "dt_end = datetime.strptime('2023-03-05', '%Y-%m-%d')\n",
    "merged_df_2023 = make_new_sportsbook_data(dt_start, dt_end, 'pinnacle')"
   ]
  },
  {
   "cell_type": "code",
   "execution_count": 37,
   "id": "6b64fa2b-f390-49d1-8817-95d20b077136",
   "metadata": {},
   "outputs": [],
   "source": [
    "df_final = pd.concat([merged_df_2018_2019, merged_df_2019_2020, merged_df_2020_2021, merged_df_2021_2022, merged_df_2022_2023, merged_df_2023], axis=0)"
   ]
  },
  {
   "cell_type": "code",
   "execution_count": 38,
   "id": "edff51d1-d8cd-495d-8df6-06484d415daa",
   "metadata": {},
   "outputs": [],
   "source": [
    "df_final.to_csv('finalised_sportsbook.csv')"
   ]
  },
  {
   "cell_type": "code",
   "execution_count": 40,
   "id": "d745a08e-24c1-4917-ae3c-642e29b6b6fa",
   "metadata": {},
   "outputs": [
    {
     "name": "stdout",
     "output_type": "stream",
     "text": [
      "<class 'pandas.core.frame.DataFrame'>\n",
      "Int64Index: 43903 entries, 196 to 2371\n",
      "Data columns (total 14 columns):\n",
      " #   Column                            Non-Null Count  Dtype  \n",
      "---  ------                            --------------  -----  \n",
      " 0   event id                          43903 non-null  int64  \n",
      " 1   market id                         43903 non-null  int64  \n",
      " 2   description                       43903 non-null  object \n",
      " 3   location                          43903 non-null  object \n",
      " 4   datetime_x                        43903 non-null  object \n",
      " 5   decimal odds                      43903 non-null  float64\n",
      " 6   american odds                     43903 non-null  int64  \n",
      " 7   spread / total                    43903 non-null  float64\n",
      " 8   participants.1.participant id     43903 non-null  int64  \n",
      " 9   participants.1.source.nickname    43903 non-null  object \n",
      " 10  participants.1.source.short name  43903 non-null  object \n",
      " 11  participants.2.participant id     43903 non-null  int64  \n",
      " 12  participants.2.source.nickname    43903 non-null  object \n",
      " 13  participants.2.source.short name  43877 non-null  object \n",
      "dtypes: float64(2), int64(5), object(7)\n",
      "memory usage: 5.0+ MB\n"
     ]
    }
   ],
   "source": [
    "df_final.info()"
   ]
  },
  {
   "cell_type": "code",
   "execution_count": null,
   "id": "7aad86e6-0cf6-4d6c-a7d1-7119d90e2e05",
   "metadata": {},
   "outputs": [],
   "source": []
  }
 ],
 "metadata": {
  "kernelspec": {
   "display_name": "Python 3 (ipykernel)",
   "language": "python",
   "name": "python3"
  },
  "language_info": {
   "codemirror_mode": {
    "name": "ipython",
    "version": 3
   },
   "file_extension": ".py",
   "mimetype": "text/x-python",
   "name": "python",
   "nbconvert_exporter": "python",
   "pygments_lexer": "ipython3",
   "version": "3.10.6"
  }
 },
 "nbformat": 4,
 "nbformat_minor": 5
}
