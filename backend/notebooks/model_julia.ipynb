{
 "cells": [
  {
   "cell_type": "code",
   "execution_count": 2,
   "id": "66790ed1",
   "metadata": {},
   "outputs": [],
   "source": [
    "import pandas as pd\n",
    "import numpy as np\n",
    "import matplotlib.pyplot as plt"
   ]
  },
  {
   "cell_type": "code",
   "execution_count": 3,
   "id": "297453c0",
   "metadata": {},
   "outputs": [],
   "source": [
    "from sklearn.model_selection import train_test_split\n",
    "from sklearn.preprocessing import MinMaxScaler, StandardScaler\n",
    "from sklearn.pipeline import Pipeline, make_pipeline\n",
    "from sklearn.compose import ColumnTransformer, make_column_transformer, make_column_selector\n",
    "from sklearn.impute import SimpleImputer, KNNImputer\n",
    "from sklearn.preprocessing import RobustScaler, OneHotEncoder, OrdinalEncoder\n",
    "from sklearn.metrics import make_scorer\n",
    "\n",
    "from sklearn.model_selection import cross_val_score\n",
    "from sklearn.neighbors import KNeighborsRegressor\n",
    "from sklearn.linear_model import Ridge, Lasso, LinearRegression\n",
    "from sklearn.model_selection import RandomizedSearchCV\n",
    "from sklearn.svm import SVR\n",
    "from sklearn.model_selection import GridSearchCV, RandomizedSearchCV\n",
    "from sklearn.ensemble import AdaBoostRegressor\n",
    "from sklearn.tree import DecisionTreeRegressor\n",
    "from sklearn.ensemble import VotingRegressor\n",
    "from sklearn.ensemble import GradientBoostingRegressor\n",
    "from sklearn.ensemble import StackingRegressor\n",
    "from sklearn.ensemble import RandomForestRegressor"
   ]
  },
  {
   "cell_type": "code",
   "execution_count": 15,
   "id": "67638ee0",
   "metadata": {},
   "outputs": [],
   "source": [
    "from sklearn.model_selection import cross_validate"
   ]
  },
  {
   "cell_type": "code",
   "execution_count": 4,
   "id": "a6c4d4d0",
   "metadata": {},
   "outputs": [],
   "source": [
    "X = pd.read_pickle('../data/pkl/X_basic_df_5yrs_preprocessed_all_rolls.pkl')\n",
    "y = pd.read_pickle('../data/pkl/y_basic_df_5yrs_preprocessed_all_rolls.pkl')"
   ]
  },
  {
   "cell_type": "code",
   "execution_count": 10,
   "id": "0b4567ab",
   "metadata": {},
   "outputs": [],
   "source": [
    "X_train, X_test, y_train, y_test = train_test_split(X, y, test_size=0.2, random_state=42)"
   ]
  },
  {
   "cell_type": "code",
   "execution_count": 11,
   "id": "5a306f8a",
   "metadata": {},
   "outputs": [],
   "source": [
    "allow_grid_searching = True"
   ]
  },
  {
   "cell_type": "code",
   "execution_count": 12,
   "id": "5457cc6f",
   "metadata": {},
   "outputs": [],
   "source": [
    "def root_mean_squared_log_error(y_true, y_pred):\n",
    "    t = np.array(y_true)\n",
    "    p = np.array(y_pred)\n",
    "    log_error = np.log(1+t) - np.log(1+p)\n",
    "    return ((log_error**2).mean())**0.5\n",
    "\n",
    "# This is our metric to minimize\n",
    "rmsle = make_scorer(root_mean_squared_log_error)\n",
    "\n",
    "# This is our score to maximize\n",
    "rmsle_neg = make_scorer(lambda y_true, y_pred: -1 * root_mean_squared_log_error(y_true, y_pred))"
   ]
  },
  {
   "cell_type": "code",
   "execution_count": 13,
   "id": "8b054d8b",
   "metadata": {},
   "outputs": [],
   "source": [
    "# Create your new scorer to minimize\n",
    "from sklearn.metrics import mean_squared_error\n",
    "rmse = make_scorer(lambda y_true, y_pred: mean_squared_error(y_true, y_pred)**0.5)\n",
    "\n",
    "# Create your new scorer to maximize\n",
    "rmse_neg = make_scorer(lambda y_true, y_pred: -1 * mean_squared_error(y_true, y_pred)**0.5)"
   ]
  },
  {
   "cell_type": "code",
   "execution_count": 14,
   "id": "97b8a355",
   "metadata": {
    "collapsed": true
   },
   "outputs": [
    {
     "name": "stderr",
     "output_type": "stream",
     "text": [
      "/var/folders/ry/bbrg927549539gbw_r9_cqyc0000gn/T/ipykernel_71612/973348739.py:4: RuntimeWarning: divide by zero encountered in log\n",
      "  log_error = np.log(1+t) - np.log(1+p)\n",
      "/var/folders/ry/bbrg927549539gbw_r9_cqyc0000gn/T/ipykernel_71612/973348739.py:4: RuntimeWarning: invalid value encountered in log\n",
      "  log_error = np.log(1+t) - np.log(1+p)\n",
      "/var/folders/ry/bbrg927549539gbw_r9_cqyc0000gn/T/ipykernel_71612/973348739.py:4: RuntimeWarning: divide by zero encountered in log\n",
      "  log_error = np.log(1+t) - np.log(1+p)\n",
      "/var/folders/ry/bbrg927549539gbw_r9_cqyc0000gn/T/ipykernel_71612/973348739.py:4: RuntimeWarning: invalid value encountered in log\n",
      "  log_error = np.log(1+t) - np.log(1+p)\n",
      "/var/folders/ry/bbrg927549539gbw_r9_cqyc0000gn/T/ipykernel_71612/973348739.py:4: RuntimeWarning: divide by zero encountered in log\n",
      "  log_error = np.log(1+t) - np.log(1+p)\n",
      "/var/folders/ry/bbrg927549539gbw_r9_cqyc0000gn/T/ipykernel_71612/973348739.py:4: RuntimeWarning: invalid value encountered in log\n",
      "  log_error = np.log(1+t) - np.log(1+p)\n",
      "/var/folders/ry/bbrg927549539gbw_r9_cqyc0000gn/T/ipykernel_71612/973348739.py:4: RuntimeWarning: divide by zero encountered in log\n",
      "  log_error = np.log(1+t) - np.log(1+p)\n",
      "/var/folders/ry/bbrg927549539gbw_r9_cqyc0000gn/T/ipykernel_71612/973348739.py:4: RuntimeWarning: invalid value encountered in log\n",
      "  log_error = np.log(1+t) - np.log(1+p)\n",
      "/var/folders/ry/bbrg927549539gbw_r9_cqyc0000gn/T/ipykernel_71612/973348739.py:4: RuntimeWarning: divide by zero encountered in log\n",
      "  log_error = np.log(1+t) - np.log(1+p)\n",
      "/var/folders/ry/bbrg927549539gbw_r9_cqyc0000gn/T/ipykernel_71612/973348739.py:4: RuntimeWarning: invalid value encountered in log\n",
      "  log_error = np.log(1+t) - np.log(1+p)\n"
     ]
    },
    {
     "data": {
      "text/plain": [
       "nan"
      ]
     },
     "execution_count": 14,
     "metadata": {},
     "output_type": "execute_result"
    }
   ],
   "source": [
    "# Ridge with normal target\n",
    "model = Ridge()\n",
    "cross_val_score(model, X, y, cv=5, scoring=rmsle).mean()"
   ]
  },
  {
   "cell_type": "code",
   "execution_count": 25,
   "id": "4da9b5c7",
   "metadata": {},
   "outputs": [],
   "source": [
    "cross_val_ridge = cross_validate(model, X_train, y_train, cv=5, scoring=('r2', 'neg_mean_squared_error'))"
   ]
  },
  {
   "cell_type": "code",
   "execution_count": 27,
   "id": "a6ed962a",
   "metadata": {},
   "outputs": [
    {
     "data": {
      "text/plain": [
       "0.30830962605498335"
      ]
     },
     "execution_count": 27,
     "metadata": {},
     "output_type": "execute_result"
    }
   ],
   "source": [
    "cross_val_ridge['test_r2'].mean()"
   ]
  },
  {
   "cell_type": "code",
   "execution_count": 28,
   "id": "b673ecd4",
   "metadata": {},
   "outputs": [
    {
     "data": {
      "text/plain": [
       "-145.20655071236848"
      ]
     },
     "execution_count": 28,
     "metadata": {},
     "output_type": "execute_result"
    }
   ],
   "source": [
    "cross_val_ridge['test_neg_mean_squared_error'].mean()"
   ]
  },
  {
   "cell_type": "code",
   "execution_count": 19,
   "id": "c436198b",
   "metadata": {},
   "outputs": [
    {
     "data": {
      "text/plain": [
       "0.30830962605498335"
      ]
     },
     "execution_count": 19,
     "metadata": {},
     "output_type": "execute_result"
    }
   ],
   "source": [
    "cross_validate(model, X_train, y_train, cv=5)[\"test_score\"].mean()"
   ]
  },
  {
   "cell_type": "code",
   "execution_count": 22,
   "id": "2c2a3956",
   "metadata": {},
   "outputs": [],
   "source": [
    "# # Ridge with normal target\n",
    "# model = Ridge()\n",
    "# pipe_ridge = make_pipeline(preproc, model, memory=cachedir)\n",
    "# cross_val_score(pipe_ridge, X, y, cv=5, scoring=rmsle).mean()"
   ]
  },
  {
   "cell_type": "code",
   "execution_count": 30,
   "id": "7049d5fc",
   "metadata": {},
   "outputs": [
    {
     "name": "stderr",
     "output_type": "stream",
     "text": [
      "/Users/juliayu001/.pyenv/versions/nba_betting_analysis/lib/python3.10/site-packages/pandas/core/arraylike.py:402: RuntimeWarning: divide by zero encountered in log\n",
      "  result = getattr(ufunc, method)(*inputs, **kwargs)\n",
      "/Users/juliayu001/.pyenv/versions/nba_betting_analysis/lib/python3.10/site-packages/pandas/core/arraylike.py:402: RuntimeWarning: invalid value encountered in log\n",
      "  result = getattr(ufunc, method)(*inputs, **kwargs)\n"
     ]
    },
    {
     "ename": "ValueError",
     "evalue": "\nAll the 5 fits failed.\nIt is very likely that your model is misconfigured.\nYou can try to debug the error by setting error_score='raise'.\n\nBelow are more details about the failures:\n--------------------------------------------------------------------------------\n5 fits failed with the following error:\nTraceback (most recent call last):\n  File \"/Users/juliayu001/.pyenv/versions/nba_betting_analysis/lib/python3.10/site-packages/sklearn/model_selection/_validation.py\", line 686, in _fit_and_score\n    estimator.fit(X_train, y_train, **fit_params)\n  File \"/Users/juliayu001/.pyenv/versions/nba_betting_analysis/lib/python3.10/site-packages/sklearn/linear_model/_ridge.py\", line 1126, in fit\n    X, y = self._validate_data(\n  File \"/Users/juliayu001/.pyenv/versions/nba_betting_analysis/lib/python3.10/site-packages/sklearn/base.py\", line 565, in _validate_data\n    X, y = check_X_y(X, y, **check_params)\n  File \"/Users/juliayu001/.pyenv/versions/nba_betting_analysis/lib/python3.10/site-packages/sklearn/utils/validation.py\", line 1122, in check_X_y\n    y = _check_y(y, multi_output=multi_output, y_numeric=y_numeric, estimator=estimator)\n  File \"/Users/juliayu001/.pyenv/versions/nba_betting_analysis/lib/python3.10/site-packages/sklearn/utils/validation.py\", line 1132, in _check_y\n    y = check_array(\n  File \"/Users/juliayu001/.pyenv/versions/nba_betting_analysis/lib/python3.10/site-packages/sklearn/utils/validation.py\", line 921, in check_array\n    _assert_all_finite(\n  File \"/Users/juliayu001/.pyenv/versions/nba_betting_analysis/lib/python3.10/site-packages/sklearn/utils/validation.py\", line 161, in _assert_all_finite\n    raise ValueError(msg_err)\nValueError: Input y contains NaN.\n",
     "output_type": "error",
     "traceback": [
      "\u001b[0;31m---------------------------------------------------------------------------\u001b[0m",
      "\u001b[0;31mValueError\u001b[0m                                Traceback (most recent call last)",
      "Cell \u001b[0;32mIn[30], line 3\u001b[0m\n\u001b[1;32m      1\u001b[0m \u001b[38;5;66;03m# Rige with log-target\u001b[39;00m\n\u001b[1;32m      2\u001b[0m y_log \u001b[38;5;241m=\u001b[39m np\u001b[38;5;241m.\u001b[39mlog(y)\n\u001b[0;32m----> 3\u001b[0m \u001b[43mcross_val_score\u001b[49m\u001b[43m(\u001b[49m\u001b[43mmodel\u001b[49m\u001b[43m,\u001b[49m\u001b[43m \u001b[49m\u001b[43mX\u001b[49m\u001b[43m,\u001b[49m\u001b[43m \u001b[49m\u001b[43my_log\u001b[49m\u001b[43m,\u001b[49m\u001b[43m \u001b[49m\u001b[43mcv\u001b[49m\u001b[38;5;241;43m=\u001b[39;49m\u001b[38;5;241;43m5\u001b[39;49m\u001b[43m,\u001b[49m\u001b[43m \u001b[49m\u001b[43mscoring\u001b[49m\u001b[38;5;241;43m=\u001b[39;49m\u001b[43mrmse\u001b[49m\u001b[43m)\u001b[49m\u001b[38;5;241m.\u001b[39mmean()\n",
      "File \u001b[0;32m~/.pyenv/versions/nba_betting_analysis/lib/python3.10/site-packages/sklearn/model_selection/_validation.py:515\u001b[0m, in \u001b[0;36mcross_val_score\u001b[0;34m(estimator, X, y, groups, scoring, cv, n_jobs, verbose, fit_params, pre_dispatch, error_score)\u001b[0m\n\u001b[1;32m    512\u001b[0m \u001b[38;5;66;03m# To ensure multimetric format is not supported\u001b[39;00m\n\u001b[1;32m    513\u001b[0m scorer \u001b[38;5;241m=\u001b[39m check_scoring(estimator, scoring\u001b[38;5;241m=\u001b[39mscoring)\n\u001b[0;32m--> 515\u001b[0m cv_results \u001b[38;5;241m=\u001b[39m \u001b[43mcross_validate\u001b[49m\u001b[43m(\u001b[49m\n\u001b[1;32m    516\u001b[0m \u001b[43m    \u001b[49m\u001b[43mestimator\u001b[49m\u001b[38;5;241;43m=\u001b[39;49m\u001b[43mestimator\u001b[49m\u001b[43m,\u001b[49m\n\u001b[1;32m    517\u001b[0m \u001b[43m    \u001b[49m\u001b[43mX\u001b[49m\u001b[38;5;241;43m=\u001b[39;49m\u001b[43mX\u001b[49m\u001b[43m,\u001b[49m\n\u001b[1;32m    518\u001b[0m \u001b[43m    \u001b[49m\u001b[43my\u001b[49m\u001b[38;5;241;43m=\u001b[39;49m\u001b[43my\u001b[49m\u001b[43m,\u001b[49m\n\u001b[1;32m    519\u001b[0m \u001b[43m    \u001b[49m\u001b[43mgroups\u001b[49m\u001b[38;5;241;43m=\u001b[39;49m\u001b[43mgroups\u001b[49m\u001b[43m,\u001b[49m\n\u001b[1;32m    520\u001b[0m \u001b[43m    \u001b[49m\u001b[43mscoring\u001b[49m\u001b[38;5;241;43m=\u001b[39;49m\u001b[43m{\u001b[49m\u001b[38;5;124;43m\"\u001b[39;49m\u001b[38;5;124;43mscore\u001b[39;49m\u001b[38;5;124;43m\"\u001b[39;49m\u001b[43m:\u001b[49m\u001b[43m \u001b[49m\u001b[43mscorer\u001b[49m\u001b[43m}\u001b[49m\u001b[43m,\u001b[49m\n\u001b[1;32m    521\u001b[0m \u001b[43m    \u001b[49m\u001b[43mcv\u001b[49m\u001b[38;5;241;43m=\u001b[39;49m\u001b[43mcv\u001b[49m\u001b[43m,\u001b[49m\n\u001b[1;32m    522\u001b[0m \u001b[43m    \u001b[49m\u001b[43mn_jobs\u001b[49m\u001b[38;5;241;43m=\u001b[39;49m\u001b[43mn_jobs\u001b[49m\u001b[43m,\u001b[49m\n\u001b[1;32m    523\u001b[0m \u001b[43m    \u001b[49m\u001b[43mverbose\u001b[49m\u001b[38;5;241;43m=\u001b[39;49m\u001b[43mverbose\u001b[49m\u001b[43m,\u001b[49m\n\u001b[1;32m    524\u001b[0m \u001b[43m    \u001b[49m\u001b[43mfit_params\u001b[49m\u001b[38;5;241;43m=\u001b[39;49m\u001b[43mfit_params\u001b[49m\u001b[43m,\u001b[49m\n\u001b[1;32m    525\u001b[0m \u001b[43m    \u001b[49m\u001b[43mpre_dispatch\u001b[49m\u001b[38;5;241;43m=\u001b[39;49m\u001b[43mpre_dispatch\u001b[49m\u001b[43m,\u001b[49m\n\u001b[1;32m    526\u001b[0m \u001b[43m    \u001b[49m\u001b[43merror_score\u001b[49m\u001b[38;5;241;43m=\u001b[39;49m\u001b[43merror_score\u001b[49m\u001b[43m,\u001b[49m\n\u001b[1;32m    527\u001b[0m \u001b[43m\u001b[49m\u001b[43m)\u001b[49m\n\u001b[1;32m    528\u001b[0m \u001b[38;5;28;01mreturn\u001b[39;00m cv_results[\u001b[38;5;124m\"\u001b[39m\u001b[38;5;124mtest_score\u001b[39m\u001b[38;5;124m\"\u001b[39m]\n",
      "File \u001b[0;32m~/.pyenv/versions/nba_betting_analysis/lib/python3.10/site-packages/sklearn/model_selection/_validation.py:285\u001b[0m, in \u001b[0;36mcross_validate\u001b[0;34m(estimator, X, y, groups, scoring, cv, n_jobs, verbose, fit_params, pre_dispatch, return_train_score, return_estimator, error_score)\u001b[0m\n\u001b[1;32m    265\u001b[0m parallel \u001b[38;5;241m=\u001b[39m Parallel(n_jobs\u001b[38;5;241m=\u001b[39mn_jobs, verbose\u001b[38;5;241m=\u001b[39mverbose, pre_dispatch\u001b[38;5;241m=\u001b[39mpre_dispatch)\n\u001b[1;32m    266\u001b[0m results \u001b[38;5;241m=\u001b[39m parallel(\n\u001b[1;32m    267\u001b[0m     delayed(_fit_and_score)(\n\u001b[1;32m    268\u001b[0m         clone(estimator),\n\u001b[0;32m   (...)\u001b[0m\n\u001b[1;32m    282\u001b[0m     \u001b[38;5;28;01mfor\u001b[39;00m train, test \u001b[38;5;129;01min\u001b[39;00m cv\u001b[38;5;241m.\u001b[39msplit(X, y, groups)\n\u001b[1;32m    283\u001b[0m )\n\u001b[0;32m--> 285\u001b[0m \u001b[43m_warn_or_raise_about_fit_failures\u001b[49m\u001b[43m(\u001b[49m\u001b[43mresults\u001b[49m\u001b[43m,\u001b[49m\u001b[43m \u001b[49m\u001b[43merror_score\u001b[49m\u001b[43m)\u001b[49m\n\u001b[1;32m    287\u001b[0m \u001b[38;5;66;03m# For callabe scoring, the return type is only know after calling. If the\u001b[39;00m\n\u001b[1;32m    288\u001b[0m \u001b[38;5;66;03m# return type is a dictionary, the error scores can now be inserted with\u001b[39;00m\n\u001b[1;32m    289\u001b[0m \u001b[38;5;66;03m# the correct key.\u001b[39;00m\n\u001b[1;32m    290\u001b[0m \u001b[38;5;28;01mif\u001b[39;00m callable(scoring):\n",
      "File \u001b[0;32m~/.pyenv/versions/nba_betting_analysis/lib/python3.10/site-packages/sklearn/model_selection/_validation.py:367\u001b[0m, in \u001b[0;36m_warn_or_raise_about_fit_failures\u001b[0;34m(results, error_score)\u001b[0m\n\u001b[1;32m    360\u001b[0m \u001b[38;5;28;01mif\u001b[39;00m num_failed_fits \u001b[38;5;241m==\u001b[39m num_fits:\n\u001b[1;32m    361\u001b[0m     all_fits_failed_message \u001b[38;5;241m=\u001b[39m (\n\u001b[1;32m    362\u001b[0m         \u001b[38;5;124mf\u001b[39m\u001b[38;5;124m\"\u001b[39m\u001b[38;5;130;01m\\n\u001b[39;00m\u001b[38;5;124mAll the \u001b[39m\u001b[38;5;132;01m{\u001b[39;00mnum_fits\u001b[38;5;132;01m}\u001b[39;00m\u001b[38;5;124m fits failed.\u001b[39m\u001b[38;5;130;01m\\n\u001b[39;00m\u001b[38;5;124m\"\u001b[39m\n\u001b[1;32m    363\u001b[0m         \u001b[38;5;124m\"\u001b[39m\u001b[38;5;124mIt is very likely that your model is misconfigured.\u001b[39m\u001b[38;5;130;01m\\n\u001b[39;00m\u001b[38;5;124m\"\u001b[39m\n\u001b[1;32m    364\u001b[0m         \u001b[38;5;124m\"\u001b[39m\u001b[38;5;124mYou can try to debug the error by setting error_score=\u001b[39m\u001b[38;5;124m'\u001b[39m\u001b[38;5;124mraise\u001b[39m\u001b[38;5;124m'\u001b[39m\u001b[38;5;124m.\u001b[39m\u001b[38;5;130;01m\\n\u001b[39;00m\u001b[38;5;130;01m\\n\u001b[39;00m\u001b[38;5;124m\"\u001b[39m\n\u001b[1;32m    365\u001b[0m         \u001b[38;5;124mf\u001b[39m\u001b[38;5;124m\"\u001b[39m\u001b[38;5;124mBelow are more details about the failures:\u001b[39m\u001b[38;5;130;01m\\n\u001b[39;00m\u001b[38;5;132;01m{\u001b[39;00mfit_errors_summary\u001b[38;5;132;01m}\u001b[39;00m\u001b[38;5;124m\"\u001b[39m\n\u001b[1;32m    366\u001b[0m     )\n\u001b[0;32m--> 367\u001b[0m     \u001b[38;5;28;01mraise\u001b[39;00m \u001b[38;5;167;01mValueError\u001b[39;00m(all_fits_failed_message)\n\u001b[1;32m    369\u001b[0m \u001b[38;5;28;01melse\u001b[39;00m:\n\u001b[1;32m    370\u001b[0m     some_fits_failed_message \u001b[38;5;241m=\u001b[39m (\n\u001b[1;32m    371\u001b[0m         \u001b[38;5;124mf\u001b[39m\u001b[38;5;124m\"\u001b[39m\u001b[38;5;130;01m\\n\u001b[39;00m\u001b[38;5;132;01m{\u001b[39;00mnum_failed_fits\u001b[38;5;132;01m}\u001b[39;00m\u001b[38;5;124m fits failed out of a total of \u001b[39m\u001b[38;5;132;01m{\u001b[39;00mnum_fits\u001b[38;5;132;01m}\u001b[39;00m\u001b[38;5;124m.\u001b[39m\u001b[38;5;130;01m\\n\u001b[39;00m\u001b[38;5;124m\"\u001b[39m\n\u001b[1;32m    372\u001b[0m         \u001b[38;5;124m\"\u001b[39m\u001b[38;5;124mThe score on these train-test partitions for these parameters\u001b[39m\u001b[38;5;124m\"\u001b[39m\n\u001b[0;32m   (...)\u001b[0m\n\u001b[1;32m    376\u001b[0m         \u001b[38;5;124mf\u001b[39m\u001b[38;5;124m\"\u001b[39m\u001b[38;5;124mBelow are more details about the failures:\u001b[39m\u001b[38;5;130;01m\\n\u001b[39;00m\u001b[38;5;132;01m{\u001b[39;00mfit_errors_summary\u001b[38;5;132;01m}\u001b[39;00m\u001b[38;5;124m\"\u001b[39m\n\u001b[1;32m    377\u001b[0m     )\n",
      "\u001b[0;31mValueError\u001b[0m: \nAll the 5 fits failed.\nIt is very likely that your model is misconfigured.\nYou can try to debug the error by setting error_score='raise'.\n\nBelow are more details about the failures:\n--------------------------------------------------------------------------------\n5 fits failed with the following error:\nTraceback (most recent call last):\n  File \"/Users/juliayu001/.pyenv/versions/nba_betting_analysis/lib/python3.10/site-packages/sklearn/model_selection/_validation.py\", line 686, in _fit_and_score\n    estimator.fit(X_train, y_train, **fit_params)\n  File \"/Users/juliayu001/.pyenv/versions/nba_betting_analysis/lib/python3.10/site-packages/sklearn/linear_model/_ridge.py\", line 1126, in fit\n    X, y = self._validate_data(\n  File \"/Users/juliayu001/.pyenv/versions/nba_betting_analysis/lib/python3.10/site-packages/sklearn/base.py\", line 565, in _validate_data\n    X, y = check_X_y(X, y, **check_params)\n  File \"/Users/juliayu001/.pyenv/versions/nba_betting_analysis/lib/python3.10/site-packages/sklearn/utils/validation.py\", line 1122, in check_X_y\n    y = _check_y(y, multi_output=multi_output, y_numeric=y_numeric, estimator=estimator)\n  File \"/Users/juliayu001/.pyenv/versions/nba_betting_analysis/lib/python3.10/site-packages/sklearn/utils/validation.py\", line 1132, in _check_y\n    y = check_array(\n  File \"/Users/juliayu001/.pyenv/versions/nba_betting_analysis/lib/python3.10/site-packages/sklearn/utils/validation.py\", line 921, in check_array\n    _assert_all_finite(\n  File \"/Users/juliayu001/.pyenv/versions/nba_betting_analysis/lib/python3.10/site-packages/sklearn/utils/validation.py\", line 161, in _assert_all_finite\n    raise ValueError(msg_err)\nValueError: Input y contains NaN.\n"
     ]
    }
   ],
   "source": [
    "# Rige with log-target\n",
    "y_log = np.log(y)\n",
    "cross_val_score(model, X, y_log, cv=5, scoring=rmse).mean()"
   ]
  },
  {
   "cell_type": "code",
   "execution_count": 23,
   "id": "b128cd50",
   "metadata": {},
   "outputs": [],
   "source": [
    "# # Rige with log-target\n",
    "# y_log = np.log(y)\n",
    "\n",
    "# model = Ridge()\n",
    "# pipe_ridge = make_pipeline(preproc, model, memory=cachedir)\n",
    "# cross_val_score(pipe_ridge, X, y_log, cv=5, scoring=rmse).mean()"
   ]
  },
  {
   "cell_type": "code",
   "execution_count": null,
   "id": "d5001bb7",
   "metadata": {},
   "outputs": [],
   "source": [
    "# GridSearch the Ridge regularization\n",
    "if allow_grid_searching:\n",
    "    param_grid =  {'ridge__alpha': np.linspace(0.5,2,num=20)}\n",
    "    search_ridge = GridSearchCV(pipe_ridge,\n",
    "                                param_grid=param_grid,\n",
    "                                cv=5,\n",
    "                                n_jobs=-1,\n",
    "                                verbose=2,\n",
    "                                scoring=rmse_neg)\n",
    "\n",
    "    search_ridge.fit(X, y_log);\n",
    "    print(search_ridge.best_params_)\n",
    "    search_ridge.best_score_"
   ]
  },
  {
   "cell_type": "code",
   "execution_count": null,
   "id": "c8512ae0",
   "metadata": {},
   "outputs": [],
   "source": []
  },
  {
   "cell_type": "code",
   "execution_count": null,
   "id": "41d34934",
   "metadata": {},
   "outputs": [],
   "source": [
    "model = KNeighborsRegressor()\n",
    "pipe_knn = make_pipeline(preproc, model)"
   ]
  },
  {
   "cell_type": "code",
   "execution_count": null,
   "id": "5d0d6029",
   "metadata": {},
   "outputs": [],
   "source": [
    "scores = cross_val_score(pipe_knn, X, y_log, cv=5, scoring=rmse)\n",
    "scores.mean()"
   ]
  },
  {
   "cell_type": "code",
   "execution_count": null,
   "id": "7088a4c2",
   "metadata": {},
   "outputs": [],
   "source": [
    "# GridSearch the KNN\n",
    "if allow_grid_searching:\n",
    "    param_grid =  {'kneighborsregressor__n_neighbors': [3,4,5,6,7,8,9,10,15,20,30]}\n",
    "    search_knn = GridSearchCV(pipe_knn, param_grid=param_grid, \n",
    "                              cv=3, n_jobs=-1, verbose=2, scoring=rmse_neg)\n",
    "\n",
    "    search_knn.fit(X, y_log);\n",
    "    print(search_knn.best_params_)\n",
    "    search_knn.best_score_"
   ]
  }
 ],
 "metadata": {
  "kernelspec": {
   "display_name": "Python 3 (ipykernel)",
   "language": "python",
   "name": "python3"
  },
  "language_info": {
   "codemirror_mode": {
    "name": "ipython",
    "version": 3
   },
   "file_extension": ".py",
   "mimetype": "text/x-python",
   "name": "python",
   "nbconvert_exporter": "python",
   "pygments_lexer": "ipython3",
   "version": "3.10.6"
  },
  "toc": {
   "base_numbering": 1,
   "nav_menu": {},
   "number_sections": true,
   "sideBar": true,
   "skip_h1_title": false,
   "title_cell": "Table of Contents",
   "title_sidebar": "Contents",
   "toc_cell": false,
   "toc_position": {},
   "toc_section_display": true,
   "toc_window_display": false
  },
  "vscode": {
   "interpreter": {
    "hash": "b60b94a88b06cb6055855c21d204c5d44d1f1cdd16a36317c55022353c0fb7c3"
   }
  }
 },
 "nbformat": 4,
 "nbformat_minor": 5
}
